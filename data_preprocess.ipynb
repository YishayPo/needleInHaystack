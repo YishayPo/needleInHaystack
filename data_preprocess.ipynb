{
 "cells": [
  {
   "cell_type": "code",
   "execution_count": 1,
   "id": "ec5d33b2",
   "metadata": {},
   "outputs": [],
   "source": [
    "import pandas as pd\n",
    "import numpy as np\n",
    "from pathlib import Path\n",
    "from typing import Optional, List,Dict\n",
    "import matplotlib.pyplot as plt"
   ]
  },
  {
   "cell_type": "code",
   "execution_count": 2,
   "id": "a243b92b",
   "metadata": {},
   "outputs": [],
   "source": [
    "DATA_ROOT = Path(\"data\")\n",
    "\n",
    "TRENDS_DATA = DATA_ROOT / \"google_trends\"\n",
    "STOCKS_DATA = DATA_ROOT / \"market\"\n",
    "PROCESSED_DATA = DATA_ROOT / \"processed\""
   ]
  },
  {
   "cell_type": "code",
   "execution_count": 3,
   "id": "12204327",
   "metadata": {},
   "outputs": [],
   "source": [
    "def safe_read_csv(file_path)->Optional[pd.DataFrame]:\n",
    "    try:\n",
    "        df = pd.read_csv(file_path)\n",
    "        if df.empty:\n",
    "            # logging.warning(f\"DataFrame from {file_path} is empty.\")\n",
    "            return None\n",
    "        return df\n",
    "    except Exception as e:\n",
    "        # logging.warning(f\"Error reading {file_path}: {e}\")\n",
    "        return None"
   ]
  },
  {
   "cell_type": "code",
   "execution_count": 4,
   "id": "19e0cd8d",
   "metadata": {},
   "outputs": [
    {
     "name": "stdout",
     "output_type": "stream",
     "text": [
      "Error processing company_info: \"None of ['Date'] are in the columns\"\n",
      "Loaded 102/103 stock data files.\n",
      "Loaded 2437/3031 trends data files.\n"
     ]
    }
   ],
   "source": [
    "stocks_dfs: Dict[str, pd.DataFrame] = {}\n",
    "trends_dfs: Dict[str, pd.Series] = {}\n",
    "\n",
    "for f in STOCKS_DATA.glob(\"*.csv\"):\n",
    "    df = safe_read_csv(f)\n",
    "    if df is not None:\n",
    "        try:\n",
    "            df = df.rename(columns={'Price': 'Date'}).iloc[2:,:]\n",
    "            stocks_dfs[f.stem] = df.set_index('Date')\n",
    "        except Exception as e:\n",
    "            print(f\"Error processing {f.stem}: {e}\")\n",
    "            continue\n",
    "\n",
    "for f in TRENDS_DATA.glob(\"*.csv\"):\n",
    "    df = safe_read_csv(f)\n",
    "    if df is not None:\n",
    "        df.set_index('date', inplace=True)\n",
    "        trends_dfs[f.stem] = df.iloc[:, 0]\n",
    "\n",
    "\n",
    "assert all(df is not None for df in stocks_dfs.values()), \"Some stock DataFrames failed to load\"\n",
    "assert all(df is not None for df in trends_dfs.values()), \"Some trends DataFrames failed to load\"\n",
    "\n",
    "num_stocks_files = len(list(STOCKS_DATA.glob(\"*.csv\")))\n",
    "num_trends_files = len(list(TRENDS_DATA.glob(\"*.csv\")))\n",
    "\n",
    "print(f\"Loaded {len(stocks_dfs)}/{num_stocks_files} stock data files.\")\n",
    "print(f\"Loaded {len(trends_dfs)}/{num_trends_files} trends data files.\")"
   ]
  },
  {
   "cell_type": "code",
   "execution_count": 6,
   "id": "27b0f004",
   "metadata": {},
   "outputs": [],
   "source": [
    "def parse_stock_field(df:pd.DataFrame, field:str,stock_name:str)->Optional[pd.Series]:\n",
    "    # Check if the field exists in the DataFrame\n",
    "    if field in df.columns:\n",
    "        df_ = df[field]\n",
    "        df_.index.name='date'\n",
    "        df_.name = stock_name\n",
    "        return df_\n",
    "    else:\n",
    "        return None"
   ]
  },
  {
   "cell_type": "code",
   "execution_count": 7,
   "id": "7000c794",
   "metadata": {},
   "outputs": [],
   "source": [
    "stocks_shapes = pd.Series({stock: df.shape[0] for stock, df in stocks_dfs.items()}).astype(int)\n",
    "common_length = stocks_shapes.value_counts().index[0]\n",
    "\n",
    "reg_stocks_dfs: Dict[str, pd.DataFrame] = {stock: df for stock, df in stocks_dfs.items() if abs(df.shape[0] - common_length) < 15}\n",
    "# remove duplicates from list\n",
    "reg_stocks_dfs = {stock: df[~df.index.duplicated(keep='first')] for stock, df in reg_stocks_dfs.items()}\n",
    "\n",
    "volume_dfs: List[pd.Series] = []\n",
    "price_dfs: List[pd.Series] = []\n",
    "\n",
    "for stock, df in reg_stocks_dfs.items():\n",
    "    volume_sr = parse_stock_field(df, 'Volume', stock)\n",
    "    if volume_sr is not None:\n",
    "        volume_dfs.append(volume_sr)\n",
    "\n",
    "    price_sr = parse_stock_field(df, 'Close', stock)\n",
    "    if price_sr is not None:\n",
    "        price_dfs.append(price_sr)"
   ]
  },
  {
   "cell_type": "code",
   "execution_count": 11,
   "id": "4ec1abfb",
   "metadata": {},
   "outputs": [
    {
     "name": "stdout",
     "output_type": "stream",
     "text": [
      "(261,)    2437\n",
      "Name: count, dtype: int64\n",
      "(1256,)    78\n",
      "(1254,)    12\n",
      "(1255,)     2\n",
      "(1243,)     1\n",
      "Name: count, dtype: int64\n",
      "(1256,)    78\n",
      "(1254,)    12\n",
      "(1255,)     2\n",
      "(1243,)     1\n",
      "Name: count, dtype: int64\n"
     ]
    }
   ],
   "source": [
    "trends_dfs_shapes = pd.Series({trend: df.shape for trend, df in trends_dfs.items()})\n",
    "print(trends_dfs_shapes.value_counts())\n",
    "\n",
    "price_dfs_shapes = pd.Series({s.name: s.shape for s in price_dfs})\n",
    "print(price_dfs_shapes.value_counts())\n",
    "\n",
    "volume_dfs_shapes = pd.Series({s.name: s.shape for s in volume_dfs})\n",
    "print(volume_dfs_shapes.value_counts())"
   ]
  },
  {
   "cell_type": "code",
   "execution_count": 12,
   "id": "f979b8f0",
   "metadata": {},
   "outputs": [
    {
     "data": {
      "text/plain": [
       "261    636\n",
       "1      617\n",
       "2      293\n",
       "3      149\n",
       "4       55\n",
       "5       38\n",
       "6       28\n",
       "8       25\n",
       "11      19\n",
       "10      19\n",
       "Name: count, dtype: int64"
      ]
     },
     "execution_count": 12,
     "metadata": {},
     "output_type": "execute_result"
    }
   ],
   "source": [
    "trends_variaty = pd.Series({s.name: len(np.nonzero(s)[0]) for trend, s in trends_dfs.items()})\n",
    "trends_variaty.value_counts().head(10)\n",
    "# trends_variaty.hist(bins=30)"
   ]
  },
  {
   "cell_type": "code",
   "execution_count": 13,
   "id": "c30ce25c",
   "metadata": {},
   "outputs": [
    {
     "name": "stdout",
     "output_type": "stream",
     "text": [
      "Found 1820/2437 interesting trends out of all trends.\n"
     ]
    }
   ],
   "source": [
    "interesting_trends_list: List[pd.Series] = []\n",
    "for trend in trends_dfs.values():\n",
    "    if len(np.nonzero(trend)[0])>1:\n",
    "        interesting_trends_list.append(trend)\n",
    "\n",
    "print(f'Found {len(interesting_trends_list)}/{len(trends_dfs)} interesting trends out of all trends.')"
   ]
  },
  {
   "cell_type": "code",
   "execution_count": 14,
   "id": "ffe84f07",
   "metadata": {},
   "outputs": [],
   "source": [
    "volumes_raw = pd.concat(volume_dfs, axis=1).astype(float)\n",
    "prices_raw = pd.concat(price_dfs, axis=1).astype(float)\n",
    "trends_raw = pd.concat(interesting_trends_list, axis=1).astype(float)\n",
    "\n",
    "\n",
    "\n",
    "dates_price_null = prices_raw.index[prices_raw.isna().sum(axis=1)>0]\n",
    "dates_volume_null = volumes_raw.index[volumes_raw.isna().sum(axis=1)>0]\n",
    "dates_trends_null = trends_raw.index[trends_raw.isna().sum(axis=1)>0]\n",
    "null_dates = dates_price_null.union(dates_volume_null).union(dates_trends_null).astype(\"datetime64[ns]\")\n",
    "\n",
    "\n",
    "prices_null_stocks = prices_raw.columns[prices_raw.isna().sum()>5]\n",
    "volumes_null_stocks = volumes_raw.columns[volumes_raw.isna().sum()>5]\n",
    "stocks_to_remove = prices_null_stocks.union(volumes_null_stocks)\n",
    "\n",
    "trends_to_remove = trends_raw.columns[trends_raw.isna().sum()>5]\n",
    "\n",
    "prices_clean = prices_raw.drop(columns=stocks_to_remove)\n",
    "volumes_clean = volumes_raw.drop(columns=stocks_to_remove)\n",
    "trends_clean = trends_raw.drop(columns=trends_to_remove)"
   ]
  },
  {
   "cell_type": "code",
   "execution_count": 15,
   "id": "c9d6fe54",
   "metadata": {},
   "outputs": [],
   "source": [
    "def interpolate_values_by_date(df:pd.DataFrame)->pd.DataFrame:\n",
    "    df.index = pd.to_datetime(df.index)\n",
    "    df = df.sort_index()\n",
    "    \n",
    "    df_daily = df.resample('D').asfreq()\n",
    "    df_daily = df_daily.interpolate(method='linear')\n",
    "    return df_daily"
   ]
  },
  {
   "cell_type": "code",
   "execution_count": 16,
   "id": "910b468b",
   "metadata": {},
   "outputs": [
    {
     "name": "stdout",
     "output_type": "stream",
     "text": [
      "Valid index length after removing null dates: 1783/1796\n"
     ]
    },
    {
     "data": {
      "text/plain": [
       "((1783, 1820), (1783, 92), (1783, 92))"
      ]
     },
     "execution_count": 16,
     "metadata": {},
     "output_type": "execute_result"
    }
   ],
   "source": [
    "\n",
    "trends = interpolate_values_by_date(trends_clean)\n",
    "prices = interpolate_values_by_date(prices_clean)\n",
    "volumes = interpolate_values_by_date(volumes_clean)\n",
    "\n",
    "index_intersection = trends.index.intersection(prices.index).intersection(volumes.index)\n",
    "valid_index = index_intersection[~index_intersection.isin(null_dates)]\n",
    "print(f\"Valid index length after removing null dates: {len(valid_index)}/{len(index_intersection)}\")\n",
    "\n",
    "trends=trends.loc[valid_index]\n",
    "prices=prices.loc[valid_index]\n",
    "volumes=volumes.loc[valid_index]\n",
    "\n",
    "assert trends.index.equals(prices.index) and prices.index.equals(volumes.index), \"Indexes do not match after alignment\"\n",
    "trends.shape, prices.shape, volumes.shape"
   ]
  },
  {
   "cell_type": "code",
   "execution_count": 17,
   "id": "369849a1",
   "metadata": {},
   "outputs": [],
   "source": [
    "trends.to_csv(PROCESSED_DATA / \"trends.csv\")\n",
    "prices.to_csv(PROCESSED_DATA / \"prices.csv\")\n",
    "volumes.to_csv(PROCESSED_DATA / \"volumes.csv\")"
   ]
  },
  {
   "cell_type": "code",
   "execution_count": 19,
   "id": "e48d0b13",
   "metadata": {},
   "outputs": [
    {
     "name": "stdout",
     "output_type": "stream",
     "text": [
      "ISRG,economics\n",
      "RSX,economics\n",
      "US_Transportation,economics\n",
      "Russell2000,economics\n",
      "US_Biotech,economics\n",
      "Google,economics\n",
      "V,economics\n",
      "US_Consumer_Staples,economics\n",
      "US_Consumer_Discretionary,economics\n",
      "BAC,economics\n",
      "ISRA,economics\n",
      "SYK,economics\n",
      "NOW,economics\n",
      "ERUS,economics\n",
      "LLY,economics\n",
      "COST,economics\n",
      "BKNG,economics\n",
      "MRK,economics\n",
      "TSM,economics\n",
      "ICLN,economics\n",
      "ORCL,economics\n",
      "TAN,economics\n",
      "AMZN,economics\n",
      "INTC,economics\n",
      "US_Tech_Sector,economics\n",
      "APPLE,economics\n",
      "TMO,economics\n",
      "SHE,economics\n",
      "ADSK,economics\n",
      "NEE,economics\n",
      "MSFT,economics\n",
      "UBER,economics\n",
      "Rebuilding_America_Grid_Chips,economics\n",
      "GenderDiversity,economics\n",
      "Nasdaq100,economics\n",
      "AMD,economics\n",
      "NVDA,economics\n",
      "US_Regional_Banks,economics\n",
      "XOM,economics\n",
      "CVX,economics\n",
      "US_Industrials,economics\n",
      "IBM,economics\n",
      "LargeTech,economics\n",
      "AIEthics,economics\n",
      "US_Homebuilders,economics\n",
      "GS,economics\n",
      "US_Communication_Services,economics\n",
      "PANW,economics\n",
      "US_Real_Estate,economics\n",
      "US_Financials_Sector,economics\n",
      "US_HealthCare_Sector,economics\n",
      "CircularEconomy,economics\n",
      "AI_Infrastructure_Stack,economics\n",
      "US_Banks,economics\n",
      "SupportUkraine,economics\n",
      "NFLX,economics\n",
      "JPM,economics\n",
      "TSLA,economics\n",
      "COP,economics\n",
      "US_Materials,economics\n",
      "DHR,economics\n",
      "GOOGL,economics\n",
      "VeteranFriendly,economics\n",
      "Tesla,economics\n",
      "META,economics\n",
      "CRWD,economics\n",
      "SHOP,economics\n",
      "AVGO,economics\n",
      "REGN,economics\n",
      "US_Energy,economics\n",
      "US_Utilities,economics\n",
      "DowJones30,economics\n",
      "PHO,economics\n",
      "EIS,economics\n",
      "S&P500_ETF,economics\n",
      "FRDM,economics\n",
      "S&P500,economics\n",
      "NVO,economics\n",
      "SupportIsrael,economics\n",
      "MS,economics\n",
      "LGBTQEquality,economics\n",
      "UNH,economics\n",
      "MA,economics\n",
      "SLB,economics\n",
      "AAPL,economics\n",
      "HydrogenCCS,economics\n",
      "SAP,economics\n",
      "ASML,economics\n",
      "JNJ,economics\n",
      "CRM,economics\n",
      "CleanWater,economics\n",
      "BLK,economics\n"
     ]
    },
    {
     "data": {
      "text/plain": [
       "[None,\n",
       " None,\n",
       " None,\n",
       " None,\n",
       " None,\n",
       " None,\n",
       " None,\n",
       " None,\n",
       " None,\n",
       " None,\n",
       " None,\n",
       " None,\n",
       " None,\n",
       " None,\n",
       " None,\n",
       " None,\n",
       " None,\n",
       " None,\n",
       " None,\n",
       " None,\n",
       " None,\n",
       " None,\n",
       " None,\n",
       " None,\n",
       " None,\n",
       " None,\n",
       " None,\n",
       " None,\n",
       " None,\n",
       " None,\n",
       " None,\n",
       " None,\n",
       " None,\n",
       " None,\n",
       " None,\n",
       " None,\n",
       " None,\n",
       " None,\n",
       " None,\n",
       " None,\n",
       " None,\n",
       " None,\n",
       " None,\n",
       " None,\n",
       " None,\n",
       " None,\n",
       " None,\n",
       " None,\n",
       " None,\n",
       " None,\n",
       " None,\n",
       " None,\n",
       " None,\n",
       " None,\n",
       " None,\n",
       " None,\n",
       " None,\n",
       " None,\n",
       " None,\n",
       " None,\n",
       " None,\n",
       " None,\n",
       " None,\n",
       " None,\n",
       " None,\n",
       " None,\n",
       " None,\n",
       " None,\n",
       " None,\n",
       " None,\n",
       " None,\n",
       " None,\n",
       " None,\n",
       " None,\n",
       " None,\n",
       " None,\n",
       " None,\n",
       " None,\n",
       " None,\n",
       " None,\n",
       " None,\n",
       " None,\n",
       " None,\n",
       " None,\n",
       " None,\n",
       " None,\n",
       " None,\n",
       " None,\n",
       " None,\n",
       " None,\n",
       " None,\n",
       " None]"
      ]
     },
     "execution_count": 19,
     "metadata": {},
     "output_type": "execute_result"
    }
   ],
   "source": [
    "[print(f'{col},economics') for col in prices.columns.to_list()]"
   ]
  },
  {
   "cell_type": "code",
   "execution_count": null,
   "id": "e650af33",
   "metadata": {},
   "outputs": [],
   "source": []
  }
 ],
 "metadata": {
  "kernelspec": {
   "display_name": "needle",
   "language": "python",
   "name": "python3"
  },
  "language_info": {
   "codemirror_mode": {
    "name": "ipython",
    "version": 3
   },
   "file_extension": ".py",
   "mimetype": "text/x-python",
   "name": "python",
   "nbconvert_exporter": "python",
   "pygments_lexer": "ipython3",
   "version": "3.10.18"
  }
 },
 "nbformat": 4,
 "nbformat_minor": 5
}
