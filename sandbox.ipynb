{
 "cells": [
  {
   "cell_type": "code",
   "execution_count": 1,
   "id": "ec5d33b2",
   "metadata": {},
   "outputs": [],
   "source": [
    "import pandas as pd\n",
    "from pathlib import Path"
   ]
  },
  {
   "cell_type": "code",
   "execution_count": 2,
   "id": "a243b92b",
   "metadata": {},
   "outputs": [],
   "source": [
    "DATA_ROOT = Path(\"data\")\n",
    "\n",
    "TRENDS_DATA = DATA_ROOT / \"google_trends\"\n",
    "STOCKS_DATA = DATA_ROOT / \"market\""
   ]
  },
  {
   "cell_type": "code",
   "execution_count": 4,
   "id": "12204327",
   "metadata": {},
   "outputs": [],
   "source": [
    "from typing import Optional\n",
    "import logging\n",
    "\n",
    "def safe_read_csv(file_path)->Optional[pd.DataFrame]:\n",
    "    try:\n",
    "        return pd.read_csv(file_path)\n",
    "    except Exception as e:\n",
    "        logging.warning(f\"Error reading {file_path}: {e}\")\n",
    "        return None"
   ]
  },
  {
   "cell_type": "code",
   "execution_count": 5,
   "id": "7000c794",
   "metadata": {},
   "outputs": [
    {
     "name": "stderr",
     "output_type": "stream",
     "text": [
      "WARNING:root:Error reading data/google_trends/Sonos_Speaker_sales_in_Russia.csv: No columns to parse from file\n",
      "WARNING:root:Error reading data/google_trends/Galaxy_Buds_sales_in_Red_Sea.csv: No columns to parse from file\n",
      "WARNING:root:Error reading data/google_trends/Pinterest_response_to_Yemen.csv: No columns to parse from file\n",
      "WARNING:root:Error reading data/google_trends/Roomba_sales_in_West_Bank.csv: No columns to parse from file\n",
      "WARNING:root:Error reading data/google_trends/Elon_Musk_on_cancel_culture.csv: No columns to parse from file\n",
      "WARNING:root:Error reading data/google_trends/Mansour_Abbas_on_sustainable_living.csv: No columns to parse from file\n",
      "WARNING:root:Error reading data/google_trends/iPhone_Pro_Max_sales_in_Saudi_Arabia.csv: No columns to parse from file\n",
      "WARNING:root:Error reading data/google_trends/Yair_Lapid_on_air_quality.csv: No columns to parse from file\n",
      "WARNING:root:Error reading data/google_trends/iPhone_16_sales_in_Golan_Heights.csv: No columns to parse from file\n",
      "WARNING:root:Error reading data/google_trends/Copilot_sales_in_Iraq.csv: No columns to parse from file\n",
      "WARNING:root:Error reading data/google_trends/Roomba_sales_in_Ukraine.csv: No columns to parse from file\n",
      "WARNING:root:Error reading data/google_trends/Nest_Thermostat_sales_in_US.csv: No columns to parse from file\n",
      "WARNING:root:Error reading data/google_trends/Meta_Quest_3_sales_in_Taiwan.csv: No columns to parse from file\n",
      "WARNING:root:Error reading data/google_trends/Nice_Ltd_response_to_Russia.csv: No columns to parse from file\n",
      "WARNING:root:Error reading data/google_trends/Amgen_controversy.csv: No columns to parse from file\n",
      "WARNING:root:Error reading data/google_trends/Apple_response_to_Nova_music_festival_massacre.csv: No columns to parse from file\n",
      "WARNING:root:Error reading data/google_trends/Sheryl_Sandberg_on_biodiversity_conservation.csv: No columns to parse from file\n",
      "WARNING:root:Error reading data/google_trends/Mitch_McConnell_on_body_positivity.csv: No columns to parse from file\n",
      "WARNING:root:Error reading data/google_trends/buy_Lowes_shares.csv: No columns to parse from file\n",
      "WARNING:root:Error reading data/google_trends/Naftali_Bennett_on_youth_climate_movement.csv: No columns to parse from file\n",
      "WARNING:root:Error reading data/google_trends/Zoom_response_to_Iran.csv: No columns to parse from file\n",
      "WARNING:root:Error reading data/google_trends/Broadcom_response_to_Hamas.csv: No columns to parse from file\n",
      "WARNING:root:Error reading data/google_trends/Samsung_Galaxy_S25_sales_in_Sinai_Peninsula.csv: No columns to parse from file\n",
      "WARNING:root:Error reading data/google_trends/Tim_Cook_on_data_privacy.csv: No columns to parse from file\n",
      "WARNING:root:Error reading data/google_trends/Shopify_response_to_Ukraine.csv: No columns to parse from file\n",
      "WARNING:root:Error reading data/google_trends/Roomba_sales_in_Israel.csv: No columns to parse from file\n",
      "WARNING:root:Error reading data/google_trends/Playstation_5_Pro_sales_in_China.csv: No columns to parse from file\n",
      "WARNING:root:Error reading data/google_trends/Morgan_Stanley_controversy.csv: No columns to parse from file\n",
      "WARNING:root:Error reading data/google_trends/Dyson_Vacuum_sales_in_NATO.csv: No columns to parse from file\n",
      "WARNING:root:Error reading data/google_trends/Naftali_Bennett_on_greenwashing.csv: No columns to parse from file\n",
      "WARNING:root:Error reading data/google_trends/Peloton_sales_in_Iran.csv: No columns to parse from file\n",
      "WARNING:root:Error reading data/google_trends/Netflix_response_to_China.csv: No columns to parse from file\n",
      "WARNING:root:Error reading data/google_trends/Galaxy_Buds_vs_competitor.csv: No columns to parse from file\n",
      "WARNING:root:Error reading data/google_trends/buy_Novartis_shares.csv: No columns to parse from file\n",
      "WARNING:root:Error reading data/google_trends/Cybertruck_sales_in_Red_Sea.csv: No columns to parse from file\n",
      "WARNING:root:Error reading data/google_trends/Gideon_Saar_on_deforestation.csv: No columns to parse from file\n",
      "WARNING:root:Error reading data/google_trends/Elon_Musk_on_mindfulness.csv: No columns to parse from file\n",
      "WARNING:root:Error reading data/google_trends/Marco_Rubio_on_sustainable_living.csv: No columns to parse from file\n",
      "WARNING:root:Error reading data/google_trends/sustainable_agriculture_controversy.csv: No columns to parse from file\n",
      "WARNING:root:Error reading data/google_trends/veteran_support_controversy.csv: No columns to parse from file\n",
      "WARNING:root:Error reading data/google_trends/Alexandria_OcasioCortez_on_ESG_investing.csv: No columns to parse from file\n",
      "WARNING:root:Error reading data/google_trends/Zoom_response_to_Palestine.csv: No columns to parse from file\n",
      "WARNING:root:Error reading data/google_trends/Amgen_response_to_Peace_talks.csv: No columns to parse from file\n",
      "WARNING:root:Error reading data/google_trends/Payoneer_layoffs.csv: No columns to parse from file\n",
      "WARNING:root:Error reading data/google_trends/Alexandria_OcasioCortez_on_clean_energy_transition.csv: No columns to parse from file\n",
      "WARNING:root:Error reading data/google_trends/Fiverr_response_to_Ukraine.csv: No columns to parse from file\n",
      "WARNING:root:Error reading data/google_trends/Benny_Gantz_tweet.csv: No columns to parse from file\n",
      "WARNING:root:Error reading data/google_trends/CyberArk_earnings_report.csv: No columns to parse from file\n",
      "WARNING:root:Error reading data/google_trends/Nancy_Pelosi_on_pride_month.csv: No columns to parse from file\n",
      "WARNING:root:Error reading data/google_trends/Google_Pixel_9_vs_competitor.csv: No columns to parse from file\n",
      "WARNING:root:Error reading data/google_trends/Visa_response_to_Hezbollah.csv: No columns to parse from file\n",
      "WARNING:root:Error reading data/google_trends/Dyson_Vacuum_sales_in_Afghanistan.csv: No columns to parse from file\n",
      "WARNING:root:Error reading data/google_trends/Elon_Musk_on_me_too_movement.csv: No columns to parse from file\n",
      "WARNING:root:Error reading data/google_trends/Meta_Quest_3_sales_in_Afghanistan.csv: No columns to parse from file\n",
      "WARNING:root:Error reading data/google_trends/GSK_response_to_Security_fence.csv: No columns to parse from file\n",
      "WARNING:root:Error reading data/google_trends/Micron_controversy.csv: No columns to parse from file\n",
      "WARNING:root:Error reading data/google_trends/Best_Buy_response_to_Ukraine.csv: No columns to parse from file\n",
      "WARNING:root:Error reading data/google_trends/Google_Pixel_9_sales_in_Sudan.csv: No columns to parse from file\n",
      "WARNING:root:Error reading data/google_trends/Best_Buy_response_to_Palestine.csv: No columns to parse from file\n",
      "WARNING:root:Error reading data/google_trends/Mitch_McConnell_on_fair_trade.csv: No columns to parse from file\n",
      "WARNING:root:Error reading data/google_trends/Ayman_Odeh_on_universal_basic_income.csv: No columns to parse from file\n",
      "WARNING:root:Error reading data/google_trends/Eli_Lilly_controversy.csv: No columns to parse from file\n",
      "WARNING:root:Error reading data/google_trends/Nice_Ltd_response_to_Afghanistan.csv: No columns to parse from file\n",
      "WARNING:root:Error reading data/google_trends/Jensen_Huang_on_stakeholder_capitalism.csv: No columns to parse from file\n",
      "WARNING:root:Error reading data/google_trends/Ring_Doorbell_sales_in_Iraq.csv: No columns to parse from file\n",
      "WARNING:root:Error reading data/google_trends/Amgen_response_to_West_Bank.csv: No columns to parse from file\n",
      "WARNING:root:Error reading data/google_trends/IKEA_response_to_Syria.csv: No columns to parse from file\n",
      "WARNING:root:Error reading data/google_trends/iPhone_16_sales_in_Jerusalem.csv: No columns to parse from file\n",
      "WARNING:root:Error reading data/google_trends/GoPro_vs_competitor.csv: No columns to parse from file\n",
      "WARNING:root:Error reading data/google_trends/Nice_Ltd_response_to_Middle_East.csv: No columns to parse from file\n",
      "WARNING:root:Error reading data/google_trends/Apple_response_to_North_Korea.csv: No columns to parse from file\n",
      "WARNING:root:Error reading data/google_trends/Google_Pixel_9_sales_in_Saudi_Arabia.csv: No columns to parse from file\n",
      "WARNING:root:Error reading data/google_trends/Samsung_Galaxy_S25_sales_in_Saudi_Arabia.csv: No columns to parse from file\n",
      "WARNING:root:Error reading data/google_trends/Peloton_sales_in_Sudan.csv: No columns to parse from file\n",
      "WARNING:root:Error reading data/google_trends/Mitch_McConnell_on_carbon_emissions.csv: No columns to parse from file\n",
      "WARNING:root:Error reading data/google_trends/BristolMyers_Squibb_response_to_Palestine.csv: No columns to parse from file\n",
      "WARNING:root:Error reading data/google_trends/Roomba_sales_in_Taiwan.csv: No columns to parse from file\n",
      "WARNING:root:Error reading data/google_trends/MercadoLibre_controversy.csv: No columns to parse from file\n",
      "WARNING:root:Error reading data/google_trends/JDcom_earnings_report.csv: No columns to parse from file\n",
      "WARNING:root:Error reading data/google_trends/Shopify_response_to_Peace_talks.csv: No columns to parse from file\n",
      "WARNING:root:Error reading data/google_trends/iPhone_16_sales_in_Taiwan.csv: No columns to parse from file\n",
      "WARNING:root:Error reading data/google_trends/Teva_Pharmaceutical_controversy.csv: No columns to parse from file\n",
      "WARNING:root:Error reading data/google_trends/Apple_response_to_Security_fence.csv: No columns to parse from file\n",
      "WARNING:root:Error reading data/google_trends/Meta_Quest_3_sales_in_Iraq.csv: No columns to parse from file\n",
      "WARNING:root:Error reading data/google_trends/Yuli_Edelstein_on_corporate_social_responsibility.csv: No columns to parse from file\n",
      "WARNING:root:Error reading data/google_trends/Joe_Biden_on_deforestation.csv: No columns to parse from file\n",
      "WARNING:root:Error reading data/google_trends/Baidu_response_to_Israel.csv: No columns to parse from file\n",
      "WARNING:root:Error reading data/google_trends/Cybertruck_sales_in_China.csv: No columns to parse from file\n",
      "WARNING:root:Error reading data/google_trends/Sundar_Pichai_on_lgbtq_rights.csv: No columns to parse from file\n",
      "WARNING:root:Error reading data/google_trends/Check_Point_Software_response_to_North_Korea.csv: No columns to parse from file\n",
      "WARNING:root:Error reading data/google_trends/Mondaycom_layoffs.csv: No columns to parse from file\n",
      "WARNING:root:Error reading data/google_trends/BristolMyers_Squibb_response_to_October_7_attacks.csv: No columns to parse from file\n",
      "WARNING:root:Error reading data/google_trends/Ayman_Odeh_on_body_positivity.csv: No columns to parse from file\n",
      "WARNING:root:Error reading data/google_trends/Ayman_Odeh_on_sustainable_agriculture.csv: No columns to parse from file\n",
      "WARNING:root:Error reading data/google_trends/Tesla_Model_Y_sales_in_Red_Sea.csv: No columns to parse from file\n",
      "WARNING:root:Error reading data/google_trends/Tesla_Model_Y_sales_in_Pakistan.csv: No columns to parse from file\n",
      "WARNING:root:Error reading data/google_trends/Unity_response_to_Taiwan.csv: No columns to parse from file\n",
      "WARNING:root:Error reading data/google_trends/Ayman_Odeh_on_human_rights.csv: No columns to parse from file\n",
      "WARNING:root:Error reading data/google_trends/Netflix_response_to_Yemen.csv: No columns to parse from file\n",
      "WARNING:root:Error reading data/google_trends/Visa_response_to_Gaza.csv: No columns to parse from file\n",
      "WARNING:root:Error reading data/google_trends/Tim_Cook_on_sustainable_living.csv: No columns to parse from file\n",
      "WARNING:root:Error reading data/google_trends/Nest_Thermostat_sales_in_Saudi_Arabia.csv: No columns to parse from file\n",
      "WARNING:root:Error reading data/google_trends/Ring_Doorbell_sales_in_Ukraine.csv: No columns to parse from file\n",
      "WARNING:root:Error reading data/google_trends/JDcom_layoffs.csv: No columns to parse from file\n",
      "WARNING:root:Error reading data/google_trends/MacBook_Pro_M4_sales_in_Ukraine.csv: No columns to parse from file\n",
      "WARNING:root:Error reading data/google_trends/iPhone_Pro_Max_sales_in_Ethiopia.csv: No columns to parse from file\n",
      "WARNING:root:Error reading data/google_trends/buy_Qualcomm_shares.csv: No columns to parse from file\n",
      "WARNING:root:Error reading data/google_trends/Jensen_Huang_on_data_privacy.csv: No columns to parse from file\n",
      "WARNING:root:Error reading data/google_trends/new_Copilot_release_date.csv: No columns to parse from file\n",
      "WARNING:root:Error reading data/google_trends/buy_Teva_Pharmaceutical_shares.csv: No columns to parse from file\n",
      "WARNING:root:Error reading data/google_trends/Google_Pixel_9_sales_in_Gaza.csv: No columns to parse from file\n",
      "WARNING:root:Error reading data/google_trends/Mansour_Abbas_on_stakeholder_capitalism.csv: No columns to parse from file\n",
      "WARNING:root:Error reading data/google_trends/Broadcom_response_to_Saudi_Arabia.csv: No columns to parse from file\n",
      "WARNING:root:Error reading data/google_trends/IKEA_response_to_BDS_movement.csv: No columns to parse from file\n",
      "WARNING:root:Error reading data/google_trends/Nancy_Pelosi_on_carbon_emissions.csv: No columns to parse from file\n",
      "WARNING:root:Error reading data/google_trends/CocaCola_layoffs.csv: No columns to parse from file\n",
      "WARNING:root:Error reading data/google_trends/Azure_sales_in_Pakistan.csv: No columns to parse from file\n",
      "WARNING:root:Error reading data/google_trends/Nest_Thermostat_sales_in_China.csv: No columns to parse from file\n",
      "WARNING:root:Error reading data/google_trends/carbon_footprint_controversy.csv: No columns to parse from file\n",
      "WARNING:root:Error reading data/google_trends/Check_Point_Software_response_to_Gaza.csv: No columns to parse from file\n"
     ]
    },
    {
     "name": "stdout",
     "output_type": "stream",
     "text": [
      "Loaded 103/103 stock data files.\n",
      "Loaded 579/699 trends data files.\n"
     ]
    }
   ],
   "source": [
    "stocks_dfs = [safe_read_csv(f) for f in STOCKS_DATA.glob(\"*.csv\")]\n",
    "trends_dfs = [safe_read_csv(f) for f in TRENDS_DATA.glob(\"*.csv\")]\n",
    "\n",
    "stocks_dfs = [df for df in stocks_dfs if df is not None]\n",
    "trends_dfs = [df for df in trends_dfs if df is not None]\n",
    "\n",
    "assert all(df is not None for df in stocks_dfs), \"Some stock DataFrames failed to load\"\n",
    "assert all(df is not None for df in trends_dfs), \"Some trends DataFrames failed to load\"\n",
    "\n",
    "num_stocks_files = len(list(STOCKS_DATA.glob(\"*.csv\")))\n",
    "num_trends_files = len(list(TRENDS_DATA.glob(\"*.csv\")))\n",
    "\n",
    "print(f\"Loaded {len(stocks_dfs)}/{num_stocks_files} stock data files.\")\n",
    "print(f\"Loaded {len(trends_dfs)}/{num_trends_files} trends data files.\")\n",
    "\n",
    "\n",
    "def parse_stock_field(df:pd.DataFrame, field:str)->Optional[pd.Series]:\n",
    "    # Check if the field exists in the DataFrame\n",
    "    if field in df.columns:\n",
    "        df_ = df[field].iloc[2:]\n",
    "        df_ = df_.reset_index(drop=True)\n",
    "        df_.name = df.iloc[1][field]\n",
    "        return df_\n",
    "    else:\n",
    "        return None\n",
    "\n",
    "# verify that all the DataFrames have the same shape or that\n",
    "volume_dfs = [parse_stock_field(df, 'Volume') for df in stocks_dfs]\n",
    "price_dfs = [parse_stock_field(df, 'Close') for df in stocks_dfs]"
   ]
  },
  {
   "cell_type": "code",
   "execution_count": 17,
   "id": "2d4c49fe",
   "metadata": {},
   "outputs": [
    {
     "data": {
      "text/plain": [
       "78"
      ]
     },
     "execution_count": 17,
     "metadata": {},
     "output_type": "execute_result"
    }
   ],
   "source": [
    "stocks_shapes = pd.Series({df.iloc[0, 1]: df.shape[0] for df in stocks_dfs})\n",
    "common_length = int(stocks_shapes.value_counts().index[0])\n",
    "\n",
    "reg_stocks_dfs = [df for df in stocks_dfs if df.shape[0] == common_length]\n",
    "len(reg_stocks_dfs)"
   ]
  },
  {
   "cell_type": "code",
   "execution_count": 19,
   "id": "91bf2c8e",
   "metadata": {},
   "outputs": [
    {
     "data": {
      "text/plain": [
       "1258"
      ]
     },
     "execution_count": 19,
     "metadata": {},
     "output_type": "execute_result"
    }
   ],
   "source": [
    "common_length"
   ]
  },
  {
   "cell_type": "code",
   "execution_count": 18,
   "id": "6f0e4cfd",
   "metadata": {},
   "outputs": [
    {
     "data": {
      "text/plain": [
       "1258    75\n",
       "1257     2\n",
       "236      1\n",
       "1185     1\n",
       "1256     1\n",
       "120      1\n",
       "1245     1\n",
       "245      1\n",
       "492      1\n",
       "1103     1\n",
       "Name: count, dtype: int64"
      ]
     },
     "execution_count": 18,
     "metadata": {},
     "output_type": "execute_result"
    }
   ],
   "source": [
    "stocks_shapes.value_counts()"
   ]
  },
  {
   "cell_type": "code",
   "execution_count": null,
   "id": "95d45867",
   "metadata": {},
   "outputs": [],
   "source": [
    "volume_dfs_shapes={df.}"
   ]
  }
 ],
 "metadata": {
  "kernelspec": {
   "display_name": "needle",
   "language": "python",
   "name": "python3"
  },
  "language_info": {
   "codemirror_mode": {
    "name": "ipython",
    "version": 3
   },
   "file_extension": ".py",
   "mimetype": "text/x-python",
   "name": "python",
   "nbconvert_exporter": "python",
   "pygments_lexer": "ipython3",
   "version": "3.10.18"
  }
 },
 "nbformat": 4,
 "nbformat_minor": 5
}
