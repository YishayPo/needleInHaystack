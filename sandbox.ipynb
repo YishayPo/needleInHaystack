{
 "cells": [
  {
   "cell_type": "code",
   "execution_count": 13,
   "id": "7b52dddb",
   "metadata": {},
   "outputs": [],
   "source": [
    "import pandas as pd\n",
    "import numpy as np\n",
    "import plotly.express as px\n",
    "from pathlib import Path\n",
    "from tslearn.clustering import TimeSeriesKMeans\n",
    "from sklearn.preprocessing import StandardScaler\n",
    "import umap\n",
    "from sklearn.cluster import KMeans\n",
    "from sklearn.cluster import DBSCAN\n"
   ]
  },
  {
   "cell_type": "code",
   "execution_count": 14,
   "id": "fb603e2e",
   "metadata": {},
   "outputs": [
    {
     "data": {
      "text/plain": [
       "((1783, 1859), (1783, 92), (1783, 92))"
      ]
     },
     "execution_count": 14,
     "metadata": {},
     "output_type": "execute_result"
    }
   ],
   "source": [
    "DATA_ROOT = Path(\"data\")\n",
    "PROCESSED_DATA = DATA_ROOT / \"processed\"\n",
    "\n",
    "trends = pd.read_csv(PROCESSED_DATA / \"trends.csv\", index_col=0, parse_dates=True)\n",
    "prices = pd.read_csv(PROCESSED_DATA / \"prices.csv\", index_col=0, parse_dates=True)\n",
    "volumes = pd.read_csv(PROCESSED_DATA / \"volumes.csv\", index_col=0, parse_dates=True)\n",
    "\n",
    "trends.shape, prices.shape, volumes.shape"
   ]
  },
  {
   "cell_type": "code",
   "execution_count": 15,
   "id": "6bffdc5b",
   "metadata": {},
   "outputs": [
    {
     "data": {
      "text/plain": [
       "(1951, 1783)"
      ]
     },
     "execution_count": 15,
     "metadata": {},
     "output_type": "execute_result"
    }
   ],
   "source": [
    "def normalize_df(df: pd.DataFrame) -> pd.DataFrame:\n",
    "    # return (df - df.min()) / (df.max() - df.min())\n",
    "    return df/df.sum(axis=0)\n",
    "\n",
    "trends = normalize_df(trends)\n",
    "prices = normalize_df(prices)\n",
    "volumes = normalize_df(volumes)\n",
    "\n",
    "unified = pd.concat([trends, volumes], axis=1).T\n",
    "unified.shape"
   ]
  },
  {
   "cell_type": "code",
   "execution_count": 16,
   "id": "052b06a1",
   "metadata": {},
   "outputs": [
    {
     "ename": "ValueError",
     "evalue": "Input contains NaN.",
     "output_type": "error",
     "traceback": [
      "\u001b[0;31m---------------------------------------------------------------------------\u001b[0m",
      "\u001b[0;31mValueError\u001b[0m                                Traceback (most recent call last)",
      "Cell \u001b[0;32mIn[16], line 2\u001b[0m\n\u001b[1;32m      1\u001b[0m reducer \u001b[38;5;241m=\u001b[39m umap\u001b[38;5;241m.\u001b[39mUMAP(n_neighbors\u001b[38;5;241m=\u001b[39m\u001b[38;5;241m10\u001b[39m, min_dist\u001b[38;5;241m=\u001b[39m\u001b[38;5;241m0.1\u001b[39m, random_state\u001b[38;5;241m=\u001b[39m\u001b[38;5;241m0\u001b[39m)\n\u001b[0;32m----> 2\u001b[0m X_embedded \u001b[38;5;241m=\u001b[39m \u001b[43mreducer\u001b[49m\u001b[38;5;241;43m.\u001b[39;49m\u001b[43mfit_transform\u001b[49m\u001b[43m(\u001b[49m\u001b[43munified\u001b[49m\u001b[43m)\u001b[49m\n\u001b[1;32m      5\u001b[0m ts_kmeans \u001b[38;5;241m=\u001b[39m TimeSeriesKMeans(n_clusters\u001b[38;5;241m=\u001b[39m\u001b[38;5;241m5\u001b[39m, metric\u001b[38;5;241m=\u001b[39m\u001b[38;5;124m\"\u001b[39m\u001b[38;5;124meuclidean\u001b[39m\u001b[38;5;124m\"\u001b[39m, random_state\u001b[38;5;241m=\u001b[39m\u001b[38;5;241m0\u001b[39m)\n\u001b[1;32m      6\u001b[0m labels \u001b[38;5;241m=\u001b[39m ts_kmeans\u001b[38;5;241m.\u001b[39mfit_predict(unified)\n",
      "File \u001b[0;32m~/miniforge3/envs/needle/lib/python3.10/site-packages/umap/umap_.py:2935\u001b[0m, in \u001b[0;36mUMAP.fit_transform\u001b[0;34m(self, X, y, ensure_all_finite, **kwargs)\u001b[0m\n\u001b[1;32m   2897\u001b[0m \u001b[38;5;28;01mdef\u001b[39;00m\u001b[38;5;250m \u001b[39m\u001b[38;5;21mfit_transform\u001b[39m(\u001b[38;5;28mself\u001b[39m, X, y\u001b[38;5;241m=\u001b[39m\u001b[38;5;28;01mNone\u001b[39;00m, ensure_all_finite\u001b[38;5;241m=\u001b[39m\u001b[38;5;28;01mTrue\u001b[39;00m, \u001b[38;5;241m*\u001b[39m\u001b[38;5;241m*\u001b[39mkwargs):\n\u001b[1;32m   2898\u001b[0m \u001b[38;5;250m    \u001b[39m\u001b[38;5;124;03m\"\"\"Fit X into an embedded space and return that transformed\u001b[39;00m\n\u001b[1;32m   2899\u001b[0m \u001b[38;5;124;03m    output.\u001b[39;00m\n\u001b[1;32m   2900\u001b[0m \n\u001b[0;32m   (...)\u001b[0m\n\u001b[1;32m   2933\u001b[0m \u001b[38;5;124;03m        Local radii of data points in the embedding (log-transformed).\u001b[39;00m\n\u001b[1;32m   2934\u001b[0m \u001b[38;5;124;03m    \"\"\"\u001b[39;00m\n\u001b[0;32m-> 2935\u001b[0m     \u001b[38;5;28;43mself\u001b[39;49m\u001b[38;5;241;43m.\u001b[39;49m\u001b[43mfit\u001b[49m\u001b[43m(\u001b[49m\u001b[43mX\u001b[49m\u001b[43m,\u001b[49m\u001b[43m \u001b[49m\u001b[43my\u001b[49m\u001b[43m,\u001b[49m\u001b[43m \u001b[49m\u001b[43mensure_all_finite\u001b[49m\u001b[43m,\u001b[49m\u001b[43m \u001b[49m\u001b[38;5;241;43m*\u001b[39;49m\u001b[38;5;241;43m*\u001b[39;49m\u001b[43mkwargs\u001b[49m\u001b[43m)\u001b[49m\n\u001b[1;32m   2936\u001b[0m     \u001b[38;5;28;01mif\u001b[39;00m \u001b[38;5;28mself\u001b[39m\u001b[38;5;241m.\u001b[39mtransform_mode \u001b[38;5;241m==\u001b[39m \u001b[38;5;124m\"\u001b[39m\u001b[38;5;124membedding\u001b[39m\u001b[38;5;124m\"\u001b[39m:\n\u001b[1;32m   2937\u001b[0m         \u001b[38;5;28;01mif\u001b[39;00m \u001b[38;5;28mself\u001b[39m\u001b[38;5;241m.\u001b[39moutput_dens:\n",
      "File \u001b[0;32m~/miniforge3/envs/needle/lib/python3.10/site-packages/umap/umap_.py:2372\u001b[0m, in \u001b[0;36mUMAP.fit\u001b[0;34m(self, X, y, ensure_all_finite, **kwargs)\u001b[0m\n\u001b[1;32m   2368\u001b[0m     X \u001b[38;5;241m=\u001b[39m check_array(\n\u001b[1;32m   2369\u001b[0m         X, dtype\u001b[38;5;241m=\u001b[39mnp\u001b[38;5;241m.\u001b[39muint8, order\u001b[38;5;241m=\u001b[39m\u001b[38;5;124m\"\u001b[39m\u001b[38;5;124mC\u001b[39m\u001b[38;5;124m\"\u001b[39m, ensure_all_finite\u001b[38;5;241m=\u001b[39mensure_all_finite\n\u001b[1;32m   2370\u001b[0m     )\n\u001b[1;32m   2371\u001b[0m \u001b[38;5;28;01melse\u001b[39;00m:\n\u001b[0;32m-> 2372\u001b[0m     X \u001b[38;5;241m=\u001b[39m \u001b[43mcheck_array\u001b[49m\u001b[43m(\u001b[49m\n\u001b[1;32m   2373\u001b[0m \u001b[43m        \u001b[49m\u001b[43mX\u001b[49m\u001b[43m,\u001b[49m\n\u001b[1;32m   2374\u001b[0m \u001b[43m        \u001b[49m\u001b[43mdtype\u001b[49m\u001b[38;5;241;43m=\u001b[39;49m\u001b[43mnp\u001b[49m\u001b[38;5;241;43m.\u001b[39;49m\u001b[43mfloat32\u001b[49m\u001b[43m,\u001b[49m\n\u001b[1;32m   2375\u001b[0m \u001b[43m        \u001b[49m\u001b[43maccept_sparse\u001b[49m\u001b[38;5;241;43m=\u001b[39;49m\u001b[38;5;124;43m\"\u001b[39;49m\u001b[38;5;124;43mcsr\u001b[39;49m\u001b[38;5;124;43m\"\u001b[39;49m\u001b[43m,\u001b[49m\n\u001b[1;32m   2376\u001b[0m \u001b[43m        \u001b[49m\u001b[43morder\u001b[49m\u001b[38;5;241;43m=\u001b[39;49m\u001b[38;5;124;43m\"\u001b[39;49m\u001b[38;5;124;43mC\u001b[39;49m\u001b[38;5;124;43m\"\u001b[39;49m\u001b[43m,\u001b[49m\n\u001b[1;32m   2377\u001b[0m \u001b[43m        \u001b[49m\u001b[43mensure_all_finite\u001b[49m\u001b[38;5;241;43m=\u001b[39;49m\u001b[43mensure_all_finite\u001b[49m\u001b[43m,\u001b[49m\n\u001b[1;32m   2378\u001b[0m \u001b[43m    \u001b[49m\u001b[43m)\u001b[49m\n\u001b[1;32m   2379\u001b[0m \u001b[38;5;28mself\u001b[39m\u001b[38;5;241m.\u001b[39m_raw_data \u001b[38;5;241m=\u001b[39m X\n\u001b[1;32m   2381\u001b[0m \u001b[38;5;66;03m# Handle all the optional arguments, setting default\u001b[39;00m\n",
      "File \u001b[0;32m~/miniforge3/envs/needle/lib/python3.10/site-packages/sklearn/utils/validation.py:1107\u001b[0m, in \u001b[0;36mcheck_array\u001b[0;34m(array, accept_sparse, accept_large_sparse, dtype, order, copy, force_writeable, force_all_finite, ensure_all_finite, ensure_non_negative, ensure_2d, allow_nd, ensure_min_samples, ensure_min_features, estimator, input_name)\u001b[0m\n\u001b[1;32m   1101\u001b[0m     \u001b[38;5;28;01mraise\u001b[39;00m \u001b[38;5;167;01mValueError\u001b[39;00m(\n\u001b[1;32m   1102\u001b[0m         \u001b[38;5;124m\"\u001b[39m\u001b[38;5;124mFound array with dim \u001b[39m\u001b[38;5;132;01m%d\u001b[39;00m\u001b[38;5;124m. \u001b[39m\u001b[38;5;132;01m%s\u001b[39;00m\u001b[38;5;124m expected <= 2.\u001b[39m\u001b[38;5;124m\"\u001b[39m\n\u001b[1;32m   1103\u001b[0m         \u001b[38;5;241m%\u001b[39m (array\u001b[38;5;241m.\u001b[39mndim, estimator_name)\n\u001b[1;32m   1104\u001b[0m     )\n\u001b[1;32m   1106\u001b[0m \u001b[38;5;28;01mif\u001b[39;00m ensure_all_finite:\n\u001b[0;32m-> 1107\u001b[0m     \u001b[43m_assert_all_finite\u001b[49m\u001b[43m(\u001b[49m\n\u001b[1;32m   1108\u001b[0m \u001b[43m        \u001b[49m\u001b[43marray\u001b[49m\u001b[43m,\u001b[49m\n\u001b[1;32m   1109\u001b[0m \u001b[43m        \u001b[49m\u001b[43minput_name\u001b[49m\u001b[38;5;241;43m=\u001b[39;49m\u001b[43minput_name\u001b[49m\u001b[43m,\u001b[49m\n\u001b[1;32m   1110\u001b[0m \u001b[43m        \u001b[49m\u001b[43mestimator_name\u001b[49m\u001b[38;5;241;43m=\u001b[39;49m\u001b[43mestimator_name\u001b[49m\u001b[43m,\u001b[49m\n\u001b[1;32m   1111\u001b[0m \u001b[43m        \u001b[49m\u001b[43mallow_nan\u001b[49m\u001b[38;5;241;43m=\u001b[39;49m\u001b[43mensure_all_finite\u001b[49m\u001b[43m \u001b[49m\u001b[38;5;241;43m==\u001b[39;49m\u001b[43m \u001b[49m\u001b[38;5;124;43m\"\u001b[39;49m\u001b[38;5;124;43mallow-nan\u001b[39;49m\u001b[38;5;124;43m\"\u001b[39;49m\u001b[43m,\u001b[49m\n\u001b[1;32m   1112\u001b[0m \u001b[43m    \u001b[49m\u001b[43m)\u001b[49m\n\u001b[1;32m   1114\u001b[0m \u001b[38;5;28;01mif\u001b[39;00m copy:\n\u001b[1;32m   1115\u001b[0m     \u001b[38;5;28;01mif\u001b[39;00m _is_numpy_namespace(xp):\n\u001b[1;32m   1116\u001b[0m         \u001b[38;5;66;03m# only make a copy if `array` and `array_orig` may share memory`\u001b[39;00m\n",
      "File \u001b[0;32m~/miniforge3/envs/needle/lib/python3.10/site-packages/sklearn/utils/validation.py:120\u001b[0m, in \u001b[0;36m_assert_all_finite\u001b[0;34m(X, allow_nan, msg_dtype, estimator_name, input_name)\u001b[0m\n\u001b[1;32m    117\u001b[0m \u001b[38;5;28;01mif\u001b[39;00m first_pass_isfinite:\n\u001b[1;32m    118\u001b[0m     \u001b[38;5;28;01mreturn\u001b[39;00m\n\u001b[0;32m--> 120\u001b[0m \u001b[43m_assert_all_finite_element_wise\u001b[49m\u001b[43m(\u001b[49m\n\u001b[1;32m    121\u001b[0m \u001b[43m    \u001b[49m\u001b[43mX\u001b[49m\u001b[43m,\u001b[49m\n\u001b[1;32m    122\u001b[0m \u001b[43m    \u001b[49m\u001b[43mxp\u001b[49m\u001b[38;5;241;43m=\u001b[39;49m\u001b[43mxp\u001b[49m\u001b[43m,\u001b[49m\n\u001b[1;32m    123\u001b[0m \u001b[43m    \u001b[49m\u001b[43mallow_nan\u001b[49m\u001b[38;5;241;43m=\u001b[39;49m\u001b[43mallow_nan\u001b[49m\u001b[43m,\u001b[49m\n\u001b[1;32m    124\u001b[0m \u001b[43m    \u001b[49m\u001b[43mmsg_dtype\u001b[49m\u001b[38;5;241;43m=\u001b[39;49m\u001b[43mmsg_dtype\u001b[49m\u001b[43m,\u001b[49m\n\u001b[1;32m    125\u001b[0m \u001b[43m    \u001b[49m\u001b[43mestimator_name\u001b[49m\u001b[38;5;241;43m=\u001b[39;49m\u001b[43mestimator_name\u001b[49m\u001b[43m,\u001b[49m\n\u001b[1;32m    126\u001b[0m \u001b[43m    \u001b[49m\u001b[43minput_name\u001b[49m\u001b[38;5;241;43m=\u001b[39;49m\u001b[43minput_name\u001b[49m\u001b[43m,\u001b[49m\n\u001b[1;32m    127\u001b[0m \u001b[43m\u001b[49m\u001b[43m)\u001b[49m\n",
      "File \u001b[0;32m~/miniforge3/envs/needle/lib/python3.10/site-packages/sklearn/utils/validation.py:169\u001b[0m, in \u001b[0;36m_assert_all_finite_element_wise\u001b[0;34m(X, xp, allow_nan, msg_dtype, estimator_name, input_name)\u001b[0m\n\u001b[1;32m    152\u001b[0m \u001b[38;5;28;01mif\u001b[39;00m estimator_name \u001b[38;5;129;01mand\u001b[39;00m input_name \u001b[38;5;241m==\u001b[39m \u001b[38;5;124m\"\u001b[39m\u001b[38;5;124mX\u001b[39m\u001b[38;5;124m\"\u001b[39m \u001b[38;5;129;01mand\u001b[39;00m has_nan_error:\n\u001b[1;32m    153\u001b[0m     \u001b[38;5;66;03m# Improve the error message on how to handle missing values in\u001b[39;00m\n\u001b[1;32m    154\u001b[0m     \u001b[38;5;66;03m# scikit-learn.\u001b[39;00m\n\u001b[1;32m    155\u001b[0m     msg_err \u001b[38;5;241m+\u001b[39m\u001b[38;5;241m=\u001b[39m (\n\u001b[1;32m    156\u001b[0m         \u001b[38;5;124mf\u001b[39m\u001b[38;5;124m\"\u001b[39m\u001b[38;5;130;01m\\n\u001b[39;00m\u001b[38;5;132;01m{\u001b[39;00mestimator_name\u001b[38;5;132;01m}\u001b[39;00m\u001b[38;5;124m does not accept missing values\u001b[39m\u001b[38;5;124m\"\u001b[39m\n\u001b[1;32m    157\u001b[0m         \u001b[38;5;124m\"\u001b[39m\u001b[38;5;124m encoded as NaN natively. For supervised learning, you might want\u001b[39m\u001b[38;5;124m\"\u001b[39m\n\u001b[0;32m   (...)\u001b[0m\n\u001b[1;32m    167\u001b[0m         \u001b[38;5;124m\"\u001b[39m\u001b[38;5;124m#estimators-that-handle-nan-values\u001b[39m\u001b[38;5;124m\"\u001b[39m\n\u001b[1;32m    168\u001b[0m     )\n\u001b[0;32m--> 169\u001b[0m \u001b[38;5;28;01mraise\u001b[39;00m \u001b[38;5;167;01mValueError\u001b[39;00m(msg_err)\n",
      "\u001b[0;31mValueError\u001b[0m: Input contains NaN."
     ]
    }
   ],
   "source": [
    "reducer = umap.UMAP(n_neighbors=10, min_dist=0.1, random_state=0)\n",
    "X_embedded = reducer.fit_transform(unified)\n",
    "\n",
    "\n",
    "ts_kmeans = TimeSeriesKMeans(n_clusters=5, metric=\"euclidean\", random_state=0)\n",
    "labels = ts_kmeans.fit_predict(unified)\n",
    "count = np.unique(labels, return_counts=True)\n",
    "pd.Series(count[1], index=count[0]).sort_index()"
   ]
  },
  {
   "cell_type": "code",
   "execution_count": 25,
   "id": "bea8152c",
   "metadata": {},
   "outputs": [
    {
     "data": {
      "text/plain": [
       "'Apple Vision Pro vs competitor'"
      ]
     },
     "execution_count": 25,
     "metadata": {},
     "output_type": "execute_result"
    }
   ],
   "source": [
    "unified[labels == 0].index[-2]"
   ]
  },
  {
   "cell_type": "code",
   "execution_count": 29,
   "id": "8f152bc8",
   "metadata": {},
   "outputs": [
    {
     "data": {
      "text/plain": [
       "[<matplotlib.lines.Line2D at 0x318b8ac20>]"
      ]
     },
     "execution_count": 29,
     "metadata": {},
     "output_type": "execute_result"
    },
    {
     "data": {
      "image/png": "[encoded data removed]",
      "text/plain": [
       "<Figure size 640x480 with 1 Axes>"
      ]
     },
     "metadata": {},
     "output_type": "display_data"
    }
   ],
   "source": [
    "import matplotlib.pyplot as plt\n",
    "plt.plot(unified.loc['Apple Vision Pro vs competitor'], label='Apple')\n",
    "\n",
    "plt.plot(unified.loc['Palestine'], label='Palestine')"
   ]
  },
  {
   "cell_type": "code",
   "execution_count": 18,
   "id": "035054fd",
   "metadata": {},
   "outputs": [
    {
     "data": {
      "application/vnd.plotly.v1+json": {
       "config": {
        "plotlyServerURL": "https://plot.ly"
       },
       "data": [
        {
         "hovertemplate": "<b>%{hovertext}</b><br><br>color=1<br>x=%{x}<br>y=%{y}<extra></extra>",
         "hovertext": [
          "fintech trends",
          "Ethiopia",
          "Airbnb news",
          "renewable energy stocks",
          "Dyson Vacuum vs competitor",
          "SolarEdge news",
          "Eli Lilly stock price",
          "war in Syria",
          "Atlassian",
          "cancel culture",
          "corporate earnings forecast",
          "buy GSK shares",
          "new AWS release date",
          "IDF",
          "meditation trends",
          "war in Iran",
          "Elon Musk on gender equality",
          "Best Buy stock price",
          "Nest Thermostat sales in Red Sea",
          "Goldman Sachs response to IDF",
          "income inequality",
          "PayPal controversy",
          "Oprah Winfrey",
          "impact of retail sales",
          "new Nvidia RTX 5090 release date",
          "Walmart earnings report",
          "Workday stock price",
          "Berkshire Hathaway stock price",
          "Sudan conflict",
          "buy Xiaomi shares",
          "Unity layoffs",
          "Costco news",
          "Andrew Tate",
          "Pinterest",
          "Iraq",
          "Pfizer stock price",
          "Kroger stock price",
          "Mastercard",
          "sustainable fashion",
          "war in Saudi Arabia",
          "H&M news",
          "gender equality",
          "Google Cloud review",
          "big data trends",
          "cybersecurity",
          "Google",
          "Amazon news",
          "GSK news",
          "Oppenheimer movie ratings",
          "veteran support",
          "Charles Schwab news",
          "ocean pollution",
          "IKEA stock price",
          "burning man",
          "CPI report forecast",
          "Apple response to Hamas",
          "gold prices",
          "Etsy vs Etsy",
          "Samsung Electronics controversy",
          "Home Depot layoffs",
          "Sonos Speaker price",
          "Google Pixel 9 sales in Taiwan",
          "impact of labor market",
          "Peloton vs competitor",
          "buy Atlassian shares",
          "Travis Scott",
          "Sheryl Sandberg on inclusion initiatives",
          "AMD controversy",
          "Visa news",
          "Sea Limited controversy",
          "Coca-Cola news",
          "Google Gemini review",
          "Fitbit price",
          "Wegovy trends",
          "Yair Lapid on Black Lives Matter",
          "Snapchat stock price",
          "Nvidia news",
          "Syria conflict",
          "Warren Buffett tweet",
          "venture capital forecast",
          "Kindle",
          "Pinterest response to Iran",
          "Azure sales in US",
          "Bristol-Myers Squibb layoffs",
          "blockchain",
          "Isaac Herzog tweet",
          "Amir Ohana",
          "Netflix response to Hezbollah",
          "Super Bowl",
          "impact of central banks",
          "Ayman Odeh on stakeholder capitalism",
          "social media trends",
          "dollar index forecast",
          "new Google Cloud release date",
          "Alexandria Ocasio-Cortez on water scarcity",
          "Tim Cook on gender equality",
          "machine learning trends",
          "Galaxy Buds review",
          "ServiceNow earnings report",
          "Novartis stock price",
          "impact of cryptocurrency market",
          "India",
          "Etsy controversy",
          "Nike layoffs",
          "Sea Limited news",
          "Microsoft earnings report",
          "Samsung Galaxy S25 price",
          "stock market",
          "Afghanistan news",
          "Xiaomi controversy",
          "Bristol-Myers Squibb response to Nova music festival massacre",
          "Netflix response to US",
          "greenwashing controversy",
          "Isaac Herzog",
          "Android 15 vs competitor",
          "Windows 11 review",
          "CyberArk",
          "Microsoft controversy",
          "deforestation controversy",
          "ChatGPT-5",
          "organic food trends",
          "Jensen Huang on corporate governance",
          "superfoods",
          "Roomba",
          "Roomba sales in Gaza",
          "buy Twitter shares",
          "PepsiCo",
          "buy Starbucks shares",
          "Google Pixel 9 price",
          "Qualcomm stock price",
          "Walgreens controversy",
          "Nice Ltd.",
          "Sheryl Sandberg on stakeholder capitalism",
          "Mitch McConnell on deforestation",
          "Target news",
          "Starbucks",
          "Red Sea news",
          "fair trade controversy",
          "Galaxy Buds sales in Syria",
          "Uber vs Uber",
          "CHIPS Act",
          "Goldman Sachs earnings report",
          "Bernie Sanders on gig economy",
          "Sydney Sweeney",
          "interest rates forecast",
          "Adobe layoffs",
          "MacBook Pro M4 sales in Israel",
          "probiotics trends",
          "West Bank news",
          "Lyft layoffs",
          "Azure",
          "Sonos Speaker",
          "India news",
          "consumer confidence forecast",
          "gut health",
          "renewable energy",
          "CVS Health news",
          "Sydney Sweeney new album",
          "Airbnb earnings report",
          "metaverse",
          "carbon emissions",
          "Palantir layoffs",
          "H&M earnings report",
          "UnitedHealth stock price",
          "Spotify news",
          "Bank of America stock price",
          "Ring Doorbell sales in Red Sea",
          "Apple response to Red Sea",
          "buy Etsy shares",
          "investing in ethereum",
          "GSK response to Ceasefire",
          "Elizabeth Warren tweet",
          "Fiverr response to Palestine",
          "new Cybertruck release date",
          "pride month",
          "AstraZeneca earnings report",
          "HP layoffs",
          "BlackRock controversy",
          "Walgreens news",
          "financial regulation",
          "Pfizer news",
          "American Express stock price",
          "Zoom earnings report",
          "Roomba sales in Ethiopia",
          "Nvidia controversy",
          "investing in digital transformation",
          "iPhone Pro Max price",
          "MacBook Pro M4",
          "Texas Instruments stock price",
          "new Sonos Speaker release date",
          "Dua Lipa new album",
          "buy Apple shares",
          "Tesla Model Y review",
          "Check Point Software earnings report",
          "ESG investing stocks",
          "Mary Barra tweet",
          "Copilot sales in Gaza",
          "US aid to Ethiopia",
          "buy CyberArk shares",
          "Jerome Powell tweet",
          "Yair Lapid",
          "anxiety trends",
          "Azure sales in Red Sea",
          "Oracle stock price",
          "Playstation 5 Pro price",
          "Visa response to Iran",
          "Visa controversy",
          "Reddit stock price",
          "Alibaba",
          "automation",
          "ChatGPT-5 price",
          "supply chain trends",
          "market volatility",
          "Cybertruck price",
          "buy Adobe shares",
          "Dyson Vacuum",
          "American Express",
          "digital detox stocks",
          "Twitter news",
          "Kamala Harris interview",
          "Ted Cruz tweet",
          "Lyft",
          "Sheryl Sandberg on sustainable finance",
          "Satya Nadella",
          "Marco Rubio interview",
          "Merck response to Iran",
          "Wix stock price",
          "October 7 attacks",
          "wage growth",
          "vegan trends",
          "Security fence",
          "impact of business investment",
          "Beyonce new album",
          "Adobe earnings report",
          "lgbtq rights stocks",
          "Baidu response to Taiwan",
          "Jensen Huang",
          "MercadoLibre stock price",
          "AstraZeneca news",
          "Unity controversy",
          "impact of industrial production",
          "supply chain",
          "Nest Thermostat",
          "Mansour Abbas on data privacy",
          "Nancy Pelosi interview",
          "war in Taiwan",
          "yoga trends",
          "Meta Quest 3 sales in Golan Heights",
          "Nike stock price",
          "Best Buy response to Ethiopia",
          "Pinterest controversy",
          "Mansour Abbas on sustainable agriculture",
          "quantitative easing",
          "new GoPro release date",
          "Settlements",
          "Spotify stock price",
          "Roomba sales in China",
          "impact of economic stimulus",
          "buy H&M shares",
          "Netflix news",
          "Wegovy",
          "Block news",
          "US aid to India",
          "body positivity",
          "Zoom response to Saudi Arabia",
          "mental health",
          "AirPods Pro sales in Red Sea",
          "Elizabeth Warren",
          "Baidu response to October 7 attacks",
          "impact of interest rates",
          "PepsiCo earnings report",
          "AirPods Pro price",
          "stakeholder capitalism",
          "Will Smith",
          "Samsung Galaxy S25",
          "India conflict",
          "buy Samsung Electronics shares",
          "Joe Biden on eco-friendly products",
          "Check Point Software news",
          "Met Gala ratings",
          "Samsung Galaxy S25 sales in Iran",
          "Marc Benioff",
          "Chuck Schumer interview",
          "Goldman Sachs stock price",
          "buy Google shares",
          "Citigroup news",
          "sleep tracking",
          "robotics",
          "remote work culture",
          "Bernie Sanders tweet",
          "Jerusalem",
          "circular economy",
          "AMD news",
          "Block earnings report",
          "Snapchat",
          "investing in streaming services",
          "Qualcomm",
          "Yuli Edelstein on ocean pollution",
          "CrowdStrike",
          "Best Buy response to Settlements",
          "Drake",
          "impact of trade deficit",
          "Palantir controversy",
          "TSMC earnings report",
          "cryptocurrency market forecast",
          "ASML stock price",
          "impact of monetary policy",
          "Peloton sales in US",
          "Kylie Jenner",
          "Taiwan news",
          "Nancy Pelosi tweet",
          "Dell news",
          "UnitedHealth",
          "Lululemon controversy",
          "Tim Cook on body positivity",
          "machine learning",
          "corporate governance",
          "new AirPods Pro release date",
          "buy eBay shares",
          "Wix news",
          "Mary Barra",
          "blockchain trends",
          "Texas Instruments layoffs",
          "Moderna",
          "keto diet",
          "Yuli Edelstein on data privacy",
          "Morgan Stanley earnings report",
          "Netflix layoffs",
          "investing in anxiety",
          "Intel layoffs",
          "Target layoffs",
          "air quality",
          "carbon footprint stocks",
          "impact of Inflation Reduction Act",
          "Reed Hastings on impact investing",
          "Merck response to Peace talks",
          "immune system",
          "Novartis layoffs",
          "Uber news",
          "Apple layoffs",
          "Elon Musk",
          "AirPods Pro sales in Sinai Peninsula",
          "Johnson & Johnson stock price",
          "mindfulness stocks",
          "gluten-free trends",
          "Best Buy response to Peace talks",
          "Airbnb stock price",
          "Xbox Series X review",
          "online education trends",
          "home workout",
          "digital detox",
          "SolarEdge layoffs",
          "Adobe controversy",
          "buy Amazon shares",
          "IBM stock price",
          "Afghanistan conflict",
          "smart home",
          "US aid to Israel",
          "Fiverr response to Jerusalem",
          "Visa layoffs",
          "AWS price",
          "iPhone 16 sales in Israel",
          "UnitedHealth earnings report",
          "Baidu news",
          "IBM news",
          "Snowflake news",
          "Zoom response to NATO",
          "gaming industry trends",
          "Tesla Model Y sales in Afghanistan",
          "Target controversy",
          "Home Depot controversy",
          "Visa response to Saudi Arabia",
          "yoga",
          "war in Jerusalem",
          "Cisco earnings report",
          "inflation forecast",
          "gig economy controversy",
          "buy Meta shares",
          "Amazon earnings report",
          "new Apple Watch release date",
          "Twitter layoffs",
          "depression",
          "Wells Fargo",
          "Pinterest earnings report",
          "Megan Thee Stallion",
          "Amazon",
          "impact of financial regulation",
          "AirPods Pro sales in Gaza",
          "emerging markets forecast",
          "gender equality controversy",
          "Merck",
          "Zoom news",
          "unemployment forecast",
          "Nike news",
          "Google layoffs",
          "Elon Musk on climate resilience",
          "remote work trends",
          "Mansour Abbas on climate change",
          "Nvidia earnings report",
          "Wells Fargo stock price",
          "Lisa Su",
          "fiscal policy forecast",
          "PayPal",
          "Red Sea",
          "Mitch McConnell tweet",
          "Black Lives Matter controversy",
          "Taylor Swift",
          "Johnson & Johnson",
          "Home Depot earnings report",
          "Sundar Pichai",
          "TSMC layoffs",
          "Mobileye",
          "Nancy Pelosi on biodiversity conservation",
          "Eli Lilly earnings report",
          "Goldman Sachs news",
          "Sanofi news",
          "Amazon stock price",
          "Amgen",
          "McDonald's stock price",
          "JPMorgan Chase stock price",
          "cancel culture controversy",
          "Sundar Pichai interview",
          "Kanye West new album",
          "Cloudflare layoffs",
          "virtual reality trends",
          "Reed Hastings on universal basic income",
          "Mastercard news",
          "Nitzan Horowitz",
          "human rights stocks",
          "Bad Bunny",
          "impact of unemployment",
          "Payoneer news",
          "Red Sea conflict",
          "Netflix stock price",
          "Black Lives Matter",
          "Cybertruck sales in US",
          "virtual doctor visit",
          "Reed Hastings",
          "monetary policy",
          "Yuli Edelstein on environmental activism",
          "Best Buy news",
          "PepsiCo controversy",
          "Texas Instruments",
          "ARM layoffs",
          "genetic testing",
          "Meta Quest 3 review",
          "Costco",
          "Dwayne Johnson",
          "Baidu",
          "Harry Styles new album",
          "new MacBook Pro M4 release date",
          "Tesla controversy",
          "Google Gemini",
          "Broadcom response to Russia",
          "eBay",
          "OpenAI Sora sales in Yemen",
          "Golan Heights",
          "Uniqlo stock price",
          "climate resilience stocks",
          "Dua Lipa",
          "AstraZeneca controversy",
          "economic stimulus",
          "Pfizer",
          "Sheryl Sandberg on impact investing",
          "Kindle price",
          "ASML vs ASML",
          "Snowflake stock price",
          "investing in metaverse",
          "Apple controversy",
          "AMD layoffs",
          "Will Smith new album",
          "foreign exchange",
          "new Tesla Model Y release date",
          "Naftali Bennett on corporate governance",
          "iPhone Pro Max sales in China",
          "Rihanna new album",
          "Apple response to Sinai Peninsula",
          "Copilot sales in China",
          "Malala Yousafzai",
          "environmental activism",
          "Samsung Electronics earnings report",
          "Walgreens earnings report",
          "Bristol-Myers Squibb stock price",
          "Sundar Pichai on corporate social responsibility",
          "clean energy transition stocks",
          "Shopify earnings report",
          "new Kindle release date",
          "Check Point Software",
          "Playstation 5 Pro sales in Ukraine",
          "Israel news",
          "MacBook Pro M4 sales in Golan Heights",
          "North Korea conflict",
          "Tesla Model Y price",
          "Unity response to Sudan",
          "Unity vs Unity",
          "Intel controversy",
          "Tesla Model Y",
          "Coca-Cola stock price",
          "Tesla layoffs",
          "AWS vs competitor",
          "Netflix response to Gaza",
          "CrowdStrike layoffs",
          "Playstation 5 Pro",
          "Cloudflare stock price",
          "Zara news",
          "buy ARM shares",
          "Marco Rubio",
          "mindfulness controversy",
          "Merck news",
          "digital currency",
          "Lowe's news",
          "supply chain forecast",
          "Cisco stock price",
          "Sanofi stock price",
          "Shopify stock price",
          "Microsoft news",
          "PewDiePie new album",
          "Yair Lapid on biodiversity conservation",
          "real estate market forecast",
          "Sanofi",
          "George Clooney new album",
          "buy Nvidia shares",
          "Reed Hastings interview",
          "Best Buy response to IDF",
          "buy Microsoft shares",
          "data breach trends",
          "web3",
          "Coachella",
          "Walmart",
          "Pakistan",
          "oil prices forecast",
          "Zoom layoffs",
          "Starbucks stock price",
          "Kamala Harris tweet",
          "Netflix earnings report",
          "MrBeast",
          "Apple Vision Pro price",
          "Johnson & Johnson layoffs",
          "lgbtq rights",
          "Texas Instruments news",
          "Jensen Huang interview",
          "Fiverr",
          "Amgen layoffs",
          "US aid to Pakistan",
          "Playstation 5 Pro review",
          "Microsoft Surface review",
          "commodity prices",
          "H&M stock price",
          "Novartis earnings report",
          "savings rate forecast",
          "Google controversy",
          "Sudan news",
          "digital currency trends",
          "Meta news",
          "sleep tracking trends",
          "new Android 15 release date",
          "Merck response to Ethiopia",
          "Salesforce stock price",
          "Apple Watch review",
          "Micron earnings report",
          "World Cup",
          "Spotify earnings report",
          "Apple",
          "Block controversy",
          "Zendaya new album",
          "Xiaomi news",
          "iPhone Pro Max sales in Red Sea",
          "Gavin Newsom interview",
          "virtual reality",
          "Tim Cook interview",
          "Yemen",
          "Netflix",
          "Warren Buffett interview",
          "Block",
          "Samsung Galaxy S25 sales in US",
          "investing in remote work",
          "fashion week",
          "Salesforce layoffs",
          "Alexandria Ocasio-Cortez",
          "US aid to Sudan",
          "Jeff Bezos interview",
          "energy prices forecast",
          "Goldman Sachs layoffs",
          "global trade",
          "Kylie Jenner new album",
          "housing market",
          "Peloton sales in Sinai Peninsula",
          "Charles Schwab layoffs",
          "CrowdStrike controversy",
          "Goldman Sachs response to US",
          "electric vehicle",
          "Galaxy Buds sales in Afghanistan",
          "buy Workday shares",
          "Azure price",
          "Peloton sales in Pakistan",
          "Joe Biden on sustainable finance",
          "5G technology",
          "CrowdStrike earnings report",
          "Taiwan conflict",
          "impact of gold prices",
          "Tim Cook tweet",
          "Peloton",
          "US aid to Red Sea",
          "PepsiCo layoffs",
          "automation trends",
          "IKEA response to US",
          "Best Buy earnings report",
          "universal basic income",
          "Merck earnings report",
          "Nancy Pelosi",
          "impact of real estate market",
          "ARM controversy",
          "Uniqlo",
          "digital transformation trends",
          "trade deficit forecast",
          "new Google Gemini release date",
          "Jerome Powell interview",
          "organic food",
          "BlackRock news",
          "Uber controversy",
          "Naftali Bennett",
          "Lady Gaga new album",
          "Yemen news",
          "new Google Pixel 9 release date",
          "AbbVie",
          "Tesla news",
          "Fiverr stock price",
          "trade deficit",
          "Azure sales in India",
          "Oscars ratings",
          "Donald Trump interview",
          "Kroger earnings report",
          "China news",
          "social media trends trends",
          "Bernie Sanders on greenwashing",
          "investing in gaming industry",
          "housing market forecast",
          "buy Reddit shares",
          "Palantir earnings report",
          "green bonds stocks",
          "Roche stock price",
          "Donald Trump tweet",
          "mental health awareness stocks",
          "Android 15 review",
          "Bernie Sanders",
          "Twitter stock price",
          "impact of mortgage rates",
          "OpenAI Sora",
          "Sundar Pichai on remote work culture",
          "buy UnitedHealth shares",
          "Larry Fink",
          "Elizabeth Warren interview",
          "Apple response to China",
          "HP earnings report",
          "investing in probiotics",
          "Uber layoffs",
          "Fiverr response to Yemen",
          "MacBook Pro M4 price",
          "NFTs",
          "investing in lab grown meat",
          "Uber",
          "Ellen DeGeneres",
          "HP",
          "TSMC controversy",
          "Fiverr response to Golan Heights",
          "business investment",
          "SolarEdge stock price",
          "Sanofi earnings report",
          "Mastercard controversy",
          "Alibaba controversy",
          "Wells Fargo earnings report",
          "impact investing",
          "Sea Limited",
          "emerging markets",
          "buy Pfizer shares",
          "Meta Quest 3 price",
          "Eli Lilly vs Eli Lilly",
          "Ring Doorbell price",
          "Reddit",
          "impact of income inequality",
          "iPhone 16",
          "CrowdStrike news",
          "Baidu response to Jerusalem",
          "Workday",
          "Unity response to Ukraine",
          "Tim Cook",
          "Nvidia RTX 5090 price",
          "corporate social responsibility stocks",
          "Jensen Huang on Black Lives Matter",
          "US conflict",
          "Snapchat layoffs",
          "Roomba price",
          "Roche",
          "Ted Cruz interview",
          "buy Johnson & Johnson shares",
          "Ring Doorbell sales in US",
          "iPhone Pro Max",
          "Taylor Swift new album",
          "impact of dollar index",
          "UnitedHealth news",
          "online education",
          "Dyson Vacuum sales in Yemen",
          "Apple news",
          "plant-based food trends",
          "AMD",
          "recession forecast",
          "AbbVie news",
          "Syria news",
          "Micron layoffs",
          "Garmin Watch price",
          "war in China",
          "McDonald's layoffs",
          "Ring Doorbell sales in West Bank",
          "Garmin Watch review",
          "eBay earnings report",
          "ESG investing",
          "ServiceNow layoffs",
          "Dell earnings report",
          "intermittent fasting",
          "Yair Lapid on carbon footprint",
          "Intel",
          "Zara controversy",
          "Kim Kardashian new album",
          "Andy Jassy interview",
          "eco-friendly products",
          "Texas Instruments vs Texas Instruments",
          "Pinterest layoffs",
          "industrial production forecast",
          "AirPods Pro sales in India",
          "IBM layoffs",
          "Lyft stock price",
          "Jake Paul new album",
          "PewDiePie",
          "Elon Musk on inclusion initiatives",
          "Walmart stock price",
          "Android 15 price",
          "savings rate",
          "influencer marketing trends",
          "mental health awareness controversy",
          "streaming services trends",
          "robotics trends",
          "Twitter",
          "Broadcom response to Jerusalem",
          "Moderna layoffs",
          "SolarEdge vs SolarEdge",
          "impact of wage growth",
          "Middle East conflict",
          "Dell controversy",
          "Nest Thermostat price",
          "buy PayPal shares",
          "MacBook Pro M4 review",
          "Dyson Vacuum review",
          "buy CrowdStrike shares",
          "investing in supply chain",
          "Jensen Huang on social entrepreneurship",
          "Merck stock price",
          "smartwatch health features",
          "ASML news",
          "US aid to NATO",
          "big data",
          "Gideon Sa'ar on living wage",
          "ServiceNow",
          "renewable energy controversy",
          "inclusion initiatives",
          "Ted Cruz",
          "fast fashion",
          "Sheryl Sandberg on air quality",
          "US aid to Iran",
          "eBay controversy",
          "Meta layoffs",
          "Roomba review",
          "McDonald's earnings report",
          "Walmart layoffs",
          "impact of CHIPS Act",
          "Costco controversy",
          "Micron",
          "investing in Wegovy",
          "GoPro review",
          "investing in bitcoin",
          "Super Bowl ratings",
          "Copilot review",
          "investing in fintech",
          "buy McDonald's shares",
          "Zoom stock price",
          "me too movement",
          "Copilot sales in Golan Heights",
          "Zara",
          "buy Shopify shares",
          "Meta stock price",
          "Qualcomm news",
          "JPMorgan Chase layoffs",
          "Alibaba news",
          "workplace diversity stocks",
          "Walgreens",
          "social justice controversy",
          "real estate market",
          "Olivia Rodrigo",
          "Nvidia layoffs",
          "Sonos Speaker review",
          "Azure sales in Golan Heights",
          "new Meta Quest 3 release date",
          "Bernie Sanders interview",
          "Costco earnings report",
          "HP stock price",
          "China conflict",
          "Zendaya",
          "Home Depot",
          "Oppenheimer movie",
          "climate change stocks",
          "Reed Hastings on inclusion initiatives",
          "Joe Biden tweet",
          "Zoom response to Middle East",
          "Gideon Sa'ar on environmental activism",
          "immune system trends",
          "Pakistan conflict",
          "impact of market volatility",
          "US aid to US",
          "Nvidia RTX 5090 review",
          "AstraZeneca layoffs",
          "Nest Thermostat sales in Palestine",
          "OpenAI Sora sales in Red Sea",
          "Joe Biden interview",
          "data privacy controversy",
          "Samsung Galaxy S25 review",
          "Nest Thermostat sales in Yemen",
          "foreign exchange forecast",
          "Unity news",
          "iPhone 16 sales in US",
          "US aid to Yemen",
          "Block layoffs",
          "buy Broadcom shares",
          "Sudan",
          "Yair Lapid on social entrepreneurship",
          "deforestation",
          "Mark Zuckerberg interview",
          "buy Bank of America shares",
          "Israel",
          "remote work",
          "vegetarian",
          "Pfizer earnings report",
          "central banks",
          "Spotify layoffs",
          "human rights",
          "Chuck Schumer",
          "Ron DeSantis tweet",
          "Pfizer controversy",
          "anxiety",
          "Nancy Pelosi on impact investing",
          "green bonds",
          "Kroger controversy",
          "environmental activism controversy",
          "Zoom response to October 7 attacks",
          "Reed Hastings on digital detox",
          "Workday controversy",
          "Broadcom stock price",
          "Micron news",
          "iPhone 16 price",
          "Billie Eilish",
          "Reed Hastings on cancel culture",
          "Jamie Dimon interview",
          "Sanofi layoffs",
          "Wix",
          "Home Depot vs Home Depot",
          "Qualcomm earnings report",
          "Mansour Abbas",
          "Monday.com stock price",
          "investing in cybersecurity",
          "AirPods Pro review",
          "investing in automation",
          "SolarEdge",
          "Donald Trump",
          "Sheryl Sandberg tweet",
          "ASML earnings report",
          "biodiversity conservation controversy",
          "Samsung Galaxy S25 sales in Syria",
          "new iPhone Pro Max release date",
          "buy IBM shares",
          "Google Pixel 9 sales in Afghanistan",
          "commodity prices forecast",
          "climate resilience",
          "Workday layoffs",
          "buy Alibaba shares",
          "Galaxy Buds price",
          "Dyson Vacuum price",
          "AWS",
          "Visa",
          "Warren Buffett",
          "Best Buy controversy",
          "AirPods Pro sales in North Korea",
          "Naftali Bennett on quiet quitting",
          "investing in yoga",
          "PayPal stock price",
          "Sheryl Sandberg on social justice",
          "fair trade stocks",
          "JD.com stock price",
          "war in Ethiopia",
          "Kendrick Lamar new album",
          "Android 15",
          "Lowe's",
          "Cardi B",
          "Elbit Systems",
          "Etsy",
          "TSMC",
          "MercadoLibre earnings report",
          "Bristol-Myers Squibb response to Sudan",
          "CVS Health earnings report",
          "North Korea",
          "corporate governance stocks",
          "Ceasefire",
          "Peloton sales in Yemen",
          "Netflix response to NATO",
          "Oracle",
          "Mitch McConnell on sustainable finance",
          "Check Point Software stock price",
          "Sundar Pichai on eco-friendly products",
          "Tesla Model Y sales in US",
          "Elon Musk interview",
          "Amgen news",
          "Novartis controversy",
          "new iPhone 16 release date",
          "US aid to Middle East",
          "war in US",
          "Etsy stock price",
          "Alibaba earnings report",
          "investing in robotics",
          "Lululemon",
          "workplace diversity",
          "Copilot price",
          "Moderna stock price",
          "social justice",
          "Google Cloud price",
          "Cardi B new album",
          "impact of recession",
          "Merck response to West Bank",
          "investing in gut health",
          "Doja Cat new album",
          "Mansour Abbas on ethical sourcing",
          "clean energy transition",
          "IKEA news",
          "buy Cloudflare shares",
          "Fiverr news",
          "Merck response to India",
          "impact of energy prices",
          "Samsung Electronics stock price",
          "IBM",
          "consumer confidence",
          "IKEA controversy",
          "impact of stock market",
          "Johnson & Johnson earnings report",
          "Logan Paul new album",
          "AMD earnings report",
          "MacBook Pro M4 sales in Taiwan",
          "HP news",
          "Dyson Vacuum sales in Iraq",
          "Kamala Harris on deforestation",
          "Joe Biden on social justice",
          "Visa response to India",
          "Snapchat controversy",
          "Jerusalem news",
          "Lowe's stock price",
          "Alexandria Ocasio-Cortez on corporate social responsibility",
          "Morgan Stanley layoffs",
          "Bank of America earnings report",
          "investing in mindfulness",
          "bond yields",
          "AMD stock price",
          "war in Middle East",
          "Sea Limited stock price",
          "investing in superfoods",
          "buy Uber shares",
          "investing in blockchain",
          "Lizzo new album",
          "impact of emerging markets",
          "Xbox Series X",
          "Kamala Harris on Black Lives Matter",
          "Jensen Huang on work-life balance",
          "cybersecurity trends",
          "AirPods Pro",
          "Windows 11 price",
          "BlackRock",
          "Marco Rubio on body positivity",
          "anti-aging",
          "buy Morgan Stanley shares",
          "Yuli Edelstein",
          "OpenAI Sora review",
          "buy Tesla shares",
          "Naftali Bennett on gig economy",
          "IKEA response to IDF",
          "impact of consumer spending",
          "Nvidia RTX 5090",
          "Kevin McCarthy interview",
          "Copilot",
          "Etsy layoffs",
          "carbon footprint",
          "Jerome Powell",
          "Sonos Speaker sales in Sinai Peninsula",
          "gold prices forecast",
          "Atlassian layoffs",
          "Nest Thermostat sales in West Bank",
          "Xiaomi stock price",
          "US aid to Russia",
          "investing in crypto",
          "GoPro",
          "Apple Watch",
          "greenwashing",
          "Nike",
          "interest rates",
          "Uniqlo news",
          "corporate social responsibility",
          "Gideon Sa'ar on fast fashion",
          "JD.com news",
          "Gavin Newsom tweet",
          "Sonos Speaker sales in Golan Heights",
          "Walgreens stock price",
          "Monday.com",
          "MacBook Pro M4 sales in Syria",
          "Bank of America",
          "Microsoft stock price",
          "Saudi Arabia news",
          "US aid to Syria",
          "labor market",
          "Mark Zuckerberg",
          "buy Berkshire Hathaway shares",
          "Lady Gaga",
          "Dell",
          "buy Snowflake shares",
          "Copilot sales in India",
          "Best Buy response to Security fence",
          "Oracle controversy",
          "Tom Holland",
          "US aid to Saudi Arabia",
          "US aid to Afghanistan",
          "Yemen conflict",
          "Home Depot news",
          "impact of GDP",
          "Monday.com earnings report",
          "MercadoLibre news",
          "Windows 11",
          "new Roomba release date",
          "gut health trends",
          "Iran news",
          "Sea Limited earnings report",
          "meditation",
          "CyberArk news",
          "Unity response to US",
          "Amgen response to Red Sea",
          "Visa stock price",
          "Reddit controversy",
          "Etsy news",
          "Berkshire Hathaway earnings report",
          "depression trends",
          "BlackRock stock price",
          "war in Afghanistan",
          "US aid to Ukraine",
          "American Express earnings report",
          "Johnson & Johnson vs Johnson & Johnson",
          "Merck vs Merck",
          "Sundar Pichai on fast fashion",
          "Mitch McConnell on corporate governance",
          "Joe Rogan new album",
          "Nvidia stock price",
          "Grammys",
          "retail sales",
          "Joe Rogan",
          "ethical sourcing",
          "Bad Bunny new album",
          "Best Buy layoffs",
          "Roche news",
          "buy Costco shares",
          "Kroger news",
          "American Express controversy",
          "Amgen stock price",
          "Grammys ratings",
          "MercadoLibre",
          "Mansour Abbas on lgbtq rights",
          "buy BlackRock shares",
          "buy Charles Schwab shares",
          "Starbucks earnings report",
          "Coca-Cola",
          "Unity stock price",
          "Elon Musk tweet",
          "Sheryl Sandberg on eco-friendly products",
          "Spotify controversy",
          "intermittent fasting trends",
          "iPhone Pro Max sales in US",
          "Mansour Abbas on sustainable finance",
          "carbon emissions stocks",
          "Pinterest response to BDS movement",
          "Nike controversy",
          "mortgage rates forecast",
          "Moderna earnings report",
          "Beyonce",
          "Pinterest stock price",
          "Ozempic",
          "Cisco layoffs",
          "PepsiCo vs PepsiCo",
          "social entrepreneurship",
          "retail sales forecast",
          "Amgen response to Russia",
          "Palantir",
          "Iraq news",
          "Bristol-Myers Squibb response to Yemen",
          "mindfulness",
          "ethereum trends",
          "Andy Jassy",
          "investing in depression",
          "Fiverr response to Red Sea",
          "metaverse trends",
          "Workday news",
          "Samsung Galaxy S25 sales in Jerusalem",
          "buy Walmart shares",
          "new Xbox Series X release date",
          "superfoods trends",
          "Goldman Sachs response to Red Sea",
          "buy Target shares",
          "Hezbollah",
          "TSMC vs TSMC",
          "global trade forecast",
          "AbbVie stock price",
          "impact of commodity prices",
          "GSK earnings report",
          "impact of oil prices",
          "impact of tariffs",
          "investing in genetic testing",
          "Palantir stock price",
          "Cybertruck review",
          "Xiaomi",
          "Azure sales in Sinai Peninsula",
          "Citigroup stock price",
          "Lululemon news",
          "Target",
          "Billie Eilish new album",
          "Lululemon stock price",
          "AI ethics stocks",
          "IKEA",
          "vegan",
          "Ring Doorbell sales in Jerusalem",
          "Johnson & Johnson news",
          "buy Sea Limited shares",
          "euro index forecast",
          "impact of venture capital",
          "Doja Cat",
          "GoPro price",
          "Jeff Bezos",
          "new Microsoft Surface release date",
          "Apple Vision Pro review",
          "monetary policy forecast",
          "Cisco news",
          "Charles Schwab earnings report",
          "Playstation 5 Pro sales in Ethiopia",
          "investing in mental health",
          "CVS Health response to Yemen",
          "Nancy Pelosi on living wage",
          "Eli Lilly news",
          "Mary Barra interview",
          "US aid to Taiwan",
          "Netflix response to Palestine",
          "human rights controversy",
          "stakeholder capitalism controversy",
          "American Express layoffs",
          "crypto trends",
          "web3 trends",
          "quantum computing trends",
          "Bank of America layoffs",
          "Intifada",
          "Cloudflare news",
          "Mitch McConnell interview",
          "Xiaomi vs Xiaomi",
          "oil prices",
          "Reddit news",
          "Jensen Huang on corporate social responsibility",
          "buy Spotify shares",
          "Microsoft Surface",
          "consumer spending forecast",
          "Sinai Peninsula",
          "Charles Schwab",
          "wage growth forecast",
          "fed meeting forecast",
          "Elbit Systems news",
          "Lyft earnings report",
          "Jerusalem conflict",
          "McDonald's news",
          "ServiceNow news",
          "Adobe stock price",
          "Apple Vision Pro",
          "IBM controversy",
          "war in India",
          "buy Zoom shares",
          "CyberArk stock price",
          "Azure sales in Iraq",
          "Fiverr response to Russia",
          "Broadcom",
          "Marco Rubio on youth climate movement",
          "AirPods Pro sales in Saudi Arabia",
          "Airbnb controversy",
          "Joe Biden on fair trade",
          "Middle East news",
          "ARM earnings report",
          "Target stock price",
          "impact of foreign exchange",
          "CHIPS Act forecast",
          "iPhone 16 sales in India",
          "Home Depot stock price",
          "US aid to Gaza",
          "Best Buy response to Israel",
          "Apple earnings report",
          "Intel earnings report",
          "buy AstraZeneca shares",
          "Ring Doorbell sales in India",
          "Inflation Reduction Act forecast",
          "Gideon Sa'ar",
          "Baidu vs Baidu",
          "GSK response to Iran",
          "H&M",
          "Peloton price",
          "Microsoft layoffs",
          "Ring Doorbell review",
          "Tesla",
          "smart home trends",
          "investing in online education",
          "Meta",
          "data breach",
          "OpenAI Sora price",
          "Jeff Bezos tweet",
          "Johnson & Johnson controversy",
          "Microsoft",
          "Jamie Dimon",
          "gaming industry",
          "Nice Ltd. response to IDF",
          "Samsung Electronics",
          "Apple response to Golan Heights",
          "AirPods Pro sales in US",
          "Bernie Sanders on gender equality",
          "buy Airbnb shares",
          "keto diet trends",
          "PayPal earnings report",
          "GSK stock price",
          "Novartis news",
          "Cybertruck",
          "Wells Fargo vs Wells Fargo",
          "PayPal news",
          "impact of supply chain",
          "ethereum",
          "Google Pixel 9 sales in Palestine",
          "inflation",
          "labor market forecast",
          "Adobe",
          "CVS Health layoffs",
          "GSK response to Jerusalem",
          "stock market forecast",
          "Sundar Pichai tweet",
          "Google Pixel 9",
          "Starbucks news",
          "lab grown meat",
          "US aid to Iraq",
          "Target earnings report",
          "streaming services",
          "PayPal layoffs",
          "OpenAI Sora sales in Ukraine",
          "Goldman Sachs response to Peace talks",
          "JPMorgan Chase news",
          "Met Gala",
          "Amazon controversy",
          "McDonald's controversy",
          "investing in virtual reality",
          "Cloudflare",
          "Google Cloud",
          "Shopify response to October 7 attacks",
          "Airbnb",
          "Margot Robbie new album",
          "impact of fiscal policy",
          "Alexandria Ocasio-Cortez on green bonds",
          "Reed Hastings on work-life balance",
          "Adele",
          "market volatility forecast",
          "ServiceNow stock price",
          "business investment forecast",
          "Meta Quest 3",
          "Itamar Ben-Gvir on biodiversity conservation",
          "Sheryl Sandberg on Black Lives Matter",
          "Syria",
          "buy Home Depot shares",
          "CyberArk vs CyberArk",
          "Joe Biden on work-life balance",
          "American Express news",
          "Salesforce news",
          "impact of fed meeting",
          "Travis Scott new album",
          "Tim Cook on sustainable agriculture",
          "Morgan Stanley stock price",
          "Ayman Odeh",
          "Playstation 5 Pro sales in West Bank",
          "Intel news",
          "Bristol-Myers Squibb controversy",
          "war in Sudan",
          "tariffs forecast",
          "buy Nike shares",
          "Costco layoffs",
          "investing in anti-aging",
          "Apple stock price",
          "UnitedHealth layoffs",
          "new Samsung Galaxy S25 release date",
          "Charles Schwab stock price",
          "quiet quitting",
          "buy Coca-Cola shares",
          "augmented reality trends",
          "Zara earnings report",
          "Qualcomm layoffs",
          "Yair Lapid on water scarcity",
          "Walmart news",
          "North Korea news",
          "Intel stock price",
          "Adobe news",
          "US news",
          "Google Gemini price",
          "buy American Express shares",
          "Morgan Stanley news",
          "Sheryl Sandberg",
          "Galaxy Buds sales in Iraq",
          "PepsiCo stock price",
          "CVS Health stock price",
          "Azure sales in North Korea",
          "venture capital",
          "war in Gaza",
          "sustainable living",
          "circular economy stocks",
          "Netflix controversy",
          "central banks forecast",
          "Walgreens layoffs",
          "Fitbit vs competitor",
          "buy Goldman Sachs shares",
          "buy Intel shares",
          "Bernie Sanders on AI ethics",
          "UnitedHealth vs UnitedHealth",
          "Nvidia",
          "fintech",
          "George Clooney",
          "AstraZeneca stock price",
          "Ethiopia conflict",
          "pride month controversy",
          "Lowe's layoffs",
          "Tesla stock price",
          "bitcoin",
          "Twitter earnings report",
          "buy AMD shares",
          "Payoneer stock price",
          "buy Palantir shares",
          "Uniqlo controversy",
          "buy HP shares",
          "climate change controversy",
          "crypto",
          "Middle East",
          "Itamar Ben-Gvir on circular economy",
          "Sundar Pichai on corporate governance",
          "Azure review",
          "AstraZeneca",
          "Snowflake",
          "Saudi Arabia",
          "Atlassian news",
          "Iran conflict",
          "Meta Quest 3 sales in Syria",
          "Best Buy",
          "Nancy Pelosi on gender equality",
          "Itamar Ben-Gvir on Black Lives Matter",
          "Berkshire Hathaway",
          "impact of consumer confidence",
          "Oracle news",
          "impact of global trade",
          "war in Pakistan",
          "US aid to North Korea",
          "Dell layoffs",
          "The Weeknd new album",
          "Barbie movie ratings",
          "Greta Thunberg",
          "Iran",
          "Itamar Ben-Gvir",
          "Starbucks controversy",
          "iPhone 16 sales in North Korea",
          "Broadcom earnings report",
          "Cloudflare controversy",
          "impact of corporate earnings",
          "Snowflake layoffs",
          "Yair Lapid on digital detox",
          "Coca-Cola controversy",
          "Olivia Rodrigo new album",
          "war in Iraq",
          "Ron DeSantis interview",
          "investing in quantum computing",
          "influencer marketing",
          "Payoneer",
          "Margot Robbie",
          "iPhone Pro Max sales in NATO",
          "Leonardo DiCaprio",
          "dairy-free",
          "Kindle review",
          "Best Buy response to BDS movement",
          "Kevin McCarthy",
          "Shopify news",
          "Sanofi controversy",
          "Cisco controversy",
          "new Apple Vision Pro release date",
          "Garmin Watch vs competitor",
          "sustainable finance",
          "Shopify controversy",
          "buy CVS Health shares",
          "cryptocurrency market",
          "war in North Korea",
          "buy Best Buy shares",
          "Lisa Su interview",
          "Baidu stock price",
          "Salesforce",
          "fiscal policy",
          "Teva Pharmaceutical",
          "social justice stocks",
          "Nice Ltd. response to Golan Heights",
          "Citigroup layoffs",
          "Alexandria Ocasio-Cortez on carbon footprint",
          "Wells Fargo news",
          "new Windows 11 release date",
          "Block stock price",
          "Monday.com news",
          "TSMC news",
          "PepsiCo news",
          "China",
          "Goldman Sachs response to Palestine",
          "Baidu response to Security fence",
          "Barbie movie",
          "AbbVie layoffs",
          "investing in big data",
          "Snapchat earnings report",
          "Copilot sales in Israel",
          "Benny Gantz",
          "Wix layoffs",
          "H&M controversy",
          "Amazon layoffs",
          "Rihanna",
          "mental health awareness",
          "gig economy",
          "war in Red Sea",
          "Goldman Sachs",
          "Google stock price",
          "Starbucks layoffs",
          "IBM earnings report",
          "Roche layoffs",
          "data privacy",
          "JD.com",
          "eBay layoffs",
          "Merck response to Afghanistan",
          "GDP forecast",
          "Salesforce controversy",
          "Unity",
          "Fitbit review",
          "Alexandria Ocasio-Cortez tweet",
          "Peloton review",
          "eBay news",
          "gluten-free",
          "biodiversity conservation stocks",
          "Uber stock price",
          "CVS Health",
          "Tesla earnings report",
          "impact of inflation",
          "Spotify",
          "Roomba sales in Golan Heights",
          "Shopify layoffs",
          "Mastercard layoffs",
          "Nike earnings report",
          "Broadcom layoffs",
          "Afghanistan",
          "Kanye West",
          "Pinterest news",
          "Bristol-Myers Squibb response to Red Sea",
          "CPI report",
          "Benjamin Netanyahu interview",
          "augmented reality",
          "Moderna news",
          "Amgen response to Iran",
          "mortgage rates",
          "Olympics ratings",
          "investing in NFTs",
          "CrowdStrike stock price",
          "Cisco",
          "Elbit Systems stock price",
          "unemployment",
          "Playstation 5 Pro sales in Iraq",
          "living wage",
          "MacBook Pro M4 sales in Sinai Peninsula",
          "Ethiopia news",
          "Apple response to Israel",
          "Visa response to Middle East",
          "Best Buy response to Iran",
          "Naftali Bennett on biodiversity conservation",
          "ARM stock price",
          "Amgen response to BDS movement",
          "Iraq conflict",
          "impact of bond yields",
          "Xbox Series X price",
          "dairy-free trends",
          "GSK",
          "Mitch McConnell",
          "AirPods Pro sales in Syria",
          "Lululemon layoffs",
          "Kroger",
          "new Ring Doorbell release date",
          "Mastercard stock price",
          "Alibaba stock price",
          "Snowflake earnings report",
          "Broadcom response to Israel",
          "Galaxy Buds sales in West Bank",
          "anti-aging trends",
          "Playstation 5 Pro sales in Pakistan",
          "new Azure release date",
          "Yuli Edelstein on impact investing",
          "TSMC stock price",
          "Reddit layoffs",
          "Microsoft Surface vs competitor",
          "Pinterest response to Pakistan",
          "Sheryl Sandberg interview",
          "Bristol-Myers Squibb",
          "impact investing stocks",
          "Citigroup",
          "fair trade",
          "data privacy stocks",
          "iPhone 16 review",
          "Kamala Harris on greenwashing",
          "Olympics",
          "Fitbit",
          "Samsung Electronics news",
          "Twitter controversy",
          "Ayman Odeh on gender equality",
          "industrial production",
          "Ayman Odeh on veteran support",
          "Mark Zuckerberg tweet",
          "Kevin McCarthy tweet",
          "CVS Health response to Russia",
          "BlackRock layoffs",
          "bitcoin trends",
          "Harry Styles",
          "JPMorgan Chase",
          "Berkshire Hathaway news",
          "Lyft news",
          "Taiwan",
          "ARM",
          "Ozempic trends",
          "Kendrick Lamar",
          "Google Pixel 9 review",
          "Merck response to Gaza",
          "buy Moderna shares",
          "Kamala Harris",
          "Pinterest response to Syria",
          "AI advancements",
          "iPhone 16 sales in Yemen",
          "Saudi Arabia conflict",
          "Berkshire Hathaway vs Berkshire Hathaway",
          "Morgan Stanley",
          "Yuli Edelstein tweet",
          "work-life balance",
          "impact of housing market",
          "Ring Doorbell sales in Yemen",
          "Samsung Galaxy S25 sales in China",
          "mindfulness trends",
          "AI ethics",
          "Elon Musk on climate change",
          "Reddit earnings report",
          "Visa earnings report",
          "vegetarian trends",
          "Meta earnings report",
          "Yair Lapid tweet",
          "Roomba sales in Palestine",
          "Palantir news",
          "Atlassian stock price",
          "Lizzo",
          "war in Yemen",
          "Zara stock price",
          "recession",
          "BDS movement",
          "Zoom",
          "ethical sourcing stocks",
          "Joe Biden on climate change",
          "GDP",
          "Samsung Galaxy S25 sales in Israel",
          "sustainable fashion trends",
          "Mobileye news",
          "Galaxy Buds",
          "Wells Fargo layoffs",
          "water scarcity",
          "impact of savings rate",
          "Best Buy response to Sinai Peninsula",
          "Oscars",
          "OpenAI Sora sales in Pakistan",
          "Uber earnings report",
          "Joe Biden",
          "West Bank",
          "corporate earnings",
          "Google news",
          "Merck layoffs",
          "home workout trends",
          "buy Wells Fargo shares",
          "Shopify",
          "Salesforce earnings report",
          "Ryan Reynolds",
          "climate change",
          "Apple Watch price",
          "fed meeting",
          "Visa response to Iron Dome",
          "Costco stock price",
          "impact of euro index",
          "Drake new album",
          "Micron stock price",
          "sustainable agriculture",
          "Nancy Pelosi on renewable energy",
          "CVS Health response to Ukraine",
          "investing in machine learning",
          "Airbnb layoffs",
          "eBay stock price",
          "Google earnings report",
          "Kim Kardashian",
          "Unity response to Nova music festival massacre",
          "Zoom controversy",
          "digital transformation",
          "McDonald's",
          "World Cup ratings",
          "Megan Thee Stallion new album",
          "Mastercard earnings report",
          "Eli Lilly",
          "investing in web3",
          "buy Visa shares",
          "Yuli Edelstein on Black Lives Matter",
          "plant-based food",
          "Bank of America news",
          "5G technology trends",
          "Itamar Ben-Gvir on carbon emissions",
          "Lyft controversy",
          "IKEA response to Russia",
          "Snapchat news",
          "tariffs",
          "Goldman Sachs response to Iron Dome",
          "Walmart controversy",
          "Nova music festival massacre",
          "Ron DeSantis",
          "biodiversity conservation",
          "wearable fitness",
          "Gavin Newsom",
          "iPhone Pro Max review",
          "air quality stocks",
          "US",
          "Novartis",
          "dollar index",
          "The Weeknd",
          "climate resilience controversy",
          "Citigroup earnings report",
          "weight loss drug",
          "Dell stock price",
          "euro index",
          "Marc Benioff interview",
          "consumer spending",
          "quantitative easing forecast",
          "Merck controversy",
          "Garmin Watch",
          "ASML",
          "ARM news",
          "Mobileye stock price",
          "IKEA layoffs",
          "mental health trends",
          "Jake Paul",
          "Chuck Schumer tweet",
          "iPhone Pro Max sales in Russia",
          "e-sports",
          "OpenAI Sora sales in Middle East",
          "me too movement controversy",
          "Itamar Ben-Gvir on body positivity",
          "AWS review",
          "Bristol-Myers Squibb response to India",
          "Check Point Software response to China",
          "buy Netflix shares",
          "bond yields forecast",
          "Inflation Reduction Act",
          "Costco vs Costco",
          "Microsoft Surface price",
          "Kroger layoffs",
          "Greta Thunberg new album",
          "US aid to China",
          "greenwashing stocks",
          "quantum computing",
          "Tesla Model Y sales in Palestine",
          "Jensen Huang on universal basic income",
          "BlackRock earnings report",
          "Logan Paul",
          "Ring Doorbell",
          "Nitzan Horowitz tweet",
          "Oracle layoffs",
          "Adele new album",
          "AirPods Pro sales in NATO",
          "MacBook Pro M4 sales in China",
          "Shopify response to Intifada",
          "Oracle earnings report",
          "Broadcom news",
          "Meta controversy",
          "Nice Ltd. response to Security fence",
          "Goldman Sachs response to Jerusalem",
          "electric vehicle trends",
          "Nest Thermostat review",
          "Broadcom response to Ethiopia",
          "HP controversy",
          "energy prices",
          "Pakistan news",
          "war in West Bank",
          "Elbit Systems layoffs",
          "Xiaomi layoffs",
          "probiotics",
          "Lululemon earnings report",
          "Benjamin Netanyahu",
          "youth climate movement",
          "Mitch McConnell on green bonds",
          "Meta Quest 3 sales in Jerusalem",
          "Teva Pharmaceutical news",
          "Apple response to NATO",
          "air quality controversy",
          "ISRG",
          "IYT",
          "IWM",
          "IBB",
          "GOOGL",
          "V",
          "XLP",
          "XLY",
          "BAC",
          "ISRA",
          "SYK",
          "NOW",
          "LLY",
          "COST",
          "BKNG",
          "MRK",
          "TSM",
          "ICLN",
          "ORCL",
          "TAN",
          "AMZN",
          "INTC",
          "XLK",
          "AAPL",
          "TMO",
          "SHE",
          "ADSK",
          "NEE",
          "MSFT",
          "UBER",
          "QQQ",
          "AMD",
          "NVDA",
          "KRE",
          "XOM",
          "CVX",
          "XLI",
          "IBM",
          "ITB",
          "GS",
          "XLC",
          "PANW",
          "XLRE",
          "XLF",
          "XLV",
          "KBE",
          "NFLX",
          "JPM",
          "TSLA",
          "COP",
          "XLB",
          "DHR",
          "META",
          "CRWD",
          "SHOP",
          "AVGO",
          "REGN",
          "XLE",
          "XLU",
          "DIA",
          "PHO",
          "EIS",
          "SPY",
          "FRDM",
          "^GSPC",
          "NVO",
          "MS",
          "UNH",
          "MA",
          "SLB",
          "SAP",
          "ASML",
          "JNJ",
          "CRM",
          "BLK"
         ],
         "legendgroup": "1",
         "marker": {
          "color": "#636efa",
          "line": {
           "color": "DarkSlateGrey",
           "width": 1
          },
          "size": 10,
          "symbol": "circle"
         },
         "mode": "markers",
         "name": "1",
         "showlegend": true,
         "type": "scattergl",
         "x": {
          "bdata": "6YBLQc8BjkEUJopBcBKHQetGWEFXVUtBa91oQcOBZkFGDYZBjph9QR7PFkEyH2lBU5MWQabRZkGyGj5B1Is7QZI8Z0FkeYNBZhN0QQ9yeEHqwo5B72dJQVwMgEF942BBJP9UQbx6ZkEF94xB8aGKQde/f0HBCFdBJqd+QcKfi0G9N39BN52HQatmh0FKYW1BIhuFQZ91jUHvUJBBSfJoQdSehUECFJBBGGhKQYJeiEHP4GlBfG2PQSBRiEGaJolBwEB+Qdeqh0FjkIRBpHaNQb8wSkE9zYJBTo5IQam6bEFsOYpBjfOHQZIQbUHZkH1BLSORQTV/ekFcfX1BZql/QRdugEGURIRBWPV2QQr0NUGAA1NBSA5YQeMTREEIxDpB4h2FQdMoJkFpEUNBdkWAQTQTYUHiR2VBX8dqQfhdJEGmNohBmR5zQfY2NEEgbnRB946GQcpbfkHCy35BnA1zQWgXaEHUgoFBxA9/QUoSYEHzP0hBMWgdQXgGd0Gdx11BGUNPQUTljEEu2RhB34mLQUIdMkGoi41Bs9AoQbjlb0G7xUhBGspXQU0VQ0G4/IlB4qBtQcd6FkECq2FBeHAaQWeRQUFElWRBwCNxQa80V0EvaIRBGhI3QUxSRUEKsRVBwbFLQS7gWEEUeo1B8WaKQQnWbUEcUm5BqFGMQaeua0GLQlVB1gaKQRfHUkGxbGZBT/9zQYcYbUG3L4hBV66OQRgJfkFXX3FBb615Qc0miUFienhBZgQxQfebcEFEyGpBxMGDQeWNcUExf3NBhSArQVnCY0GtTHtBzC6KQeu2kEFouYhBqa0VQenOgkEJYY5BP/owQfFPN0HlGEZB2aR0QfcyjkGFH2RBXWUdQX/mLEGi11RBm3uGQfjpZEFUon5BenFfQW3jfEEgMHdBO913QcmPb0HDP2xBdnF/QTywVUHtRnRBgyqIQQ4aiUHrdIpBfEJvQTHzikHHIHFBNHlaQXjJKEHpKTdBdnqFQT2VSEG3cItBEGpqQUbpcUFFl4RBDFlWQRiPbEFpw3FBIcJVQWdCR0EuXG9BTkFaQT01K0FkEX5BxzZGQRt/dkFU11xBXNlZQdiQOUF0siZBO39nQRVPjEH4DolBlMISQfwhX0H8LoZB0yNoQbCTVkEnbpBBQRyOQUXddkHeuIVBVHJUQc7aekEWqoxBBKc7QSvwk0FEJHdBbeJZQaSqgkF4emNB/ZiHQd5aVUHdw4tBb2ljQfJsakHfGkdBAwJVQUxmaUEDJF1BEbeCQTctdkGe3IJBedB+QTcnjUHLBo9BHFppQdL6ckGbAntBH0pIQd0QbUEBs4ZBt/dGQc/vL0HbMDBBVVyRQVP9fEEvUo1B0ABaQbRobUEOjnZBAc1VQT+ET0FSrGZBLWaIQYOcUkHLTYlBDGh2Qe5EjkG0u3tBDN2IQZ83cUFRzHxBAdEbQcadhkG7HYdBkCGCQTe0RUFFnmJBr5N9Qf26gUHs8R5BbetjQSO3aEG+9IpBu4VHQTqCikHvCYpBpxSAQRPdiUFiMoVBj0hmQZLyd0FnIGdBq7CNQdtLVUFNqClBPliMQVvOZEGDEo1Bp71cQVYQiEEPs1JB21mLQc1TfUHwPTRBH4w0QRqmI0FAkl1BNdaLQePoZUFOYIpBNWd2QU5bc0HN21JBZDhkQXdYekGV43VBMoyIQfDQkEEgr4NBfShtQcjRVkG8KIRBAAtNQQMsQUGz5HpBJcGBQV3uakE9fWRBErRvQTEnOkF/L11Bny9qQVenYEEnhC1BlYp3QYReekGg03NB5KyOQa41aEG5N1NBnzFyQUBbiUGRUHZBCi+BQT3+IUGZ7B5BCPh8Qe28bUEoYmlBtrZAQcGRhkGL7oBBiw6GQecybkF8j3tBzTuLQceobkE+SI5Bgt5hQZgRgUFVzm1ByUBUQT7YbkHmGxNBUq+CQT+3VUHp9l9B2JYoQY0pOUGIFX1Bivd6QQL/LkF8L2xBnO+OQQITYEEXpjJBOKtWQVWmf0ExKFxBX15ZQQVchEEqsnhB8uKQQWXAiEEXH2ZBEpCJQcXVjUGtVExBOT9XQUWzMUGQz4BBMMuIQUxZgEEnt1dBAG+GQeOLc0H8/2hBSm5KQZ9Nc0EmB15BD1KCQevwjEFySihBV1uJQV4NgkEe4mpBxyZjQaUndEGqc3tBYdBoQYgzikF+435B2fKAQaLnb0GfF3dBcytWQVZjiEHGJ41Bx0OIQYgbjEEfdINBHYh+QUoRdEEBC4FB5oZ+QQiOXkGbF25BYShSQbdKeEFRKi9BgsqDQZq1jkHnMx9BWkJ9QTxfa0G6NW9B0Ud4QRtpjkGzG2FBIl2OQe2EbUHL4YdBs44lQdJPjEGrdHxBkOWJQfwtaEHg0I9B/n6KQQZui0EWpnVBNdRYQU91R0FkuU1BsxdaQUaphkGrhmtBmGleQXtMMkEL0XVBo0GLQYRdd0GOTXdBmBp5Qf95ZkGaAolBLLhaQcZ8YUEaiXRBuTVMQRkNW0EiukVBwYKIQfnqVkG9SEBBeud7QaxZgEHviDpB2ZtRQds8kEEuQ41BiwxyQQEOT0EX/nBBOFBVQXa8gEGxiVtBEBtUQeqBh0GeSH1Bh5xcQVLxZkHXz4NBAF2DQWz2RkFLPIhB0hUaQd/igUEq8YNBCdl+QXrHdkFpejlBdCtiQQf8WkHji4JBxzuIQVdlgkFVmVxBZSUcQc+QgUHnpYpBXbqFQYgEiEEbTolB5BGHQeGahkG24oZB01h1QSOKbUG/7lRB2uCKQW+Kd0HDAl5BpW1lQZ/QXkF3G4tBDMI3QVSThEEGv4JBVPqMQT2JhkE3VYZBYrtwQfKGiEEQ5HxBUR1hQZVrhUG563dBbb8yQeznX0HRXTdBqUA/QagWhEGLKnRB4Z5jQaQaR0ElxYdBBJOPQWLnNkEExGVB2h9KQSqyhUEcNoFBtJhWQcpdVUFzpDRBuqg0QUQ/YEGBa45BUxyHQap8XkGTYXNB/cAkQYIvjkE9L0ZBtfiAQeEISkEND4FB9rF3QexyjkEtsW9BdS2BQYFsjUHNaVNBOfmKQSy9fUEBhFxBqqiGQbNCfEE252NBYGlkQTiigUFXLFZB2Qh9QT2zikHV0oBBha+DQWQ5gkFXh11BTmqIQe9IfkHg6opBS71LQQ2MZEH0OlJBE9R5QdZHiEGMEolBWMJwQTcBeEHOkUJBoclsQUkbgkFaS3RB739vQZCNRUF89GVBtl1FQUtHjEHI7CdBjEB4QV0gQ0GCUzBB8YOHQXrnTEH76UZBlTIgQVckJ0GKgI5BYgSGQaVjLUH/tn1Blp93Qfvbf0EXtVRBifCLQXkgi0H8+HhBDwpIQaJrM0H/HGdBBJpnQU0PMUFrdINBscRfQQoieEEZh3xBFzuFQeqEaEFBbWFBetl2QWCEikHRaGJB58A3QQr4M0GqIWNBUyFuQYz0Q0E4RG9BN9VzQYu4gEFx1IJBT+NaQbs6Q0E04mRBbhhuQf3uc0Fi4mxBeHVCQYe+dEGYlYBBnfuMQdREh0FKeY5Bd6IsQQavdEEW+otBrx+DQecAc0EOMhNBN0gTQRCgZ0H6iIxBIUyIQYJJikFvMGdB2tFnQT58WUGBt41BLDKDQeUmf0FZflNB0XyIQfEpb0HmC4VBkhV9QfqFjEGU+U9BQKg9QSTdaUHrLWlBdWyAQVuTiEE+rIhBLuo4QQvyZUECD1lBhNGFQYNnfUGADCdBfKogQaD3jEHFo3tBZQCGQXvdSUEgGIxB9FBqQQK9hkFx6GRBTqlxQZ9liEGPj4ZBN4FtQUOTYkGawZBB2WxjQdJRiUGCHXJBeY9mQUDojEHRtW1B3BeMQa6vakGnBH9B0c56Qc6PY0FbUoZBCTFzQaeTR0EwuVxBf953QWl5ikFLJlxBlwqAQQ2RWkGM8IlBzwI+QVUgg0F+6V1BHgBuQUiqMkEj90RBuhOJQSRYa0H/xilB4JCDQawVdEE/imNBHTobQYLih0F/HHdBbedIQQQYkUFAUYhB+LNKQYDjdEF/JIRBTGswQQJpVEHMDH5BUTuQQYJvcEFRfIVBimYXQRZKakFv33pBm+eNQcf5f0HVFT5BN4Y0QbF3dUH4vIhB2SoXQas5dUGeW2BBM6lDQYqzjUEYxnxB106JQVO4fkEIqG9BKL5IQQcsNkEmUmVBqlhxQdTxkEFvZVRBin6QQZ/2cUEm1GlBX6aMQZGJY0EP6X1BqPRGQVDVi0EN8GFB2UaGQSeEhkGib2RBLZqPQaWvZEGVkGFBAYdgQa2Sb0FL9E9BT7Z9QWHZeUEG+olB2s99Qa5hYkF9RlpBBb9gQT73f0FIcmdBHutUQR6IYkGnt0VBkCh9Qbb3NUF8dlhB/8NkQRnUcUESmHBB8kcjQRohL0GDXXdB0eFTQdd+g0G8dBNBffFvQWiFckHTNURBtnqCQXvUfkEtf49BYh+HQUtCN0HCnGBBm2OEQYPjjUGsvW1Bwt6PQVM9akFNcZBBnvSJQRsPe0GpDW5BXBaPQTh8bUFeNo9BaFonQdx9fkHQ515BLV5pQcR3dkGuN2BBQY9TQfrhU0FT4YtBBWt7QUgpgUHqXH5B+2OMQSw+jkHw/CRBYbZ+Qa8nf0G0UTNBqZCHQbcbNEFuWodBaHBeQXpZf0F7iVBBWwxKQU48bEGA5INBPl1qQRsdZkHWsYRBzK5mQcWJXUEhtnFBFjSNQe3NjEF+1oVBtQGEQcN/ikE99ylBEsttQbcyRkFGYyVB9h2DQfahW0HH/C9BWIN4QZPVkEE4ynVBLOZQQa05iUGn7IFBf2xsQVMTj0HDpXxB1S5+QYY5fEEt+2RBz7yJQaJrKUG0zmFBeoNRQbKKcUHcko5BuNNqQR6lMEGhHVhBdqdQQUuQZ0Fif1RBdjd7QZ+9VUEEPGNBevmDQZqze0HS63ZBNNg2QTbLh0F1G5FB9oBHQa0ccEFIjJBBhhtOQUVVS0FAJYlBBXFrQXnUSUEN6YJBUORRQW/saUEVIIVB3uiBQUkmVEGVxX1B98t5Qa/6JkHBgI5By2iJQQ3+LUFweFZB2SIvQeeEgEFSKWdBu3BrQYIkhUH2tm9BqU95QSV6fEHV3R9BLJscQf9+Y0FU8IVB+J90QSd3fkFFJ2NB49luQVgni0EcToNB4MFkQUG+gUG00HtByTVuQTVjgEFy12VBotdMQfDsaEG+71VBx/lSQTOcRkEotY9B4ldWQQfqhEENx3dBnwyKQXw4eEHTgTVBIVsaQRRAfEELe1xB8VJrQZ0/fkGaJVJBHTx9QVNQTkEux2pBR92PQTxHSUGNVERBD85LQVo1U0Hl/2pBYVpNQd4zfUF6doJBcLeLQeCSj0HkXY1BiMaPQbfwhEEtfYlBr5WQQVKQiEFrjXdBJ3ROQbjwQkGsUolBnw9/QaViY0Er1ohBAWOMQUt8hEHDYnFBMieOQXAwh0Ex3F5B1q6KQcIYjkHuRGBBU5FsQbntXEE9tDZBwhF5QY6pP0HorW1BmBmCQexfiEFszYlBjM1rQTHLHEFeVWxBqAR0QXLiOEE9zDxB3WJ1QVBRjEFHTxNBBRxnQe+YSEESxFRBIYlnQZYmiEFPJx5BfXdYQaIki0G6SG5BJyt5QfRnKEHN2ENB8ndWQXZZU0Eny19Bmf19QRYZX0EC7V1BMCKNQUVwikEaG25BA8teQW+VcEFX6UpBBOJbQdArR0GCJRZB3QqLQbW9c0GWu4RBUhqBQZyWfEEQCF9BmONfQdQEiUHc6IhBTROCQQ2hUUH2FVtBB49GQZKELkGQfX5BAk8kQV1GdkGXMohBKcGDQWWSdEGV5oJBQip9QQvMa0GW825BW4JxQQkFkUF4lldBvPxmQVP7XEEiFFNBCIR0QX77jkHLzjRB7d9sQZn8fUH+YmhBkjp0QWWUT0Gr4HpBnvFkQQorZkFzfWVBIPlfQQ5niUE4zVlBlKxhQQIUKEHHTohB4PBGQR+FbkHzgGlBsVJFQe5sJkHYD1xB52NqQQSFjEHr2GtBUUmEQZxviEFDjI5Bqgl1QTVAh0HO2y9BIdiKQfBFi0Ez729BNHR3QTXSOUE8pBdBXwY6QeG4h0G0b4lBJ7OBQaI/XEHcEndBqlwtQd7LUkER+lJBTWgyQXIpSUHEl3dB5DxCQQCuZ0F2XmZB5Q1lQcTUdUFPL1dBk3pgQb73d0EkWExBBAc+QSlkNEHWXoBBejtiQSGQSUHBR25BCXKPQUCyhkHwcopBPlZhQcnXWEGE74tBRdCCQSpKY0GpVoNBzUwgQVwnTkHpxSZBEollQYdtXkEq9lNBCttJQWAFjkESlHdBEFUVQZgjYkGNkG9BVeYjQf7cVUFUAndBV11kQdxcR0GYIX9BV2gqQZV7eUFNOGFB1DMmQQC8VEHbE4tBfbMyQTqPVEFmlIZBa6JgQVXjd0HjVllBkgVkQSkMckGjP4NBnTN2QTWzWEEsYYxBbYWDQfLyjEHXPIFBjYpnQTFmiUHk5IxBqBJHQcztN0HyZ2lBqACFQQo9HkEab4BBRvAqQfV7jUGiDoJBaZmIQQHLaUH1TotB22AnQaCQc0E4RndBB6ltQaIwekEtXlpB6MeGQecBi0EGTmZBpIyMQW8QhkH+TW9BWrx+QbiMgEFFnIRB6f8qQW5bjEEpBldBSwZjQfB2U0Hyb31BWIpVQdYgiUEKiIBB6wp8QVgpTkEzp4pBdhZzQSNKYkGvJmtBf8Y2QX9yZUG6GUxBCuc8QcsbYUHQe2lB8x2GQVC9fkHTiYVBH95/QQaEi0GtKGRBAyRgQU0ve0GP0SVBaHuEQV2ONkHZX2VBlMdeQcjGRUHhvGVBQlF2Qd0+X0GhjG5BgdmFQehCVUEtcEFB35J/QUUickEa8YpBYEFSQe76aEGGe2RBSS5PQT7ZgEEctCtBQ4KAQZlrbkHymnlBbrmDQfEkZUH/AzhBQcSEQfoYgUHdvHdBY/iNQeZJLUGdcWFBrGlLQcvAiEG16ohBbZ9pQXDXVEEoXGFBbKY7QVsEbUFOQYxBny98QdObWEFHm45B4xdDQUVWOkF5AYhBiNZeQd2njkHMDz1BoohgQRI9KEE8cHJBqE5hQRVgekGvCXZBcVZFQY7UJEGOwGRB7kmKQVq6jkFHjHNBB3iKQZJMe0GydXlB9HeKQaTYg0FbM2tBUJ89QTgTQkF+OVtBuH9BQQr9VUFJ1YJBfV6CQTSiaUFyVG9BCrx6QeaDTEEdH3hBbluQQcKNgUF5I0xB5PM5QQqFa0Hg8opBHh9WQdEfI0Hqk4pBgpNNQRYiU0F/b35BRwdjQThKgEGMaGxBwEVdQdqofUEgsYBB0hM/QdVoaEFE12hB5EhmQWC0ZEGPUW9B3r1JQbp3gEHqhHZBMk1FQSFqgUGv72xBVN99QSE9QUGB1YdBmH2EQfcugUGDT4JBQayNQRVSiUGJnIhBF4mIQYerfUEAIFRBpsleQc9zFEEDRnhBZPJcQSszikFF2BlB5MqGQcl0gEGF+IJBFdqGQQKnaEELv35B7H+IQTwHjkHn5I1BgPkxQRNYf0FnbWpB0Tx/QTLKhkFmuIBBzvVTQTPYKkHudGBBgexNQVzFjUG3+FZB7+BWQQnifUF6YXJBceqCQdQZW0FsiWdBkzFzQd9VeUE5QzVBiaNtQZDxgUEGWIxBRNaPQWhufEEPqYxBDWyLQTnEdEGuLDNByDFPQarlhUHRgIFBBYR5QaSMbEEbY05BQdsvQb8jiUGRTodBOSxgQdQTgkFj4oVBW0OEQXqCTEFyj4pB/5uNQXz3NkFrJohB4Z6HQZpFV0EW/GdB9nV2QTuWSkHFoGtBWQRvQV8Cf0HZH4lBbBtWQWkngkF8cTlBF2KRQctZcEE2vHtBsqWHQf7xW0HdgnNB1wuGQRUxj0HUdDhBr8R2QQzVZUFB5I5BLahgQaMGfkHSEDlBgvZ/QabDOUHodIhBXdpoQXVAckGB1WhBCvVGQXq2ZEExeS1BBOqOQTABcUE0wV9BZX84QU0ojkGJ23hBbzOCQV6YgEHWkUlBsJ1tQbUHdkFDEmNBe0hWQcRiGkH9fHxBawpjQXXXaUFBRH9B2NhXQVL2akHaDYxB6GlDQQsgjEF2cZBBIhMtQbsIU0FylXxBSqNaQQ67hUF9rBVBPfKNQZLiZ0EWn4tBf2Z7QaHifUH41XxBgz0nQVMhf0HUnlJB0SaFQfROiEGbwVtB8c1TQdL0gEHQAI1B9qExQSEhYkFUGFVBdvJxQdbgbEFPQFVBSeJ2QVTESkGllEJBYk5nQX9oXkEvaoxBGII5QRfdbkGJk0tBEldtQWHobkHqKz5BvRFYQaUIXEGZL15BZbslQTinM0EyglZBEWJnQQwebkHbo1xBSAGMQeD2gkEJWYFBNKFKQaG6a0FRAGdBFQqCQdG/cEFeamBBlgiMQYawXkGFIV9BT2c+QdbrjUEOC4NBiR2KQUOTfEFfImxBvlN/QQVoaUFIx1dBC4VgQcTDjEHsEYhBcfSIQX5FFUFbpFtBiFyAQQK2hEFzQzpBqSqNQR4Tg0EEGIhBeNSDQdmVdUFTl4VBQ8RsQagIgUGpIWNBBBqNQa1lbkElrW5BKIc1QdT8dEF3mYJB+1VbQQwrh0HY7m5BSp8rQeChh0FUC4RBXWp1QSUBa0FT9hJBTsxrQSwfUkHjaEhBRWB1QQNWi0HMwItBb1Z1QYn+gUENzGFBGK1mQfeyUEFVSUVBQac5QRe1SEFOh1ZBXL19QVoHjkHYXoVBEHCDQTwLhkF6ZS5BMeJgQeznjEFHO4NBKm2KQfVaOEHWCHNBEZuBQWlaY0GOiYhB6VZ3Qar2iUFzY3NBGFEsQRZLh0Fx9mBBq9CGQbXNfEF11CtBmrtWQT5sW0G5P2dBjFdIQf5lj0HEcoBBCVV8Qdq4eEGTfUpBtqdCQbXqeUGr8oFBKfYkQRLudkEXkYdBoXGKQZFhYEFIxENBlbV+Qe4MYUG7EmRBmVdHQba+ZkHfcWZBfFCBQeJ4jkFZyl9Bset0QSN3ekE3XXJBVlGAQfXeckGyr0RB6AVlQXFTMEG1RzNBlDdfQX8NO0Hl9YhB8yhyQbo2JEF7qYVByI5iQRn3X0HZUHVBFzUnQR4qi0HTsiNBhaViQWlgdUEcQndBJLxqQYvSO0GgCjpBkqgSQd0+lEHIHJFBUz2aQcAlhkFZIJNBbKOTQdA+mkHi65lB3QuZQQa1hkEtAZFBoxqTQWhaj0GJfJJBb7iTQWeek0E/5YVB9tiIQffBkUGbnYdBhf+JQRTkbUEXJJpBieGFQWwzk0FPXoVBdy2QQdtJjkEEPpRBaouTQfvJmUE9PI9BfR2RQbAjmUGFzJRBgd+UQeAkmkEEmpFB/RqaQZiMmEEKVZpBnvWRQWhNmkFMeZlBSmCaQc9/mUEdz5ZBDc2YQcZgjUHb7pNB5ZiaQUlYk0HiZJNBIU2PQV3kdUGAR5FBAOGPQWi+lkES/JlB3JmZQWsCmEE4QopBL7GZQbmUakFapZNBHQ1oQUWVmEE0dWpBDfmTQXIClEFm+otBPJiFQUkfbEFd1o9BmoiUQQ==",
          "dtype": "f4"
         },
         "xaxis": "x",
         "y": {
          "bdata": "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",
          "dtype": "f4"
         },
         "yaxis": "y"
        },
        {
         "hovertemplate": "<b>%{hovertext}</b><br><br>color=2<br>x=%{x}<br>y=%{y}<extra></extra>",
         "hovertext": [
          "Satya Nadella interview",
          "war in NATO",
          "war in Ukraine",
          "war in Russia",
          "Russia news",
          "NATO conflict",
          "Unity earnings report",
          "Peace talks",
          "Etsy earnings report",
          "Russia conflict",
          "Marco Rubio tweet",
          "Nice Ltd. response to Saudi Arabia",
          "NATO news",
          "Ryan Reynolds new album",
          "Ukraine conflict",
          "Ukraine news",
          "OpenAI Sora sales in Israel",
          "Ayman Odeh on social justice",
          "investing in vegan",
          "NFTs trends",
          "new Fitbit release date",
          "NATO",
          "Russia",
          "buy Unity shares",
          "Ukraine"
         ],
         "legendgroup": "2",
         "marker": {
          "color": "#EF553B",
          "line": {
           "color": "DarkSlateGrey",
           "width": 1
          },
          "size": 10,
          "symbol": "circle"
         },
         "mode": "markers",
         "name": "2",
         "showlegend": true,
         "type": "scattergl",
         "x": {
          "bdata": "OjYfQSKelEGyKZRBhmeUQYQhlUECLZVBSg2DQRxlk0G32GRB3TqVQUSvZkE9bZVBZhOVQY0iR0GeX5VBEa6UQTQflEHlopRBGP6FQQ0Sc0HyRJRBR7OUQeOSlEGky5NBW7OUQQ==",
          "dtype": "f4"
         },
         "xaxis": "x",
         "y": {
          "bdata": "M6wDQf040kBuHdRAanjTQCrPz0C/ss9AnIMpQUbc1kC96iZBgjzPQCd1R0HTts5AtA/QQA5s2UDKss5AWv7RQE30z0D3xdFAVzQUQSDsKkHj+NNAjOrRQNtu0kCv49VAoujRQA==",
          "dtype": "f4"
         },
         "yaxis": "y"
        },
        {
         "hovertemplate": "<b>%{hovertext}</b><br><br>color=0<br>x=%{x}<br>y=%{y}<extra></extra>",
         "hovertext": [
          "Palestine",
          "investing in organic food",
          "Gaza",
          "Ellen DeGeneres new album",
          "war in Palestine",
          "Iron Dome",
          "Shopify response to Yemen",
          "AirPods Pro sales in Palestine",
          "Pfizer layoffs",
          "Marco Rubio on renewable energy",
          "CVS Health response to US",
          "Benjamin Netanyahu tweet",
          "Golan Heights conflict",
          "US aid to Palestine",
          "impact of quantitative easing",
          "Sinai Peninsula conflict",
          "war in Golan Heights",
          "Gaza news",
          "Mansour Abbas on me too movement",
          "buy Oracle shares",
          "Mobileye earnings report",
          "Sinai Peninsula news",
          "Samsung Galaxy S25 sales in Palestine",
          "Naftali Bennett interview",
          "Israel conflict",
          "wearable fitness trends",
          "Alexandria Ocasio-Cortez on data privacy",
          "Palestine conflict",
          "investing in digital currency",
          "Meta Quest 3 sales in Red Sea",
          "CVS Health response to IDF",
          "buy Dell shares",
          "Golan Heights news",
          "Gaza conflict",
          "AI advancements trends",
          "war in Sinai Peninsula",
          "buy Block shares",
          "US aid to West Bank",
          "Hamas",
          "war in Israel",
          "Palestine news",
          "Nancy Pelosi on eco-friendly products",
          "Roche earnings report",
          "West Bank conflict",
          "Apple Vision Pro vs competitor",
          "GSK layoffs"
         ],
         "legendgroup": "0",
         "marker": {
          "color": "#00cc96",
          "line": {
           "color": "DarkSlateGrey",
           "width": 1
          },
          "size": 10,
          "symbol": "circle"
         },
         "mode": "markers",
         "name": "0",
         "showlegend": true,
         "type": "scattergl",
         "x": {
          "bdata": "DTteQYBHMUGBO1xBdW1aQTsxXEEmT1pBO3dbQdxMW0G58ltBZSQiQcNjU0HNUVRB4mpYQQD8WkGoa1JBOw1bQTbNWEHQC15BABxcQVhoWEFSRTlBFLFXQaGmZ0FyPlxBc9xZQfu7XUHNbFpBuA5ZQRtaVEFtu2NBXG5ZQezCWUGPOFpBWABaQcyFW0Gvc1lBc8p2QTrdWEFULFlBg8paQd5KWkGuGldB9p5aQbMwW0GLP1xBL1VdQQ==",
          "dtype": "f4"
         },
         "xaxis": "x",
         "y": {
          "bdata": "P8umQL5ZBkFI+aFABPGZQHnqoUAGaZpAAXPaQLPYnkC2cKJAzzcAQToFn0A5HZ1AJ4OVQOvPmkB+Q6BA1/OYQGF5mEBWjqNAzbahQJQRk0DNnw1BEf2TQEJDIUHQr6JAuAeZQEmQGkGdGZ1AtEeXQJ1+nkBaTaZAAVWXQNhPl0AHCrRATvOXQDf0oUAoW5ZAOrIxQfE6lUA9apZAKW2bQKEHmkBamMVArFOnQCRymUDKoKJAqiKlQA==",
          "dtype": "f4"
         },
         "yaxis": "y"
        },
        {
         "hovertemplate": "<b>%{hovertext}</b><br><br>color=3<br>x=%{x}<br>y=%{y}<extra></extra>",
         "hovertext": [
          "work-life balance stocks",
          "Jensen Huang on inclusion initiatives",
          "Playstation 5 Pro sales in Russia"
         ],
         "legendgroup": "3",
         "marker": {
          "color": "#ab63fa",
          "line": {
           "color": "DarkSlateGrey",
           "width": 1
          },
          "size": 10,
          "symbol": "circle"
         },
         "mode": "markers",
         "name": "3",
         "showlegend": true,
         "type": "scattergl",
         "x": {
          "bdata": "h/IjQZfeWkHFRH9B",
          "dtype": "f4"
         },
         "xaxis": "x",
         "y": {
          "bdata": "0JoDQWv1vEAF4QNB",
          "dtype": "f4"
         },
         "yaxis": "y"
        },
        {
         "hovertemplate": "<b>%{hovertext}</b><br><br>color=4<br>x=%{x}<br>y=%{y}<extra></extra>",
         "hovertext": [
          "buy Citigroup shares"
         ],
         "legendgroup": "4",
         "marker": {
          "color": "#FFA15A",
          "line": {
           "color": "DarkSlateGrey",
           "width": 1
          },
          "size": 10,
          "symbol": "circle"
         },
         "mode": "markers",
         "name": "4",
         "showlegend": true,
         "type": "scattergl",
         "x": {
          "bdata": "9lptQQ==",
          "dtype": "f4"
         },
         "xaxis": "x",
         "y": {
          "bdata": "7ToLQQ==",
          "dtype": "f4"
         },
         "yaxis": "y"
        }
       ],
       "layout": {
        "height": 1200,
        "legend": {
         "title": {
          "text": "color"
         },
         "tracegroupgap": 0
        },
        "template": {
         "data": {
          "bar": [
           {
            "error_x": {
             "color": "#2a3f5f"
            },
            "error_y": {
             "color": "#2a3f5f"
            },
            "marker": {
             "line": {
              "color": "#E5ECF6",
              "width": 0.5
             },
             "pattern": {
              "fillmode": "overlay",
              "size": 10,
              "solidity": 0.2
             }
            },
            "type": "bar"
           }
          ],
          "barpolar": [
           {
            "marker": {
             "line": {
              "color": "#E5ECF6",
              "width": 0.5
             },
             "pattern": {
              "fillmode": "overlay",
              "size": 10,
              "solidity": 0.2
             }
            },
            "type": "barpolar"
           }
          ],
          "carpet": [
           {
            "aaxis": {
             "endlinecolor": "#2a3f5f",
             "gridcolor": "white",
             "linecolor": "white",
             "minorgridcolor": "white",
             "startlinecolor": "#2a3f5f"
            },
            "baxis": {
             "endlinecolor": "#2a3f5f",
             "gridcolor": "white",
             "linecolor": "white",
             "minorgridcolor": "white",
             "startlinecolor": "#2a3f5f"
            },
            "type": "carpet"
           }
          ],
          "choropleth": [
           {
            "colorbar": {
             "outlinewidth": 0,
             "ticks": ""
            },
            "type": "choropleth"
           }
          ],
          "contour": [
           {
            "colorbar": {
             "outlinewidth": 0,
             "ticks": ""
            },
            "colorscale": [
             [
              0,
              "#0d0887"
             ],
             [
              0.1111111111111111,
              "#46039f"
             ],
             [
              0.2222222222222222,
              "#7201a8"
             ],
             [
              0.3333333333333333,
              "#9c179e"
             ],
             [
              0.4444444444444444,
              "#bd3786"
             ],
             [
              0.5555555555555556,
              "#d8576b"
             ],
             [
              0.6666666666666666,
              "#ed7953"
             ],
             [
              0.7777777777777778,
              "#fb9f3a"
             ],
             [
              0.8888888888888888,
              "#fdca26"
             ],
             [
              1,
              "#f0f921"
             ]
            ],
            "type": "contour"
           }
          ],
          "contourcarpet": [
           {
            "colorbar": {
             "outlinewidth": 0,
             "ticks": ""
            },
            "type": "contourcarpet"
           }
          ],
          "heatmap": [
           {
            "colorbar": {
             "outlinewidth": 0,
             "ticks": ""
            },
            "colorscale": [
             [
              0,
              "#0d0887"
             ],
             [
              0.1111111111111111,
              "#46039f"
             ],
             [
              0.2222222222222222,
              "#7201a8"
             ],
             [
              0.3333333333333333,
              "#9c179e"
             ],
             [
              0.4444444444444444,
              "#bd3786"
             ],
             [
              0.5555555555555556,
              "#d8576b"
             ],
             [
              0.6666666666666666,
              "#ed7953"
             ],
             [
              0.7777777777777778,
              "#fb9f3a"
             ],
             [
              0.8888888888888888,
              "#fdca26"
             ],
             [
              1,
              "#f0f921"
             ]
            ],
            "type": "heatmap"
           }
          ],
          "histogram": [
           {
            "marker": {
             "pattern": {
              "fillmode": "overlay",
              "size": 10,
              "solidity": 0.2
             }
            },
            "type": "histogram"
           }
          ],
          "histogram2d": [
           {
            "colorbar": {
             "outlinewidth": 0,
             "ticks": ""
            },
            "colorscale": [
             [
              0,
              "#0d0887"
             ],
             [
              0.1111111111111111,
              "#46039f"
             ],
             [
              0.2222222222222222,
              "#7201a8"
             ],
             [
              0.3333333333333333,
              "#9c179e"
             ],
             [
              0.4444444444444444,
              "#bd3786"
             ],
             [
              0.5555555555555556,
              "#d8576b"
             ],
             [
              0.6666666666666666,
              "#ed7953"
             ],
             [
              0.7777777777777778,
              "#fb9f3a"
             ],
             [
              0.8888888888888888,
              "#fdca26"
             ],
             [
              1,
              "#f0f921"
             ]
            ],
            "type": "histogram2d"
           }
          ],
          "histogram2dcontour": [
           {
            "colorbar": {
             "outlinewidth": 0,
             "ticks": ""
            },
            "colorscale": [
             [
              0,
              "#0d0887"
             ],
             [
              0.1111111111111111,
              "#46039f"
             ],
             [
              0.2222222222222222,
              "#7201a8"
             ],
             [
              0.3333333333333333,
              "#9c179e"
             ],
             [
              0.4444444444444444,
              "#bd3786"
             ],
             [
              0.5555555555555556,
              "#d8576b"
             ],
             [
              0.6666666666666666,
              "#ed7953"
             ],
             [
              0.7777777777777778,
              "#fb9f3a"
             ],
             [
              0.8888888888888888,
              "#fdca26"
             ],
             [
              1,
              "#f0f921"
             ]
            ],
            "type": "histogram2dcontour"
           }
          ],
          "mesh3d": [
           {
            "colorbar": {
             "outlinewidth": 0,
             "ticks": ""
            },
            "type": "mesh3d"
           }
          ],
          "parcoords": [
           {
            "line": {
             "colorbar": {
              "outlinewidth": 0,
              "ticks": ""
             }
            },
            "type": "parcoords"
           }
          ],
          "pie": [
           {
            "automargin": true,
            "type": "pie"
           }
          ],
          "scatter": [
           {
            "fillpattern": {
             "fillmode": "overlay",
             "size": 10,
             "solidity": 0.2
            },
            "type": "scatter"
           }
          ],
          "scatter3d": [
           {
            "line": {
             "colorbar": {
              "outlinewidth": 0,
              "ticks": ""
             }
            },
            "marker": {
             "colorbar": {
              "outlinewidth": 0,
              "ticks": ""
             }
            },
            "type": "scatter3d"
           }
          ],
          "scattercarpet": [
           {
            "marker": {
             "colorbar": {
              "outlinewidth": 0,
              "ticks": ""
             }
            },
            "type": "scattercarpet"
           }
          ],
          "scattergeo": [
           {
            "marker": {
             "colorbar": {
              "outlinewidth": 0,
              "ticks": ""
             }
            },
            "type": "scattergeo"
           }
          ],
          "scattergl": [
           {
            "marker": {
             "colorbar": {
              "outlinewidth": 0,
              "ticks": ""
             }
            },
            "type": "scattergl"
           }
          ],
          "scattermap": [
           {
            "marker": {
             "colorbar": {
              "outlinewidth": 0,
              "ticks": ""
             }
            },
            "type": "scattermap"
           }
          ],
          "scattermapbox": [
           {
            "marker": {
             "colorbar": {
              "outlinewidth": 0,
              "ticks": ""
             }
            },
            "type": "scattermapbox"
           }
          ],
          "scatterpolar": [
           {
            "marker": {
             "colorbar": {
              "outlinewidth": 0,
              "ticks": ""
             }
            },
            "type": "scatterpolar"
           }
          ],
          "scatterpolargl": [
           {
            "marker": {
             "colorbar": {
              "outlinewidth": 0,
              "ticks": ""
             }
            },
            "type": "scatterpolargl"
           }
          ],
          "scatterternary": [
           {
            "marker": {
             "colorbar": {
              "outlinewidth": 0,
              "ticks": ""
             }
            },
            "type": "scatterternary"
           }
          ],
          "surface": [
           {
            "colorbar": {
             "outlinewidth": 0,
             "ticks": ""
            },
            "colorscale": [
             [
              0,
              "#0d0887"
             ],
             [
              0.1111111111111111,
              "#46039f"
             ],
             [
              0.2222222222222222,
              "#7201a8"
             ],
             [
              0.3333333333333333,
              "#9c179e"
             ],
             [
              0.4444444444444444,
              "#bd3786"
             ],
             [
              0.5555555555555556,
              "#d8576b"
             ],
             [
              0.6666666666666666,
              "#ed7953"
             ],
             [
              0.7777777777777778,
              "#fb9f3a"
             ],
             [
              0.8888888888888888,
              "#fdca26"
             ],
             [
              1,
              "#f0f921"
             ]
            ],
            "type": "surface"
           }
          ],
          "table": [
           {
            "cells": {
             "fill": {
              "color": "#EBF0F8"
             },
             "line": {
              "color": "white"
             }
            },
            "header": {
             "fill": {
              "color": "#C8D4E3"
             },
             "line": {
              "color": "white"
             }
            },
            "type": "table"
           }
          ]
         },
         "layout": {
          "annotationdefaults": {
           "arrowcolor": "#2a3f5f",
           "arrowhead": 0,
           "arrowwidth": 1
          },
          "autotypenumbers": "strict",
          "coloraxis": {
           "colorbar": {
            "outlinewidth": 0,
            "ticks": ""
           }
          },
          "colorscale": {
           "diverging": [
            [
             0,
             "#8e0152"
            ],
            [
             0.1,
             "#c51b7d"
            ],
            [
             0.2,
             "#de77ae"
            ],
            [
             0.3,
             "#f1b6da"
            ],
            [
             0.4,
             "#fde0ef"
            ],
            [
             0.5,
             "#f7f7f7"
            ],
            [
             0.6,
             "#e6f5d0"
            ],
            [
             0.7,
             "#b8e186"
            ],
            [
             0.8,
             "#7fbc41"
            ],
            [
             0.9,
             "#4d9221"
            ],
            [
             1,
             "#276419"
            ]
           ],
           "sequential": [
            [
             0,
             "#0d0887"
            ],
            [
             0.1111111111111111,
             "#46039f"
            ],
            [
             0.2222222222222222,
             "#7201a8"
            ],
            [
             0.3333333333333333,
             "#9c179e"
            ],
            [
             0.4444444444444444,
             "#bd3786"
            ],
            [
             0.5555555555555556,
             "#d8576b"
            ],
            [
             0.6666666666666666,
             "#ed7953"
            ],
            [
             0.7777777777777778,
             "#fb9f3a"
            ],
            [
             0.8888888888888888,
             "#fdca26"
            ],
            [
             1,
             "#f0f921"
            ]
           ],
           "sequentialminus": [
            [
             0,
             "#0d0887"
            ],
            [
             0.1111111111111111,
             "#46039f"
            ],
            [
             0.2222222222222222,
             "#7201a8"
            ],
            [
             0.3333333333333333,
             "#9c179e"
            ],
            [
             0.4444444444444444,
             "#bd3786"
            ],
            [
             0.5555555555555556,
             "#d8576b"
            ],
            [
             0.6666666666666666,
             "#ed7953"
            ],
            [
             0.7777777777777778,
             "#fb9f3a"
            ],
            [
             0.8888888888888888,
             "#fdca26"
            ],
            [
             1,
             "#f0f921"
            ]
           ]
          },
          "colorway": [
           "#636efa",
           "#EF553B",
           "#00cc96",
           "#ab63fa",
           "#FFA15A",
           "#19d3f3",
           "#FF6692",
           "#B6E880",
           "#FF97FF",
           "#FECB52"
          ],
          "font": {
           "color": "#2a3f5f"
          },
          "geo": {
           "bgcolor": "white",
           "lakecolor": "white",
           "landcolor": "#E5ECF6",
           "showlakes": true,
           "showland": true,
           "subunitcolor": "white"
          },
          "hoverlabel": {
           "align": "left"
          },
          "hovermode": "closest",
          "mapbox": {
           "style": "light"
          },
          "paper_bgcolor": "white",
          "plot_bgcolor": "#E5ECF6",
          "polar": {
           "angularaxis": {
            "gridcolor": "white",
            "linecolor": "white",
            "ticks": ""
           },
           "bgcolor": "#E5ECF6",
           "radialaxis": {
            "gridcolor": "white",
            "linecolor": "white",
            "ticks": ""
           }
          },
          "scene": {
           "xaxis": {
            "backgroundcolor": "#E5ECF6",
            "gridcolor": "white",
            "gridwidth": 2,
            "linecolor": "white",
            "showbackground": true,
            "ticks": "",
            "zerolinecolor": "white"
           },
           "yaxis": {
            "backgroundcolor": "#E5ECF6",
            "gridcolor": "white",
            "gridwidth": 2,
            "linecolor": "white",
            "showbackground": true,
            "ticks": "",
            "zerolinecolor": "white"
           },
           "zaxis": {
            "backgroundcolor": "#E5ECF6",
            "gridcolor": "white",
            "gridwidth": 2,
            "linecolor": "white",
            "showbackground": true,
            "ticks": "",
            "zerolinecolor": "white"
           }
          },
          "shapedefaults": {
           "line": {
            "color": "#2a3f5f"
           }
          },
          "ternary": {
           "aaxis": {
            "gridcolor": "white",
            "linecolor": "white",
            "ticks": ""
           },
           "baxis": {
            "gridcolor": "white",
            "linecolor": "white",
            "ticks": ""
           },
           "bgcolor": "#E5ECF6",
           "caxis": {
            "gridcolor": "white",
            "linecolor": "white",
            "ticks": ""
           }
          },
          "title": {
           "x": 0.05
          },
          "xaxis": {
           "automargin": true,
           "gridcolor": "white",
           "linecolor": "white",
           "ticks": "",
           "title": {
            "standoff": 15
           },
           "zerolinecolor": "white",
           "zerolinewidth": 2
          },
          "yaxis": {
           "automargin": true,
           "gridcolor": "white",
           "linecolor": "white",
           "ticks": "",
           "title": {
            "standoff": 15
           },
           "zerolinecolor": "white",
           "zerolinewidth": 2
          }
         }
        },
        "title": {
         "text": "Soft-DTW Time Series Clustering (UMAP visualization)"
        },
        "width": 1200,
        "xaxis": {
         "anchor": "y",
         "domain": [
          0,
          1
         ],
         "title": {
          "text": "x"
         }
        },
        "yaxis": {
         "anchor": "x",
         "domain": [
          0,
          1
         ],
         "title": {
          "text": "y"
         }
        }
       }
      }
     },
     "metadata": {},
     "output_type": "display_data"
    }
   ],
   "source": [
    "fig = px.scatter(\n",
    "    x=X_embedded[:, 0],\n",
    "    y=X_embedded[:, 1],\n",
    "    color=labels.astype(str),\n",
    "    hover_name=[f\"{col}\" for col in unified.index],\n",
    "    title=\"Soft-DTW Time Series Clustering (UMAP visualization)\",\n",
    "    width=1200,\n",
    "    height=1200\n",
    ")\n",
    "fig.update_traces(marker=dict(size=10, line=dict(width=1, color='DarkSlateGrey')))\n",
    "fig.show()"
   ]
  },
  {
   "cell_type": "code",
   "execution_count": null,
   "id": "58026e33",
   "metadata": {},
   "outputs": [],
   "source": []
  }
 ],
 "metadata": {
  "kernelspec": {
   "display_name": "needle",
   "language": "python",
   "name": "python3"
  },
  "language_info": {
   "codemirror_mode": {
    "name": "ipython",
    "version": 3
   },
   "file_extension": ".py",
   "mimetype": "text/x-python",
   "name": "python",
   "nbconvert_exporter": "python",
   "pygments_lexer": "ipython3",
   "version": "3.10.18"
  }
 },
 "nbformat": 4,
 "nbformat_minor": 5
}
