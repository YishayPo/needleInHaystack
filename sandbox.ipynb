{
 "cells": [
  {
   "cell_type": "code",
   "execution_count": 118,
   "id": "7b52dddb",
   "metadata": {},
   "outputs": [],
   "source": [
    "import pandas as pd\n",
    "import numpy as np\n",
    "import plotly.express as px\n",
    "from pathlib import Path\n",
    "from tslearn.clustering import TimeSeriesKMeans\n",
    "from sklearn.preprocessing import StandardScaler\n",
    "import umap\n",
    "from sklearn.cluster import KMeans\n",
    "from sklearn.cluster import DBSCAN\n",
    "import matplotlib.pyplot as plt"
   ]
  },
  {
   "cell_type": "code",
   "execution_count": 2,
   "id": "fb603e2e",
   "metadata": {},
   "outputs": [
    {
     "data": {
      "text/plain": [
       "((1781, 1574), (1781, 92), (1781, 92))"
      ]
     },
     "execution_count": 2,
     "metadata": {},
     "output_type": "execute_result"
    }
   ],
   "source": [
    "DATA_ROOT = Path(\"data\")\n",
    "PROCESSED_DATA = DATA_ROOT / \"processed\"\n",
    "\n",
    "trends = pd.read_csv(PROCESSED_DATA / \"trends.csv\", index_col=0, parse_dates=True)\n",
    "prices = pd.read_csv(PROCESSED_DATA / \"prices.csv\", index_col=0, parse_dates=True)\n",
    "volumes = pd.read_csv(PROCESSED_DATA / \"volumes.csv\", index_col=0, parse_dates=True)\n",
    "\n",
    "trends.shape, prices.shape, volumes.shape"
   ]
  },
  {
   "cell_type": "code",
   "execution_count": 3,
   "id": "6bffdc5b",
   "metadata": {},
   "outputs": [
    {
     "data": {
      "text/plain": [
       "(1666, 1781)"
      ]
     },
     "execution_count": 3,
     "metadata": {},
     "output_type": "execute_result"
    }
   ],
   "source": [
    "def normalize_df(df: pd.DataFrame) -> pd.DataFrame:\n",
    "    # return (df - df.min()) / (df.max() - df.min())\n",
    "    return df/df.sum(axis=0)\n",
    "\n",
    "trends = normalize_df(trends)\n",
    "prices = normalize_df(prices)\n",
    "volumes = normalize_df(volumes)\n",
    "\n",
    "unified = pd.concat([trends, volumes], axis=1).T\n",
    "unified.shape"
   ]
  },
  {
   "cell_type": "code",
   "execution_count": 4,
   "id": "51f50b97",
   "metadata": {},
   "outputs": [],
   "source": [
    "import json\n",
    "\n",
    "with open('cfg/stock_data.json') as f:\n",
    "    stock_data = json.load(f)['entries']\n",
    "    \n",
    "with open('cfg/stock_data_clustering.json') as f:\n",
    "    stock_data_clustering = json.load(f)['entries']"
   ]
  },
  {
   "cell_type": "code",
   "execution_count": 5,
   "id": "e0e36ac1",
   "metadata": {},
   "outputs": [],
   "source": [
    "stock_data =stock_data+stock_data_clustering"
   ]
  },
  {
   "cell_type": "code",
   "execution_count": 75,
   "id": "78b9232f",
   "metadata": {},
   "outputs": [],
   "source": [
    "stock_df = pd.DataFrame(stock_data)\n",
    "stock_df = stock_df.drop(columns=['start', 'end','aggregate','interval','period'])\n",
    "stock_df['tickers'] = stock_df.apply(lambda x: [x['ticker']] if isinstance(x['ticker'], str) else x['tickers'], axis=1)\n",
    "stock_df = stock_df.drop(columns=['ticker'])\n",
    "stock_df = stock_df.drop_duplicates(subset=['tickers'])\n",
    "stock_df['num_tickers'] = stock_df['tickers'].apply(len)\n",
    "stock_df['is_sector'] = stock_df['name'].str.contains('US_')\n",
    "stock_df.sort_values(by='num_tickers', ascending=False)\n",
    "stock_df = stock_df[stock_df['name'].isin(prices.columns)]\n",
    "\n",
    "single_stocks = stock_df.query('not is_sector and num_tickers==1')\n",
    "is_etf = single_stocks['description'].str.lower().str.contains('etf|index|tracks')\n",
    "\n",
    "stock_df['is_etf'] = False\n",
    "stock_df.loc[is_etf.index, 'is_etf'] = is_etf"
   ]
  },
  {
   "cell_type": "code",
   "execution_count": 76,
   "id": "502e3af4",
   "metadata": {},
   "outputs": [
    {
     "data": {
      "text/plain": [
       "[['XLK'],\n",
       " ['XLV'],\n",
       " ['XLF'],\n",
       " ['XLY'],\n",
       " ['XLP'],\n",
       " ['XLI'],\n",
       " ['XLE'],\n",
       " ['XLU'],\n",
       " ['XLB'],\n",
       " ['XLC'],\n",
       " ['XLRE'],\n",
       " ['IBB'],\n",
       " ['KBE'],\n",
       " ['KRE'],\n",
       " ['IYT'],\n",
       " ['ITB']]"
      ]
     },
     "execution_count": 76,
     "metadata": {},
     "output_type": "execute_result"
    }
   ],
   "source": [
    "stock_df[stock_df['is_sector']]['tickers'].tolist()"
   ]
  },
  {
   "cell_type": "code",
   "execution_count": 91,
   "id": "7c56de8e",
   "metadata": {},
   "outputs": [
    {
     "data": {
      "text/plain": [
       "['^GSPC',\n",
       " 'ICLN',\n",
       " 'TAN',\n",
       " 'PHO',\n",
       " 'EIS',\n",
       " 'ISRA',\n",
       " 'FRDM',\n",
       " 'RSX',\n",
       " 'ERUS',\n",
       " 'SHE',\n",
       " 'SPY',\n",
       " 'QQQ',\n",
       " 'IWM',\n",
       " 'DIA']"
      ]
     },
     "execution_count": 91,
     "metadata": {},
     "output_type": "execute_result"
    }
   ],
   "source": [
    "stock_df[stock_df['is_etf']].tickers.apply(lambda x: x[0]).tolist()"
   ]
  },
  {
   "cell_type": "code",
   "execution_count": 92,
   "id": "1589f195",
   "metadata": {},
   "outputs": [],
   "source": [
    "holdings = pd.read_csv('etf_holdings_top50.csv')\n",
    "holdings = holdings.groupby('ETF').agg(list)\n",
    "\n",
    "tickers = stock_df.query('not is_sector and num_tickers==1').tickers.apply(lambda x:x[0]).to_list()\n",
    "holdings['data_tickers'] = holdings['Ticker'].apply(lambda x: set(x).intersection(tickers))\n",
    "holdings['num_data_tickers'] = holdings['data_tickers'].apply(len)\n",
    "coloring = holdings[holdings['num_data_tickers']>1].drop(columns=['Ticker'])"
   ]
  },
  {
   "cell_type": "code",
   "execution_count": 93,
   "id": "cca18c6a",
   "metadata": {},
   "outputs": [
    {
     "data": {
      "text/html": [
       "<div>\n",
       "<style scoped>\n",
       "    .dataframe tbody tr th:only-of-type {\n",
       "        vertical-align: middle;\n",
       "    }\n",
       "\n",
       "    .dataframe tbody tr th {\n",
       "        vertical-align: top;\n",
       "    }\n",
       "\n",
       "    .dataframe thead th {\n",
       "        text-align: right;\n",
       "    }\n",
       "</style>\n",
       "<table border=\"1\" class=\"dataframe\">\n",
       "  <thead>\n",
       "    <tr style=\"text-align: right;\">\n",
       "      <th></th>\n",
       "      <th>data_tickers</th>\n",
       "      <th>num_data_tickers</th>\n",
       "    </tr>\n",
       "    <tr>\n",
       "      <th>ETF</th>\n",
       "      <th></th>\n",
       "      <th></th>\n",
       "    </tr>\n",
       "  </thead>\n",
       "  <tbody>\n",
       "    <tr>\n",
       "      <th>DIA</th>\n",
       "      <td>{UNH, NVDA, CVX, JPM, GS, JNJ, AMZN, CRM, MSFT...</td>\n",
       "      <td>11</td>\n",
       "    </tr>\n",
       "    <tr>\n",
       "      <th>QQQ</th>\n",
       "      <td>{NVDA, META, COST, TSLA, GOOGL, AVGO, ISRG, AM...</td>\n",
       "      <td>13</td>\n",
       "    </tr>\n",
       "    <tr>\n",
       "      <th>SHE</th>\n",
       "      <td>{NVDA, MSFT, CVX, COST, JPM, LLY, JNJ, AMD, NO...</td>\n",
       "      <td>12</td>\n",
       "    </tr>\n",
       "    <tr>\n",
       "      <th>SPY</th>\n",
       "      <td>{NVDA, META, COST, ORCL, JPM, LLY, TSLA, GOOGL...</td>\n",
       "      <td>17</td>\n",
       "    </tr>\n",
       "    <tr>\n",
       "      <th>XLC</th>\n",
       "      <td>{META, GOOGL, NFLX}</td>\n",
       "      <td>3</td>\n",
       "    </tr>\n",
       "    <tr>\n",
       "      <th>XLE</th>\n",
       "      <td>{SLB, XOM, COP, CVX}</td>\n",
       "      <td>4</td>\n",
       "    </tr>\n",
       "    <tr>\n",
       "      <th>XLF</th>\n",
       "      <td>{BLK, JPM, MS, GS, BAC, MA, V}</td>\n",
       "      <td>7</td>\n",
       "    </tr>\n",
       "    <tr>\n",
       "      <th>XLK</th>\n",
       "      <td>{NVDA, AVGO, CRWD, AMD, NOW, CRM, IBM, MSFT, P...</td>\n",
       "      <td>10</td>\n",
       "    </tr>\n",
       "    <tr>\n",
       "      <th>XLV</th>\n",
       "      <td>{TMO, LLY, MRK, JNJ, ISRG, SYK, DHR, UNH, REGN}</td>\n",
       "      <td>9</td>\n",
       "    </tr>\n",
       "    <tr>\n",
       "      <th>XLY</th>\n",
       "      <td>{TSLA, AMZN, BKNG}</td>\n",
       "      <td>3</td>\n",
       "    </tr>\n",
       "  </tbody>\n",
       "</table>\n",
       "</div>"
      ],
      "text/plain": [
       "                                          data_tickers  num_data_tickers\n",
       "ETF                                                                     \n",
       "DIA  {UNH, NVDA, CVX, JPM, GS, JNJ, AMZN, CRM, MSFT...                11\n",
       "QQQ  {NVDA, META, COST, TSLA, GOOGL, AVGO, ISRG, AM...                13\n",
       "SHE  {NVDA, MSFT, CVX, COST, JPM, LLY, JNJ, AMD, NO...                12\n",
       "SPY  {NVDA, META, COST, ORCL, JPM, LLY, TSLA, GOOGL...                17\n",
       "XLC                                {META, GOOGL, NFLX}                 3\n",
       "XLE                               {SLB, XOM, COP, CVX}                 4\n",
       "XLF                     {BLK, JPM, MS, GS, BAC, MA, V}                 7\n",
       "XLK  {NVDA, AVGO, CRWD, AMD, NOW, CRM, IBM, MSFT, P...                10\n",
       "XLV    {TMO, LLY, MRK, JNJ, ISRG, SYK, DHR, UNH, REGN}                 9\n",
       "XLY                                 {TSLA, AMZN, BKNG}                 3"
      ]
     },
     "execution_count": 93,
     "metadata": {},
     "output_type": "execute_result"
    }
   ],
   "source": [
    "coloring"
   ]
  },
  {
   "cell_type": "code",
   "execution_count": 126,
   "id": "ecd1e35f",
   "metadata": {},
   "outputs": [
    {
     "name": "stderr",
     "output_type": "stream",
     "text": [
      "/Users/ronraisch/miniforge3/envs/needle/lib/python3.10/site-packages/umap/umap_.py:1952: UserWarning:\n",
      "\n",
      "n_jobs value 1 overridden to 1 by setting random_state. Use no seed for parallelism.\n",
      "\n"
     ]
    },
    {
     "data": {
      "image/png": "[encoded data removed]",
      "text/plain": [
       "<Figure size 640x480 with 1 Axes>"
      ]
     },
     "metadata": {},
     "output_type": "display_data"
    }
   ],
   "source": [
    "single_stocks = stock_df.query('not is_sector and num_tickers==1 and not is_etf')\n",
    "\n",
    "# use UMAP to reduce dimensionality of single stocks\n",
    "reducer = umap.UMAP(n_neighbors=3, min_dist=0.9, random_state=42)\n",
    "# reducer = \n",
    "reduced_single_stocks = reducer.fit_transform(prices[single_stocks['name']].T)\n",
    "\n",
    "\n",
    "plt.scatter(reduced_single_stocks[:, 0], reduced_single_stocks[:, 1])\n",
    "plt.title('UMAP projection of single stocks')\n",
    "plt.xlabel('UMAP 1')\n",
    "plt.ylabel('UMAP 2')\n",
    "plt.show()"
   ]
  },
  {
   "cell_type": "code",
   "execution_count": 127,
   "id": "08cb3c5e",
   "metadata": {},
   "outputs": [
    {
     "data": {
      "application/vnd.plotly.v1+json": {
       "config": {
        "plotlyServerURL": "https://plot.ly"
       },
       "data": [
        {
         "hovertemplate": "<b>%{hovertext}</b><br><br>Membership=Not in<br>x=%{x}<br>y=%{y}<extra></extra>",
         "hovertext": [
          "G",
          "T",
          "M",
          "A",
          "A",
          "T",
          "A",
          "N",
          "O",
          "S",
          "I",
          "P",
          "C",
          "S",
          "A",
          "N",
          "U",
          "B",
          "L",
          "N",
          "M",
          "T",
          "D",
          "I",
          "S",
          "R",
          "X",
          "C",
          "S",
          "N",
          "B",
          "M",
          "B",
          "M",
          "C"
         ],
         "legendgroup": "Not in",
         "marker": {
          "color": "#636efa",
          "line": {
           "color": "DarkSlateGrey",
           "width": 1
          },
          "size": 8,
          "symbol": "circle"
         },
         "mode": "markers",
         "name": "Not in",
         "orientation": "v",
         "showlegend": true,
         "type": "scatter",
         "x": {
          "bdata": "SHW2v7OkuL/RK+fAIFsEwQHDJb+5GcjAetTBvyklAMGnTuTAnoTnwJpRqz8R/tLAJKW1wCdngD8kFrY+JcGLwFWyxMAGOtPAEQ7fwKhvokCy7b9ATWO+QNpKpEDsY5/AIfgZwFJRrUD6a/BAIa0FQRhfA0FTq91A1Rf3v30aI8BNQmu/ImXGv3aBuMA=",
          "dtype": "f4"
         },
         "xaxis": "x",
         "y": {
          "bdata": "FKMqQRgcx0D4ArBArgWtP66ONkH3Jq9A+0A9QQ0foUASwTBAAgaPQM1+BUEuVOs/63G8QPhi3EBKLvpAB0iQQPGmjUDxfF9Ak4KOP9JkBEFhkgNBezQvQRVRNEHIwahA+NoeQZoDEUEWV9JACtngQCRO+kBjUztBEcjaQEiYuEBdTOhATQYYQQsdzT8=",
          "dtype": "f4"
         },
         "yaxis": "y"
        },
        {
         "hovertemplate": "<b>%{hovertext}</b><br><br>Membership=In<br>x=%{x}<br>y=%{y}<extra></extra>",
         "hovertext": [
          "M",
          "N",
          "A",
          "C",
          "I",
          "J",
          "U",
          "C",
          "J",
          "G",
          "V"
         ],
         "legendgroup": "In",
         "marker": {
          "color": "#EF553B",
          "line": {
           "color": "DarkSlateGrey",
           "width": 1
          },
          "size": 8,
          "symbol": "circle"
         },
         "mode": "markers",
         "name": "In",
         "orientation": "v",
         "showlegend": true,
         "type": "scatter",
         "x": {
          "bdata": "erQZwMhOAcFs3VQ+o3nBvl12ucAI38hAxc/IQEE75kBoTKjAnUpgwP9G5L8=",
          "dtype": "f4"
         },
         "xaxis": "x",
         "y": {
          "bdata": "WiEwQeC1Gz8JCNVAlwi/QJCdNECNWTlBqIgiQek77UBcs4NADV2ZQKhGCUE=",
          "dtype": "f4"
         },
         "yaxis": "y"
        }
       ],
       "layout": {
        "height": 600,
        "legend": {
         "title": {
          "text": "Membership"
         },
         "tracegroupgap": 0
        },
        "template": {
         "data": {
          "bar": [
           {
            "error_x": {
             "color": "#2a3f5f"
            },
            "error_y": {
             "color": "#2a3f5f"
            },
            "marker": {
             "line": {
              "color": "#E5ECF6",
              "width": 0.5
             },
             "pattern": {
              "fillmode": "overlay",
              "size": 10,
              "solidity": 0.2
             }
            },
            "type": "bar"
           }
          ],
          "barpolar": [
           {
            "marker": {
             "line": {
              "color": "#E5ECF6",
              "width": 0.5
             },
             "pattern": {
              "fillmode": "overlay",
              "size": 10,
              "solidity": 0.2
             }
            },
            "type": "barpolar"
           }
          ],
          "carpet": [
           {
            "aaxis": {
             "endlinecolor": "#2a3f5f",
             "gridcolor": "white",
             "linecolor": "white",
             "minorgridcolor": "white",
             "startlinecolor": "#2a3f5f"
            },
            "baxis": {
             "endlinecolor": "#2a3f5f",
             "gridcolor": "white",
             "linecolor": "white",
             "minorgridcolor": "white",
             "startlinecolor": "#2a3f5f"
            },
            "type": "carpet"
           }
          ],
          "choropleth": [
           {
            "colorbar": {
             "outlinewidth": 0,
             "ticks": ""
            },
            "type": "choropleth"
           }
          ],
          "contour": [
           {
            "colorbar": {
             "outlinewidth": 0,
             "ticks": ""
            },
            "colorscale": [
             [
              0,
              "#0d0887"
             ],
             [
              0.1111111111111111,
              "#46039f"
             ],
             [
              0.2222222222222222,
              "#7201a8"
             ],
             [
              0.3333333333333333,
              "#9c179e"
             ],
             [
              0.4444444444444444,
              "#bd3786"
             ],
             [
              0.5555555555555556,
              "#d8576b"
             ],
             [
              0.6666666666666666,
              "#ed7953"
             ],
             [
              0.7777777777777778,
              "#fb9f3a"
             ],
             [
              0.8888888888888888,
              "#fdca26"
             ],
             [
              1,
              "#f0f921"
             ]
            ],
            "type": "contour"
           }
          ],
          "contourcarpet": [
           {
            "colorbar": {
             "outlinewidth": 0,
             "ticks": ""
            },
            "type": "contourcarpet"
           }
          ],
          "heatmap": [
           {
            "colorbar": {
             "outlinewidth": 0,
             "ticks": ""
            },
            "colorscale": [
             [
              0,
              "#0d0887"
             ],
             [
              0.1111111111111111,
              "#46039f"
             ],
             [
              0.2222222222222222,
              "#7201a8"
             ],
             [
              0.3333333333333333,
              "#9c179e"
             ],
             [
              0.4444444444444444,
              "#bd3786"
             ],
             [
              0.5555555555555556,
              "#d8576b"
             ],
             [
              0.6666666666666666,
              "#ed7953"
             ],
             [
              0.7777777777777778,
              "#fb9f3a"
             ],
             [
              0.8888888888888888,
              "#fdca26"
             ],
             [
              1,
              "#f0f921"
             ]
            ],
            "type": "heatmap"
           }
          ],
          "histogram": [
           {
            "marker": {
             "pattern": {
              "fillmode": "overlay",
              "size": 10,
              "solidity": 0.2
             }
            },
            "type": "histogram"
           }
          ],
          "histogram2d": [
           {
            "colorbar": {
             "outlinewidth": 0,
             "ticks": ""
            },
            "colorscale": [
             [
              0,
              "#0d0887"
             ],
             [
              0.1111111111111111,
              "#46039f"
             ],
             [
              0.2222222222222222,
              "#7201a8"
             ],
             [
              0.3333333333333333,
              "#9c179e"
             ],
             [
              0.4444444444444444,
              "#bd3786"
             ],
             [
              0.5555555555555556,
              "#d8576b"
             ],
             [
              0.6666666666666666,
              "#ed7953"
             ],
             [
              0.7777777777777778,
              "#fb9f3a"
             ],
             [
              0.8888888888888888,
              "#fdca26"
             ],
             [
              1,
              "#f0f921"
             ]
            ],
            "type": "histogram2d"
           }
          ],
          "histogram2dcontour": [
           {
            "colorbar": {
             "outlinewidth": 0,
             "ticks": ""
            },
            "colorscale": [
             [
              0,
              "#0d0887"
             ],
             [
              0.1111111111111111,
              "#46039f"
             ],
             [
              0.2222222222222222,
              "#7201a8"
             ],
             [
              0.3333333333333333,
              "#9c179e"
             ],
             [
              0.4444444444444444,
              "#bd3786"
             ],
             [
              0.5555555555555556,
              "#d8576b"
             ],
             [
              0.6666666666666666,
              "#ed7953"
             ],
             [
              0.7777777777777778,
              "#fb9f3a"
             ],
             [
              0.8888888888888888,
              "#fdca26"
             ],
             [
              1,
              "#f0f921"
             ]
            ],
            "type": "histogram2dcontour"
           }
          ],
          "mesh3d": [
           {
            "colorbar": {
             "outlinewidth": 0,
             "ticks": ""
            },
            "type": "mesh3d"
           }
          ],
          "parcoords": [
           {
            "line": {
             "colorbar": {
              "outlinewidth": 0,
              "ticks": ""
             }
            },
            "type": "parcoords"
           }
          ],
          "pie": [
           {
            "automargin": true,
            "type": "pie"
           }
          ],
          "scatter": [
           {
            "fillpattern": {
             "fillmode": "overlay",
             "size": 10,
             "solidity": 0.2
            },
            "type": "scatter"
           }
          ],
          "scatter3d": [
           {
            "line": {
             "colorbar": {
              "outlinewidth": 0,
              "ticks": ""
             }
            },
            "marker": {
             "colorbar": {
              "outlinewidth": 0,
              "ticks": ""
             }
            },
            "type": "scatter3d"
           }
          ],
          "scattercarpet": [
           {
            "marker": {
             "colorbar": {
              "outlinewidth": 0,
              "ticks": ""
             }
            },
            "type": "scattercarpet"
           }
          ],
          "scattergeo": [
           {
            "marker": {
             "colorbar": {
              "outlinewidth": 0,
              "ticks": ""
             }
            },
            "type": "scattergeo"
           }
          ],
          "scattergl": [
           {
            "marker": {
             "colorbar": {
              "outlinewidth": 0,
              "ticks": ""
             }
            },
            "type": "scattergl"
           }
          ],
          "scattermap": [
           {
            "marker": {
             "colorbar": {
              "outlinewidth": 0,
              "ticks": ""
             }
            },
            "type": "scattermap"
           }
          ],
          "scattermapbox": [
           {
            "marker": {
             "colorbar": {
              "outlinewidth": 0,
              "ticks": ""
             }
            },
            "type": "scattermapbox"
           }
          ],
          "scatterpolar": [
           {
            "marker": {
             "colorbar": {
              "outlinewidth": 0,
              "ticks": ""
             }
            },
            "type": "scatterpolar"
           }
          ],
          "scatterpolargl": [
           {
            "marker": {
             "colorbar": {
              "outlinewidth": 0,
              "ticks": ""
             }
            },
            "type": "scatterpolargl"
           }
          ],
          "scatterternary": [
           {
            "marker": {
             "colorbar": {
              "outlinewidth": 0,
              "ticks": ""
             }
            },
            "type": "scatterternary"
           }
          ],
          "surface": [
           {
            "colorbar": {
             "outlinewidth": 0,
             "ticks": ""
            },
            "colorscale": [
             [
              0,
              "#0d0887"
             ],
             [
              0.1111111111111111,
              "#46039f"
             ],
             [
              0.2222222222222222,
              "#7201a8"
             ],
             [
              0.3333333333333333,
              "#9c179e"
             ],
             [
              0.4444444444444444,
              "#bd3786"
             ],
             [
              0.5555555555555556,
              "#d8576b"
             ],
             [
              0.6666666666666666,
              "#ed7953"
             ],
             [
              0.7777777777777778,
              "#fb9f3a"
             ],
             [
              0.8888888888888888,
              "#fdca26"
             ],
             [
              1,
              "#f0f921"
             ]
            ],
            "type": "surface"
           }
          ],
          "table": [
           {
            "cells": {
             "fill": {
              "color": "#EBF0F8"
             },
             "line": {
              "color": "white"
             }
            },
            "header": {
             "fill": {
              "color": "#C8D4E3"
             },
             "line": {
              "color": "white"
             }
            },
            "type": "table"
           }
          ]
         },
         "layout": {
          "annotationdefaults": {
           "arrowcolor": "#2a3f5f",
           "arrowhead": 0,
           "arrowwidth": 1
          },
          "autotypenumbers": "strict",
          "coloraxis": {
           "colorbar": {
            "outlinewidth": 0,
            "ticks": ""
           }
          },
          "colorscale": {
           "diverging": [
            [
             0,
             "#8e0152"
            ],
            [
             0.1,
             "#c51b7d"
            ],
            [
             0.2,
             "#de77ae"
            ],
            [
             0.3,
             "#f1b6da"
            ],
            [
             0.4,
             "#fde0ef"
            ],
            [
             0.5,
             "#f7f7f7"
            ],
            [
             0.6,
             "#e6f5d0"
            ],
            [
             0.7,
             "#b8e186"
            ],
            [
             0.8,
             "#7fbc41"
            ],
            [
             0.9,
             "#4d9221"
            ],
            [
             1,
             "#276419"
            ]
           ],
           "sequential": [
            [
             0,
             "#0d0887"
            ],
            [
             0.1111111111111111,
             "#46039f"
            ],
            [
             0.2222222222222222,
             "#7201a8"
            ],
            [
             0.3333333333333333,
             "#9c179e"
            ],
            [
             0.4444444444444444,
             "#bd3786"
            ],
            [
             0.5555555555555556,
             "#d8576b"
            ],
            [
             0.6666666666666666,
             "#ed7953"
            ],
            [
             0.7777777777777778,
             "#fb9f3a"
            ],
            [
             0.8888888888888888,
             "#fdca26"
            ],
            [
             1,
             "#f0f921"
            ]
           ],
           "sequentialminus": [
            [
             0,
             "#0d0887"
            ],
            [
             0.1111111111111111,
             "#46039f"
            ],
            [
             0.2222222222222222,
             "#7201a8"
            ],
            [
             0.3333333333333333,
             "#9c179e"
            ],
            [
             0.4444444444444444,
             "#bd3786"
            ],
            [
             0.5555555555555556,
             "#d8576b"
            ],
            [
             0.6666666666666666,
             "#ed7953"
            ],
            [
             0.7777777777777778,
             "#fb9f3a"
            ],
            [
             0.8888888888888888,
             "#fdca26"
            ],
            [
             1,
             "#f0f921"
            ]
           ]
          },
          "colorway": [
           "#636efa",
           "#EF553B",
           "#00cc96",
           "#ab63fa",
           "#FFA15A",
           "#19d3f3",
           "#FF6692",
           "#B6E880",
           "#FF97FF",
           "#FECB52"
          ],
          "font": {
           "color": "#2a3f5f"
          },
          "geo": {
           "bgcolor": "white",
           "lakecolor": "white",
           "landcolor": "#E5ECF6",
           "showlakes": true,
           "showland": true,
           "subunitcolor": "white"
          },
          "hoverlabel": {
           "align": "left"
          },
          "hovermode": "closest",
          "mapbox": {
           "style": "light"
          },
          "paper_bgcolor": "white",
          "plot_bgcolor": "#E5ECF6",
          "polar": {
           "angularaxis": {
            "gridcolor": "white",
            "linecolor": "white",
            "ticks": ""
           },
           "bgcolor": "#E5ECF6",
           "radialaxis": {
            "gridcolor": "white",
            "linecolor": "white",
            "ticks": ""
           }
          },
          "scene": {
           "xaxis": {
            "backgroundcolor": "#E5ECF6",
            "gridcolor": "white",
            "gridwidth": 2,
            "linecolor": "white",
            "showbackground": true,
            "ticks": "",
            "zerolinecolor": "white"
           },
           "yaxis": {
            "backgroundcolor": "#E5ECF6",
            "gridcolor": "white",
            "gridwidth": 2,
            "linecolor": "white",
            "showbackground": true,
            "ticks": "",
            "zerolinecolor": "white"
           },
           "zaxis": {
            "backgroundcolor": "#E5ECF6",
            "gridcolor": "white",
            "gridwidth": 2,
            "linecolor": "white",
            "showbackground": true,
            "ticks": "",
            "zerolinecolor": "white"
           }
          },
          "shapedefaults": {
           "line": {
            "color": "#2a3f5f"
           }
          },
          "ternary": {
           "aaxis": {
            "gridcolor": "white",
            "linecolor": "white",
            "ticks": ""
           },
           "baxis": {
            "gridcolor": "white",
            "linecolor": "white",
            "ticks": ""
           },
           "bgcolor": "#E5ECF6",
           "caxis": {
            "gridcolor": "white",
            "linecolor": "white",
            "ticks": ""
           }
          },
          "title": {
           "x": 0.05
          },
          "xaxis": {
           "automargin": true,
           "gridcolor": "white",
           "linecolor": "white",
           "ticks": "",
           "title": {
            "standoff": 15
           },
           "zerolinecolor": "white",
           "zerolinewidth": 2
          },
          "yaxis": {
           "automargin": true,
           "gridcolor": "white",
           "linecolor": "white",
           "ticks": "",
           "title": {
            "standoff": 15
           },
           "zerolinecolor": "white",
           "zerolinewidth": 2
          }
         }
        },
        "title": {
         "text": "PCA projection colored by presence in DIA"
        },
        "width": 600,
        "xaxis": {
         "anchor": "y",
         "domain": [
          0,
          1
         ],
         "title": {
          "text": "x"
         }
        },
        "yaxis": {
         "anchor": "x",
         "domain": [
          0,
          1
         ],
         "title": {
          "text": "y"
         }
        }
       }
      }
     },
     "metadata": {},
     "output_type": "display_data"
    },
    {
     "data": {
      "application/vnd.plotly.v1+json": {
       "config": {
        "plotlyServerURL": "https://plot.ly"
       },
       "data": [
        {
         "hovertemplate": "<b>%{hovertext}</b><br><br>Membership=In<br>x=%{x}<br>y=%{y}<extra></extra>",
         "hovertext": [
          "G",
          "T",
          "M",
          "N",
          "A",
          "M",
          "A",
          "A",
          "N",
          "S",
          "B",
          "I",
          "C"
         ],
         "legendgroup": "In",
         "marker": {
          "color": "#636efa",
          "line": {
           "color": "DarkSlateGrey",
           "width": 1
          },
          "size": 8,
          "symbol": "circle"
         },
         "mode": "markers",
         "name": "In",
         "orientation": "v",
         "showlegend": true,
         "type": "scatter",
         "x": {
          "bdata": "SHW2v7OkuL96tBnAyE4BwWzdVD7RK+fAIFsEwXrUwb8pJQDBJ2eAPwY608DsY5/AdoG4wA==",
          "dtype": "f4"
         },
         "xaxis": "x",
         "y": {
          "bdata": "FKMqQRgcx0BaITBB4LUbPwkI1UD4ArBArgWtP/tAPUENH6FA+GLcQPF8X0DIwahACx3NPw==",
          "dtype": "f4"
         },
         "yaxis": "y"
        },
        {
         "hovertemplate": "<b>%{hovertext}</b><br><br>Membership=Not in<br>x=%{x}<br>y=%{y}<extra></extra>",
         "hovertext": [
          "A",
          "T",
          "O",
          "S",
          "C",
          "I",
          "I",
          "P",
          "C",
          "A",
          "N",
          "U",
          "L",
          "N",
          "J",
          "M",
          "U",
          "T",
          "D",
          "S",
          "R",
          "X",
          "C",
          "C",
          "S",
          "N",
          "J",
          "B",
          "G",
          "M",
          "B",
          "V",
          "M"
         ],
         "legendgroup": "Not in",
         "marker": {
          "color": "#EF553B",
          "line": {
           "color": "DarkSlateGrey",
           "width": 1
          },
          "size": 8,
          "symbol": "circle"
         },
         "mode": "markers",
         "name": "Not in",
         "orientation": "v",
         "showlegend": true,
         "type": "scatter",
         "x": {
          "bdata": "AcMlv7kZyMCnTuTAnoTnwKN5wb5ddrnAmlGrPxH+0sAkpbXAJBa2PiXBi8BVssTAEQ7fwKhvokAI38hAsu2/QMXPyEBNY75A2kqkQCH4GcBSUa1A+mvwQEE75kAhrQVBGF8DQVOr3UBoTKjA1Rf3v51KYMB9GiPATUJrv/9G5L8iZca/",
          "dtype": "f4"
         },
         "xaxis": "x",
         "y": {
          "bdata": "ro42Qfcmr0ASwTBAAgaPQJcIv0CQnTRAzX4FQS5U6z/rcbxASi76QAdIkEDxpo1Ak4KOP9JkBEGNWTlBYZIDQaiIIkF7NC9BFVE0QfjaHkGaAxFBFlfSQOk77UAK2eBAJE76QGNTO0Fcs4NAEcjaQA1dmUBImLhAXUzoQKhGCUFNBhhB",
          "dtype": "f4"
         },
         "yaxis": "y"
        }
       ],
       "layout": {
        "height": 600,
        "legend": {
         "title": {
          "text": "Membership"
         },
         "tracegroupgap": 0
        },
        "template": {
         "data": {
          "bar": [
           {
            "error_x": {
             "color": "#2a3f5f"
            },
            "error_y": {
             "color": "#2a3f5f"
            },
            "marker": {
             "line": {
              "color": "#E5ECF6",
              "width": 0.5
             },
             "pattern": {
              "fillmode": "overlay",
              "size": 10,
              "solidity": 0.2
             }
            },
            "type": "bar"
           }
          ],
          "barpolar": [
           {
            "marker": {
             "line": {
              "color": "#E5ECF6",
              "width": 0.5
             },
             "pattern": {
              "fillmode": "overlay",
              "size": 10,
              "solidity": 0.2
             }
            },
            "type": "barpolar"
           }
          ],
          "carpet": [
           {
            "aaxis": {
             "endlinecolor": "#2a3f5f",
             "gridcolor": "white",
             "linecolor": "white",
             "minorgridcolor": "white",
             "startlinecolor": "#2a3f5f"
            },
            "baxis": {
             "endlinecolor": "#2a3f5f",
             "gridcolor": "white",
             "linecolor": "white",
             "minorgridcolor": "white",
             "startlinecolor": "#2a3f5f"
            },
            "type": "carpet"
           }
          ],
          "choropleth": [
           {
            "colorbar": {
             "outlinewidth": 0,
             "ticks": ""
            },
            "type": "choropleth"
           }
          ],
          "contour": [
           {
            "colorbar": {
             "outlinewidth": 0,
             "ticks": ""
            },
            "colorscale": [
             [
              0,
              "#0d0887"
             ],
             [
              0.1111111111111111,
              "#46039f"
             ],
             [
              0.2222222222222222,
              "#7201a8"
             ],
             [
              0.3333333333333333,
              "#9c179e"
             ],
             [
              0.4444444444444444,
              "#bd3786"
             ],
             [
              0.5555555555555556,
              "#d8576b"
             ],
             [
              0.6666666666666666,
              "#ed7953"
             ],
             [
              0.7777777777777778,
              "#fb9f3a"
             ],
             [
              0.8888888888888888,
              "#fdca26"
             ],
             [
              1,
              "#f0f921"
             ]
            ],
            "type": "contour"
           }
          ],
          "contourcarpet": [
           {
            "colorbar": {
             "outlinewidth": 0,
             "ticks": ""
            },
            "type": "contourcarpet"
           }
          ],
          "heatmap": [
           {
            "colorbar": {
             "outlinewidth": 0,
             "ticks": ""
            },
            "colorscale": [
             [
              0,
              "#0d0887"
             ],
             [
              0.1111111111111111,
              "#46039f"
             ],
             [
              0.2222222222222222,
              "#7201a8"
             ],
             [
              0.3333333333333333,
              "#9c179e"
             ],
             [
              0.4444444444444444,
              "#bd3786"
             ],
             [
              0.5555555555555556,
              "#d8576b"
             ],
             [
              0.6666666666666666,
              "#ed7953"
             ],
             [
              0.7777777777777778,
              "#fb9f3a"
             ],
             [
              0.8888888888888888,
              "#fdca26"
             ],
             [
              1,
              "#f0f921"
             ]
            ],
            "type": "heatmap"
           }
          ],
          "histogram": [
           {
            "marker": {
             "pattern": {
              "fillmode": "overlay",
              "size": 10,
              "solidity": 0.2
             }
            },
            "type": "histogram"
           }
          ],
          "histogram2d": [
           {
            "colorbar": {
             "outlinewidth": 0,
             "ticks": ""
            },
            "colorscale": [
             [
              0,
              "#0d0887"
             ],
             [
              0.1111111111111111,
              "#46039f"
             ],
             [
              0.2222222222222222,
              "#7201a8"
             ],
             [
              0.3333333333333333,
              "#9c179e"
             ],
             [
              0.4444444444444444,
              "#bd3786"
             ],
             [
              0.5555555555555556,
              "#d8576b"
             ],
             [
              0.6666666666666666,
              "#ed7953"
             ],
             [
              0.7777777777777778,
              "#fb9f3a"
             ],
             [
              0.8888888888888888,
              "#fdca26"
             ],
             [
              1,
              "#f0f921"
             ]
            ],
            "type": "histogram2d"
           }
          ],
          "histogram2dcontour": [
           {
            "colorbar": {
             "outlinewidth": 0,
             "ticks": ""
            },
            "colorscale": [
             [
              0,
              "#0d0887"
             ],
             [
              0.1111111111111111,
              "#46039f"
             ],
             [
              0.2222222222222222,
              "#7201a8"
             ],
             [
              0.3333333333333333,
              "#9c179e"
             ],
             [
              0.4444444444444444,
              "#bd3786"
             ],
             [
              0.5555555555555556,
              "#d8576b"
             ],
             [
              0.6666666666666666,
              "#ed7953"
             ],
             [
              0.7777777777777778,
              "#fb9f3a"
             ],
             [
              0.8888888888888888,
              "#fdca26"
             ],
             [
              1,
              "#f0f921"
             ]
            ],
            "type": "histogram2dcontour"
           }
          ],
          "mesh3d": [
           {
            "colorbar": {
             "outlinewidth": 0,
             "ticks": ""
            },
            "type": "mesh3d"
           }
          ],
          "parcoords": [
           {
            "line": {
             "colorbar": {
              "outlinewidth": 0,
              "ticks": ""
             }
            },
            "type": "parcoords"
           }
          ],
          "pie": [
           {
            "automargin": true,
            "type": "pie"
           }
          ],
          "scatter": [
           {
            "fillpattern": {
             "fillmode": "overlay",
             "size": 10,
             "solidity": 0.2
            },
            "type": "scatter"
           }
          ],
          "scatter3d": [
           {
            "line": {
             "colorbar": {
              "outlinewidth": 0,
              "ticks": ""
             }
            },
            "marker": {
             "colorbar": {
              "outlinewidth": 0,
              "ticks": ""
             }
            },
            "type": "scatter3d"
           }
          ],
          "scattercarpet": [
           {
            "marker": {
             "colorbar": {
              "outlinewidth": 0,
              "ticks": ""
             }
            },
            "type": "scattercarpet"
           }
          ],
          "scattergeo": [
           {
            "marker": {
             "colorbar": {
              "outlinewidth": 0,
              "ticks": ""
             }
            },
            "type": "scattergeo"
           }
          ],
          "scattergl": [
           {
            "marker": {
             "colorbar": {
              "outlinewidth": 0,
              "ticks": ""
             }
            },
            "type": "scattergl"
           }
          ],
          "scattermap": [
           {
            "marker": {
             "colorbar": {
              "outlinewidth": 0,
              "ticks": ""
             }
            },
            "type": "scattermap"
           }
          ],
          "scattermapbox": [
           {
            "marker": {
             "colorbar": {
              "outlinewidth": 0,
              "ticks": ""
             }
            },
            "type": "scattermapbox"
           }
          ],
          "scatterpolar": [
           {
            "marker": {
             "colorbar": {
              "outlinewidth": 0,
              "ticks": ""
             }
            },
            "type": "scatterpolar"
           }
          ],
          "scatterpolargl": [
           {
            "marker": {
             "colorbar": {
              "outlinewidth": 0,
              "ticks": ""
             }
            },
            "type": "scatterpolargl"
           }
          ],
          "scatterternary": [
           {
            "marker": {
             "colorbar": {
              "outlinewidth": 0,
              "ticks": ""
             }
            },
            "type": "scatterternary"
           }
          ],
          "surface": [
           {
            "colorbar": {
             "outlinewidth": 0,
             "ticks": ""
            },
            "colorscale": [
             [
              0,
              "#0d0887"
             ],
             [
              0.1111111111111111,
              "#46039f"
             ],
             [
              0.2222222222222222,
              "#7201a8"
             ],
             [
              0.3333333333333333,
              "#9c179e"
             ],
             [
              0.4444444444444444,
              "#bd3786"
             ],
             [
              0.5555555555555556,
              "#d8576b"
             ],
             [
              0.6666666666666666,
              "#ed7953"
             ],
             [
              0.7777777777777778,
              "#fb9f3a"
             ],
             [
              0.8888888888888888,
              "#fdca26"
             ],
             [
              1,
              "#f0f921"
             ]
            ],
            "type": "surface"
           }
          ],
          "table": [
           {
            "cells": {
             "fill": {
              "color": "#EBF0F8"
             },
             "line": {
              "color": "white"
             }
            },
            "header": {
             "fill": {
              "color": "#C8D4E3"
             },
             "line": {
              "color": "white"
             }
            },
            "type": "table"
           }
          ]
         },
         "layout": {
          "annotationdefaults": {
           "arrowcolor": "#2a3f5f",
           "arrowhead": 0,
           "arrowwidth": 1
          },
          "autotypenumbers": "strict",
          "coloraxis": {
           "colorbar": {
            "outlinewidth": 0,
            "ticks": ""
           }
          },
          "colorscale": {
           "diverging": [
            [
             0,
             "#8e0152"
            ],
            [
             0.1,
             "#c51b7d"
            ],
            [
             0.2,
             "#de77ae"
            ],
            [
             0.3,
             "#f1b6da"
            ],
            [
             0.4,
             "#fde0ef"
            ],
            [
             0.5,
             "#f7f7f7"
            ],
            [
             0.6,
             "#e6f5d0"
            ],
            [
             0.7,
             "#b8e186"
            ],
            [
             0.8,
             "#7fbc41"
            ],
            [
             0.9,
             "#4d9221"
            ],
            [
             1,
             "#276419"
            ]
           ],
           "sequential": [
            [
             0,
             "#0d0887"
            ],
            [
             0.1111111111111111,
             "#46039f"
            ],
            [
             0.2222222222222222,
             "#7201a8"
            ],
            [
             0.3333333333333333,
             "#9c179e"
            ],
            [
             0.4444444444444444,
             "#bd3786"
            ],
            [
             0.5555555555555556,
             "#d8576b"
            ],
            [
             0.6666666666666666,
             "#ed7953"
            ],
            [
             0.7777777777777778,
             "#fb9f3a"
            ],
            [
             0.8888888888888888,
             "#fdca26"
            ],
            [
             1,
             "#f0f921"
            ]
           ],
           "sequentialminus": [
            [
             0,
             "#0d0887"
            ],
            [
             0.1111111111111111,
             "#46039f"
            ],
            [
             0.2222222222222222,
             "#7201a8"
            ],
            [
             0.3333333333333333,
             "#9c179e"
            ],
            [
             0.4444444444444444,
             "#bd3786"
            ],
            [
             0.5555555555555556,
             "#d8576b"
            ],
            [
             0.6666666666666666,
             "#ed7953"
            ],
            [
             0.7777777777777778,
             "#fb9f3a"
            ],
            [
             0.8888888888888888,
             "#fdca26"
            ],
            [
             1,
             "#f0f921"
            ]
           ]
          },
          "colorway": [
           "#636efa",
           "#EF553B",
           "#00cc96",
           "#ab63fa",
           "#FFA15A",
           "#19d3f3",
           "#FF6692",
           "#B6E880",
           "#FF97FF",
           "#FECB52"
          ],
          "font": {
           "color": "#2a3f5f"
          },
          "geo": {
           "bgcolor": "white",
           "lakecolor": "white",
           "landcolor": "#E5ECF6",
           "showlakes": true,
           "showland": true,
           "subunitcolor": "white"
          },
          "hoverlabel": {
           "align": "left"
          },
          "hovermode": "closest",
          "mapbox": {
           "style": "light"
          },
          "paper_bgcolor": "white",
          "plot_bgcolor": "#E5ECF6",
          "polar": {
           "angularaxis": {
            "gridcolor": "white",
            "linecolor": "white",
            "ticks": ""
           },
           "bgcolor": "#E5ECF6",
           "radialaxis": {
            "gridcolor": "white",
            "linecolor": "white",
            "ticks": ""
           }
          },
          "scene": {
           "xaxis": {
            "backgroundcolor": "#E5ECF6",
            "gridcolor": "white",
            "gridwidth": 2,
            "linecolor": "white",
            "showbackground": true,
            "ticks": "",
            "zerolinecolor": "white"
           },
           "yaxis": {
            "backgroundcolor": "#E5ECF6",
            "gridcolor": "white",
            "gridwidth": 2,
            "linecolor": "white",
            "showbackground": true,
            "ticks": "",
            "zerolinecolor": "white"
           },
           "zaxis": {
            "backgroundcolor": "#E5ECF6",
            "gridcolor": "white",
            "gridwidth": 2,
            "linecolor": "white",
            "showbackground": true,
            "ticks": "",
            "zerolinecolor": "white"
           }
          },
          "shapedefaults": {
           "line": {
            "color": "#2a3f5f"
           }
          },
          "ternary": {
           "aaxis": {
            "gridcolor": "white",
            "linecolor": "white",
            "ticks": ""
           },
           "baxis": {
            "gridcolor": "white",
            "linecolor": "white",
            "ticks": ""
           },
           "bgcolor": "#E5ECF6",
           "caxis": {
            "gridcolor": "white",
            "linecolor": "white",
            "ticks": ""
           }
          },
          "title": {
           "x": 0.05
          },
          "xaxis": {
           "automargin": true,
           "gridcolor": "white",
           "linecolor": "white",
           "ticks": "",
           "title": {
            "standoff": 15
           },
           "zerolinecolor": "white",
           "zerolinewidth": 2
          },
          "yaxis": {
           "automargin": true,
           "gridcolor": "white",
           "linecolor": "white",
           "ticks": "",
           "title": {
            "standoff": 15
           },
           "zerolinecolor": "white",
           "zerolinewidth": 2
          }
         }
        },
        "title": {
         "text": "PCA projection colored by presence in QQQ"
        },
        "width": 600,
        "xaxis": {
         "anchor": "y",
         "domain": [
          0,
          1
         ],
         "title": {
          "text": "x"
         }
        },
        "yaxis": {
         "anchor": "x",
         "domain": [
          0,
          1
         ],
         "title": {
          "text": "y"
         }
        }
       }
      }
     },
     "metadata": {},
     "output_type": "display_data"
    },
    {
     "data": {
      "application/vnd.plotly.v1+json": {
       "config": {
        "plotlyServerURL": "https://plot.ly"
       },
       "data": [
        {
         "hovertemplate": "<b>%{hovertext}</b><br><br>Membership=Not in<br>x=%{x}<br>y=%{y}<extra></extra>",
         "hovertext": [
          "G",
          "T",
          "A",
          "M",
          "A",
          "A",
          "T",
          "N",
          "O",
          "S",
          "C",
          "I",
          "I",
          "P",
          "C",
          "S",
          "A",
          "U",
          "N",
          "M",
          "U",
          "T",
          "D",
          "I",
          "S",
          "R",
          "X",
          "C",
          "S",
          "N",
          "G",
          "M",
          "B",
          "M"
         ],
         "legendgroup": "Not in",
         "marker": {
          "color": "#636efa",
          "line": {
           "color": "DarkSlateGrey",
           "width": 1
          },
          "size": 8,
          "symbol": "circle"
         },
         "mode": "markers",
         "name": "Not in",
         "orientation": "v",
         "showlegend": true,
         "type": "scatter",
         "x": {
          "bdata": "SHW2v7OkuL9s3VQ+0SvnwCBbBMEBwyW/uRnIwCklAMGnTuTAnoTnwKN5wb5ddrnAmlGrPxH+0sAkpbXAJ2eAPyQWtj5VssTAqG+iQLLtv0DFz8hATWO+QNpKpEDsY5/AIfgZwFJRrUD6a/BAIa0FQRhfA0FTq91AnUpgwH0aI8BNQmu/ImXGvw==",
          "dtype": "f4"
         },
         "xaxis": "x",
         "y": {
          "bdata": "FKMqQRgcx0AJCNVA+AKwQK4FrT+ujjZB9yavQA0foUASwTBAAgaPQJcIv0CQnTRAzX4FQS5U6z/rcbxA+GLcQEou+kDxpo1A0mQEQWGSA0GoiCJBezQvQRVRNEHIwahA+NoeQZoDEUEWV9JACtngQCRO+kBjUztBDV2ZQEiYuEBdTOhATQYYQQ==",
          "dtype": "f4"
         },
         "yaxis": "y"
        },
        {
         "hovertemplate": "<b>%{hovertext}</b><br><br>Membership=In<br>x=%{x}<br>y=%{y}<extra></extra>",
         "hovertext": [
          "M",
          "N",
          "A",
          "N",
          "B",
          "L",
          "J",
          "C",
          "J",
          "B",
          "V",
          "C"
         ],
         "legendgroup": "In",
         "marker": {
          "color": "#EF553B",
          "line": {
           "color": "DarkSlateGrey",
           "width": 1
          },
          "size": 8,
          "symbol": "circle"
         },
         "mode": "markers",
         "name": "In",
         "orientation": "v",
         "showlegend": true,
         "type": "scatter",
         "x": {
          "bdata": "erQZwMhOAcF61MG/JcGLwAY608ARDt/ACN/IQEE75kBoTKjA1Rf3v/9G5L92gbjA",
          "dtype": "f4"
         },
         "xaxis": "x",
         "y": {
          "bdata": "WiEwQeC1Gz/7QD1BB0iQQPF8X0CTgo4/jVk5Qek77UBcs4NAEcjaQKhGCUELHc0/",
          "dtype": "f4"
         },
         "yaxis": "y"
        }
       ],
       "layout": {
        "height": 600,
        "legend": {
         "title": {
          "text": "Membership"
         },
         "tracegroupgap": 0
        },
        "template": {
         "data": {
          "bar": [
           {
            "error_x": {
             "color": "#2a3f5f"
            },
            "error_y": {
             "color": "#2a3f5f"
            },
            "marker": {
             "line": {
              "color": "#E5ECF6",
              "width": 0.5
             },
             "pattern": {
              "fillmode": "overlay",
              "size": 10,
              "solidity": 0.2
             }
            },
            "type": "bar"
           }
          ],
          "barpolar": [
           {
            "marker": {
             "line": {
              "color": "#E5ECF6",
              "width": 0.5
             },
             "pattern": {
              "fillmode": "overlay",
              "size": 10,
              "solidity": 0.2
             }
            },
            "type": "barpolar"
           }
          ],
          "carpet": [
           {
            "aaxis": {
             "endlinecolor": "#2a3f5f",
             "gridcolor": "white",
             "linecolor": "white",
             "minorgridcolor": "white",
             "startlinecolor": "#2a3f5f"
            },
            "baxis": {
             "endlinecolor": "#2a3f5f",
             "gridcolor": "white",
             "linecolor": "white",
             "minorgridcolor": "white",
             "startlinecolor": "#2a3f5f"
            },
            "type": "carpet"
           }
          ],
          "choropleth": [
           {
            "colorbar": {
             "outlinewidth": 0,
             "ticks": ""
            },
            "type": "choropleth"
           }
          ],
          "contour": [
           {
            "colorbar": {
             "outlinewidth": 0,
             "ticks": ""
            },
            "colorscale": [
             [
              0,
              "#0d0887"
             ],
             [
              0.1111111111111111,
              "#46039f"
             ],
             [
              0.2222222222222222,
              "#7201a8"
             ],
             [
              0.3333333333333333,
              "#9c179e"
             ],
             [
              0.4444444444444444,
              "#bd3786"
             ],
             [
              0.5555555555555556,
              "#d8576b"
             ],
             [
              0.6666666666666666,
              "#ed7953"
             ],
             [
              0.7777777777777778,
              "#fb9f3a"
             ],
             [
              0.8888888888888888,
              "#fdca26"
             ],
             [
              1,
              "#f0f921"
             ]
            ],
            "type": "contour"
           }
          ],
          "contourcarpet": [
           {
            "colorbar": {
             "outlinewidth": 0,
             "ticks": ""
            },
            "type": "contourcarpet"
           }
          ],
          "heatmap": [
           {
            "colorbar": {
             "outlinewidth": 0,
             "ticks": ""
            },
            "colorscale": [
             [
              0,
              "#0d0887"
             ],
             [
              0.1111111111111111,
              "#46039f"
             ],
             [
              0.2222222222222222,
              "#7201a8"
             ],
             [
              0.3333333333333333,
              "#9c179e"
             ],
             [
              0.4444444444444444,
              "#bd3786"
             ],
             [
              0.5555555555555556,
              "#d8576b"
             ],
             [
              0.6666666666666666,
              "#ed7953"
             ],
             [
              0.7777777777777778,
              "#fb9f3a"
             ],
             [
              0.8888888888888888,
              "#fdca26"
             ],
             [
              1,
              "#f0f921"
             ]
            ],
            "type": "heatmap"
           }
          ],
          "histogram": [
           {
            "marker": {
             "pattern": {
              "fillmode": "overlay",
              "size": 10,
              "solidity": 0.2
             }
            },
            "type": "histogram"
           }
          ],
          "histogram2d": [
           {
            "colorbar": {
             "outlinewidth": 0,
             "ticks": ""
            },
            "colorscale": [
             [
              0,
              "#0d0887"
             ],
             [
              0.1111111111111111,
              "#46039f"
             ],
             [
              0.2222222222222222,
              "#7201a8"
             ],
             [
              0.3333333333333333,
              "#9c179e"
             ],
             [
              0.4444444444444444,
              "#bd3786"
             ],
             [
              0.5555555555555556,
              "#d8576b"
             ],
             [
              0.6666666666666666,
              "#ed7953"
             ],
             [
              0.7777777777777778,
              "#fb9f3a"
             ],
             [
              0.8888888888888888,
              "#fdca26"
             ],
             [
              1,
              "#f0f921"
             ]
            ],
            "type": "histogram2d"
           }
          ],
          "histogram2dcontour": [
           {
            "colorbar": {
             "outlinewidth": 0,
             "ticks": ""
            },
            "colorscale": [
             [
              0,
              "#0d0887"
             ],
             [
              0.1111111111111111,
              "#46039f"
             ],
             [
              0.2222222222222222,
              "#7201a8"
             ],
             [
              0.3333333333333333,
              "#9c179e"
             ],
             [
              0.4444444444444444,
              "#bd3786"
             ],
             [
              0.5555555555555556,
              "#d8576b"
             ],
             [
              0.6666666666666666,
              "#ed7953"
             ],
             [
              0.7777777777777778,
              "#fb9f3a"
             ],
             [
              0.8888888888888888,
              "#fdca26"
             ],
             [
              1,
              "#f0f921"
             ]
            ],
            "type": "histogram2dcontour"
           }
          ],
          "mesh3d": [
           {
            "colorbar": {
             "outlinewidth": 0,
             "ticks": ""
            },
            "type": "mesh3d"
           }
          ],
          "parcoords": [
           {
            "line": {
             "colorbar": {
              "outlinewidth": 0,
              "ticks": ""
             }
            },
            "type": "parcoords"
           }
          ],
          "pie": [
           {
            "automargin": true,
            "type": "pie"
           }
          ],
          "scatter": [
           {
            "fillpattern": {
             "fillmode": "overlay",
             "size": 10,
             "solidity": 0.2
            },
            "type": "scatter"
           }
          ],
          "scatter3d": [
           {
            "line": {
             "colorbar": {
              "outlinewidth": 0,
              "ticks": ""
             }
            },
            "marker": {
             "colorbar": {
              "outlinewidth": 0,
              "ticks": ""
             }
            },
            "type": "scatter3d"
           }
          ],
          "scattercarpet": [
           {
            "marker": {
             "colorbar": {
              "outlinewidth": 0,
              "ticks": ""
             }
            },
            "type": "scattercarpet"
           }
          ],
          "scattergeo": [
           {
            "marker": {
             "colorbar": {
              "outlinewidth": 0,
              "ticks": ""
             }
            },
            "type": "scattergeo"
           }
          ],
          "scattergl": [
           {
            "marker": {
             "colorbar": {
              "outlinewidth": 0,
              "ticks": ""
             }
            },
            "type": "scattergl"
           }
          ],
          "scattermap": [
           {
            "marker": {
             "colorbar": {
              "outlinewidth": 0,
              "ticks": ""
             }
            },
            "type": "scattermap"
           }
          ],
          "scattermapbox": [
           {
            "marker": {
             "colorbar": {
              "outlinewidth": 0,
              "ticks": ""
             }
            },
            "type": "scattermapbox"
           }
          ],
          "scatterpolar": [
           {
            "marker": {
             "colorbar": {
              "outlinewidth": 0,
              "ticks": ""
             }
            },
            "type": "scatterpolar"
           }
          ],
          "scatterpolargl": [
           {
            "marker": {
             "colorbar": {
              "outlinewidth": 0,
              "ticks": ""
             }
            },
            "type": "scatterpolargl"
           }
          ],
          "scatterternary": [
           {
            "marker": {
             "colorbar": {
              "outlinewidth": 0,
              "ticks": ""
             }
            },
            "type": "scatterternary"
           }
          ],
          "surface": [
           {
            "colorbar": {
             "outlinewidth": 0,
             "ticks": ""
            },
            "colorscale": [
             [
              0,
              "#0d0887"
             ],
             [
              0.1111111111111111,
              "#46039f"
             ],
             [
              0.2222222222222222,
              "#7201a8"
             ],
             [
              0.3333333333333333,
              "#9c179e"
             ],
             [
              0.4444444444444444,
              "#bd3786"
             ],
             [
              0.5555555555555556,
              "#d8576b"
             ],
             [
              0.6666666666666666,
              "#ed7953"
             ],
             [
              0.7777777777777778,
              "#fb9f3a"
             ],
             [
              0.8888888888888888,
              "#fdca26"
             ],
             [
              1,
              "#f0f921"
             ]
            ],
            "type": "surface"
           }
          ],
          "table": [
           {
            "cells": {
             "fill": {
              "color": "#EBF0F8"
             },
             "line": {
              "color": "white"
             }
            },
            "header": {
             "fill": {
              "color": "#C8D4E3"
             },
             "line": {
              "color": "white"
             }
            },
            "type": "table"
           }
          ]
         },
         "layout": {
          "annotationdefaults": {
           "arrowcolor": "#2a3f5f",
           "arrowhead": 0,
           "arrowwidth": 1
          },
          "autotypenumbers": "strict",
          "coloraxis": {
           "colorbar": {
            "outlinewidth": 0,
            "ticks": ""
           }
          },
          "colorscale": {
           "diverging": [
            [
             0,
             "#8e0152"
            ],
            [
             0.1,
             "#c51b7d"
            ],
            [
             0.2,
             "#de77ae"
            ],
            [
             0.3,
             "#f1b6da"
            ],
            [
             0.4,
             "#fde0ef"
            ],
            [
             0.5,
             "#f7f7f7"
            ],
            [
             0.6,
             "#e6f5d0"
            ],
            [
             0.7,
             "#b8e186"
            ],
            [
             0.8,
             "#7fbc41"
            ],
            [
             0.9,
             "#4d9221"
            ],
            [
             1,
             "#276419"
            ]
           ],
           "sequential": [
            [
             0,
             "#0d0887"
            ],
            [
             0.1111111111111111,
             "#46039f"
            ],
            [
             0.2222222222222222,
             "#7201a8"
            ],
            [
             0.3333333333333333,
             "#9c179e"
            ],
            [
             0.4444444444444444,
             "#bd3786"
            ],
            [
             0.5555555555555556,
             "#d8576b"
            ],
            [
             0.6666666666666666,
             "#ed7953"
            ],
            [
             0.7777777777777778,
             "#fb9f3a"
            ],
            [
             0.8888888888888888,
             "#fdca26"
            ],
            [
             1,
             "#f0f921"
            ]
           ],
           "sequentialminus": [
            [
             0,
             "#0d0887"
            ],
            [
             0.1111111111111111,
             "#46039f"
            ],
            [
             0.2222222222222222,
             "#7201a8"
            ],
            [
             0.3333333333333333,
             "#9c179e"
            ],
            [
             0.4444444444444444,
             "#bd3786"
            ],
            [
             0.5555555555555556,
             "#d8576b"
            ],
            [
             0.6666666666666666,
             "#ed7953"
            ],
            [
             0.7777777777777778,
             "#fb9f3a"
            ],
            [
             0.8888888888888888,
             "#fdca26"
            ],
            [
             1,
             "#f0f921"
            ]
           ]
          },
          "colorway": [
           "#636efa",
           "#EF553B",
           "#00cc96",
           "#ab63fa",
           "#FFA15A",
           "#19d3f3",
           "#FF6692",
           "#B6E880",
           "#FF97FF",
           "#FECB52"
          ],
          "font": {
           "color": "#2a3f5f"
          },
          "geo": {
           "bgcolor": "white",
           "lakecolor": "white",
           "landcolor": "#E5ECF6",
           "showlakes": true,
           "showland": true,
           "subunitcolor": "white"
          },
          "hoverlabel": {
           "align": "left"
          },
          "hovermode": "closest",
          "mapbox": {
           "style": "light"
          },
          "paper_bgcolor": "white",
          "plot_bgcolor": "#E5ECF6",
          "polar": {
           "angularaxis": {
            "gridcolor": "white",
            "linecolor": "white",
            "ticks": ""
           },
           "bgcolor": "#E5ECF6",
           "radialaxis": {
            "gridcolor": "white",
            "linecolor": "white",
            "ticks": ""
           }
          },
          "scene": {
           "xaxis": {
            "backgroundcolor": "#E5ECF6",
            "gridcolor": "white",
            "gridwidth": 2,
            "linecolor": "white",
            "showbackground": true,
            "ticks": "",
            "zerolinecolor": "white"
           },
           "yaxis": {
            "backgroundcolor": "#E5ECF6",
            "gridcolor": "white",
            "gridwidth": 2,
            "linecolor": "white",
            "showbackground": true,
            "ticks": "",
            "zerolinecolor": "white"
           },
           "zaxis": {
            "backgroundcolor": "#E5ECF6",
            "gridcolor": "white",
            "gridwidth": 2,
            "linecolor": "white",
            "showbackground": true,
            "ticks": "",
            "zerolinecolor": "white"
           }
          },
          "shapedefaults": {
           "line": {
            "color": "#2a3f5f"
           }
          },
          "ternary": {
           "aaxis": {
            "gridcolor": "white",
            "linecolor": "white",
            "ticks": ""
           },
           "baxis": {
            "gridcolor": "white",
            "linecolor": "white",
            "ticks": ""
           },
           "bgcolor": "#E5ECF6",
           "caxis": {
            "gridcolor": "white",
            "linecolor": "white",
            "ticks": ""
           }
          },
          "title": {
           "x": 0.05
          },
          "xaxis": {
           "automargin": true,
           "gridcolor": "white",
           "linecolor": "white",
           "ticks": "",
           "title": {
            "standoff": 15
           },
           "zerolinecolor": "white",
           "zerolinewidth": 2
          },
          "yaxis": {
           "automargin": true,
           "gridcolor": "white",
           "linecolor": "white",
           "ticks": "",
           "title": {
            "standoff": 15
           },
           "zerolinecolor": "white",
           "zerolinewidth": 2
          }
         }
        },
        "title": {
         "text": "PCA projection colored by presence in SHE"
        },
        "width": 600,
        "xaxis": {
         "anchor": "y",
         "domain": [
          0,
          1
         ],
         "title": {
          "text": "x"
         }
        },
        "yaxis": {
         "anchor": "x",
         "domain": [
          0,
          1
         ],
         "title": {
          "text": "y"
         }
        }
       }
      }
     },
     "metadata": {},
     "output_type": "display_data"
    },
    {
     "data": {
      "application/vnd.plotly.v1+json": {
       "config": {
        "plotlyServerURL": "https://plot.ly"
       },
       "data": [
        {
         "hovertemplate": "<b>%{hovertext}</b><br><br>Membership=In<br>x=%{x}<br>y=%{y}<extra></extra>",
         "hovertext": [
          "G",
          "T",
          "M",
          "N",
          "A",
          "M",
          "A",
          "N",
          "O",
          "L",
          "J",
          "X",
          "J",
          "B",
          "V",
          "M",
          "C"
         ],
         "legendgroup": "In",
         "marker": {
          "color": "#636efa",
          "line": {
           "color": "DarkSlateGrey",
           "width": 1
          },
          "size": 8,
          "symbol": "circle"
         },
         "mode": "markers",
         "name": "In",
         "orientation": "v",
         "showlegend": true,
         "type": "scatter",
         "x": {
          "bdata": "SHW2v7OkuL96tBnAyE4BwWzdVD7RK+fAIFsEwSklAMGnTuTAEQ7fwAjfyED6a/BAaEyowNUX97//RuS/ImXGv3aBuMA=",
          "dtype": "f4"
         },
         "xaxis": "x",
         "y": {
          "bdata": "FKMqQRgcx0BaITBB4LUbPwkI1UD4ArBArgWtPw0foUASwTBAk4KOP41ZOUEWV9JAXLODQBHI2kCoRglBTQYYQQsdzT8=",
          "dtype": "f4"
         },
         "yaxis": "y"
        },
        {
         "hovertemplate": "<b>%{hovertext}</b><br><br>Membership=Not in<br>x=%{x}<br>y=%{y}<extra></extra>",
         "hovertext": [
          "A",
          "T",
          "A",
          "S",
          "C",
          "I",
          "I",
          "P",
          "C",
          "S",
          "A",
          "N",
          "U",
          "B",
          "N",
          "M",
          "U",
          "T",
          "D",
          "I",
          "S",
          "R",
          "C",
          "C",
          "S",
          "N",
          "G",
          "M",
          "B"
         ],
         "legendgroup": "Not in",
         "marker": {
          "color": "#EF553B",
          "line": {
           "color": "DarkSlateGrey",
           "width": 1
          },
          "size": 8,
          "symbol": "circle"
         },
         "mode": "markers",
         "name": "Not in",
         "orientation": "v",
         "showlegend": true,
         "type": "scatter",
         "x": {
          "bdata": "AcMlv7kZyMB61MG/noTnwKN5wb5ddrnAmlGrPxH+0sAkpbXAJ2eAPyQWtj4lwYvAVbLEwAY608Cob6JAsu2/QMXPyEBNY75A2kqkQOxjn8Ah+BnAUlGtQEE75kAhrQVBGF8DQVOr3UCdSmDAfRojwE1Ca78=",
          "dtype": "f4"
         },
         "xaxis": "x",
         "y": {
          "bdata": "ro42Qfcmr0D7QD1BAgaPQJcIv0CQnTRAzX4FQS5U6z/rcbxA+GLcQEou+kAHSJBA8aaNQPF8X0DSZARBYZIDQaiIIkF7NC9BFVE0QcjBqED42h5BmgMRQek77UAK2eBAJE76QGNTO0ENXZlASJi4QF1M6EA=",
          "dtype": "f4"
         },
         "yaxis": "y"
        }
       ],
       "layout": {
        "height": 600,
        "legend": {
         "title": {
          "text": "Membership"
         },
         "tracegroupgap": 0
        },
        "template": {
         "data": {
          "bar": [
           {
            "error_x": {
             "color": "#2a3f5f"
            },
            "error_y": {
             "color": "#2a3f5f"
            },
            "marker": {
             "line": {
              "color": "#E5ECF6",
              "width": 0.5
             },
             "pattern": {
              "fillmode": "overlay",
              "size": 10,
              "solidity": 0.2
             }
            },
            "type": "bar"
           }
          ],
          "barpolar": [
           {
            "marker": {
             "line": {
              "color": "#E5ECF6",
              "width": 0.5
             },
             "pattern": {
              "fillmode": "overlay",
              "size": 10,
              "solidity": 0.2
             }
            },
            "type": "barpolar"
           }
          ],
          "carpet": [
           {
            "aaxis": {
             "endlinecolor": "#2a3f5f",
             "gridcolor": "white",
             "linecolor": "white",
             "minorgridcolor": "white",
             "startlinecolor": "#2a3f5f"
            },
            "baxis": {
             "endlinecolor": "#2a3f5f",
             "gridcolor": "white",
             "linecolor": "white",
             "minorgridcolor": "white",
             "startlinecolor": "#2a3f5f"
            },
            "type": "carpet"
           }
          ],
          "choropleth": [
           {
            "colorbar": {
             "outlinewidth": 0,
             "ticks": ""
            },
            "type": "choropleth"
           }
          ],
          "contour": [
           {
            "colorbar": {
             "outlinewidth": 0,
             "ticks": ""
            },
            "colorscale": [
             [
              0,
              "#0d0887"
             ],
             [
              0.1111111111111111,
              "#46039f"
             ],
             [
              0.2222222222222222,
              "#7201a8"
             ],
             [
              0.3333333333333333,
              "#9c179e"
             ],
             [
              0.4444444444444444,
              "#bd3786"
             ],
             [
              0.5555555555555556,
              "#d8576b"
             ],
             [
              0.6666666666666666,
              "#ed7953"
             ],
             [
              0.7777777777777778,
              "#fb9f3a"
             ],
             [
              0.8888888888888888,
              "#fdca26"
             ],
             [
              1,
              "#f0f921"
             ]
            ],
            "type": "contour"
           }
          ],
          "contourcarpet": [
           {
            "colorbar": {
             "outlinewidth": 0,
             "ticks": ""
            },
            "type": "contourcarpet"
           }
          ],
          "heatmap": [
           {
            "colorbar": {
             "outlinewidth": 0,
             "ticks": ""
            },
            "colorscale": [
             [
              0,
              "#0d0887"
             ],
             [
              0.1111111111111111,
              "#46039f"
             ],
             [
              0.2222222222222222,
              "#7201a8"
             ],
             [
              0.3333333333333333,
              "#9c179e"
             ],
             [
              0.4444444444444444,
              "#bd3786"
             ],
             [
              0.5555555555555556,
              "#d8576b"
             ],
             [
              0.6666666666666666,
              "#ed7953"
             ],
             [
              0.7777777777777778,
              "#fb9f3a"
             ],
             [
              0.8888888888888888,
              "#fdca26"
             ],
             [
              1,
              "#f0f921"
             ]
            ],
            "type": "heatmap"
           }
          ],
          "histogram": [
           {
            "marker": {
             "pattern": {
              "fillmode": "overlay",
              "size": 10,
              "solidity": 0.2
             }
            },
            "type": "histogram"
           }
          ],
          "histogram2d": [
           {
            "colorbar": {
             "outlinewidth": 0,
             "ticks": ""
            },
            "colorscale": [
             [
              0,
              "#0d0887"
             ],
             [
              0.1111111111111111,
              "#46039f"
             ],
             [
              0.2222222222222222,
              "#7201a8"
             ],
             [
              0.3333333333333333,
              "#9c179e"
             ],
             [
              0.4444444444444444,
              "#bd3786"
             ],
             [
              0.5555555555555556,
              "#d8576b"
             ],
             [
              0.6666666666666666,
              "#ed7953"
             ],
             [
              0.7777777777777778,
              "#fb9f3a"
             ],
             [
              0.8888888888888888,
              "#fdca26"
             ],
             [
              1,
              "#f0f921"
             ]
            ],
            "type": "histogram2d"
           }
          ],
          "histogram2dcontour": [
           {
            "colorbar": {
             "outlinewidth": 0,
             "ticks": ""
            },
            "colorscale": [
             [
              0,
              "#0d0887"
             ],
             [
              0.1111111111111111,
              "#46039f"
             ],
             [
              0.2222222222222222,
              "#7201a8"
             ],
             [
              0.3333333333333333,
              "#9c179e"
             ],
             [
              0.4444444444444444,
              "#bd3786"
             ],
             [
              0.5555555555555556,
              "#d8576b"
             ],
             [
              0.6666666666666666,
              "#ed7953"
             ],
             [
              0.7777777777777778,
              "#fb9f3a"
             ],
             [
              0.8888888888888888,
              "#fdca26"
             ],
             [
              1,
              "#f0f921"
             ]
            ],
            "type": "histogram2dcontour"
           }
          ],
          "mesh3d": [
           {
            "colorbar": {
             "outlinewidth": 0,
             "ticks": ""
            },
            "type": "mesh3d"
           }
          ],
          "parcoords": [
           {
            "line": {
             "colorbar": {
              "outlinewidth": 0,
              "ticks": ""
             }
            },
            "type": "parcoords"
           }
          ],
          "pie": [
           {
            "automargin": true,
            "type": "pie"
           }
          ],
          "scatter": [
           {
            "fillpattern": {
             "fillmode": "overlay",
             "size": 10,
             "solidity": 0.2
            },
            "type": "scatter"
           }
          ],
          "scatter3d": [
           {
            "line": {
             "colorbar": {
              "outlinewidth": 0,
              "ticks": ""
             }
            },
            "marker": {
             "colorbar": {
              "outlinewidth": 0,
              "ticks": ""
             }
            },
            "type": "scatter3d"
           }
          ],
          "scattercarpet": [
           {
            "marker": {
             "colorbar": {
              "outlinewidth": 0,
              "ticks": ""
             }
            },
            "type": "scattercarpet"
           }
          ],
          "scattergeo": [
           {
            "marker": {
             "colorbar": {
              "outlinewidth": 0,
              "ticks": ""
             }
            },
            "type": "scattergeo"
           }
          ],
          "scattergl": [
           {
            "marker": {
             "colorbar": {
              "outlinewidth": 0,
              "ticks": ""
             }
            },
            "type": "scattergl"
           }
          ],
          "scattermap": [
           {
            "marker": {
             "colorbar": {
              "outlinewidth": 0,
              "ticks": ""
             }
            },
            "type": "scattermap"
           }
          ],
          "scattermapbox": [
           {
            "marker": {
             "colorbar": {
              "outlinewidth": 0,
              "ticks": ""
             }
            },
            "type": "scattermapbox"
           }
          ],
          "scatterpolar": [
           {
            "marker": {
             "colorbar": {
              "outlinewidth": 0,
              "ticks": ""
             }
            },
            "type": "scatterpolar"
           }
          ],
          "scatterpolargl": [
           {
            "marker": {
             "colorbar": {
              "outlinewidth": 0,
              "ticks": ""
             }
            },
            "type": "scatterpolargl"
           }
          ],
          "scatterternary": [
           {
            "marker": {
             "colorbar": {
              "outlinewidth": 0,
              "ticks": ""
             }
            },
            "type": "scatterternary"
           }
          ],
          "surface": [
           {
            "colorbar": {
             "outlinewidth": 0,
             "ticks": ""
            },
            "colorscale": [
             [
              0,
              "#0d0887"
             ],
             [
              0.1111111111111111,
              "#46039f"
             ],
             [
              0.2222222222222222,
              "#7201a8"
             ],
             [
              0.3333333333333333,
              "#9c179e"
             ],
             [
              0.4444444444444444,
              "#bd3786"
             ],
             [
              0.5555555555555556,
              "#d8576b"
             ],
             [
              0.6666666666666666,
              "#ed7953"
             ],
             [
              0.7777777777777778,
              "#fb9f3a"
             ],
             [
              0.8888888888888888,
              "#fdca26"
             ],
             [
              1,
              "#f0f921"
             ]
            ],
            "type": "surface"
           }
          ],
          "table": [
           {
            "cells": {
             "fill": {
              "color": "#EBF0F8"
             },
             "line": {
              "color": "white"
             }
            },
            "header": {
             "fill": {
              "color": "#C8D4E3"
             },
             "line": {
              "color": "white"
             }
            },
            "type": "table"
           }
          ]
         },
         "layout": {
          "annotationdefaults": {
           "arrowcolor": "#2a3f5f",
           "arrowhead": 0,
           "arrowwidth": 1
          },
          "autotypenumbers": "strict",
          "coloraxis": {
           "colorbar": {
            "outlinewidth": 0,
            "ticks": ""
           }
          },
          "colorscale": {
           "diverging": [
            [
             0,
             "#8e0152"
            ],
            [
             0.1,
             "#c51b7d"
            ],
            [
             0.2,
             "#de77ae"
            ],
            [
             0.3,
             "#f1b6da"
            ],
            [
             0.4,
             "#fde0ef"
            ],
            [
             0.5,
             "#f7f7f7"
            ],
            [
             0.6,
             "#e6f5d0"
            ],
            [
             0.7,
             "#b8e186"
            ],
            [
             0.8,
             "#7fbc41"
            ],
            [
             0.9,
             "#4d9221"
            ],
            [
             1,
             "#276419"
            ]
           ],
           "sequential": [
            [
             0,
             "#0d0887"
            ],
            [
             0.1111111111111111,
             "#46039f"
            ],
            [
             0.2222222222222222,
             "#7201a8"
            ],
            [
             0.3333333333333333,
             "#9c179e"
            ],
            [
             0.4444444444444444,
             "#bd3786"
            ],
            [
             0.5555555555555556,
             "#d8576b"
            ],
            [
             0.6666666666666666,
             "#ed7953"
            ],
            [
             0.7777777777777778,
             "#fb9f3a"
            ],
            [
             0.8888888888888888,
             "#fdca26"
            ],
            [
             1,
             "#f0f921"
            ]
           ],
           "sequentialminus": [
            [
             0,
             "#0d0887"
            ],
            [
             0.1111111111111111,
             "#46039f"
            ],
            [
             0.2222222222222222,
             "#7201a8"
            ],
            [
             0.3333333333333333,
             "#9c179e"
            ],
            [
             0.4444444444444444,
             "#bd3786"
            ],
            [
             0.5555555555555556,
             "#d8576b"
            ],
            [
             0.6666666666666666,
             "#ed7953"
            ],
            [
             0.7777777777777778,
             "#fb9f3a"
            ],
            [
             0.8888888888888888,
             "#fdca26"
            ],
            [
             1,
             "#f0f921"
            ]
           ]
          },
          "colorway": [
           "#636efa",
           "#EF553B",
           "#00cc96",
           "#ab63fa",
           "#FFA15A",
           "#19d3f3",
           "#FF6692",
           "#B6E880",
           "#FF97FF",
           "#FECB52"
          ],
          "font": {
           "color": "#2a3f5f"
          },
          "geo": {
           "bgcolor": "white",
           "lakecolor": "white",
           "landcolor": "#E5ECF6",
           "showlakes": true,
           "showland": true,
           "subunitcolor": "white"
          },
          "hoverlabel": {
           "align": "left"
          },
          "hovermode": "closest",
          "mapbox": {
           "style": "light"
          },
          "paper_bgcolor": "white",
          "plot_bgcolor": "#E5ECF6",
          "polar": {
           "angularaxis": {
            "gridcolor": "white",
            "linecolor": "white",
            "ticks": ""
           },
           "bgcolor": "#E5ECF6",
           "radialaxis": {
            "gridcolor": "white",
            "linecolor": "white",
            "ticks": ""
           }
          },
          "scene": {
           "xaxis": {
            "backgroundcolor": "#E5ECF6",
            "gridcolor": "white",
            "gridwidth": 2,
            "linecolor": "white",
            "showbackground": true,
            "ticks": "",
            "zerolinecolor": "white"
           },
           "yaxis": {
            "backgroundcolor": "#E5ECF6",
            "gridcolor": "white",
            "gridwidth": 2,
            "linecolor": "white",
            "showbackground": true,
            "ticks": "",
            "zerolinecolor": "white"
           },
           "zaxis": {
            "backgroundcolor": "#E5ECF6",
            "gridcolor": "white",
            "gridwidth": 2,
            "linecolor": "white",
            "showbackground": true,
            "ticks": "",
            "zerolinecolor": "white"
           }
          },
          "shapedefaults": {
           "line": {
            "color": "#2a3f5f"
           }
          },
          "ternary": {
           "aaxis": {
            "gridcolor": "white",
            "linecolor": "white",
            "ticks": ""
           },
           "baxis": {
            "gridcolor": "white",
            "linecolor": "white",
            "ticks": ""
           },
           "bgcolor": "#E5ECF6",
           "caxis": {
            "gridcolor": "white",
            "linecolor": "white",
            "ticks": ""
           }
          },
          "title": {
           "x": 0.05
          },
          "xaxis": {
           "automargin": true,
           "gridcolor": "white",
           "linecolor": "white",
           "ticks": "",
           "title": {
            "standoff": 15
           },
           "zerolinecolor": "white",
           "zerolinewidth": 2
          },
          "yaxis": {
           "automargin": true,
           "gridcolor": "white",
           "linecolor": "white",
           "ticks": "",
           "title": {
            "standoff": 15
           },
           "zerolinecolor": "white",
           "zerolinewidth": 2
          }
         }
        },
        "title": {
         "text": "PCA projection colored by presence in SPY"
        },
        "width": 600,
        "xaxis": {
         "anchor": "y",
         "domain": [
          0,
          1
         ],
         "title": {
          "text": "x"
         }
        },
        "yaxis": {
         "anchor": "x",
         "domain": [
          0,
          1
         ],
         "title": {
          "text": "y"
         }
        }
       }
      }
     },
     "metadata": {},
     "output_type": "display_data"
    },
    {
     "data": {
      "application/vnd.plotly.v1+json": {
       "config": {
        "plotlyServerURL": "https://plot.ly"
       },
       "data": [
        {
         "hovertemplate": "<b>%{hovertext}</b><br><br>Membership=In<br>x=%{x}<br>y=%{y}<extra></extra>",
         "hovertext": [
          "G",
          "M",
          "N"
         ],
         "legendgroup": "In",
         "marker": {
          "color": "#636efa",
          "line": {
           "color": "DarkSlateGrey",
           "width": 1
          },
          "size": 8,
          "symbol": "circle"
         },
         "mode": "markers",
         "name": "In",
         "orientation": "v",
         "showlegend": true,
         "type": "scatter",
         "x": {
          "bdata": "SHW2v9Er58ApJQDB",
          "dtype": "f4"
         },
         "xaxis": "x",
         "y": {
          "bdata": "FKMqQfgCsEANH6FA",
          "dtype": "f4"
         },
         "yaxis": "y"
        },
        {
         "hovertemplate": "<b>%{hovertext}</b><br><br>Membership=Not in<br>x=%{x}<br>y=%{y}<extra></extra>",
         "hovertext": [
          "T",
          "M",
          "N",
          "A",
          "A",
          "A",
          "T",
          "A",
          "O",
          "S",
          "C",
          "I",
          "I",
          "P",
          "C",
          "S",
          "A",
          "N",
          "U",
          "B",
          "L",
          "N",
          "J",
          "M",
          "U",
          "T",
          "D",
          "I",
          "S",
          "R",
          "X",
          "C",
          "C",
          "S",
          "N",
          "J",
          "B",
          "G",
          "M",
          "B",
          "V",
          "M",
          "C"
         ],
         "legendgroup": "Not in",
         "marker": {
          "color": "#EF553B",
          "line": {
           "color": "DarkSlateGrey",
           "width": 1
          },
          "size": 8,
          "symbol": "circle"
         },
         "mode": "markers",
         "name": "Not in",
         "orientation": "v",
         "showlegend": true,
         "type": "scatter",
         "x": {
          "bdata": "s6S4v3q0GcDITgHBbN1UPiBbBMEBwyW/uRnIwHrUwb+nTuTAnoTnwKN5wb5ddrnAmlGrPxH+0sAkpbXAJ2eAPyQWtj4lwYvAVbLEwAY608ARDt/AqG+iQAjfyECy7b9Axc/IQE1jvkDaSqRA7GOfwCH4GcBSUa1A+mvwQEE75kAhrQVBGF8DQVOr3UBoTKjA1Rf3v51KYMB9GiPATUJrv/9G5L8iZca/doG4wA==",
          "dtype": "f4"
         },
         "xaxis": "x",
         "y": {
          "bdata": "GBzHQFohMEHgtRs/CQjVQK4FrT+ujjZB9yavQPtAPUESwTBAAgaPQJcIv0CQnTRAzX4FQS5U6z/rcbxA+GLcQEou+kAHSJBA8aaNQPF8X0CTgo4/0mQEQY1ZOUFhkgNBqIgiQXs0L0EVUTRByMGoQPjaHkGaAxFBFlfSQOk77UAK2eBAJE76QGNTO0Fcs4NAEcjaQA1dmUBImLhAXUzoQKhGCUFNBhhBCx3NPw==",
          "dtype": "f4"
         },
         "yaxis": "y"
        }
       ],
       "layout": {
        "height": 600,
        "legend": {
         "title": {
          "text": "Membership"
         },
         "tracegroupgap": 0
        },
        "template": {
         "data": {
          "bar": [
           {
            "error_x": {
             "color": "#2a3f5f"
            },
            "error_y": {
             "color": "#2a3f5f"
            },
            "marker": {
             "line": {
              "color": "#E5ECF6",
              "width": 0.5
             },
             "pattern": {
              "fillmode": "overlay",
              "size": 10,
              "solidity": 0.2
             }
            },
            "type": "bar"
           }
          ],
          "barpolar": [
           {
            "marker": {
             "line": {
              "color": "#E5ECF6",
              "width": 0.5
             },
             "pattern": {
              "fillmode": "overlay",
              "size": 10,
              "solidity": 0.2
             }
            },
            "type": "barpolar"
           }
          ],
          "carpet": [
           {
            "aaxis": {
             "endlinecolor": "#2a3f5f",
             "gridcolor": "white",
             "linecolor": "white",
             "minorgridcolor": "white",
             "startlinecolor": "#2a3f5f"
            },
            "baxis": {
             "endlinecolor": "#2a3f5f",
             "gridcolor": "white",
             "linecolor": "white",
             "minorgridcolor": "white",
             "startlinecolor": "#2a3f5f"
            },
            "type": "carpet"
           }
          ],
          "choropleth": [
           {
            "colorbar": {
             "outlinewidth": 0,
             "ticks": ""
            },
            "type": "choropleth"
           }
          ],
          "contour": [
           {
            "colorbar": {
             "outlinewidth": 0,
             "ticks": ""
            },
            "colorscale": [
             [
              0,
              "#0d0887"
             ],
             [
              0.1111111111111111,
              "#46039f"
             ],
             [
              0.2222222222222222,
              "#7201a8"
             ],
             [
              0.3333333333333333,
              "#9c179e"
             ],
             [
              0.4444444444444444,
              "#bd3786"
             ],
             [
              0.5555555555555556,
              "#d8576b"
             ],
             [
              0.6666666666666666,
              "#ed7953"
             ],
             [
              0.7777777777777778,
              "#fb9f3a"
             ],
             [
              0.8888888888888888,
              "#fdca26"
             ],
             [
              1,
              "#f0f921"
             ]
            ],
            "type": "contour"
           }
          ],
          "contourcarpet": [
           {
            "colorbar": {
             "outlinewidth": 0,
             "ticks": ""
            },
            "type": "contourcarpet"
           }
          ],
          "heatmap": [
           {
            "colorbar": {
             "outlinewidth": 0,
             "ticks": ""
            },
            "colorscale": [
             [
              0,
              "#0d0887"
             ],
             [
              0.1111111111111111,
              "#46039f"
             ],
             [
              0.2222222222222222,
              "#7201a8"
             ],
             [
              0.3333333333333333,
              "#9c179e"
             ],
             [
              0.4444444444444444,
              "#bd3786"
             ],
             [
              0.5555555555555556,
              "#d8576b"
             ],
             [
              0.6666666666666666,
              "#ed7953"
             ],
             [
              0.7777777777777778,
              "#fb9f3a"
             ],
             [
              0.8888888888888888,
              "#fdca26"
             ],
             [
              1,
              "#f0f921"
             ]
            ],
            "type": "heatmap"
           }
          ],
          "histogram": [
           {
            "marker": {
             "pattern": {
              "fillmode": "overlay",
              "size": 10,
              "solidity": 0.2
             }
            },
            "type": "histogram"
           }
          ],
          "histogram2d": [
           {
            "colorbar": {
             "outlinewidth": 0,
             "ticks": ""
            },
            "colorscale": [
             [
              0,
              "#0d0887"
             ],
             [
              0.1111111111111111,
              "#46039f"
             ],
             [
              0.2222222222222222,
              "#7201a8"
             ],
             [
              0.3333333333333333,
              "#9c179e"
             ],
             [
              0.4444444444444444,
              "#bd3786"
             ],
             [
              0.5555555555555556,
              "#d8576b"
             ],
             [
              0.6666666666666666,
              "#ed7953"
             ],
             [
              0.7777777777777778,
              "#fb9f3a"
             ],
             [
              0.8888888888888888,
              "#fdca26"
             ],
             [
              1,
              "#f0f921"
             ]
            ],
            "type": "histogram2d"
           }
          ],
          "histogram2dcontour": [
           {
            "colorbar": {
             "outlinewidth": 0,
             "ticks": ""
            },
            "colorscale": [
             [
              0,
              "#0d0887"
             ],
             [
              0.1111111111111111,
              "#46039f"
             ],
             [
              0.2222222222222222,
              "#7201a8"
             ],
             [
              0.3333333333333333,
              "#9c179e"
             ],
             [
              0.4444444444444444,
              "#bd3786"
             ],
             [
              0.5555555555555556,
              "#d8576b"
             ],
             [
              0.6666666666666666,
              "#ed7953"
             ],
             [
              0.7777777777777778,
              "#fb9f3a"
             ],
             [
              0.8888888888888888,
              "#fdca26"
             ],
             [
              1,
              "#f0f921"
             ]
            ],
            "type": "histogram2dcontour"
           }
          ],
          "mesh3d": [
           {
            "colorbar": {
             "outlinewidth": 0,
             "ticks": ""
            },
            "type": "mesh3d"
           }
          ],
          "parcoords": [
           {
            "line": {
             "colorbar": {
              "outlinewidth": 0,
              "ticks": ""
             }
            },
            "type": "parcoords"
           }
          ],
          "pie": [
           {
            "automargin": true,
            "type": "pie"
           }
          ],
          "scatter": [
           {
            "fillpattern": {
             "fillmode": "overlay",
             "size": 10,
             "solidity": 0.2
            },
            "type": "scatter"
           }
          ],
          "scatter3d": [
           {
            "line": {
             "colorbar": {
              "outlinewidth": 0,
              "ticks": ""
             }
            },
            "marker": {
             "colorbar": {
              "outlinewidth": 0,
              "ticks": ""
             }
            },
            "type": "scatter3d"
           }
          ],
          "scattercarpet": [
           {
            "marker": {
             "colorbar": {
              "outlinewidth": 0,
              "ticks": ""
             }
            },
            "type": "scattercarpet"
           }
          ],
          "scattergeo": [
           {
            "marker": {
             "colorbar": {
              "outlinewidth": 0,
              "ticks": ""
             }
            },
            "type": "scattergeo"
           }
          ],
          "scattergl": [
           {
            "marker": {
             "colorbar": {
              "outlinewidth": 0,
              "ticks": ""
             }
            },
            "type": "scattergl"
           }
          ],
          "scattermap": [
           {
            "marker": {
             "colorbar": {
              "outlinewidth": 0,
              "ticks": ""
             }
            },
            "type": "scattermap"
           }
          ],
          "scattermapbox": [
           {
            "marker": {
             "colorbar": {
              "outlinewidth": 0,
              "ticks": ""
             }
            },
            "type": "scattermapbox"
           }
          ],
          "scatterpolar": [
           {
            "marker": {
             "colorbar": {
              "outlinewidth": 0,
              "ticks": ""
             }
            },
            "type": "scatterpolar"
           }
          ],
          "scatterpolargl": [
           {
            "marker": {
             "colorbar": {
              "outlinewidth": 0,
              "ticks": ""
             }
            },
            "type": "scatterpolargl"
           }
          ],
          "scatterternary": [
           {
            "marker": {
             "colorbar": {
              "outlinewidth": 0,
              "ticks": ""
             }
            },
            "type": "scatterternary"
           }
          ],
          "surface": [
           {
            "colorbar": {
             "outlinewidth": 0,
             "ticks": ""
            },
            "colorscale": [
             [
              0,
              "#0d0887"
             ],
             [
              0.1111111111111111,
              "#46039f"
             ],
             [
              0.2222222222222222,
              "#7201a8"
             ],
             [
              0.3333333333333333,
              "#9c179e"
             ],
             [
              0.4444444444444444,
              "#bd3786"
             ],
             [
              0.5555555555555556,
              "#d8576b"
             ],
             [
              0.6666666666666666,
              "#ed7953"
             ],
             [
              0.7777777777777778,
              "#fb9f3a"
             ],
             [
              0.8888888888888888,
              "#fdca26"
             ],
             [
              1,
              "#f0f921"
             ]
            ],
            "type": "surface"
           }
          ],
          "table": [
           {
            "cells": {
             "fill": {
              "color": "#EBF0F8"
             },
             "line": {
              "color": "white"
             }
            },
            "header": {
             "fill": {
              "color": "#C8D4E3"
             },
             "line": {
              "color": "white"
             }
            },
            "type": "table"
           }
          ]
         },
         "layout": {
          "annotationdefaults": {
           "arrowcolor": "#2a3f5f",
           "arrowhead": 0,
           "arrowwidth": 1
          },
          "autotypenumbers": "strict",
          "coloraxis": {
           "colorbar": {
            "outlinewidth": 0,
            "ticks": ""
           }
          },
          "colorscale": {
           "diverging": [
            [
             0,
             "#8e0152"
            ],
            [
             0.1,
             "#c51b7d"
            ],
            [
             0.2,
             "#de77ae"
            ],
            [
             0.3,
             "#f1b6da"
            ],
            [
             0.4,
             "#fde0ef"
            ],
            [
             0.5,
             "#f7f7f7"
            ],
            [
             0.6,
             "#e6f5d0"
            ],
            [
             0.7,
             "#b8e186"
            ],
            [
             0.8,
             "#7fbc41"
            ],
            [
             0.9,
             "#4d9221"
            ],
            [
             1,
             "#276419"
            ]
           ],
           "sequential": [
            [
             0,
             "#0d0887"
            ],
            [
             0.1111111111111111,
             "#46039f"
            ],
            [
             0.2222222222222222,
             "#7201a8"
            ],
            [
             0.3333333333333333,
             "#9c179e"
            ],
            [
             0.4444444444444444,
             "#bd3786"
            ],
            [
             0.5555555555555556,
             "#d8576b"
            ],
            [
             0.6666666666666666,
             "#ed7953"
            ],
            [
             0.7777777777777778,
             "#fb9f3a"
            ],
            [
             0.8888888888888888,
             "#fdca26"
            ],
            [
             1,
             "#f0f921"
            ]
           ],
           "sequentialminus": [
            [
             0,
             "#0d0887"
            ],
            [
             0.1111111111111111,
             "#46039f"
            ],
            [
             0.2222222222222222,
             "#7201a8"
            ],
            [
             0.3333333333333333,
             "#9c179e"
            ],
            [
             0.4444444444444444,
             "#bd3786"
            ],
            [
             0.5555555555555556,
             "#d8576b"
            ],
            [
             0.6666666666666666,
             "#ed7953"
            ],
            [
             0.7777777777777778,
             "#fb9f3a"
            ],
            [
             0.8888888888888888,
             "#fdca26"
            ],
            [
             1,
             "#f0f921"
            ]
           ]
          },
          "colorway": [
           "#636efa",
           "#EF553B",
           "#00cc96",
           "#ab63fa",
           "#FFA15A",
           "#19d3f3",
           "#FF6692",
           "#B6E880",
           "#FF97FF",
           "#FECB52"
          ],
          "font": {
           "color": "#2a3f5f"
          },
          "geo": {
           "bgcolor": "white",
           "lakecolor": "white",
           "landcolor": "#E5ECF6",
           "showlakes": true,
           "showland": true,
           "subunitcolor": "white"
          },
          "hoverlabel": {
           "align": "left"
          },
          "hovermode": "closest",
          "mapbox": {
           "style": "light"
          },
          "paper_bgcolor": "white",
          "plot_bgcolor": "#E5ECF6",
          "polar": {
           "angularaxis": {
            "gridcolor": "white",
            "linecolor": "white",
            "ticks": ""
           },
           "bgcolor": "#E5ECF6",
           "radialaxis": {
            "gridcolor": "white",
            "linecolor": "white",
            "ticks": ""
           }
          },
          "scene": {
           "xaxis": {
            "backgroundcolor": "#E5ECF6",
            "gridcolor": "white",
            "gridwidth": 2,
            "linecolor": "white",
            "showbackground": true,
            "ticks": "",
            "zerolinecolor": "white"
           },
           "yaxis": {
            "backgroundcolor": "#E5ECF6",
            "gridcolor": "white",
            "gridwidth": 2,
            "linecolor": "white",
            "showbackground": true,
            "ticks": "",
            "zerolinecolor": "white"
           },
           "zaxis": {
            "backgroundcolor": "#E5ECF6",
            "gridcolor": "white",
            "gridwidth": 2,
            "linecolor": "white",
            "showbackground": true,
            "ticks": "",
            "zerolinecolor": "white"
           }
          },
          "shapedefaults": {
           "line": {
            "color": "#2a3f5f"
           }
          },
          "ternary": {
           "aaxis": {
            "gridcolor": "white",
            "linecolor": "white",
            "ticks": ""
           },
           "baxis": {
            "gridcolor": "white",
            "linecolor": "white",
            "ticks": ""
           },
           "bgcolor": "#E5ECF6",
           "caxis": {
            "gridcolor": "white",
            "linecolor": "white",
            "ticks": ""
           }
          },
          "title": {
           "x": 0.05
          },
          "xaxis": {
           "automargin": true,
           "gridcolor": "white",
           "linecolor": "white",
           "ticks": "",
           "title": {
            "standoff": 15
           },
           "zerolinecolor": "white",
           "zerolinewidth": 2
          },
          "yaxis": {
           "automargin": true,
           "gridcolor": "white",
           "linecolor": "white",
           "ticks": "",
           "title": {
            "standoff": 15
           },
           "zerolinecolor": "white",
           "zerolinewidth": 2
          }
         }
        },
        "title": {
         "text": "PCA projection colored by presence in XLC"
        },
        "width": 600,
        "xaxis": {
         "anchor": "y",
         "domain": [
          0,
          1
         ],
         "title": {
          "text": "x"
         }
        },
        "yaxis": {
         "anchor": "x",
         "domain": [
          0,
          1
         ],
         "title": {
          "text": "y"
         }
        }
       }
      }
     },
     "metadata": {},
     "output_type": "display_data"
    },
    {
     "data": {
      "application/vnd.plotly.v1+json": {
       "config": {
        "plotlyServerURL": "https://plot.ly"
       },
       "data": [
        {
         "hovertemplate": "<b>%{hovertext}</b><br><br>Membership=Not in<br>x=%{x}<br>y=%{y}<extra></extra>",
         "hovertext": [
          "G",
          "T",
          "M",
          "N",
          "A",
          "M",
          "A",
          "A",
          "T",
          "A",
          "N",
          "O",
          "S",
          "C",
          "I",
          "I",
          "P",
          "C",
          "S",
          "A",
          "N",
          "U",
          "B",
          "L",
          "N",
          "J",
          "M",
          "U",
          "T",
          "D",
          "I",
          "S",
          "R",
          "N",
          "J",
          "B",
          "G",
          "M",
          "B",
          "V",
          "M",
          "C"
         ],
         "legendgroup": "Not in",
         "marker": {
          "color": "#636efa",
          "line": {
           "color": "DarkSlateGrey",
           "width": 1
          },
          "size": 8,
          "symbol": "circle"
         },
         "mode": "markers",
         "name": "Not in",
         "orientation": "v",
         "showlegend": true,
         "type": "scatter",
         "x": {
          "bdata": "SHW2v7OkuL96tBnAyE4BwWzdVD7RK+fAIFsEwQHDJb+5GcjAetTBvyklAMGnTuTAnoTnwKN5wb5ddrnAmlGrPxH+0sAkpbXAJ2eAPyQWtj4lwYvAVbLEwAY608ARDt/AqG+iQAjfyECy7b9Axc/IQE1jvkDaSqRA7GOfwCH4GcBSUa1AU6vdQGhMqMDVF/e/nUpgwH0aI8BNQmu//0bkvyJlxr92gbjA",
          "dtype": "f4"
         },
         "xaxis": "x",
         "y": {
          "bdata": "FKMqQRgcx0BaITBB4LUbPwkI1UD4ArBArgWtP66ONkH3Jq9A+0A9QQ0foUASwTBAAgaPQJcIv0CQnTRAzX4FQS5U6z/rcbxA+GLcQEou+kAHSJBA8aaNQPF8X0CTgo4/0mQEQY1ZOUFhkgNBqIgiQXs0L0EVUTRByMGoQPjaHkGaAxFBY1M7QVyzg0ARyNpADV2ZQEiYuEBdTOhAqEYJQU0GGEELHc0/",
          "dtype": "f4"
         },
         "yaxis": "y"
        },
        {
         "hovertemplate": "<b>%{hovertext}</b><br><br>Membership=In<br>x=%{x}<br>y=%{y}<extra></extra>",
         "hovertext": [
          "X",
          "C",
          "C",
          "S"
         ],
         "legendgroup": "In",
         "marker": {
          "color": "#EF553B",
          "line": {
           "color": "DarkSlateGrey",
           "width": 1
          },
          "size": 8,
          "symbol": "circle"
         },
         "mode": "markers",
         "name": "In",
         "orientation": "v",
         "showlegend": true,
         "type": "scatter",
         "x": {
          "bdata": "+mvwQEE75kAhrQVBGF8DQQ==",
          "dtype": "f4"
         },
         "xaxis": "x",
         "y": {
          "bdata": "FlfSQOk77UAK2eBAJE76QA==",
          "dtype": "f4"
         },
         "yaxis": "y"
        }
       ],
       "layout": {
        "height": 600,
        "legend": {
         "title": {
          "text": "Membership"
         },
         "tracegroupgap": 0
        },
        "template": {
         "data": {
          "bar": [
           {
            "error_x": {
             "color": "#2a3f5f"
            },
            "error_y": {
             "color": "#2a3f5f"
            },
            "marker": {
             "line": {
              "color": "#E5ECF6",
              "width": 0.5
             },
             "pattern": {
              "fillmode": "overlay",
              "size": 10,
              "solidity": 0.2
             }
            },
            "type": "bar"
           }
          ],
          "barpolar": [
           {
            "marker": {
             "line": {
              "color": "#E5ECF6",
              "width": 0.5
             },
             "pattern": {
              "fillmode": "overlay",
              "size": 10,
              "solidity": 0.2
             }
            },
            "type": "barpolar"
           }
          ],
          "carpet": [
           {
            "aaxis": {
             "endlinecolor": "#2a3f5f",
             "gridcolor": "white",
             "linecolor": "white",
             "minorgridcolor": "white",
             "startlinecolor": "#2a3f5f"
            },
            "baxis": {
             "endlinecolor": "#2a3f5f",
             "gridcolor": "white",
             "linecolor": "white",
             "minorgridcolor": "white",
             "startlinecolor": "#2a3f5f"
            },
            "type": "carpet"
           }
          ],
          "choropleth": [
           {
            "colorbar": {
             "outlinewidth": 0,
             "ticks": ""
            },
            "type": "choropleth"
           }
          ],
          "contour": [
           {
            "colorbar": {
             "outlinewidth": 0,
             "ticks": ""
            },
            "colorscale": [
             [
              0,
              "#0d0887"
             ],
             [
              0.1111111111111111,
              "#46039f"
             ],
             [
              0.2222222222222222,
              "#7201a8"
             ],
             [
              0.3333333333333333,
              "#9c179e"
             ],
             [
              0.4444444444444444,
              "#bd3786"
             ],
             [
              0.5555555555555556,
              "#d8576b"
             ],
             [
              0.6666666666666666,
              "#ed7953"
             ],
             [
              0.7777777777777778,
              "#fb9f3a"
             ],
             [
              0.8888888888888888,
              "#fdca26"
             ],
             [
              1,
              "#f0f921"
             ]
            ],
            "type": "contour"
           }
          ],
          "contourcarpet": [
           {
            "colorbar": {
             "outlinewidth": 0,
             "ticks": ""
            },
            "type": "contourcarpet"
           }
          ],
          "heatmap": [
           {
            "colorbar": {
             "outlinewidth": 0,
             "ticks": ""
            },
            "colorscale": [
             [
              0,
              "#0d0887"
             ],
             [
              0.1111111111111111,
              "#46039f"
             ],
             [
              0.2222222222222222,
              "#7201a8"
             ],
             [
              0.3333333333333333,
              "#9c179e"
             ],
             [
              0.4444444444444444,
              "#bd3786"
             ],
             [
              0.5555555555555556,
              "#d8576b"
             ],
             [
              0.6666666666666666,
              "#ed7953"
             ],
             [
              0.7777777777777778,
              "#fb9f3a"
             ],
             [
              0.8888888888888888,
              "#fdca26"
             ],
             [
              1,
              "#f0f921"
             ]
            ],
            "type": "heatmap"
           }
          ],
          "histogram": [
           {
            "marker": {
             "pattern": {
              "fillmode": "overlay",
              "size": 10,
              "solidity": 0.2
             }
            },
            "type": "histogram"
           }
          ],
          "histogram2d": [
           {
            "colorbar": {
             "outlinewidth": 0,
             "ticks": ""
            },
            "colorscale": [
             [
              0,
              "#0d0887"
             ],
             [
              0.1111111111111111,
              "#46039f"
             ],
             [
              0.2222222222222222,
              "#7201a8"
             ],
             [
              0.3333333333333333,
              "#9c179e"
             ],
             [
              0.4444444444444444,
              "#bd3786"
             ],
             [
              0.5555555555555556,
              "#d8576b"
             ],
             [
              0.6666666666666666,
              "#ed7953"
             ],
             [
              0.7777777777777778,
              "#fb9f3a"
             ],
             [
              0.8888888888888888,
              "#fdca26"
             ],
             [
              1,
              "#f0f921"
             ]
            ],
            "type": "histogram2d"
           }
          ],
          "histogram2dcontour": [
           {
            "colorbar": {
             "outlinewidth": 0,
             "ticks": ""
            },
            "colorscale": [
             [
              0,
              "#0d0887"
             ],
             [
              0.1111111111111111,
              "#46039f"
             ],
             [
              0.2222222222222222,
              "#7201a8"
             ],
             [
              0.3333333333333333,
              "#9c179e"
             ],
             [
              0.4444444444444444,
              "#bd3786"
             ],
             [
              0.5555555555555556,
              "#d8576b"
             ],
             [
              0.6666666666666666,
              "#ed7953"
             ],
             [
              0.7777777777777778,
              "#fb9f3a"
             ],
             [
              0.8888888888888888,
              "#fdca26"
             ],
             [
              1,
              "#f0f921"
             ]
            ],
            "type": "histogram2dcontour"
           }
          ],
          "mesh3d": [
           {
            "colorbar": {
             "outlinewidth": 0,
             "ticks": ""
            },
            "type": "mesh3d"
           }
          ],
          "parcoords": [
           {
            "line": {
             "colorbar": {
              "outlinewidth": 0,
              "ticks": ""
             }
            },
            "type": "parcoords"
           }
          ],
          "pie": [
           {
            "automargin": true,
            "type": "pie"
           }
          ],
          "scatter": [
           {
            "fillpattern": {
             "fillmode": "overlay",
             "size": 10,
             "solidity": 0.2
            },
            "type": "scatter"
           }
          ],
          "scatter3d": [
           {
            "line": {
             "colorbar": {
              "outlinewidth": 0,
              "ticks": ""
             }
            },
            "marker": {
             "colorbar": {
              "outlinewidth": 0,
              "ticks": ""
             }
            },
            "type": "scatter3d"
           }
          ],
          "scattercarpet": [
           {
            "marker": {
             "colorbar": {
              "outlinewidth": 0,
              "ticks": ""
             }
            },
            "type": "scattercarpet"
           }
          ],
          "scattergeo": [
           {
            "marker": {
             "colorbar": {
              "outlinewidth": 0,
              "ticks": ""
             }
            },
            "type": "scattergeo"
           }
          ],
          "scattergl": [
           {
            "marker": {
             "colorbar": {
              "outlinewidth": 0,
              "ticks": ""
             }
            },
            "type": "scattergl"
           }
          ],
          "scattermap": [
           {
            "marker": {
             "colorbar": {
              "outlinewidth": 0,
              "ticks": ""
             }
            },
            "type": "scattermap"
           }
          ],
          "scattermapbox": [
           {
            "marker": {
             "colorbar": {
              "outlinewidth": 0,
              "ticks": ""
             }
            },
            "type": "scattermapbox"
           }
          ],
          "scatterpolar": [
           {
            "marker": {
             "colorbar": {
              "outlinewidth": 0,
              "ticks": ""
             }
            },
            "type": "scatterpolar"
           }
          ],
          "scatterpolargl": [
           {
            "marker": {
             "colorbar": {
              "outlinewidth": 0,
              "ticks": ""
             }
            },
            "type": "scatterpolargl"
           }
          ],
          "scatterternary": [
           {
            "marker": {
             "colorbar": {
              "outlinewidth": 0,
              "ticks": ""
             }
            },
            "type": "scatterternary"
           }
          ],
          "surface": [
           {
            "colorbar": {
             "outlinewidth": 0,
             "ticks": ""
            },
            "colorscale": [
             [
              0,
              "#0d0887"
             ],
             [
              0.1111111111111111,
              "#46039f"
             ],
             [
              0.2222222222222222,
              "#7201a8"
             ],
             [
              0.3333333333333333,
              "#9c179e"
             ],
             [
              0.4444444444444444,
              "#bd3786"
             ],
             [
              0.5555555555555556,
              "#d8576b"
             ],
             [
              0.6666666666666666,
              "#ed7953"
             ],
             [
              0.7777777777777778,
              "#fb9f3a"
             ],
             [
              0.8888888888888888,
              "#fdca26"
             ],
             [
              1,
              "#f0f921"
             ]
            ],
            "type": "surface"
           }
          ],
          "table": [
           {
            "cells": {
             "fill": {
              "color": "#EBF0F8"
             },
             "line": {
              "color": "white"
             }
            },
            "header": {
             "fill": {
              "color": "#C8D4E3"
             },
             "line": {
              "color": "white"
             }
            },
            "type": "table"
           }
          ]
         },
         "layout": {
          "annotationdefaults": {
           "arrowcolor": "#2a3f5f",
           "arrowhead": 0,
           "arrowwidth": 1
          },
          "autotypenumbers": "strict",
          "coloraxis": {
           "colorbar": {
            "outlinewidth": 0,
            "ticks": ""
           }
          },
          "colorscale": {
           "diverging": [
            [
             0,
             "#8e0152"
            ],
            [
             0.1,
             "#c51b7d"
            ],
            [
             0.2,
             "#de77ae"
            ],
            [
             0.3,
             "#f1b6da"
            ],
            [
             0.4,
             "#fde0ef"
            ],
            [
             0.5,
             "#f7f7f7"
            ],
            [
             0.6,
             "#e6f5d0"
            ],
            [
             0.7,
             "#b8e186"
            ],
            [
             0.8,
             "#7fbc41"
            ],
            [
             0.9,
             "#4d9221"
            ],
            [
             1,
             "#276419"
            ]
           ],
           "sequential": [
            [
             0,
             "#0d0887"
            ],
            [
             0.1111111111111111,
             "#46039f"
            ],
            [
             0.2222222222222222,
             "#7201a8"
            ],
            [
             0.3333333333333333,
             "#9c179e"
            ],
            [
             0.4444444444444444,
             "#bd3786"
            ],
            [
             0.5555555555555556,
             "#d8576b"
            ],
            [
             0.6666666666666666,
             "#ed7953"
            ],
            [
             0.7777777777777778,
             "#fb9f3a"
            ],
            [
             0.8888888888888888,
             "#fdca26"
            ],
            [
             1,
             "#f0f921"
            ]
           ],
           "sequentialminus": [
            [
             0,
             "#0d0887"
            ],
            [
             0.1111111111111111,
             "#46039f"
            ],
            [
             0.2222222222222222,
             "#7201a8"
            ],
            [
             0.3333333333333333,
             "#9c179e"
            ],
            [
             0.4444444444444444,
             "#bd3786"
            ],
            [
             0.5555555555555556,
             "#d8576b"
            ],
            [
             0.6666666666666666,
             "#ed7953"
            ],
            [
             0.7777777777777778,
             "#fb9f3a"
            ],
            [
             0.8888888888888888,
             "#fdca26"
            ],
            [
             1,
             "#f0f921"
            ]
           ]
          },
          "colorway": [
           "#636efa",
           "#EF553B",
           "#00cc96",
           "#ab63fa",
           "#FFA15A",
           "#19d3f3",
           "#FF6692",
           "#B6E880",
           "#FF97FF",
           "#FECB52"
          ],
          "font": {
           "color": "#2a3f5f"
          },
          "geo": {
           "bgcolor": "white",
           "lakecolor": "white",
           "landcolor": "#E5ECF6",
           "showlakes": true,
           "showland": true,
           "subunitcolor": "white"
          },
          "hoverlabel": {
           "align": "left"
          },
          "hovermode": "closest",
          "mapbox": {
           "style": "light"
          },
          "paper_bgcolor": "white",
          "plot_bgcolor": "#E5ECF6",
          "polar": {
           "angularaxis": {
            "gridcolor": "white",
            "linecolor": "white",
            "ticks": ""
           },
           "bgcolor": "#E5ECF6",
           "radialaxis": {
            "gridcolor": "white",
            "linecolor": "white",
            "ticks": ""
           }
          },
          "scene": {
           "xaxis": {
            "backgroundcolor": "#E5ECF6",
            "gridcolor": "white",
            "gridwidth": 2,
            "linecolor": "white",
            "showbackground": true,
            "ticks": "",
            "zerolinecolor": "white"
           },
           "yaxis": {
            "backgroundcolor": "#E5ECF6",
            "gridcolor": "white",
            "gridwidth": 2,
            "linecolor": "white",
            "showbackground": true,
            "ticks": "",
            "zerolinecolor": "white"
           },
           "zaxis": {
            "backgroundcolor": "#E5ECF6",
            "gridcolor": "white",
            "gridwidth": 2,
            "linecolor": "white",
            "showbackground": true,
            "ticks": "",
            "zerolinecolor": "white"
           }
          },
          "shapedefaults": {
           "line": {
            "color": "#2a3f5f"
           }
          },
          "ternary": {
           "aaxis": {
            "gridcolor": "white",
            "linecolor": "white",
            "ticks": ""
           },
           "baxis": {
            "gridcolor": "white",
            "linecolor": "white",
            "ticks": ""
           },
           "bgcolor": "#E5ECF6",
           "caxis": {
            "gridcolor": "white",
            "linecolor": "white",
            "ticks": ""
           }
          },
          "title": {
           "x": 0.05
          },
          "xaxis": {
           "automargin": true,
           "gridcolor": "white",
           "linecolor": "white",
           "ticks": "",
           "title": {
            "standoff": 15
           },
           "zerolinecolor": "white",
           "zerolinewidth": 2
          },
          "yaxis": {
           "automargin": true,
           "gridcolor": "white",
           "linecolor": "white",
           "ticks": "",
           "title": {
            "standoff": 15
           },
           "zerolinecolor": "white",
           "zerolinewidth": 2
          }
         }
        },
        "title": {
         "text": "PCA projection colored by presence in XLE"
        },
        "width": 600,
        "xaxis": {
         "anchor": "y",
         "domain": [
          0,
          1
         ],
         "title": {
          "text": "x"
         }
        },
        "yaxis": {
         "anchor": "x",
         "domain": [
          0,
          1
         ],
         "title": {
          "text": "y"
         }
        }
       }
      }
     },
     "metadata": {},
     "output_type": "display_data"
    },
    {
     "data": {
      "application/vnd.plotly.v1+json": {
       "config": {
        "plotlyServerURL": "https://plot.ly"
       },
       "data": [
        {
         "hovertemplate": "<b>%{hovertext}</b><br><br>Membership=Not in<br>x=%{x}<br>y=%{y}<extra></extra>",
         "hovertext": [
          "G",
          "T",
          "M",
          "N",
          "A",
          "M",
          "A",
          "A",
          "T",
          "A",
          "N",
          "O",
          "S",
          "C",
          "I",
          "I",
          "P",
          "C",
          "S",
          "A",
          "N",
          "U",
          "B",
          "L",
          "N",
          "J",
          "M",
          "U",
          "T",
          "D",
          "I",
          "S",
          "R",
          "X",
          "C",
          "C",
          "S",
          "N",
          "C"
         ],
         "legendgroup": "Not in",
         "marker": {
          "color": "#636efa",
          "line": {
           "color": "DarkSlateGrey",
           "width": 1
          },
          "size": 8,
          "symbol": "circle"
         },
         "mode": "markers",
         "name": "Not in",
         "orientation": "v",
         "showlegend": true,
         "type": "scatter",
         "x": {
          "bdata": "SHW2v7OkuL96tBnAyE4BwWzdVD7RK+fAIFsEwQHDJb+5GcjAetTBvyklAMGnTuTAnoTnwKN5wb5ddrnAmlGrPxH+0sAkpbXAJ2eAPyQWtj4lwYvAVbLEwAY608ARDt/AqG+iQAjfyECy7b9Axc/IQE1jvkDaSqRA7GOfwCH4GcBSUa1A+mvwQEE75kAhrQVBGF8DQVOr3UB2gbjA",
          "dtype": "f4"
         },
         "xaxis": "x",
         "y": {
          "bdata": "FKMqQRgcx0BaITBB4LUbPwkI1UD4ArBArgWtP66ONkH3Jq9A+0A9QQ0foUASwTBAAgaPQJcIv0CQnTRAzX4FQS5U6z/rcbxA+GLcQEou+kAHSJBA8aaNQPF8X0CTgo4/0mQEQY1ZOUFhkgNBqIgiQXs0L0EVUTRByMGoQPjaHkGaAxFBFlfSQOk77UAK2eBAJE76QGNTO0ELHc0/",
          "dtype": "f4"
         },
         "yaxis": "y"
        },
        {
         "hovertemplate": "<b>%{hovertext}</b><br><br>Membership=In<br>x=%{x}<br>y=%{y}<extra></extra>",
         "hovertext": [
          "J",
          "B",
          "G",
          "M",
          "B",
          "V",
          "M"
         ],
         "legendgroup": "In",
         "marker": {
          "color": "#EF553B",
          "line": {
           "color": "DarkSlateGrey",
           "width": 1
          },
          "size": 8,
          "symbol": "circle"
         },
         "mode": "markers",
         "name": "In",
         "orientation": "v",
         "showlegend": true,
         "type": "scatter",
         "x": {
          "bdata": "aEyowNUX97+dSmDAfRojwE1Ca7//RuS/ImXGvw==",
          "dtype": "f4"
         },
         "xaxis": "x",
         "y": {
          "bdata": "XLODQBHI2kANXZlASJi4QF1M6ECoRglBTQYYQQ==",
          "dtype": "f4"
         },
         "yaxis": "y"
        }
       ],
       "layout": {
        "height": 600,
        "legend": {
         "title": {
          "text": "Membership"
         },
         "tracegroupgap": 0
        },
        "template": {
         "data": {
          "bar": [
           {
            "error_x": {
             "color": "#2a3f5f"
            },
            "error_y": {
             "color": "#2a3f5f"
            },
            "marker": {
             "line": {
              "color": "#E5ECF6",
              "width": 0.5
             },
             "pattern": {
              "fillmode": "overlay",
              "size": 10,
              "solidity": 0.2
             }
            },
            "type": "bar"
           }
          ],
          "barpolar": [
           {
            "marker": {
             "line": {
              "color": "#E5ECF6",
              "width": 0.5
             },
             "pattern": {
              "fillmode": "overlay",
              "size": 10,
              "solidity": 0.2
             }
            },
            "type": "barpolar"
           }
          ],
          "carpet": [
           {
            "aaxis": {
             "endlinecolor": "#2a3f5f",
             "gridcolor": "white",
             "linecolor": "white",
             "minorgridcolor": "white",
             "startlinecolor": "#2a3f5f"
            },
            "baxis": {
             "endlinecolor": "#2a3f5f",
             "gridcolor": "white",
             "linecolor": "white",
             "minorgridcolor": "white",
             "startlinecolor": "#2a3f5f"
            },
            "type": "carpet"
           }
          ],
          "choropleth": [
           {
            "colorbar": {
             "outlinewidth": 0,
             "ticks": ""
            },
            "type": "choropleth"
           }
          ],
          "contour": [
           {
            "colorbar": {
             "outlinewidth": 0,
             "ticks": ""
            },
            "colorscale": [
             [
              0,
              "#0d0887"
             ],
             [
              0.1111111111111111,
              "#46039f"
             ],
             [
              0.2222222222222222,
              "#7201a8"
             ],
             [
              0.3333333333333333,
              "#9c179e"
             ],
             [
              0.4444444444444444,
              "#bd3786"
             ],
             [
              0.5555555555555556,
              "#d8576b"
             ],
             [
              0.6666666666666666,
              "#ed7953"
             ],
             [
              0.7777777777777778,
              "#fb9f3a"
             ],
             [
              0.8888888888888888,
              "#fdca26"
             ],
             [
              1,
              "#f0f921"
             ]
            ],
            "type": "contour"
           }
          ],
          "contourcarpet": [
           {
            "colorbar": {
             "outlinewidth": 0,
             "ticks": ""
            },
            "type": "contourcarpet"
           }
          ],
          "heatmap": [
           {
            "colorbar": {
             "outlinewidth": 0,
             "ticks": ""
            },
            "colorscale": [
             [
              0,
              "#0d0887"
             ],
             [
              0.1111111111111111,
              "#46039f"
             ],
             [
              0.2222222222222222,
              "#7201a8"
             ],
             [
              0.3333333333333333,
              "#9c179e"
             ],
             [
              0.4444444444444444,
              "#bd3786"
             ],
             [
              0.5555555555555556,
              "#d8576b"
             ],
             [
              0.6666666666666666,
              "#ed7953"
             ],
             [
              0.7777777777777778,
              "#fb9f3a"
             ],
             [
              0.8888888888888888,
              "#fdca26"
             ],
             [
              1,
              "#f0f921"
             ]
            ],
            "type": "heatmap"
           }
          ],
          "histogram": [
           {
            "marker": {
             "pattern": {
              "fillmode": "overlay",
              "size": 10,
              "solidity": 0.2
             }
            },
            "type": "histogram"
           }
          ],
          "histogram2d": [
           {
            "colorbar": {
             "outlinewidth": 0,
             "ticks": ""
            },
            "colorscale": [
             [
              0,
              "#0d0887"
             ],
             [
              0.1111111111111111,
              "#46039f"
             ],
             [
              0.2222222222222222,
              "#7201a8"
             ],
             [
              0.3333333333333333,
              "#9c179e"
             ],
             [
              0.4444444444444444,
              "#bd3786"
             ],
             [
              0.5555555555555556,
              "#d8576b"
             ],
             [
              0.6666666666666666,
              "#ed7953"
             ],
             [
              0.7777777777777778,
              "#fb9f3a"
             ],
             [
              0.8888888888888888,
              "#fdca26"
             ],
             [
              1,
              "#f0f921"
             ]
            ],
            "type": "histogram2d"
           }
          ],
          "histogram2dcontour": [
           {
            "colorbar": {
             "outlinewidth": 0,
             "ticks": ""
            },
            "colorscale": [
             [
              0,
              "#0d0887"
             ],
             [
              0.1111111111111111,
              "#46039f"
             ],
             [
              0.2222222222222222,
              "#7201a8"
             ],
             [
              0.3333333333333333,
              "#9c179e"
             ],
             [
              0.4444444444444444,
              "#bd3786"
             ],
             [
              0.5555555555555556,
              "#d8576b"
             ],
             [
              0.6666666666666666,
              "#ed7953"
             ],
             [
              0.7777777777777778,
              "#fb9f3a"
             ],
             [
              0.8888888888888888,
              "#fdca26"
             ],
             [
              1,
              "#f0f921"
             ]
            ],
            "type": "histogram2dcontour"
           }
          ],
          "mesh3d": [
           {
            "colorbar": {
             "outlinewidth": 0,
             "ticks": ""
            },
            "type": "mesh3d"
           }
          ],
          "parcoords": [
           {
            "line": {
             "colorbar": {
              "outlinewidth": 0,
              "ticks": ""
             }
            },
            "type": "parcoords"
           }
          ],
          "pie": [
           {
            "automargin": true,
            "type": "pie"
           }
          ],
          "scatter": [
           {
            "fillpattern": {
             "fillmode": "overlay",
             "size": 10,
             "solidity": 0.2
            },
            "type": "scatter"
           }
          ],
          "scatter3d": [
           {
            "line": {
             "colorbar": {
              "outlinewidth": 0,
              "ticks": ""
             }
            },
            "marker": {
             "colorbar": {
              "outlinewidth": 0,
              "ticks": ""
             }
            },
            "type": "scatter3d"
           }
          ],
          "scattercarpet": [
           {
            "marker": {
             "colorbar": {
              "outlinewidth": 0,
              "ticks": ""
             }
            },
            "type": "scattercarpet"
           }
          ],
          "scattergeo": [
           {
            "marker": {
             "colorbar": {
              "outlinewidth": 0,
              "ticks": ""
             }
            },
            "type": "scattergeo"
           }
          ],
          "scattergl": [
           {
            "marker": {
             "colorbar": {
              "outlinewidth": 0,
              "ticks": ""
             }
            },
            "type": "scattergl"
           }
          ],
          "scattermap": [
           {
            "marker": {
             "colorbar": {
              "outlinewidth": 0,
              "ticks": ""
             }
            },
            "type": "scattermap"
           }
          ],
          "scattermapbox": [
           {
            "marker": {
             "colorbar": {
              "outlinewidth": 0,
              "ticks": ""
             }
            },
            "type": "scattermapbox"
           }
          ],
          "scatterpolar": [
           {
            "marker": {
             "colorbar": {
              "outlinewidth": 0,
              "ticks": ""
             }
            },
            "type": "scatterpolar"
           }
          ],
          "scatterpolargl": [
           {
            "marker": {
             "colorbar": {
              "outlinewidth": 0,
              "ticks": ""
             }
            },
            "type": "scatterpolargl"
           }
          ],
          "scatterternary": [
           {
            "marker": {
             "colorbar": {
              "outlinewidth": 0,
              "ticks": ""
             }
            },
            "type": "scatterternary"
           }
          ],
          "surface": [
           {
            "colorbar": {
             "outlinewidth": 0,
             "ticks": ""
            },
            "colorscale": [
             [
              0,
              "#0d0887"
             ],
             [
              0.1111111111111111,
              "#46039f"
             ],
             [
              0.2222222222222222,
              "#7201a8"
             ],
             [
              0.3333333333333333,
              "#9c179e"
             ],
             [
              0.4444444444444444,
              "#bd3786"
             ],
             [
              0.5555555555555556,
              "#d8576b"
             ],
             [
              0.6666666666666666,
              "#ed7953"
             ],
             [
              0.7777777777777778,
              "#fb9f3a"
             ],
             [
              0.8888888888888888,
              "#fdca26"
             ],
             [
              1,
              "#f0f921"
             ]
            ],
            "type": "surface"
           }
          ],
          "table": [
           {
            "cells": {
             "fill": {
              "color": "#EBF0F8"
             },
             "line": {
              "color": "white"
             }
            },
            "header": {
             "fill": {
              "color": "#C8D4E3"
             },
             "line": {
              "color": "white"
             }
            },
            "type": "table"
           }
          ]
         },
         "layout": {
          "annotationdefaults": {
           "arrowcolor": "#2a3f5f",
           "arrowhead": 0,
           "arrowwidth": 1
          },
          "autotypenumbers": "strict",
          "coloraxis": {
           "colorbar": {
            "outlinewidth": 0,
            "ticks": ""
           }
          },
          "colorscale": {
           "diverging": [
            [
             0,
             "#8e0152"
            ],
            [
             0.1,
             "#c51b7d"
            ],
            [
             0.2,
             "#de77ae"
            ],
            [
             0.3,
             "#f1b6da"
            ],
            [
             0.4,
             "#fde0ef"
            ],
            [
             0.5,
             "#f7f7f7"
            ],
            [
             0.6,
             "#e6f5d0"
            ],
            [
             0.7,
             "#b8e186"
            ],
            [
             0.8,
             "#7fbc41"
            ],
            [
             0.9,
             "#4d9221"
            ],
            [
             1,
             "#276419"
            ]
           ],
           "sequential": [
            [
             0,
             "#0d0887"
            ],
            [
             0.1111111111111111,
             "#46039f"
            ],
            [
             0.2222222222222222,
             "#7201a8"
            ],
            [
             0.3333333333333333,
             "#9c179e"
            ],
            [
             0.4444444444444444,
             "#bd3786"
            ],
            [
             0.5555555555555556,
             "#d8576b"
            ],
            [
             0.6666666666666666,
             "#ed7953"
            ],
            [
             0.7777777777777778,
             "#fb9f3a"
            ],
            [
             0.8888888888888888,
             "#fdca26"
            ],
            [
             1,
             "#f0f921"
            ]
           ],
           "sequentialminus": [
            [
             0,
             "#0d0887"
            ],
            [
             0.1111111111111111,
             "#46039f"
            ],
            [
             0.2222222222222222,
             "#7201a8"
            ],
            [
             0.3333333333333333,
             "#9c179e"
            ],
            [
             0.4444444444444444,
             "#bd3786"
            ],
            [
             0.5555555555555556,
             "#d8576b"
            ],
            [
             0.6666666666666666,
             "#ed7953"
            ],
            [
             0.7777777777777778,
             "#fb9f3a"
            ],
            [
             0.8888888888888888,
             "#fdca26"
            ],
            [
             1,
             "#f0f921"
            ]
           ]
          },
          "colorway": [
           "#636efa",
           "#EF553B",
           "#00cc96",
           "#ab63fa",
           "#FFA15A",
           "#19d3f3",
           "#FF6692",
           "#B6E880",
           "#FF97FF",
           "#FECB52"
          ],
          "font": {
           "color": "#2a3f5f"
          },
          "geo": {
           "bgcolor": "white",
           "lakecolor": "white",
           "landcolor": "#E5ECF6",
           "showlakes": true,
           "showland": true,
           "subunitcolor": "white"
          },
          "hoverlabel": {
           "align": "left"
          },
          "hovermode": "closest",
          "mapbox": {
           "style": "light"
          },
          "paper_bgcolor": "white",
          "plot_bgcolor": "#E5ECF6",
          "polar": {
           "angularaxis": {
            "gridcolor": "white",
            "linecolor": "white",
            "ticks": ""
           },
           "bgcolor": "#E5ECF6",
           "radialaxis": {
            "gridcolor": "white",
            "linecolor": "white",
            "ticks": ""
           }
          },
          "scene": {
           "xaxis": {
            "backgroundcolor": "#E5ECF6",
            "gridcolor": "white",
            "gridwidth": 2,
            "linecolor": "white",
            "showbackground": true,
            "ticks": "",
            "zerolinecolor": "white"
           },
           "yaxis": {
            "backgroundcolor": "#E5ECF6",
            "gridcolor": "white",
            "gridwidth": 2,
            "linecolor": "white",
            "showbackground": true,
            "ticks": "",
            "zerolinecolor": "white"
           },
           "zaxis": {
            "backgroundcolor": "#E5ECF6",
            "gridcolor": "white",
            "gridwidth": 2,
            "linecolor": "white",
            "showbackground": true,
            "ticks": "",
            "zerolinecolor": "white"
           }
          },
          "shapedefaults": {
           "line": {
            "color": "#2a3f5f"
           }
          },
          "ternary": {
           "aaxis": {
            "gridcolor": "white",
            "linecolor": "white",
            "ticks": ""
           },
           "baxis": {
            "gridcolor": "white",
            "linecolor": "white",
            "ticks": ""
           },
           "bgcolor": "#E5ECF6",
           "caxis": {
            "gridcolor": "white",
            "linecolor": "white",
            "ticks": ""
           }
          },
          "title": {
           "x": 0.05
          },
          "xaxis": {
           "automargin": true,
           "gridcolor": "white",
           "linecolor": "white",
           "ticks": "",
           "title": {
            "standoff": 15
           },
           "zerolinecolor": "white",
           "zerolinewidth": 2
          },
          "yaxis": {
           "automargin": true,
           "gridcolor": "white",
           "linecolor": "white",
           "ticks": "",
           "title": {
            "standoff": 15
           },
           "zerolinecolor": "white",
           "zerolinewidth": 2
          }
         }
        },
        "title": {
         "text": "PCA projection colored by presence in XLF"
        },
        "width": 600,
        "xaxis": {
         "anchor": "y",
         "domain": [
          0,
          1
         ],
         "title": {
          "text": "x"
         }
        },
        "yaxis": {
         "anchor": "x",
         "domain": [
          0,
          1
         ],
         "title": {
          "text": "y"
         }
        }
       }
      }
     },
     "metadata": {},
     "output_type": "display_data"
    },
    {
     "data": {
      "application/vnd.plotly.v1+json": {
       "config": {
        "plotlyServerURL": "https://plot.ly"
       },
       "data": [
        {
         "hovertemplate": "<b>%{hovertext}</b><br><br>Membership=Not in<br>x=%{x}<br>y=%{y}<extra></extra>",
         "hovertext": [
          "G",
          "T",
          "A",
          "M",
          "A",
          "T",
          "N",
          "S",
          "I",
          "S",
          "A",
          "U",
          "B",
          "L",
          "N",
          "J",
          "M",
          "U",
          "T",
          "D",
          "I",
          "S",
          "R",
          "X",
          "C",
          "C",
          "S",
          "N",
          "J",
          "B",
          "G",
          "M",
          "B",
          "V",
          "M",
          "C"
         ],
         "legendgroup": "Not in",
         "marker": {
          "color": "#636efa",
          "line": {
           "color": "DarkSlateGrey",
           "width": 1
          },
          "size": 8,
          "symbol": "circle"
         },
         "mode": "markers",
         "name": "Not in",
         "orientation": "v",
         "showlegend": true,
         "type": "scatter",
         "x": {
          "bdata": "SHW2v7OkuL9s3VQ+0SvnwAHDJb+5GcjAKSUAwZ6E58CaUas/J2eAPyQWtj5VssTABjrTwBEO38Cob6JACN/IQLLtv0DFz8hATWO+QNpKpEDsY5/AIfgZwFJRrUD6a/BAQTvmQCGtBUEYXwNBU6vdQGhMqMDVF/e/nUpgwH0aI8BNQmu//0bkvyJlxr92gbjA",
          "dtype": "f4"
         },
         "xaxis": "x",
         "y": {
          "bdata": "FKMqQRgcx0AJCNVA+AKwQK6ONkH3Jq9ADR+hQAIGj0DNfgVB+GLcQEou+kDxpo1A8XxfQJOCjj/SZARBjVk5QWGSA0GoiCJBezQvQRVRNEHIwahA+NoeQZoDEUEWV9JA6TvtQArZ4EAkTvpAY1M7QVyzg0ARyNpADV2ZQEiYuEBdTOhAqEYJQU0GGEELHc0/",
          "dtype": "f4"
         },
         "yaxis": "y"
        },
        {
         "hovertemplate": "<b>%{hovertext}</b><br><br>Membership=In<br>x=%{x}<br>y=%{y}<extra></extra>",
         "hovertext": [
          "M",
          "N",
          "A",
          "A",
          "O",
          "C",
          "I",
          "P",
          "C",
          "N"
         ],
         "legendgroup": "In",
         "marker": {
          "color": "#EF553B",
          "line": {
           "color": "DarkSlateGrey",
           "width": 1
          },
          "size": 8,
          "symbol": "circle"
         },
         "mode": "markers",
         "name": "In",
         "orientation": "v",
         "showlegend": true,
         "type": "scatter",
         "x": {
          "bdata": "erQZwMhOAcEgWwTBetTBv6dO5MCjecG+XXa5wBH+0sAkpbXAJcGLwA==",
          "dtype": "f4"
         },
         "xaxis": "x",
         "y": {
          "bdata": "WiEwQeC1Gz+uBa0/+0A9QRLBMECXCL9AkJ00QC5U6z/rcbxAB0iQQA==",
          "dtype": "f4"
         },
         "yaxis": "y"
        }
       ],
       "layout": {
        "height": 600,
        "legend": {
         "title": {
          "text": "Membership"
         },
         "tracegroupgap": 0
        },
        "template": {
         "data": {
          "bar": [
           {
            "error_x": {
             "color": "#2a3f5f"
            },
            "error_y": {
             "color": "#2a3f5f"
            },
            "marker": {
             "line": {
              "color": "#E5ECF6",
              "width": 0.5
             },
             "pattern": {
              "fillmode": "overlay",
              "size": 10,
              "solidity": 0.2
             }
            },
            "type": "bar"
           }
          ],
          "barpolar": [
           {
            "marker": {
             "line": {
              "color": "#E5ECF6",
              "width": 0.5
             },
             "pattern": {
              "fillmode": "overlay",
              "size": 10,
              "solidity": 0.2
             }
            },
            "type": "barpolar"
           }
          ],
          "carpet": [
           {
            "aaxis": {
             "endlinecolor": "#2a3f5f",
             "gridcolor": "white",
             "linecolor": "white",
             "minorgridcolor": "white",
             "startlinecolor": "#2a3f5f"
            },
            "baxis": {
             "endlinecolor": "#2a3f5f",
             "gridcolor": "white",
             "linecolor": "white",
             "minorgridcolor": "white",
             "startlinecolor": "#2a3f5f"
            },
            "type": "carpet"
           }
          ],
          "choropleth": [
           {
            "colorbar": {
             "outlinewidth": 0,
             "ticks": ""
            },
            "type": "choropleth"
           }
          ],
          "contour": [
           {
            "colorbar": {
             "outlinewidth": 0,
             "ticks": ""
            },
            "colorscale": [
             [
              0,
              "#0d0887"
             ],
             [
              0.1111111111111111,
              "#46039f"
             ],
             [
              0.2222222222222222,
              "#7201a8"
             ],
             [
              0.3333333333333333,
              "#9c179e"
             ],
             [
              0.4444444444444444,
              "#bd3786"
             ],
             [
              0.5555555555555556,
              "#d8576b"
             ],
             [
              0.6666666666666666,
              "#ed7953"
             ],
             [
              0.7777777777777778,
              "#fb9f3a"
             ],
             [
              0.8888888888888888,
              "#fdca26"
             ],
             [
              1,
              "#f0f921"
             ]
            ],
            "type": "contour"
           }
          ],
          "contourcarpet": [
           {
            "colorbar": {
             "outlinewidth": 0,
             "ticks": ""
            },
            "type": "contourcarpet"
           }
          ],
          "heatmap": [
           {
            "colorbar": {
             "outlinewidth": 0,
             "ticks": ""
            },
            "colorscale": [
             [
              0,
              "#0d0887"
             ],
             [
              0.1111111111111111,
              "#46039f"
             ],
             [
              0.2222222222222222,
              "#7201a8"
             ],
             [
              0.3333333333333333,
              "#9c179e"
             ],
             [
              0.4444444444444444,
              "#bd3786"
             ],
             [
              0.5555555555555556,
              "#d8576b"
             ],
             [
              0.6666666666666666,
              "#ed7953"
             ],
             [
              0.7777777777777778,
              "#fb9f3a"
             ],
             [
              0.8888888888888888,
              "#fdca26"
             ],
             [
              1,
              "#f0f921"
             ]
            ],
            "type": "heatmap"
           }
          ],
          "histogram": [
           {
            "marker": {
             "pattern": {
              "fillmode": "overlay",
              "size": 10,
              "solidity": 0.2
             }
            },
            "type": "histogram"
           }
          ],
          "histogram2d": [
           {
            "colorbar": {
             "outlinewidth": 0,
             "ticks": ""
            },
            "colorscale": [
             [
              0,
              "#0d0887"
             ],
             [
              0.1111111111111111,
              "#46039f"
             ],
             [
              0.2222222222222222,
              "#7201a8"
             ],
             [
              0.3333333333333333,
              "#9c179e"
             ],
             [
              0.4444444444444444,
              "#bd3786"
             ],
             [
              0.5555555555555556,
              "#d8576b"
             ],
             [
              0.6666666666666666,
              "#ed7953"
             ],
             [
              0.7777777777777778,
              "#fb9f3a"
             ],
             [
              0.8888888888888888,
              "#fdca26"
             ],
             [
              1,
              "#f0f921"
             ]
            ],
            "type": "histogram2d"
           }
          ],
          "histogram2dcontour": [
           {
            "colorbar": {
             "outlinewidth": 0,
             "ticks": ""
            },
            "colorscale": [
             [
              0,
              "#0d0887"
             ],
             [
              0.1111111111111111,
              "#46039f"
             ],
             [
              0.2222222222222222,
              "#7201a8"
             ],
             [
              0.3333333333333333,
              "#9c179e"
             ],
             [
              0.4444444444444444,
              "#bd3786"
             ],
             [
              0.5555555555555556,
              "#d8576b"
             ],
             [
              0.6666666666666666,
              "#ed7953"
             ],
             [
              0.7777777777777778,
              "#fb9f3a"
             ],
             [
              0.8888888888888888,
              "#fdca26"
             ],
             [
              1,
              "#f0f921"
             ]
            ],
            "type": "histogram2dcontour"
           }
          ],
          "mesh3d": [
           {
            "colorbar": {
             "outlinewidth": 0,
             "ticks": ""
            },
            "type": "mesh3d"
           }
          ],
          "parcoords": [
           {
            "line": {
             "colorbar": {
              "outlinewidth": 0,
              "ticks": ""
             }
            },
            "type": "parcoords"
           }
          ],
          "pie": [
           {
            "automargin": true,
            "type": "pie"
           }
          ],
          "scatter": [
           {
            "fillpattern": {
             "fillmode": "overlay",
             "size": 10,
             "solidity": 0.2
            },
            "type": "scatter"
           }
          ],
          "scatter3d": [
           {
            "line": {
             "colorbar": {
              "outlinewidth": 0,
              "ticks": ""
             }
            },
            "marker": {
             "colorbar": {
              "outlinewidth": 0,
              "ticks": ""
             }
            },
            "type": "scatter3d"
           }
          ],
          "scattercarpet": [
           {
            "marker": {
             "colorbar": {
              "outlinewidth": 0,
              "ticks": ""
             }
            },
            "type": "scattercarpet"
           }
          ],
          "scattergeo": [
           {
            "marker": {
             "colorbar": {
              "outlinewidth": 0,
              "ticks": ""
             }
            },
            "type": "scattergeo"
           }
          ],
          "scattergl": [
           {
            "marker": {
             "colorbar": {
              "outlinewidth": 0,
              "ticks": ""
             }
            },
            "type": "scattergl"
           }
          ],
          "scattermap": [
           {
            "marker": {
             "colorbar": {
              "outlinewidth": 0,
              "ticks": ""
             }
            },
            "type": "scattermap"
           }
          ],
          "scattermapbox": [
           {
            "marker": {
             "colorbar": {
              "outlinewidth": 0,
              "ticks": ""
             }
            },
            "type": "scattermapbox"
           }
          ],
          "scatterpolar": [
           {
            "marker": {
             "colorbar": {
              "outlinewidth": 0,
              "ticks": ""
             }
            },
            "type": "scatterpolar"
           }
          ],
          "scatterpolargl": [
           {
            "marker": {
             "colorbar": {
              "outlinewidth": 0,
              "ticks": ""
             }
            },
            "type": "scatterpolargl"
           }
          ],
          "scatterternary": [
           {
            "marker": {
             "colorbar": {
              "outlinewidth": 0,
              "ticks": ""
             }
            },
            "type": "scatterternary"
           }
          ],
          "surface": [
           {
            "colorbar": {
             "outlinewidth": 0,
             "ticks": ""
            },
            "colorscale": [
             [
              0,
              "#0d0887"
             ],
             [
              0.1111111111111111,
              "#46039f"
             ],
             [
              0.2222222222222222,
              "#7201a8"
             ],
             [
              0.3333333333333333,
              "#9c179e"
             ],
             [
              0.4444444444444444,
              "#bd3786"
             ],
             [
              0.5555555555555556,
              "#d8576b"
             ],
             [
              0.6666666666666666,
              "#ed7953"
             ],
             [
              0.7777777777777778,
              "#fb9f3a"
             ],
             [
              0.8888888888888888,
              "#fdca26"
             ],
             [
              1,
              "#f0f921"
             ]
            ],
            "type": "surface"
           }
          ],
          "table": [
           {
            "cells": {
             "fill": {
              "color": "#EBF0F8"
             },
             "line": {
              "color": "white"
             }
            },
            "header": {
             "fill": {
              "color": "#C8D4E3"
             },
             "line": {
              "color": "white"
             }
            },
            "type": "table"
           }
          ]
         },
         "layout": {
          "annotationdefaults": {
           "arrowcolor": "#2a3f5f",
           "arrowhead": 0,
           "arrowwidth": 1
          },
          "autotypenumbers": "strict",
          "coloraxis": {
           "colorbar": {
            "outlinewidth": 0,
            "ticks": ""
           }
          },
          "colorscale": {
           "diverging": [
            [
             0,
             "#8e0152"
            ],
            [
             0.1,
             "#c51b7d"
            ],
            [
             0.2,
             "#de77ae"
            ],
            [
             0.3,
             "#f1b6da"
            ],
            [
             0.4,
             "#fde0ef"
            ],
            [
             0.5,
             "#f7f7f7"
            ],
            [
             0.6,
             "#e6f5d0"
            ],
            [
             0.7,
             "#b8e186"
            ],
            [
             0.8,
             "#7fbc41"
            ],
            [
             0.9,
             "#4d9221"
            ],
            [
             1,
             "#276419"
            ]
           ],
           "sequential": [
            [
             0,
             "#0d0887"
            ],
            [
             0.1111111111111111,
             "#46039f"
            ],
            [
             0.2222222222222222,
             "#7201a8"
            ],
            [
             0.3333333333333333,
             "#9c179e"
            ],
            [
             0.4444444444444444,
             "#bd3786"
            ],
            [
             0.5555555555555556,
             "#d8576b"
            ],
            [
             0.6666666666666666,
             "#ed7953"
            ],
            [
             0.7777777777777778,
             "#fb9f3a"
            ],
            [
             0.8888888888888888,
             "#fdca26"
            ],
            [
             1,
             "#f0f921"
            ]
           ],
           "sequentialminus": [
            [
             0,
             "#0d0887"
            ],
            [
             0.1111111111111111,
             "#46039f"
            ],
            [
             0.2222222222222222,
             "#7201a8"
            ],
            [
             0.3333333333333333,
             "#9c179e"
            ],
            [
             0.4444444444444444,
             "#bd3786"
            ],
            [
             0.5555555555555556,
             "#d8576b"
            ],
            [
             0.6666666666666666,
             "#ed7953"
            ],
            [
             0.7777777777777778,
             "#fb9f3a"
            ],
            [
             0.8888888888888888,
             "#fdca26"
            ],
            [
             1,
             "#f0f921"
            ]
           ]
          },
          "colorway": [
           "#636efa",
           "#EF553B",
           "#00cc96",
           "#ab63fa",
           "#FFA15A",
           "#19d3f3",
           "#FF6692",
           "#B6E880",
           "#FF97FF",
           "#FECB52"
          ],
          "font": {
           "color": "#2a3f5f"
          },
          "geo": {
           "bgcolor": "white",
           "lakecolor": "white",
           "landcolor": "#E5ECF6",
           "showlakes": true,
           "showland": true,
           "subunitcolor": "white"
          },
          "hoverlabel": {
           "align": "left"
          },
          "hovermode": "closest",
          "mapbox": {
           "style": "light"
          },
          "paper_bgcolor": "white",
          "plot_bgcolor": "#E5ECF6",
          "polar": {
           "angularaxis": {
            "gridcolor": "white",
            "linecolor": "white",
            "ticks": ""
           },
           "bgcolor": "#E5ECF6",
           "radialaxis": {
            "gridcolor": "white",
            "linecolor": "white",
            "ticks": ""
           }
          },
          "scene": {
           "xaxis": {
            "backgroundcolor": "#E5ECF6",
            "gridcolor": "white",
            "gridwidth": 2,
            "linecolor": "white",
            "showbackground": true,
            "ticks": "",
            "zerolinecolor": "white"
           },
           "yaxis": {
            "backgroundcolor": "#E5ECF6",
            "gridcolor": "white",
            "gridwidth": 2,
            "linecolor": "white",
            "showbackground": true,
            "ticks": "",
            "zerolinecolor": "white"
           },
           "zaxis": {
            "backgroundcolor": "#E5ECF6",
            "gridcolor": "white",
            "gridwidth": 2,
            "linecolor": "white",
            "showbackground": true,
            "ticks": "",
            "zerolinecolor": "white"
           }
          },
          "shapedefaults": {
           "line": {
            "color": "#2a3f5f"
           }
          },
          "ternary": {
           "aaxis": {
            "gridcolor": "white",
            "linecolor": "white",
            "ticks": ""
           },
           "baxis": {
            "gridcolor": "white",
            "linecolor": "white",
            "ticks": ""
           },
           "bgcolor": "#E5ECF6",
           "caxis": {
            "gridcolor": "white",
            "linecolor": "white",
            "ticks": ""
           }
          },
          "title": {
           "x": 0.05
          },
          "xaxis": {
           "automargin": true,
           "gridcolor": "white",
           "linecolor": "white",
           "ticks": "",
           "title": {
            "standoff": 15
           },
           "zerolinecolor": "white",
           "zerolinewidth": 2
          },
          "yaxis": {
           "automargin": true,
           "gridcolor": "white",
           "linecolor": "white",
           "ticks": "",
           "title": {
            "standoff": 15
           },
           "zerolinecolor": "white",
           "zerolinewidth": 2
          }
         }
        },
        "title": {
         "text": "PCA projection colored by presence in XLK"
        },
        "width": 600,
        "xaxis": {
         "anchor": "y",
         "domain": [
          0,
          1
         ],
         "title": {
          "text": "x"
         }
        },
        "yaxis": {
         "anchor": "x",
         "domain": [
          0,
          1
         ],
         "title": {
          "text": "y"
         }
        }
       }
      }
     },
     "metadata": {},
     "output_type": "display_data"
    },
    {
     "data": {
      "application/vnd.plotly.v1+json": {
       "config": {
        "plotlyServerURL": "https://plot.ly"
       },
       "data": [
        {
         "hovertemplate": "<b>%{hovertext}</b><br><br>Membership=Not in<br>x=%{x}<br>y=%{y}<extra></extra>",
         "hovertext": [
          "G",
          "T",
          "M",
          "N",
          "A",
          "M",
          "A",
          "A",
          "T",
          "A",
          "N",
          "O",
          "S",
          "C",
          "I",
          "I",
          "P",
          "C",
          "S",
          "A",
          "N",
          "U",
          "B",
          "N",
          "X",
          "C",
          "C",
          "S",
          "N",
          "J",
          "B",
          "G",
          "M",
          "B",
          "V",
          "M",
          "C"
         ],
         "legendgroup": "Not in",
         "marker": {
          "color": "#636efa",
          "line": {
           "color": "DarkSlateGrey",
           "width": 1
          },
          "size": 8,
          "symbol": "circle"
         },
         "mode": "markers",
         "name": "Not in",
         "orientation": "v",
         "showlegend": true,
         "type": "scatter",
         "x": {
          "bdata": "SHW2v7OkuL96tBnAyE4BwWzdVD7RK+fAIFsEwQHDJb+5GcjAetTBvyklAMGnTuTAnoTnwKN5wb5ddrnAmlGrPxH+0sAkpbXAJ2eAPyQWtj4lwYvAVbLEwAY608Cob6JA+mvwQEE75kAhrQVBGF8DQVOr3UBoTKjA1Rf3v51KYMB9GiPATUJrv/9G5L8iZca/doG4wA==",
          "dtype": "f4"
         },
         "xaxis": "x",
         "y": {
          "bdata": "FKMqQRgcx0BaITBB4LUbPwkI1UD4ArBArgWtP66ONkH3Jq9A+0A9QQ0foUASwTBAAgaPQJcIv0CQnTRAzX4FQS5U6z/rcbxA+GLcQEou+kAHSJBA8aaNQPF8X0DSZARBFlfSQOk77UAK2eBAJE76QGNTO0Fcs4NAEcjaQA1dmUBImLhAXUzoQKhGCUFNBhhBCx3NPw==",
          "dtype": "f4"
         },
         "yaxis": "y"
        },
        {
         "hovertemplate": "<b>%{hovertext}</b><br><br>Membership=In<br>x=%{x}<br>y=%{y}<extra></extra>",
         "hovertext": [
          "L",
          "J",
          "M",
          "U",
          "T",
          "D",
          "I",
          "S",
          "R"
         ],
         "legendgroup": "In",
         "marker": {
          "color": "#EF553B",
          "line": {
           "color": "DarkSlateGrey",
           "width": 1
          },
          "size": 8,
          "symbol": "circle"
         },
         "mode": "markers",
         "name": "In",
         "orientation": "v",
         "showlegend": true,
         "type": "scatter",
         "x": {
          "bdata": "EQ7fwAjfyECy7b9Axc/IQE1jvkDaSqRA7GOfwCH4GcBSUa1A",
          "dtype": "f4"
         },
         "xaxis": "x",
         "y": {
          "bdata": "k4KOP41ZOUFhkgNBqIgiQXs0L0EVUTRByMGoQPjaHkGaAxFB",
          "dtype": "f4"
         },
         "yaxis": "y"
        }
       ],
       "layout": {
        "height": 600,
        "legend": {
         "title": {
          "text": "Membership"
         },
         "tracegroupgap": 0
        },
        "template": {
         "data": {
          "bar": [
           {
            "error_x": {
             "color": "#2a3f5f"
            },
            "error_y": {
             "color": "#2a3f5f"
            },
            "marker": {
             "line": {
              "color": "#E5ECF6",
              "width": 0.5
             },
             "pattern": {
              "fillmode": "overlay",
              "size": 10,
              "solidity": 0.2
             }
            },
            "type": "bar"
           }
          ],
          "barpolar": [
           {
            "marker": {
             "line": {
              "color": "#E5ECF6",
              "width": 0.5
             },
             "pattern": {
              "fillmode": "overlay",
              "size": 10,
              "solidity": 0.2
             }
            },
            "type": "barpolar"
           }
          ],
          "carpet": [
           {
            "aaxis": {
             "endlinecolor": "#2a3f5f",
             "gridcolor": "white",
             "linecolor": "white",
             "minorgridcolor": "white",
             "startlinecolor": "#2a3f5f"
            },
            "baxis": {
             "endlinecolor": "#2a3f5f",
             "gridcolor": "white",
             "linecolor": "white",
             "minorgridcolor": "white",
             "startlinecolor": "#2a3f5f"
            },
            "type": "carpet"
           }
          ],
          "choropleth": [
           {
            "colorbar": {
             "outlinewidth": 0,
             "ticks": ""
            },
            "type": "choropleth"
           }
          ],
          "contour": [
           {
            "colorbar": {
             "outlinewidth": 0,
             "ticks": ""
            },
            "colorscale": [
             [
              0,
              "#0d0887"
             ],
             [
              0.1111111111111111,
              "#46039f"
             ],
             [
              0.2222222222222222,
              "#7201a8"
             ],
             [
              0.3333333333333333,
              "#9c179e"
             ],
             [
              0.4444444444444444,
              "#bd3786"
             ],
             [
              0.5555555555555556,
              "#d8576b"
             ],
             [
              0.6666666666666666,
              "#ed7953"
             ],
             [
              0.7777777777777778,
              "#fb9f3a"
             ],
             [
              0.8888888888888888,
              "#fdca26"
             ],
             [
              1,
              "#f0f921"
             ]
            ],
            "type": "contour"
           }
          ],
          "contourcarpet": [
           {
            "colorbar": {
             "outlinewidth": 0,
             "ticks": ""
            },
            "type": "contourcarpet"
           }
          ],
          "heatmap": [
           {
            "colorbar": {
             "outlinewidth": 0,
             "ticks": ""
            },
            "colorscale": [
             [
              0,
              "#0d0887"
             ],
             [
              0.1111111111111111,
              "#46039f"
             ],
             [
              0.2222222222222222,
              "#7201a8"
             ],
             [
              0.3333333333333333,
              "#9c179e"
             ],
             [
              0.4444444444444444,
              "#bd3786"
             ],
             [
              0.5555555555555556,
              "#d8576b"
             ],
             [
              0.6666666666666666,
              "#ed7953"
             ],
             [
              0.7777777777777778,
              "#fb9f3a"
             ],
             [
              0.8888888888888888,
              "#fdca26"
             ],
             [
              1,
              "#f0f921"
             ]
            ],
            "type": "heatmap"
           }
          ],
          "histogram": [
           {
            "marker": {
             "pattern": {
              "fillmode": "overlay",
              "size": 10,
              "solidity": 0.2
             }
            },
            "type": "histogram"
           }
          ],
          "histogram2d": [
           {
            "colorbar": {
             "outlinewidth": 0,
             "ticks": ""
            },
            "colorscale": [
             [
              0,
              "#0d0887"
             ],
             [
              0.1111111111111111,
              "#46039f"
             ],
             [
              0.2222222222222222,
              "#7201a8"
             ],
             [
              0.3333333333333333,
              "#9c179e"
             ],
             [
              0.4444444444444444,
              "#bd3786"
             ],
             [
              0.5555555555555556,
              "#d8576b"
             ],
             [
              0.6666666666666666,
              "#ed7953"
             ],
             [
              0.7777777777777778,
              "#fb9f3a"
             ],
             [
              0.8888888888888888,
              "#fdca26"
             ],
             [
              1,
              "#f0f921"
             ]
            ],
            "type": "histogram2d"
           }
          ],
          "histogram2dcontour": [
           {
            "colorbar": {
             "outlinewidth": 0,
             "ticks": ""
            },
            "colorscale": [
             [
              0,
              "#0d0887"
             ],
             [
              0.1111111111111111,
              "#46039f"
             ],
             [
              0.2222222222222222,
              "#7201a8"
             ],
             [
              0.3333333333333333,
              "#9c179e"
             ],
             [
              0.4444444444444444,
              "#bd3786"
             ],
             [
              0.5555555555555556,
              "#d8576b"
             ],
             [
              0.6666666666666666,
              "#ed7953"
             ],
             [
              0.7777777777777778,
              "#fb9f3a"
             ],
             [
              0.8888888888888888,
              "#fdca26"
             ],
             [
              1,
              "#f0f921"
             ]
            ],
            "type": "histogram2dcontour"
           }
          ],
          "mesh3d": [
           {
            "colorbar": {
             "outlinewidth": 0,
             "ticks": ""
            },
            "type": "mesh3d"
           }
          ],
          "parcoords": [
           {
            "line": {
             "colorbar": {
              "outlinewidth": 0,
              "ticks": ""
             }
            },
            "type": "parcoords"
           }
          ],
          "pie": [
           {
            "automargin": true,
            "type": "pie"
           }
          ],
          "scatter": [
           {
            "fillpattern": {
             "fillmode": "overlay",
             "size": 10,
             "solidity": 0.2
            },
            "type": "scatter"
           }
          ],
          "scatter3d": [
           {
            "line": {
             "colorbar": {
              "outlinewidth": 0,
              "ticks": ""
             }
            },
            "marker": {
             "colorbar": {
              "outlinewidth": 0,
              "ticks": ""
             }
            },
            "type": "scatter3d"
           }
          ],
          "scattercarpet": [
           {
            "marker": {
             "colorbar": {
              "outlinewidth": 0,
              "ticks": ""
             }
            },
            "type": "scattercarpet"
           }
          ],
          "scattergeo": [
           {
            "marker": {
             "colorbar": {
              "outlinewidth": 0,
              "ticks": ""
             }
            },
            "type": "scattergeo"
           }
          ],
          "scattergl": [
           {
            "marker": {
             "colorbar": {
              "outlinewidth": 0,
              "ticks": ""
             }
            },
            "type": "scattergl"
           }
          ],
          "scattermap": [
           {
            "marker": {
             "colorbar": {
              "outlinewidth": 0,
              "ticks": ""
             }
            },
            "type": "scattermap"
           }
          ],
          "scattermapbox": [
           {
            "marker": {
             "colorbar": {
              "outlinewidth": 0,
              "ticks": ""
             }
            },
            "type": "scattermapbox"
           }
          ],
          "scatterpolar": [
           {
            "marker": {
             "colorbar": {
              "outlinewidth": 0,
              "ticks": ""
             }
            },
            "type": "scatterpolar"
           }
          ],
          "scatterpolargl": [
           {
            "marker": {
             "colorbar": {
              "outlinewidth": 0,
              "ticks": ""
             }
            },
            "type": "scatterpolargl"
           }
          ],
          "scatterternary": [
           {
            "marker": {
             "colorbar": {
              "outlinewidth": 0,
              "ticks": ""
             }
            },
            "type": "scatterternary"
           }
          ],
          "surface": [
           {
            "colorbar": {
             "outlinewidth": 0,
             "ticks": ""
            },
            "colorscale": [
             [
              0,
              "#0d0887"
             ],
             [
              0.1111111111111111,
              "#46039f"
             ],
             [
              0.2222222222222222,
              "#7201a8"
             ],
             [
              0.3333333333333333,
              "#9c179e"
             ],
             [
              0.4444444444444444,
              "#bd3786"
             ],
             [
              0.5555555555555556,
              "#d8576b"
             ],
             [
              0.6666666666666666,
              "#ed7953"
             ],
             [
              0.7777777777777778,
              "#fb9f3a"
             ],
             [
              0.8888888888888888,
              "#fdca26"
             ],
             [
              1,
              "#f0f921"
             ]
            ],
            "type": "surface"
           }
          ],
          "table": [
           {
            "cells": {
             "fill": {
              "color": "#EBF0F8"
             },
             "line": {
              "color": "white"
             }
            },
            "header": {
             "fill": {
              "color": "#C8D4E3"
             },
             "line": {
              "color": "white"
             }
            },
            "type": "table"
           }
          ]
         },
         "layout": {
          "annotationdefaults": {
           "arrowcolor": "#2a3f5f",
           "arrowhead": 0,
           "arrowwidth": 1
          },
          "autotypenumbers": "strict",
          "coloraxis": {
           "colorbar": {
            "outlinewidth": 0,
            "ticks": ""
           }
          },
          "colorscale": {
           "diverging": [
            [
             0,
             "#8e0152"
            ],
            [
             0.1,
             "#c51b7d"
            ],
            [
             0.2,
             "#de77ae"
            ],
            [
             0.3,
             "#f1b6da"
            ],
            [
             0.4,
             "#fde0ef"
            ],
            [
             0.5,
             "#f7f7f7"
            ],
            [
             0.6,
             "#e6f5d0"
            ],
            [
             0.7,
             "#b8e186"
            ],
            [
             0.8,
             "#7fbc41"
            ],
            [
             0.9,
             "#4d9221"
            ],
            [
             1,
             "#276419"
            ]
           ],
           "sequential": [
            [
             0,
             "#0d0887"
            ],
            [
             0.1111111111111111,
             "#46039f"
            ],
            [
             0.2222222222222222,
             "#7201a8"
            ],
            [
             0.3333333333333333,
             "#9c179e"
            ],
            [
             0.4444444444444444,
             "#bd3786"
            ],
            [
             0.5555555555555556,
             "#d8576b"
            ],
            [
             0.6666666666666666,
             "#ed7953"
            ],
            [
             0.7777777777777778,
             "#fb9f3a"
            ],
            [
             0.8888888888888888,
             "#fdca26"
            ],
            [
             1,
             "#f0f921"
            ]
           ],
           "sequentialminus": [
            [
             0,
             "#0d0887"
            ],
            [
             0.1111111111111111,
             "#46039f"
            ],
            [
             0.2222222222222222,
             "#7201a8"
            ],
            [
             0.3333333333333333,
             "#9c179e"
            ],
            [
             0.4444444444444444,
             "#bd3786"
            ],
            [
             0.5555555555555556,
             "#d8576b"
            ],
            [
             0.6666666666666666,
             "#ed7953"
            ],
            [
             0.7777777777777778,
             "#fb9f3a"
            ],
            [
             0.8888888888888888,
             "#fdca26"
            ],
            [
             1,
             "#f0f921"
            ]
           ]
          },
          "colorway": [
           "#636efa",
           "#EF553B",
           "#00cc96",
           "#ab63fa",
           "#FFA15A",
           "#19d3f3",
           "#FF6692",
           "#B6E880",
           "#FF97FF",
           "#FECB52"
          ],
          "font": {
           "color": "#2a3f5f"
          },
          "geo": {
           "bgcolor": "white",
           "lakecolor": "white",
           "landcolor": "#E5ECF6",
           "showlakes": true,
           "showland": true,
           "subunitcolor": "white"
          },
          "hoverlabel": {
           "align": "left"
          },
          "hovermode": "closest",
          "mapbox": {
           "style": "light"
          },
          "paper_bgcolor": "white",
          "plot_bgcolor": "#E5ECF6",
          "polar": {
           "angularaxis": {
            "gridcolor": "white",
            "linecolor": "white",
            "ticks": ""
           },
           "bgcolor": "#E5ECF6",
           "radialaxis": {
            "gridcolor": "white",
            "linecolor": "white",
            "ticks": ""
           }
          },
          "scene": {
           "xaxis": {
            "backgroundcolor": "#E5ECF6",
            "gridcolor": "white",
            "gridwidth": 2,
            "linecolor": "white",
            "showbackground": true,
            "ticks": "",
            "zerolinecolor": "white"
           },
           "yaxis": {
            "backgroundcolor": "#E5ECF6",
            "gridcolor": "white",
            "gridwidth": 2,
            "linecolor": "white",
            "showbackground": true,
            "ticks": "",
            "zerolinecolor": "white"
           },
           "zaxis": {
            "backgroundcolor": "#E5ECF6",
            "gridcolor": "white",
            "gridwidth": 2,
            "linecolor": "white",
            "showbackground": true,
            "ticks": "",
            "zerolinecolor": "white"
           }
          },
          "shapedefaults": {
           "line": {
            "color": "#2a3f5f"
           }
          },
          "ternary": {
           "aaxis": {
            "gridcolor": "white",
            "linecolor": "white",
            "ticks": ""
           },
           "baxis": {
            "gridcolor": "white",
            "linecolor": "white",
            "ticks": ""
           },
           "bgcolor": "#E5ECF6",
           "caxis": {
            "gridcolor": "white",
            "linecolor": "white",
            "ticks": ""
           }
          },
          "title": {
           "x": 0.05
          },
          "xaxis": {
           "automargin": true,
           "gridcolor": "white",
           "linecolor": "white",
           "ticks": "",
           "title": {
            "standoff": 15
           },
           "zerolinecolor": "white",
           "zerolinewidth": 2
          },
          "yaxis": {
           "automargin": true,
           "gridcolor": "white",
           "linecolor": "white",
           "ticks": "",
           "title": {
            "standoff": 15
           },
           "zerolinecolor": "white",
           "zerolinewidth": 2
          }
         }
        },
        "title": {
         "text": "PCA projection colored by presence in XLV"
        },
        "width": 600,
        "xaxis": {
         "anchor": "y",
         "domain": [
          0,
          1
         ],
         "title": {
          "text": "x"
         }
        },
        "yaxis": {
         "anchor": "x",
         "domain": [
          0,
          1
         ],
         "title": {
          "text": "y"
         }
        }
       }
      }
     },
     "metadata": {},
     "output_type": "display_data"
    },
    {
     "data": {
      "application/vnd.plotly.v1+json": {
       "config": {
        "plotlyServerURL": "https://plot.ly"
       },
       "data": [
        {
         "hovertemplate": "<b>%{hovertext}</b><br><br>Membership=Not in<br>x=%{x}<br>y=%{y}<extra></extra>",
         "hovertext": [
          "G",
          "M",
          "N",
          "M",
          "A",
          "A",
          "T",
          "A",
          "N",
          "O",
          "S",
          "C",
          "I",
          "I",
          "P",
          "C",
          "S",
          "A",
          "N",
          "U",
          "L",
          "N",
          "J",
          "M",
          "U",
          "T",
          "D",
          "I",
          "S",
          "R",
          "X",
          "C",
          "C",
          "S",
          "N",
          "J",
          "B",
          "G",
          "M",
          "B",
          "V",
          "M",
          "C"
         ],
         "legendgroup": "Not in",
         "marker": {
          "color": "#636efa",
          "line": {
           "color": "DarkSlateGrey",
           "width": 1
          },
          "size": 8,
          "symbol": "circle"
         },
         "mode": "markers",
         "name": "Not in",
         "orientation": "v",
         "showlegend": true,
         "type": "scatter",
         "x": {
          "bdata": "SHW2v3q0GcDITgHB0SvnwCBbBMEBwyW/uRnIwHrUwb8pJQDBp07kwJ6E58CjecG+XXa5wJpRqz8R/tLAJKW1wCdngD8kFrY+JcGLwFWyxMARDt/AqG+iQAjfyECy7b9Axc/IQE1jvkDaSqRA7GOfwCH4GcBSUa1A+mvwQEE75kAhrQVBGF8DQVOr3UBoTKjA1Rf3v51KYMB9GiPATUJrv/9G5L8iZca/doG4wA==",
          "dtype": "f4"
         },
         "xaxis": "x",
         "y": {
          "bdata": "FKMqQVohMEHgtRs/+AKwQK4FrT+ujjZB9yavQPtAPUENH6FAEsEwQAIGj0CXCL9AkJ00QM1+BUEuVOs/63G8QPhi3EBKLvpAB0iQQPGmjUCTgo4/0mQEQY1ZOUFhkgNBqIgiQXs0L0EVUTRByMGoQPjaHkGaAxFBFlfSQOk77UAK2eBAJE76QGNTO0Fcs4NAEcjaQA1dmUBImLhAXUzoQKhGCUFNBhhBCx3NPw==",
          "dtype": "f4"
         },
         "yaxis": "y"
        },
        {
         "hovertemplate": "<b>%{hovertext}</b><br><br>Membership=In<br>x=%{x}<br>y=%{y}<extra></extra>",
         "hovertext": [
          "T",
          "A",
          "B"
         ],
         "legendgroup": "In",
         "marker": {
          "color": "#EF553B",
          "line": {
           "color": "DarkSlateGrey",
           "width": 1
          },
          "size": 8,
          "symbol": "circle"
         },
         "mode": "markers",
         "name": "In",
         "orientation": "v",
         "showlegend": true,
         "type": "scatter",
         "x": {
          "bdata": "s6S4v2zdVD4GOtPA",
          "dtype": "f4"
         },
         "xaxis": "x",
         "y": {
          "bdata": "GBzHQAkI1UDxfF9A",
          "dtype": "f4"
         },
         "yaxis": "y"
        }
       ],
       "layout": {
        "height": 600,
        "legend": {
         "title": {
          "text": "Membership"
         },
         "tracegroupgap": 0
        },
        "template": {
         "data": {
          "bar": [
           {
            "error_x": {
             "color": "#2a3f5f"
            },
            "error_y": {
             "color": "#2a3f5f"
            },
            "marker": {
             "line": {
              "color": "#E5ECF6",
              "width": 0.5
             },
             "pattern": {
              "fillmode": "overlay",
              "size": 10,
              "solidity": 0.2
             }
            },
            "type": "bar"
           }
          ],
          "barpolar": [
           {
            "marker": {
             "line": {
              "color": "#E5ECF6",
              "width": 0.5
             },
             "pattern": {
              "fillmode": "overlay",
              "size": 10,
              "solidity": 0.2
             }
            },
            "type": "barpolar"
           }
          ],
          "carpet": [
           {
            "aaxis": {
             "endlinecolor": "#2a3f5f",
             "gridcolor": "white",
             "linecolor": "white",
             "minorgridcolor": "white",
             "startlinecolor": "#2a3f5f"
            },
            "baxis": {
             "endlinecolor": "#2a3f5f",
             "gridcolor": "white",
             "linecolor": "white",
             "minorgridcolor": "white",
             "startlinecolor": "#2a3f5f"
            },
            "type": "carpet"
           }
          ],
          "choropleth": [
           {
            "colorbar": {
             "outlinewidth": 0,
             "ticks": ""
            },
            "type": "choropleth"
           }
          ],
          "contour": [
           {
            "colorbar": {
             "outlinewidth": 0,
             "ticks": ""
            },
            "colorscale": [
             [
              0,
              "#0d0887"
             ],
             [
              0.1111111111111111,
              "#46039f"
             ],
             [
              0.2222222222222222,
              "#7201a8"
             ],
             [
              0.3333333333333333,
              "#9c179e"
             ],
             [
              0.4444444444444444,
              "#bd3786"
             ],
             [
              0.5555555555555556,
              "#d8576b"
             ],
             [
              0.6666666666666666,
              "#ed7953"
             ],
             [
              0.7777777777777778,
              "#fb9f3a"
             ],
             [
              0.8888888888888888,
              "#fdca26"
             ],
             [
              1,
              "#f0f921"
             ]
            ],
            "type": "contour"
           }
          ],
          "contourcarpet": [
           {
            "colorbar": {
             "outlinewidth": 0,
             "ticks": ""
            },
            "type": "contourcarpet"
           }
          ],
          "heatmap": [
           {
            "colorbar": {
             "outlinewidth": 0,
             "ticks": ""
            },
            "colorscale": [
             [
              0,
              "#0d0887"
             ],
             [
              0.1111111111111111,
              "#46039f"
             ],
             [
              0.2222222222222222,
              "#7201a8"
             ],
             [
              0.3333333333333333,
              "#9c179e"
             ],
             [
              0.4444444444444444,
              "#bd3786"
             ],
             [
              0.5555555555555556,
              "#d8576b"
             ],
             [
              0.6666666666666666,
              "#ed7953"
             ],
             [
              0.7777777777777778,
              "#fb9f3a"
             ],
             [
              0.8888888888888888,
              "#fdca26"
             ],
             [
              1,
              "#f0f921"
             ]
            ],
            "type": "heatmap"
           }
          ],
          "histogram": [
           {
            "marker": {
             "pattern": {
              "fillmode": "overlay",
              "size": 10,
              "solidity": 0.2
             }
            },
            "type": "histogram"
           }
          ],
          "histogram2d": [
           {
            "colorbar": {
             "outlinewidth": 0,
             "ticks": ""
            },
            "colorscale": [
             [
              0,
              "#0d0887"
             ],
             [
              0.1111111111111111,
              "#46039f"
             ],
             [
              0.2222222222222222,
              "#7201a8"
             ],
             [
              0.3333333333333333,
              "#9c179e"
             ],
             [
              0.4444444444444444,
              "#bd3786"
             ],
             [
              0.5555555555555556,
              "#d8576b"
             ],
             [
              0.6666666666666666,
              "#ed7953"
             ],
             [
              0.7777777777777778,
              "#fb9f3a"
             ],
             [
              0.8888888888888888,
              "#fdca26"
             ],
             [
              1,
              "#f0f921"
             ]
            ],
            "type": "histogram2d"
           }
          ],
          "histogram2dcontour": [
           {
            "colorbar": {
             "outlinewidth": 0,
             "ticks": ""
            },
            "colorscale": [
             [
              0,
              "#0d0887"
             ],
             [
              0.1111111111111111,
              "#46039f"
             ],
             [
              0.2222222222222222,
              "#7201a8"
             ],
             [
              0.3333333333333333,
              "#9c179e"
             ],
             [
              0.4444444444444444,
              "#bd3786"
             ],
             [
              0.5555555555555556,
              "#d8576b"
             ],
             [
              0.6666666666666666,
              "#ed7953"
             ],
             [
              0.7777777777777778,
              "#fb9f3a"
             ],
             [
              0.8888888888888888,
              "#fdca26"
             ],
             [
              1,
              "#f0f921"
             ]
            ],
            "type": "histogram2dcontour"
           }
          ],
          "mesh3d": [
           {
            "colorbar": {
             "outlinewidth": 0,
             "ticks": ""
            },
            "type": "mesh3d"
           }
          ],
          "parcoords": [
           {
            "line": {
             "colorbar": {
              "outlinewidth": 0,
              "ticks": ""
             }
            },
            "type": "parcoords"
           }
          ],
          "pie": [
           {
            "automargin": true,
            "type": "pie"
           }
          ],
          "scatter": [
           {
            "fillpattern": {
             "fillmode": "overlay",
             "size": 10,
             "solidity": 0.2
            },
            "type": "scatter"
           }
          ],
          "scatter3d": [
           {
            "line": {
             "colorbar": {
              "outlinewidth": 0,
              "ticks": ""
             }
            },
            "marker": {
             "colorbar": {
              "outlinewidth": 0,
              "ticks": ""
             }
            },
            "type": "scatter3d"
           }
          ],
          "scattercarpet": [
           {
            "marker": {
             "colorbar": {
              "outlinewidth": 0,
              "ticks": ""
             }
            },
            "type": "scattercarpet"
           }
          ],
          "scattergeo": [
           {
            "marker": {
             "colorbar": {
              "outlinewidth": 0,
              "ticks": ""
             }
            },
            "type": "scattergeo"
           }
          ],
          "scattergl": [
           {
            "marker": {
             "colorbar": {
              "outlinewidth": 0,
              "ticks": ""
             }
            },
            "type": "scattergl"
           }
          ],
          "scattermap": [
           {
            "marker": {
             "colorbar": {
              "outlinewidth": 0,
              "ticks": ""
             }
            },
            "type": "scattermap"
           }
          ],
          "scattermapbox": [
           {
            "marker": {
             "colorbar": {
              "outlinewidth": 0,
              "ticks": ""
             }
            },
            "type": "scattermapbox"
           }
          ],
          "scatterpolar": [
           {
            "marker": {
             "colorbar": {
              "outlinewidth": 0,
              "ticks": ""
             }
            },
            "type": "scatterpolar"
           }
          ],
          "scatterpolargl": [
           {
            "marker": {
             "colorbar": {
              "outlinewidth": 0,
              "ticks": ""
             }
            },
            "type": "scatterpolargl"
           }
          ],
          "scatterternary": [
           {
            "marker": {
             "colorbar": {
              "outlinewidth": 0,
              "ticks": ""
             }
            },
            "type": "scatterternary"
           }
          ],
          "surface": [
           {
            "colorbar": {
             "outlinewidth": 0,
             "ticks": ""
            },
            "colorscale": [
             [
              0,
              "#0d0887"
             ],
             [
              0.1111111111111111,
              "#46039f"
             ],
             [
              0.2222222222222222,
              "#7201a8"
             ],
             [
              0.3333333333333333,
              "#9c179e"
             ],
             [
              0.4444444444444444,
              "#bd3786"
             ],
             [
              0.5555555555555556,
              "#d8576b"
             ],
             [
              0.6666666666666666,
              "#ed7953"
             ],
             [
              0.7777777777777778,
              "#fb9f3a"
             ],
             [
              0.8888888888888888,
              "#fdca26"
             ],
             [
              1,
              "#f0f921"
             ]
            ],
            "type": "surface"
           }
          ],
          "table": [
           {
            "cells": {
             "fill": {
              "color": "#EBF0F8"
             },
             "line": {
              "color": "white"
             }
            },
            "header": {
             "fill": {
              "color": "#C8D4E3"
             },
             "line": {
              "color": "white"
             }
            },
            "type": "table"
           }
          ]
         },
         "layout": {
          "annotationdefaults": {
           "arrowcolor": "#2a3f5f",
           "arrowhead": 0,
           "arrowwidth": 1
          },
          "autotypenumbers": "strict",
          "coloraxis": {
           "colorbar": {
            "outlinewidth": 0,
            "ticks": ""
           }
          },
          "colorscale": {
           "diverging": [
            [
             0,
             "#8e0152"
            ],
            [
             0.1,
             "#c51b7d"
            ],
            [
             0.2,
             "#de77ae"
            ],
            [
             0.3,
             "#f1b6da"
            ],
            [
             0.4,
             "#fde0ef"
            ],
            [
             0.5,
             "#f7f7f7"
            ],
            [
             0.6,
             "#e6f5d0"
            ],
            [
             0.7,
             "#b8e186"
            ],
            [
             0.8,
             "#7fbc41"
            ],
            [
             0.9,
             "#4d9221"
            ],
            [
             1,
             "#276419"
            ]
           ],
           "sequential": [
            [
             0,
             "#0d0887"
            ],
            [
             0.1111111111111111,
             "#46039f"
            ],
            [
             0.2222222222222222,
             "#7201a8"
            ],
            [
             0.3333333333333333,
             "#9c179e"
            ],
            [
             0.4444444444444444,
             "#bd3786"
            ],
            [
             0.5555555555555556,
             "#d8576b"
            ],
            [
             0.6666666666666666,
             "#ed7953"
            ],
            [
             0.7777777777777778,
             "#fb9f3a"
            ],
            [
             0.8888888888888888,
             "#fdca26"
            ],
            [
             1,
             "#f0f921"
            ]
           ],
           "sequentialminus": [
            [
             0,
             "#0d0887"
            ],
            [
             0.1111111111111111,
             "#46039f"
            ],
            [
             0.2222222222222222,
             "#7201a8"
            ],
            [
             0.3333333333333333,
             "#9c179e"
            ],
            [
             0.4444444444444444,
             "#bd3786"
            ],
            [
             0.5555555555555556,
             "#d8576b"
            ],
            [
             0.6666666666666666,
             "#ed7953"
            ],
            [
             0.7777777777777778,
             "#fb9f3a"
            ],
            [
             0.8888888888888888,
             "#fdca26"
            ],
            [
             1,
             "#f0f921"
            ]
           ]
          },
          "colorway": [
           "#636efa",
           "#EF553B",
           "#00cc96",
           "#ab63fa",
           "#FFA15A",
           "#19d3f3",
           "#FF6692",
           "#B6E880",
           "#FF97FF",
           "#FECB52"
          ],
          "font": {
           "color": "#2a3f5f"
          },
          "geo": {
           "bgcolor": "white",
           "lakecolor": "white",
           "landcolor": "#E5ECF6",
           "showlakes": true,
           "showland": true,
           "subunitcolor": "white"
          },
          "hoverlabel": {
           "align": "left"
          },
          "hovermode": "closest",
          "mapbox": {
           "style": "light"
          },
          "paper_bgcolor": "white",
          "plot_bgcolor": "#E5ECF6",
          "polar": {
           "angularaxis": {
            "gridcolor": "white",
            "linecolor": "white",
            "ticks": ""
           },
           "bgcolor": "#E5ECF6",
           "radialaxis": {
            "gridcolor": "white",
            "linecolor": "white",
            "ticks": ""
           }
          },
          "scene": {
           "xaxis": {
            "backgroundcolor": "#E5ECF6",
            "gridcolor": "white",
            "gridwidth": 2,
            "linecolor": "white",
            "showbackground": true,
            "ticks": "",
            "zerolinecolor": "white"
           },
           "yaxis": {
            "backgroundcolor": "#E5ECF6",
            "gridcolor": "white",
            "gridwidth": 2,
            "linecolor": "white",
            "showbackground": true,
            "ticks": "",
            "zerolinecolor": "white"
           },
           "zaxis": {
            "backgroundcolor": "#E5ECF6",
            "gridcolor": "white",
            "gridwidth": 2,
            "linecolor": "white",
            "showbackground": true,
            "ticks": "",
            "zerolinecolor": "white"
           }
          },
          "shapedefaults": {
           "line": {
            "color": "#2a3f5f"
           }
          },
          "ternary": {
           "aaxis": {
            "gridcolor": "white",
            "linecolor": "white",
            "ticks": ""
           },
           "baxis": {
            "gridcolor": "white",
            "linecolor": "white",
            "ticks": ""
           },
           "bgcolor": "#E5ECF6",
           "caxis": {
            "gridcolor": "white",
            "linecolor": "white",
            "ticks": ""
           }
          },
          "title": {
           "x": 0.05
          },
          "xaxis": {
           "automargin": true,
           "gridcolor": "white",
           "linecolor": "white",
           "ticks": "",
           "title": {
            "standoff": 15
           },
           "zerolinecolor": "white",
           "zerolinewidth": 2
          },
          "yaxis": {
           "automargin": true,
           "gridcolor": "white",
           "linecolor": "white",
           "ticks": "",
           "title": {
            "standoff": 15
           },
           "zerolinecolor": "white",
           "zerolinewidth": 2
          }
         }
        },
        "title": {
         "text": "PCA projection colored by presence in XLY"
        },
        "width": 600,
        "xaxis": {
         "anchor": "y",
         "domain": [
          0,
          1
         ],
         "title": {
          "text": "x"
         }
        },
        "yaxis": {
         "anchor": "x",
         "domain": [
          0,
          1
         ],
         "title": {
          "text": "y"
         }
        }
       }
      }
     },
     "metadata": {},
     "output_type": "display_data"
    }
   ],
   "source": [
    "# plot the reduced stocks with coloring according to the first row of coloring\n",
    "\n",
    "# plot using Plotly for the first ETF in `coloring`\n",
    "for idx in range(len(coloring)):\n",
    "    etf_name = coloring.index[idx]\n",
    "    members = set(coloring.iloc[idx, 0])\n",
    "\n",
    "    # build a series of \"In ETF\" / \"Not in ETF\"\n",
    "    membership = single_stocks['tickers'].apply(lambda x: 'In' if x[0] in members else 'Not in')\n",
    "\n",
    "    fig = px.scatter(\n",
    "        x=reduced_single_stocks[:, 0],\n",
    "        y=reduced_single_stocks[:, 1],\n",
    "        color=membership,\n",
    "        hover_name=single_stocks['name'].apply(lambda x: x[0]),\n",
    "        title=f\"PCA projection colored by presence in {etf_name}\",\n",
    "        labels={'color': 'Membership'},\n",
    "        width=600,\n",
    "        height=600\n",
    "    )\n",
    "    fig.update_traces(marker=dict(size=8, line=dict(width=1, color='DarkSlateGrey')))\n",
    "    fig.show()"
   ]
  },
  {
   "cell_type": "code",
   "execution_count": 37,
   "id": "052b06a1",
   "metadata": {},
   "outputs": [
    {
     "name": "stderr",
     "output_type": "stream",
     "text": [
      "/Users/ronraisch/miniforge3/envs/needle/lib/python3.10/site-packages/umap/umap_.py:1952: UserWarning:\n",
      "\n",
      "n_jobs value 1 overridden to 1 by setting random_state. Use no seed for parallelism.\n",
      "\n"
     ]
    },
    {
     "data": {
      "text/plain": [
       "-1     1071\n",
       " 0       11\n",
       " 1       22\n",
       " 2        8\n",
       " 3        7\n",
       "       ... \n",
       " 92       5\n",
       " 93       5\n",
       " 94      30\n",
       " 95      14\n",
       " 96       5\n",
       "Length: 98, dtype: int64"
      ]
     },
     "execution_count": 37,
     "metadata": {},
     "output_type": "execute_result"
    }
   ],
   "source": [
    "reducer = umap.UMAP(n_neighbors=10, min_dist=0.1, random_state=0)\n",
    "X_embedded = reducer.fit_transform(unified)\n",
    "\n",
    "dbscan = DBSCAN(eps=0.1, min_samples=5)\n",
    "labels = dbscan.fit_predict(X_embedded)\n",
    "count = np.unique(labels, return_counts=True)\n",
    "pd.Series(count[1], index=count[0]).sort_index()"
   ]
  },
  {
   "cell_type": "code",
   "execution_count": 38,
   "id": "035054fd",
   "metadata": {},
   "outputs": [
    {
     "data": {
      "application/vnd.plotly.v1+json": {
       "config": {
        "plotlyServerURL": "https://plot.ly"
       },
       "data": [
        {
         "hovertemplate": "<b>%{hovertext}</b><br><br>color=24<br>x=%{x}<br>y=%{y}<extra></extra>",
         "hovertext": [
          "SolarEdge news",
          "IKEA stock price",
          "Sea Limited news",
          "Xiaomi news",
          "buy Nike shares"
         ],
         "legendgroup": "24",
         "marker": {
          "color": "#636efa",
          "line": {
           "color": "DarkSlateGrey",
           "width": 1
          },
          "size": 10,
          "symbol": "circle"
         },
         "mode": "markers",
         "name": "24",
         "orientation": "v",
         "showlegend": true,
         "type": "scatter",
         "x": {
          "bdata": "W/1HwOHFR8BeyETAGD9GwJ/ZRsA=",
          "dtype": "f4"
         },
         "xaxis": "x",
         "y": {
          "bdata": "8OIoQFcQIkDVfCRA8TgiQG1ZIEA=",
          "dtype": "f4"
         },
         "yaxis": "y"
        },
        {
         "hovertemplate": "<b>%{hovertext}</b><br><br>color=0<br>x=%{x}<br>y=%{y}<extra></extra>",
         "hovertext": [
          "war in Syria",
          "Syria conflict",
          "investing in streaming services",
          "Reed Hastings interview",
          "US aid to Sudan",
          "buy Workday shares",
          "Syria news",
          "Alexandria Ocasio-Cortez on green bonds",
          "Syria",
          "Lisa Su interview",
          "Copilot sales in Israel"
         ],
         "legendgroup": "0",
         "marker": {
          "color": "#EF553B",
          "line": {
           "color": "DarkSlateGrey",
           "width": 1
          },
          "size": 10,
          "symbol": "circle"
         },
         "mode": "markers",
         "name": "0",
         "orientation": "v",
         "showlegend": true,
         "type": "scatter",
         "x": {
          "bdata": "2PiawOd5msBKEZvA7eOawEEinMDAdJjAbPWYwBF8msC9nJvALg2dwBCSnsA=",
          "dtype": "f4"
         },
         "xaxis": "x",
         "y": {
          "bdata": "F0mAQELcgUDNf35AvfSAQNi1fUDQon9A2o2BQMuIfECUyIBAU0l8QJcJekA=",
          "dtype": "f4"
         },
         "yaxis": "y"
        },
        {
         "hovertemplate": "<b>%{hovertext}</b><br><br>color=78<br>x=%{x}<br>y=%{y}<extra></extra>",
         "hovertext": [
          "Atlassian",
          "robotics",
          "Texas Instruments vs Texas Instruments",
          "ServiceNow",
          "data breach",
          "Google Cloud",
          "data privacy",
          "ASML"
         ],
         "legendgroup": "78",
         "marker": {
          "color": "#00cc96",
          "line": {
           "color": "DarkSlateGrey",
           "width": 1
          },
          "size": 10,
          "symbol": "circle"
         },
         "mode": "markers",
         "name": "78",
         "orientation": "v",
         "showlegend": true,
         "type": "scatter",
         "x": {
          "bdata": "82biwFdw3MCD2N7AffPfwG2J3cAXKODAaF3ewAPQ38A=",
          "dtype": "f4"
         },
         "xaxis": "x",
         "y": {
          "bdata": "jpuMQGmejkBSkoxA9FqKQBFjjkCuwYtANt6PQErQjUA=",
          "dtype": "f4"
         },
         "yaxis": "y"
        },
        {
         "hovertemplate": "<b>%{hovertext}</b><br><br>color=47<br>x=%{x}<br>y=%{y}<extra></extra>",
         "hovertext": [
          "ISRG",
          "American Express stock price",
          "IBM stock price",
          "Merck",
          "Roche stock price",
          "Mark Zuckerberg",
          "Uber stock price"
         ],
         "legendgroup": "47",
         "marker": {
          "color": "#ab63fa",
          "line": {
           "color": "DarkSlateGrey",
           "width": 1
          },
          "size": 10,
          "symbol": "circle"
         },
         "mode": "markers",
         "name": "47",
         "orientation": "v",
         "showlegend": true,
         "type": "scatter",
         "x": {
          "bdata": "uL/8wI4oAMHtmQDBVA0AwdF1/8C0SvzANmX+wA==",
          "dtype": "f4"
         },
         "xaxis": "x",
         "y": {
          "bdata": "TA4KQFduDkC/1BJAWwILQPOQE0BlNwlAeTwKQA==",
          "dtype": "f4"
         },
         "yaxis": "y"
        },
        {
         "hovertemplate": "<b>%{hovertext}</b><br><br>color=1<br>x=%{x}<br>y=%{y}<extra></extra>",
         "hovertext": [
          "corporate earnings forecast",
          "new AWS release date",
          "ServiceNow earnings report",
          "Xiaomi controversy",
          "ChatGPT-5",
          "consumer confidence forecast",
          "ChatGPT-5 price",
          "UnitedHealth earnings report",
          "Mastercard controversy",
          "Alibaba controversy",
          "McDonald's earnings report",
          "iPhone 16 sales in US",
          "OpenAI Sora review",
          "CyberArk news",
          "American Express controversy",
          "euro index forecast",
          "IBM controversy",
          "Cisco controversy",
          "Samsung Electronics news",
          "Merck layoffs",
          "Mastercard earnings report",
          "air quality controversy"
         ],
         "legendgroup": "1",
         "marker": {
          "color": "#FFA15A",
          "line": {
           "color": "DarkSlateGrey",
           "width": 1
          },
          "size": 10,
          "symbol": "circle"
         },
         "mode": "markers",
         "name": "1",
         "orientation": "v",
         "showlegend": true,
         "type": "scatter",
         "x": {
          "bdata": "KcelPl0mhD4aqFw+tKSRPpccpj6Wbow+8kz9PgYa7T5oC/4+Mdv+PnG7cj7crwE/6VwWPqJH/T6ziLs+Hh2cPkyxyj4PZc8++7SpPjNToz6rJdk+pFkLPw==",
          "dtype": "f4"
         },
         "xaxis": "x",
         "y": {
          "bdata": "/Rt5QImBf0CZmIRA1oSBQIppfEAV9nhA4El9QBX1fEDurH5A4l99QCHzgUD95XtAvaCCQOFWfUAeG3pA0QyCQJ2Ne0Du2HpA+2GAQJHYeEDWx3tAhSB+QA==",
          "dtype": "f4"
         },
         "yaxis": "y"
        },
        {
         "hovertemplate": "<b>%{hovertext}</b><br><br>color=52<br>x=%{x}<br>y=%{y}<extra></extra>",
         "hovertext": [
          "war in Iran",
          "Sydney Sweeney new album",
          "Visa response to Iran",
          "Sheryl Sandberg on sustainable finance",
          "Apple response to Sinai Peninsula",
          "Netflix response to Gaza",
          "Ted Cruz interview",
          "US aid to Iran",
          "Iran news",
          "circular economy stocks",
          "Iran conflict",
          "Iran",
          "Apple response to Israel",
          "Best Buy response to Iran",
          "Lululemon layoffs",
          "Goldman Sachs response to Iron Dome",
          "climate resilience controversy",
          "Teva Pharmaceutical news",
          "Apple response to NATO"
         ],
         "legendgroup": "52",
         "marker": {
          "color": "#19d3f3",
          "line": {
           "color": "DarkSlateGrey",
           "width": 1
          },
          "size": 10,
          "symbol": "circle"
         },
         "mode": "markers",
         "name": "52",
         "orientation": "v",
         "showlegend": true,
         "type": "scatter",
         "x": {
          "bdata": "HPnpvzK6zb/y4t2/MwHtv9OT4L/TxNy/c6zXvxOH87+wHOu/X+rvvzFG2L/gWPi/qQXUv1if37+JCNK/52vgvwN3zr86F9+/IrTcvw==",
          "dtype": "f4"
         },
         "xaxis": "x",
         "y": {
          "bdata": "9aG4QFEZt0A4Fb1Apne7QDMivEAGQL1AU6y5QDEou0CS/LlAFqG6QOEZuUBrxrpACCG3QFbSvEAytbhACPy7QD8NuUBw4bpAvdK9QA==",
          "dtype": "f4"
         },
         "yaxis": "y"
        },
        {
         "hovertemplate": "<b>%{hovertext}</b><br><br>color=2<br>x=%{x}<br>y=%{y}<extra></extra>",
         "hovertext": [
          "Satya Nadella interview",
          "Payoneer news",
          "mindfulness controversy",
          "UnitedHealth news",
          "data privacy controversy",
          "Snapchat controversy",
          "Berkshire Hathaway earnings report",
          "OpenAI Sora price"
         ],
         "legendgroup": "2",
         "marker": {
          "color": "#FF6692",
          "line": {
           "color": "DarkSlateGrey",
           "width": 1
          },
          "size": 10,
          "symbol": "circle"
         },
         "mode": "markers",
         "name": "2",
         "orientation": "v",
         "showlegend": true,
         "type": "scatter",
         "x": {
          "bdata": "kbZbvnYCWb4VSlK+thmNvvIJWr4dGTi+4yJuviRiTb4=",
          "dtype": "f4"
         },
         "xaxis": "x",
         "y": {
          "bdata": "B0p7QCwbgEBQe31AeLJ5QFxIdkC03H1AeQx9QDEjfUA=",
          "dtype": "f4"
         },
         "yaxis": "y"
        },
        {
         "hovertemplate": "<b>%{hovertext}</b><br><br>color=3<br>x=%{x}<br>y=%{y}<extra></extra>",
         "hovertext": [
          "Oprah Winfrey",
          "TSMC layoffs",
          "Jeff Bezos interview",
          "investing in crypto",
          "Elon Musk tweet",
          "Jeff Bezos",
          "crypto"
         ],
         "legendgroup": "3",
         "marker": {
          "color": "#B6E880",
          "line": {
           "color": "DarkSlateGrey",
           "width": 1
          },
          "size": 10,
          "symbol": "circle"
         },
         "mode": "markers",
         "name": "3",
         "orientation": "v",
         "showlegend": true,
         "type": "scatter",
         "x": {
          "bdata": "GALawJwF2MCD0tzATsPYwM/S18APydzADljYwA==",
          "dtype": "f4"
         },
         "xaxis": "x",
         "y": {
          "bdata": "c01fP7+scj/4+10/rS9oP0eVbj90/2E/Rd9WPw==",
          "dtype": "f4"
         },
         "yaxis": "y"
        },
        {
         "hovertemplate": "<b>%{hovertext}</b><br><br>color=4<br>x=%{x}<br>y=%{y}<extra></extra>",
         "hovertext": [
          "Workday stock price",
          "Berkshire Hathaway stock price",
          "SYK",
          "TSM",
          "Lisa Su",
          "Tim Cook",
          "AMD",
          "Intel",
          "Morgan Stanley"
         ],
         "legendgroup": "4",
         "marker": {
          "color": "#FF97FF",
          "line": {
           "color": "DarkSlateGrey",
           "width": 1
          },
          "size": 10,
          "symbol": "circle"
         },
         "mode": "markers",
         "name": "4",
         "orientation": "v",
         "showlegend": true,
         "type": "scatter",
         "x": {
          "bdata": "+6ICwTsDBMER2QHBI3EDwbrYAsHfxwLBVnsBwQS0AMGuDQXB",
          "dtype": "f4"
         },
         "xaxis": "x",
         "y": {
          "bdata": "bo5HQDWoSkBiKEVABXZGQAI2RkBEoE1A4wFIQKrZSEDDUElA",
          "dtype": "f4"
         },
         "yaxis": "y"
        },
        {
         "hovertemplate": "<b>%{hovertext}</b><br><br>color=5<br>x=%{x}<br>y=%{y}<extra></extra>",
         "hovertext": [
          "Sudan conflict",
          "Check Point Software earnings report",
          "gender equality controversy",
          "Sudan news",
          "Zendaya new album",
          "Sudan",
          "war in Sudan",
          "buy Intel shares",
          "Visa response to Middle East"
         ],
         "legendgroup": "5",
         "marker": {
          "color": "#FECB52",
          "line": {
           "color": "DarkSlateGrey",
           "width": 1
          },
          "size": 10,
          "symbol": "circle"
         },
         "mode": "markers",
         "name": "5",
         "orientation": "v",
         "showlegend": true,
         "type": "scatter",
         "x": {
          "bdata": "0b3CwFVyxcAy3cTAeQHFwB+DxcCc/MfAPLbDwKttxMB1m8LA",
          "dtype": "f4"
         },
         "xaxis": "x",
         "y": {
          "bdata": "ph8oQF7VL0D+byhANu0mQDsCK0Djqi1AdJcoQHX1IkCqGChA",
          "dtype": "f4"
         },
         "yaxis": "y"
        },
        {
         "hovertemplate": "<b>%{hovertext}</b><br><br>color=6<br>x=%{x}<br>y=%{y}<extra></extra>",
         "hovertext": [
          "buy Xiaomi shares",
          "AirPods Pro sales in Gaza",
          "Sundar Pichai on eco-friendly products",
          "Hezbollah",
          "CVS Health layoffs",
          "Nancy Pelosi on eco-friendly products",
          "Pinterest response to Pakistan"
         ],
         "legendgroup": "6",
         "marker": {
          "color": "#636efa",
          "line": {
           "color": "DarkSlateGrey",
           "width": 1
          },
          "size": 10,
          "symbol": "circle"
         },
         "mode": "markers",
         "name": "6",
         "orientation": "v",
         "showlegend": true,
         "type": "scatter",
         "x": {
          "bdata": "78eRwMfUkcD5nZDA1xiTwCzWkcBrkpHADhmVwA==",
          "dtype": "f4"
         },
         "xaxis": "x",
         "y": {
          "bdata": "FLnIQHr4yEB35MZAcc/KQEqtyEBV2MlA2bfIQA==",
          "dtype": "f4"
         },
         "yaxis": "y"
        },
        {
         "hovertemplate": "<b>%{hovertext}</b><br><br>color=7<br>x=%{x}<br>y=%{y}<extra></extra>",
         "hovertext": [
          "Unity layoffs",
          "Fiverr response to Jerusalem",
          "Yemen",
          "Yemen news",
          "Sheryl Sandberg on air quality",
          "buy BlackRock shares",
          "Mansour Abbas on sustainable finance",
          "BlackRock layoffs",
          "MacBook Pro M4 sales in China"
         ],
         "legendgroup": "7",
         "marker": {
          "color": "#EF553B",
          "line": {
           "color": "DarkSlateGrey",
           "width": 1
          },
          "size": 10,
          "symbol": "circle"
         },
         "mode": "markers",
         "name": "7",
         "orientation": "v",
         "showlegend": true,
         "type": "scatter",
         "x": {
          "bdata": "M/vPwKzz0cD2tdbAeeXRwGCU0cAbedTAFRDQwGXC0MD3stHA",
          "dtype": "f4"
         },
         "xaxis": "x",
         "y": {
          "bdata": "GW+eQBV+nkC8vZ9AYs+gQINvoEBGBaFACNmeQOoCnEAUy59A",
          "dtype": "f4"
         },
         "yaxis": "y"
        },
        {
         "hovertemplate": "<b>%{hovertext}</b><br><br>color=8<br>x=%{x}<br>y=%{y}<extra></extra>",
         "hovertext": [
          "Andrew Tate",
          "Isaac Herzog tweet",
          "Amir Ohana",
          "Ayman Odeh on stakeholder capitalism",
          "Zoom response to Middle East",
          "Kevin McCarthy interview",
          "Kevin McCarthy",
          "Playstation 5 Pro sales in Russia"
         ],
         "legendgroup": "8",
         "marker": {
          "color": "#00cc96",
          "line": {
           "color": "DarkSlateGrey",
           "width": 1
          },
          "size": 10,
          "symbol": "circle"
         },
         "mode": "markers",
         "name": "8",
         "orientation": "v",
         "showlegend": true,
         "type": "scatter",
         "x": {
          "bdata": "jCvMwP/lysAE3czADKnKwH6SysCLkszAQBTMwBZ3ysA=",
          "dtype": "f4"
         },
         "xaxis": "x",
         "y": {
          "bdata": "KZJ0QA/EeEAAWHZA9E56QCNLckAN03NAt4VwQBMrfUA=",
          "dtype": "f4"
         },
         "yaxis": "y"
        },
        {
         "hovertemplate": "<b>%{hovertext}</b><br><br>color=9<br>x=%{x}<br>y=%{y}<extra></extra>",
         "hovertext": [
          "Pinterest",
          "stock market",
          "Azure",
          "Drake",
          "mortgage rates",
          "SLB"
         ],
         "legendgroup": "9",
         "marker": {
          "color": "#ab63fa",
          "line": {
           "color": "DarkSlateGrey",
           "width": 1
          },
          "size": 10,
          "symbol": "circle"
         },
         "mode": "markers",
         "name": "9",
         "orientation": "v",
         "showlegend": true,
         "type": "scatter",
         "x": {
          "bdata": "U2zywDkm9MAgCvXAyGj0wHRO8sAnAvPA",
          "dtype": "f4"
         },
         "xaxis": "x",
         "y": {
          "bdata": "WHVlQDFPZ0DFOWhAqvhvQDy5aEABfmtA",
          "dtype": "f4"
         },
         "yaxis": "y"
        },
        {
         "hovertemplate": "<b>%{hovertext}</b><br><br>color=90<br>x=%{x}<br>y=%{y}<extra></extra>",
         "hovertext": [
          "Iraq",
          "big data trends",
          "Veteran Friendly",
          "gaming industry",
          "venture capital",
          "influencer marketing"
         ],
         "legendgroup": "90",
         "marker": {
          "color": "#FFA15A",
          "line": {
           "color": "DarkSlateGrey",
           "width": 1
          },
          "size": 10,
          "symbol": "circle"
         },
         "mode": "markers",
         "name": "90",
         "orientation": "v",
         "showlegend": true,
         "type": "scatter",
         "x": {
          "bdata": "GaDpwNzL7cCzXujA8aTrwMXO6MByiuvA",
          "dtype": "f4"
         },
         "xaxis": "x",
         "y": {
          "bdata": "/L2RQFNWkUCTM41ATX6PQI1Dj0Cb8o1A",
          "dtype": "f4"
         },
         "yaxis": "y"
        },
        {
         "hovertemplate": "<b>%{hovertext}</b><br><br>color=10<br>x=%{x}<br>y=%{y}<extra></extra>",
         "hovertext": [
          "Palestine",
          "Gaza",
          "war in Palestine",
          "AirPods Pro sales in Palestine",
          "Pfizer layoffs",
          "Gaza news",
          "Mansour Abbas on me too movement",
          "Naftali Bennett interview",
          "AI advancements trends",
          "Jerusalem conflict",
          "Itamar Ben-Gvir on biodiversity conservation",
          "Roche earnings report",
          "Apple Vision Pro vs competitor",
          "GSK layoffs"
         ],
         "legendgroup": "10",
         "marker": {
          "color": "#19d3f3",
          "line": {
           "color": "DarkSlateGrey",
           "width": 1
          },
          "size": 10,
          "symbol": "circle"
         },
         "mode": "markers",
         "name": "10",
         "orientation": "v",
         "showlegend": true,
         "type": "scatter",
         "x": {
          "bdata": "sjKswL4grsC2i6zAxV6rwA4Lq8DoIq3AtzyrwFHmq8ALtqrA3FWowA3brcAieK3AY1mrwJCRq8A=",
          "dtype": "f4"
         },
         "xaxis": "x",
         "y": {
          "bdata": "WBPnQA0/6EBQRulAChzqQJ9q6kBVAOdAsIHpQDVJ60C1pehA52nnQCrh5kAGgeZAoqToQLHI50A=",
          "dtype": "f4"
         },
         "yaxis": "y"
        },
        {
         "hovertemplate": "<b>%{hovertext}</b><br><br>color=11<br>x=%{x}<br>y=%{y}<extra></extra>",
         "hovertext": [
          "war in NATO",
          "war in Ukraine",
          "war in Russia",
          "Satya Nadella",
          "Russia news",
          "NATO conflict",
          "Peace talks",
          "Russia conflict",
          "Nice Ltd. response to Saudi Arabia",
          "NATO news",
          "Support Ukraine",
          "Ukraine conflict",
          "Ukraine news",
          "Ayman Odeh on social justice",
          "investing in vegan",
          "NATO",
          "Russia",
          "buy Unity shares",
          "Ukraine",
          "RSX",
          "ERUS"
         ],
         "legendgroup": "11",
         "marker": {
          "color": "#FF6692",
          "line": {
           "color": "DarkSlateGrey",
           "width": 1
          },
          "size": 10,
          "symbol": "circle"
         },
         "mode": "markers",
         "name": "11",
         "orientation": "v",
         "showlegend": true,
         "type": "scatter",
         "x": {
          "bdata": "rNJfwELUYMCKkl3AJN5rwPH8XcC2c17Ax9hpwFEuXMAi9l3ASGRdwPoMXsBYlVvAIBVewKJBZMBwwmfA3ktdwH9GXcCwaWrAEARewE28Z8AYr2PA",
          "dtype": "f4"
         },
         "xaxis": "x",
         "y": {
          "bdata": "vNaEPpMzmj6cBps+2rzCPifQRT4JyFU+r6zrPuDFQj6RtTk+KGQ3PsbrVD5ZJS0+y/pRPsBkkz7O08c+ZEBZPjzwaz4iyZU+1ERePlummz6l4IQ+",
          "dtype": "f4"
         },
         "yaxis": "y"
        },
        {
         "hovertemplate": "<b>%{hovertext}</b><br><br>color=18<br>x=%{x}<br>y=%{y}<extra></extra>",
         "hovertext": [
          "Mastercard",
          "V",
          "superfoods",
          "BAC",
          "Lyft",
          "yoga",
          "TAN",
          "AMZN",
          "organic food",
          "Uber",
          "Home Depot vs Home Depot",
          "JPM",
          "DHR",
          "Microsoft",
          "China",
          "MS",
          "MA",
          "CleanWater",
          "BLK",
          "TSLA",
          "Tesla",
          "SAP"
         ],
         "legendgroup": "18",
         "marker": {
          "color": "#B6E880",
          "line": {
           "color": "DarkSlateGrey",
           "width": 1
          },
          "size": 10,
          "symbol": "circle"
         },
         "mode": "markers",
         "name": "18",
         "orientation": "v",
         "showlegend": true,
         "type": "scatter",
         "x": {
          "bdata": "xxsHwRKCCMEQ2QjBBDQHwR+vCcGLHwrBFuQHwWfLB8HCnQvBBbQHwcb4B8EopgjBWxEJwZ/gCMEzOwjBm0cKwbXPCcH/0AjByU8IwfNhCcE9RwnBjskIwQ==",
          "dtype": "f4"
         },
         "xaxis": "x",
         "y": {
          "bdata": "k8wbQPUZJEC6vxRAbWggQADkG0DGrRBAqxAoQMWzE0CqBB1As04lQIWbJEDukCBAj8MXQOuwKECZViVAUOEaQN9QGUB4pCZA3CoZQMhwE0CSfxNA1z4ZQA==",
          "dtype": "f4"
         },
         "yaxis": "y"
        },
        {
         "hovertemplate": "<b>%{hovertext}</b><br><br>color=12<br>x=%{x}<br>y=%{y}<extra></extra>",
         "hovertext": [
          "war in Saudi Arabia",
          "US conflict",
          "impact of oil prices",
          "Middle East",
          "Iraq conflict",
          "Saudi Arabia conflict"
         ],
         "legendgroup": "12",
         "marker": {
          "color": "#FF97FF",
          "line": {
           "color": "DarkSlateGrey",
           "width": 1
          },
          "size": 10,
          "symbol": "circle"
         },
         "mode": "markers",
         "name": "12",
         "orientation": "v",
         "showlegend": true,
         "type": "scatter",
         "x": {
          "bdata": "46y+wPSVvsBcQr/AFNa7wGPMvcDBlrrA",
          "dtype": "f4"
         },
         "xaxis": "x",
         "y": {
          "bdata": "dR3NQAb3y0CLFMtAcB7NQLS3zUCvK89A",
          "dtype": "f4"
         },
         "yaxis": "y"
        },
        {
         "hovertemplate": "<b>%{hovertext}</b><br><br>color=13<br>x=%{x}<br>y=%{y}<extra></extra>",
         "hovertext": [
          "Google Cloud review",
          "CPI report forecast",
          "yoga trends",
          "savings rate forecast",
          "Jerome Powell",
          "Johnson & Johnson vs Johnson & Johnson",
          "impact of corporate earnings"
         ],
         "legendgroup": "13",
         "marker": {
          "color": "#FECB52",
          "line": {
           "color": "DarkSlateGrey",
           "width": 1
          },
          "size": 10,
          "symbol": "circle"
         },
         "mode": "markers",
         "name": "13",
         "orientation": "v",
         "showlegend": true,
         "type": "scatter",
         "x": {
          "bdata": "96BDwNCUQ8CptkDAsSpEwCggSMB/8j7A78g9wA==",
          "dtype": "f4"
         },
         "xaxis": "x",
         "y": {
          "bdata": "uCFKQAkMR0BF7E5A/fFLQLcJTEAm7ElAihlTQA==",
          "dtype": "f4"
         },
         "yaxis": "y"
        },
        {
         "hovertemplate": "<b>%{hovertext}</b><br><br>color=14<br>x=%{x}<br>y=%{y}<extra></extra>",
         "hovertext": [
          "cybersecurity",
          "Sydney Sweeney",
          "remote work culture",
          "inclusion initiatives",
          "Meta stock price",
          "Nvidia layoffs",
          "climate resilience",
          "TSMC",
          "clean energy transition",
          "Reddit controversy",
          "Ozempic",
          "Meta",
          "Cloudflare",
          "NVO",
          "ASML",
          "FRDM",
          "NVO"
         ],
         "legendgroup": "14",
         "marker": {
          "color": "#636efa",
          "line": {
           "color": "DarkSlateGrey",
           "width": 1
          },
          "size": 10,
          "symbol": "circle"
         },
         "mode": "markers",
         "name": "14",
         "orientation": "v",
         "showlegend": true,
         "type": "scatter",
         "x": {
          "bdata": "HDygwI6Jp8A0hp/AN3SnwCVgpcD3GqPANQWfwGc3qMAuVKXA9yiewACPpcAbTaPABnuiwHmOo8D5V53AkFqlwDfon8A=",
          "dtype": "f4"
         },
         "xaxis": "x",
         "y": {
          "bdata": "4oeXQM6GnUCON5dAvtuYQFb9lED4dZdAS+2WQKoonkCV0JlAhVuYQGudnECaYplArFeaQK5Fm0BJOJhAtE6XQJZqmUA=",
          "dtype": "f4"
         },
         "yaxis": "y"
        },
        {
         "hovertemplate": "<b>%{hovertext}</b><br><br>color=15<br>x=%{x}<br>y=%{y}<extra></extra>",
         "hovertext": [
          "Oppenheimer movie ratings",
          "Unity response to Ukraine",
          "Oppenheimer movie",
          "MercadoLibre earnings report",
          "Barbie movie ratings",
          "Margot Robbie",
          "Barbie movie",
          "Yuli Edelstein on impact investing",
          "Kevin McCarthy tweet",
          "OpenAI Sora sales in Middle East"
         ],
         "legendgroup": "15",
         "marker": {
          "color": "#EF553B",
          "line": {
           "color": "DarkSlateGrey",
           "width": 1
          },
          "size": 10,
          "symbol": "circle"
         },
         "mode": "markers",
         "name": "15",
         "orientation": "v",
         "showlegend": true,
         "type": "scatter",
         "x": {
          "bdata": "eBrKwMeiyMAGwcvAtgbIwFerycBFL8/AvpbJwHjNysDBWMfAiR/MwA==",
          "dtype": "f4"
         },
         "xaxis": "x",
         "y": {
          "bdata": "Sc1WQNA9XEB5cFlAaD9aQODqVkByA1VA8WlVQFRzWECq/2FA1xpUQA==",
          "dtype": "f4"
         },
         "yaxis": "y"
        },
        {
         "hovertemplate": "<b>%{hovertext}</b><br><br>color=63<br>x=%{x}<br>y=%{y}<extra></extra>",
         "hovertext": [
          "gold prices",
          "Elon Musk",
          "electric vehicle",
          "XLP",
          "Clean Water",
          "Wix",
          "Google stock price",
          "water scarcity",
          "EIS"
         ],
         "legendgroup": "63",
         "marker": {
          "color": "#00cc96",
          "line": {
           "color": "DarkSlateGrey",
           "width": 1
          },
          "size": 10,
          "symbol": "circle"
         },
         "mode": "markers",
         "name": "63",
         "orientation": "v",
         "showlegend": true,
         "type": "scatter",
         "x": {
          "bdata": "qxn8wG+U/sCRHQDBdkT+wBUcAMGNCwHBLjEBwZK1/MATi/7A",
          "dtype": "f4"
         },
         "xaxis": "x",
         "y": {
          "bdata": "G/hsQARcbED+8mxAjg5lQPpNaUDBTm1AjkdtQHPBaUDnInJA",
          "dtype": "f4"
         },
         "yaxis": "y"
        },
        {
         "hovertemplate": "<b>%{hovertext}</b><br><br>color=16<br>x=%{x}<br>y=%{y}<extra></extra>",
         "hovertext": [
          "Samsung Electronics controversy",
          "buy Twitter shares",
          "Sundar Pichai interview",
          "Netflix stock price",
          "Twitter stock price",
          "NFLX"
         ],
         "legendgroup": "16",
         "marker": {
          "color": "#ab63fa",
          "line": {
           "color": "DarkSlateGrey",
           "width": 1
          },
          "size": 10,
          "symbol": "circle"
         },
         "mode": "markers",
         "name": "16",
         "orientation": "v",
         "showlegend": true,
         "type": "scatter",
         "x": {
          "bdata": "WGKkwI5tocCSH6bA3rShwCn7o8BKgaPA",
          "dtype": "f4"
         },
         "xaxis": "x",
         "y": {
          "bdata": "12vmP4mJ4z8wmvQ/QEHrP12c8T++he4/",
          "dtype": "f4"
         },
         "yaxis": "y"
        },
        {
         "hovertemplate": "<b>%{hovertext}</b><br><br>color=17<br>x=%{x}<br>y=%{y}<extra></extra>",
         "hovertext": [
          "impact of labor market",
          "impact of industrial production",
          "impact of interest rates",
          "impact of trade deficit",
          "impact of income inequality",
          "US aid to NATO",
          "US aid to US",
          "impact of consumer spending",
          "US aid to Russia",
          "investing in depression",
          "impact of global trade",
          "US aid to North Korea",
          "impact of savings rate",
          "CVS Health response to Ukraine",
          "US aid to China"
         ],
         "legendgroup": "17",
         "marker": {
          "color": "#FFA15A",
          "line": {
           "color": "DarkSlateGrey",
           "width": 1
          },
          "size": 10,
          "symbol": "circle"
         },
         "mode": "markers",
         "name": "17",
         "orientation": "v",
         "showlegend": true,
         "type": "scatter",
         "x": {
          "bdata": "2/jVwGNq2cBkyNbAFk3XwFap2MCnbNHAAPzUwOC51cARXdLAv0bUwIOA18CP39fAzLfYwAJ72cCT2dnA",
          "dtype": "f4"
         },
         "xaxis": "x",
         "y": {
          "bdata": "q9+xQA7oskCpbLBAWGyzQAdVs0D7zLVA5FSzQD7CtUBEX7dAsRO1QJB0skDyGrRAvcGzQOAdr0DnObVA",
          "dtype": "f4"
         },
         "yaxis": "y"
        },
        {
         "hovertemplate": "<b>%{hovertext}</b><br><br>color=65<br>x=%{x}<br>y=%{y}<extra></extra>",
         "hovertext": [
          "buy Atlassian shares",
          "Kanye West new album",
          "clean energy transition stocks",
          "investing in lab grown meat",
          "Logan Paul new album",
          "Margot Robbie new album"
         ],
         "legendgroup": "65",
         "marker": {
          "color": "#19d3f3",
          "line": {
           "color": "DarkSlateGrey",
           "width": 1
          },
          "size": 10,
          "symbol": "circle"
         },
         "mode": "markers",
         "name": "65",
         "orientation": "v",
         "showlegend": true,
         "type": "scatter",
         "x": {
          "bdata": "/EXbwCIa3cDaWdvAdefdwJv/2sA2atjA",
          "dtype": "f4"
         },
         "xaxis": "x",
         "y": {
          "bdata": "tciLP/Q8ij8YW40/j6CVPwjZkj/KVZU/",
          "dtype": "f4"
         },
         "yaxis": "y"
        },
        {
         "hovertemplate": "<b>%{hovertext}</b><br><br>color=19<br>x=%{x}<br>y=%{y}<extra></extra>",
         "hovertext": [
          "Sheryl Sandberg on inclusion initiatives",
          "Joe Biden on eco-friendly products",
          "Taiwan news",
          "impact of Inflation Reduction Act",
          "Taiwan conflict",
          "Walmart layoffs",
          "Workday controversy",
          "Inflation Reduction Act forecast",
          "Wix layoffs",
          "Inflation Reduction Act",
          "Oracle layoffs",
          "Broadcom response to Ethiopia"
         ],
         "legendgroup": "19",
         "marker": {
          "color": "#FF6692",
          "line": {
           "color": "DarkSlateGrey",
           "width": 1
          },
          "size": 10,
          "symbol": "circle"
         },
         "mode": "markers",
         "name": "19",
         "orientation": "v",
         "showlegend": true,
         "type": "scatter",
         "x": {
          "bdata": "6Hq1wFntsMC53rLALB+0wCv1tMADmbLAUmWxwL8ZtMD4pLbAyhu2wCEYssAhtbPA",
          "dtype": "f4"
         },
         "xaxis": "x",
         "y": {
          "bdata": "EQwzQP/iPUBYmjBAb+I7QGoQMEAMHi1A/RQqQJPpOEDYHjdAyic4QHBlL0DNlTtA",
          "dtype": "f4"
         },
         "yaxis": "y"
        },
        {
         "hovertemplate": "<b>%{hovertext}</b><br><br>color=20<br>x=%{x}<br>y=%{y}<extra></extra>",
         "hovertext": [
          "Visa news",
          "Netflix news",
          "AMD news",
          "Dell news",
          "Uber news",
          "Mastercard news",
          "Fiverr news",
          "Iraq news",
          "Cisco news",
          "Shopify news",
          "Lyft news"
         ],
         "legendgroup": "20",
         "marker": {
          "color": "#B6E880",
          "line": {
           "color": "DarkSlateGrey",
           "width": 1
          },
          "size": 10,
          "symbol": "circle"
         },
         "mode": "markers",
         "name": "20",
         "orientation": "v",
         "showlegend": true,
         "type": "scatter",
         "x": {
          "bdata": "nVBjwNf0WsD6xGLA+r1hwByuY8BJ5V/ATB5owIVbYcCDZGHAmF9lwF7EYcA=",
          "dtype": "f4"
         },
         "xaxis": "x",
         "y": {
          "bdata": "HpINQD4uDEDGcQ1AtA4PQPCIDkDBRgpASYoJQCJGC0ADnBFAs3wQQPlREEA=",
          "dtype": "f4"
         },
         "yaxis": "y"
        },
        {
         "hovertemplate": "<b>%{hovertext}</b><br><br>color=77<br>x=%{x}<br>y=%{y}<extra></extra>",
         "hovertext": [
          "Fitbit price",
          "Roomba",
          "Roomba price",
          "Roomba review",
          "Ring Doorbell review",
          "Fitbit review",
          "Fitbit",
          "Nest Thermostat review"
         ],
         "legendgroup": "77",
         "marker": {
          "color": "#FF97FF",
          "line": {
           "color": "DarkSlateGrey",
           "width": 1
          },
          "size": 10,
          "symbol": "circle"
         },
         "mode": "markers",
         "name": "77",
         "orientation": "v",
         "showlegend": true,
         "type": "scatter",
         "x": {
          "bdata": "q1LhwCFa6MBBHuTAF4rkwC3W5cBH1eXALfLmwEfR5MA=",
          "dtype": "f4"
         },
         "xaxis": "x",
         "y": {
          "bdata": "7jEEvg3rQb5JhTG+ND+LvkJ2kL73FGG+ZMtAvvYzi74=",
          "dtype": "f4"
         },
         "yaxis": "y"
        },
        {
         "hovertemplate": "<b>%{hovertext}</b><br><br>color=21<br>x=%{x}<br>y=%{y}<extra></extra>",
         "hovertext": [
          "Nvidia news",
          "Bristol-Myers Squibb response to Nova music festival massacre",
          "Jensen Huang",
          "Nvidia earnings report",
          "buy Nvidia shares",
          "NVDA",
          "Mitch McConnell on corporate governance",
          "Nvidia stock price",
          "AVGO",
          "Micron stock price"
         ],
         "legendgroup": "21",
         "marker": {
          "color": "#FECB52",
          "line": {
           "color": "DarkSlateGrey",
           "width": 1
          },
          "size": 10,
          "symbol": "circle"
         },
         "mode": "markers",
         "name": "21",
         "orientation": "v",
         "showlegend": true,
         "type": "scatter",
         "x": {
          "bdata": "zDOXwN0Zk8BRG5PAXlSWwFG3k8AEZZjA2aiUwI6wk8AUYJTAHkWXwA==",
          "dtype": "f4"
         },
         "xaxis": "x",
         "y": {
          "bdata": "O3ajQJQ1oUAcMKlAbUOlQJpRqUCLdaZAVSekQA9epkCHGqJAWjajQA==",
          "dtype": "f4"
         },
         "yaxis": "y"
        },
        {
         "hovertemplate": "<b>%{hovertext}</b><br><br>color=30<br>x=%{x}<br>y=%{y}<extra></extra>",
         "hovertext": [
          "Warren Buffett tweet",
          "buy Starbucks shares",
          "Visa response to Saudi Arabia",
          "Fiverr response to Yemen",
          "Spotify layoffs",
          "buy IBM shares",
          "Cybertruck review",
          "Merck response to Afghanistan",
          "Broadcom layoffs"
         ],
         "legendgroup": "30",
         "marker": {
          "color": "#636efa",
          "line": {
           "color": "DarkSlateGrey",
           "width": 1
          },
          "size": 10,
          "symbol": "circle"
         },
         "mode": "markers",
         "name": "30",
         "orientation": "v",
         "showlegend": true,
         "type": "scatter",
         "x": {
          "bdata": "NIKwwGuVr8DZW6zA+9ivwLAhrsDK267A8UWtwEccrsCgba/A",
          "dtype": "f4"
         },
         "xaxis": "x",
         "y": {
          "bdata": "z82yQCrBt0DLKLdA44S1QE2Ys0Acp7VApfW1QJoUskDD1bpA",
          "dtype": "f4"
         },
         "yaxis": "y"
        },
        {
         "hovertemplate": "<b>%{hovertext}</b><br><br>color=22<br>x=%{x}<br>y=%{y}<extra></extra>",
         "hovertext": [
          "Tim Cook on gender equality",
          "Workday layoffs",
          "wearable fitness trends",
          "Grammys",
          "new Microsoft Surface release date",
          "Azure sales in Iraq"
         ],
         "legendgroup": "22",
         "marker": {
          "color": "#EF553B",
          "line": {
           "color": "DarkSlateGrey",
           "width": 1
          },
          "size": 10,
          "symbol": "circle"
         },
         "mode": "markers",
         "name": "22",
         "orientation": "v",
         "showlegend": true,
         "type": "scatter",
         "x": {
          "bdata": "2p+TwAZ5ksCnIJHAmxaTwC7xkMC6OZPA",
          "dtype": "f4"
         },
         "xaxis": "x",
         "y": {
          "bdata": "XpM3QGskN0AhYzZAnzcxQD35NEAjNjRA",
          "dtype": "f4"
         },
         "yaxis": "y"
        },
        {
         "hovertemplate": "<b>%{hovertext}</b><br><br>color=32<br>x=%{x}<br>y=%{y}<extra></extra>",
         "hovertext": [
          "India",
          "Starbucks",
          "Sonos Speaker",
          "Alibaba",
          "Dyson Vacuum",
          "Netflix",
          "universal basic income",
          "HP",
          "intermittent fasting",
          "Zara",
          "vegetarian",
          "Galaxy Buds price",
          "Nike",
          "meditation",
          "Xiaomi vs Xiaomi",
          "SHOP",
          "CVS Health",
          "Citigroup",
          "fair trade",
          "West Bank",
          "Ryan Reynolds"
         ],
         "legendgroup": "32",
         "marker": {
          "color": "#00cc96",
          "line": {
           "color": "DarkSlateGrey",
           "width": 1
          },
          "size": 10,
          "symbol": "circle"
         },
         "mode": "markers",
         "name": "32",
         "orientation": "v",
         "showlegend": true,
         "type": "scatter",
         "x": {
          "bdata": "UoQIwUqaCMFiPgjB9jUFwU86B8EwUQbBb5QEwVMSCcFmjwTB0pAJwZ4OCcFIfgjBVVUJweoFBsFx3AnBAwYJwZ44B8GSzQTBpuIJwWMsB8Ey3QnB",
          "dtype": "f4"
         },
         "xaxis": "x",
         "y": {
          "bdata": "zwGMP/qEoD++Lq0/6SGXP+VFmz/tiY4/9G6IP48mwD+c05s/XbSrPws+nz/mB54/rbmpPy58kD8HRsM/I1yxP3wWoD+A5JA/E4OuP4mokT/5h7g/",
          "dtype": "f4"
         },
         "yaxis": "y"
        },
        {
         "hovertemplate": "<b>%{hovertext}</b><br><br>color=23<br>x=%{x}<br>y=%{y}<extra></extra>",
         "hovertext": [
          "Etsy controversy",
          "Jerome Powell tweet",
          "Visa controversy",
          "Block earnings report",
          "Spotify earnings report",
          "Merck earnings report",
          "Jerome Powell interview",
          "TSMC controversy",
          "impact of dollar index",
          "Moderna layoffs",
          "Qualcomm earnings report",
          "fair trade stocks",
          "Samsung Electronics stock price",
          "wage growth forecast",
          "Elbit Systems news",
          "Airbnb controversy",
          "ARM earnings report",
          "AirPods Pro sales in US",
          "central banks forecast",
          "UnitedHealth vs UnitedHealth",
          "Visa earnings report"
         ],
         "legendgroup": "23",
         "marker": {
          "color": "#ab63fa",
          "line": {
           "color": "DarkSlateGrey",
           "width": 1
          },
          "size": 10,
          "symbol": "circle"
         },
         "mode": "markers",
         "name": "23",
         "orientation": "v",
         "showlegend": true,
         "type": "scatter",
         "x": {
          "bdata": "1DBWv4T5Kb9G3ji/GPBKv8FsKL/4Ck+/M9Fkv3o8Or9QBDS/yiY0vw6iPr8S+0W/nocfv/V+Hr86JmW/HkM/v6PmDL/17Um/KHAev1y5Qr/e6yi/",
          "dtype": "f4"
         },
         "xaxis": "x",
         "y": {
          "bdata": "T/l2QBaOcEDG3ntAnv5+QITxckCrdG5Ambl1QM3Wb0CDdntA4TZ2QDapcUC6lHVA3LpyQDTIc0CrPHpAe8t8QIigc0DaRXBA8LZsQCRKeEBOpG5A",
          "dtype": "f4"
         },
         "yaxis": "y"
        },
        {
         "hovertemplate": "<b>%{hovertext}</b><br><br>color=25<br>x=%{x}<br>y=%{y}<extra></extra>",
         "hovertext": [
          "Afghanistan news",
          "Roomba sales in Gaza",
          "Afghanistan conflict",
          "Yuli Edelstein on environmental activism",
          "Yair Lapid on biodiversity conservation",
          "war in Afghanistan",
          "Afghanistan",
          "Nancy Pelosi on renewable energy"
         ],
         "legendgroup": "25",
         "marker": {
          "color": "#FFA15A",
          "line": {
           "color": "DarkSlateGrey",
           "width": 1
          },
          "size": 10,
          "symbol": "circle"
         },
         "mode": "markers",
         "name": "25",
         "orientation": "v",
         "showlegend": true,
         "type": "scatter",
         "x": {
          "bdata": "4Oz4wCmj9cAAavnANIn4wJ+n+MCR/fjAdGD5wEkp9sA=",
          "dtype": "f4"
         },
         "xaxis": "x",
         "y": {
          "bdata": "oRe1QDSXtUCg57JAggO2QB5ptkAXx7NAKCK0QDaEtEA=",
          "dtype": "f4"
         },
         "yaxis": "y"
        },
        {
         "hovertemplate": "<b>%{hovertext}</b><br><br>color=26<br>x=%{x}<br>y=%{y}<extra></extra>",
         "hovertext": [
          "Netflix response to US",
          "PepsiCo earnings report",
          "carbon footprint stocks",
          "Intel controversy",
          "Shopify controversy",
          "new Azure release date"
         ],
         "legendgroup": "26",
         "marker": {
          "color": "#19d3f3",
          "line": {
           "color": "DarkSlateGrey",
           "width": 1
          },
          "size": 10,
          "symbol": "circle"
         },
         "mode": "markers",
         "name": "26",
         "orientation": "v",
         "showlegend": true,
         "type": "scatter",
         "x": {
          "bdata": "OQAYPY91gT1xb/w7MQ3bPd4jwD0EImI8",
          "dtype": "f4"
         },
         "xaxis": "x",
         "y": {
          "bdata": "cISDQEdyhUDxX4dA0mCEQAJahUClmoNA",
          "dtype": "f4"
         },
         "yaxis": "y"
        },
        {
         "hovertemplate": "<b>%{hovertext}</b><br><br>color=27<br>x=%{x}<br>y=%{y}<extra></extra>",
         "hovertext": [
          "Android 15 vs competitor",
          "Merck response to Peace talks",
          "US aid to Red Sea",
          "Sundar Pichai on remote work culture",
          "Benny Gantz"
         ],
         "legendgroup": "27",
         "marker": {
          "color": "#FF6692",
          "line": {
           "color": "DarkSlateGrey",
           "width": 1
          },
          "size": 10,
          "symbol": "circle"
         },
         "mode": "markers",
         "name": "27",
         "orientation": "v",
         "showlegend": true,
         "type": "scatter",
         "x": {
          "bdata": "f3qawGLcm8DiYZrA/0CawHXJmsA=",
          "dtype": "f4"
         },
         "xaxis": "x",
         "y": {
          "bdata": "CbywQJq2sUDhNbFAIKywQN8KsEA=",
          "dtype": "f4"
         },
         "yaxis": "y"
        },
        {
         "hovertemplate": "<b>%{hovertext}</b><br><br>color=28<br>x=%{x}<br>y=%{y}<extra></extra>",
         "hovertext": [
          "Windows 11 review",
          "AWS price",
          "Meta news",
          "energy prices forecast",
          "Windows 11 price",
          "Atlassian layoffs",
          "CyberArk vs CyberArk"
         ],
         "legendgroup": "28",
         "marker": {
          "color": "#B6E880",
          "line": {
           "color": "DarkSlateGrey",
           "width": 1
          },
          "size": 10,
          "symbol": "circle"
         },
         "mode": "markers",
         "name": "28",
         "orientation": "v",
         "showlegend": true,
         "type": "scatter",
         "x": {
          "bdata": "mShswG08ZsBx+GjA+GdqwOgBbcB7gHLAOkZuwA==",
          "dtype": "f4"
         },
         "xaxis": "x",
         "y": {
          "bdata": "AeJEQMlYQkDVA0dAp/RFQHgKSECXGkRA/VhLQA==",
          "dtype": "f4"
         },
         "yaxis": "y"
        },
        {
         "hovertemplate": "<b>%{hovertext}</b><br><br>color=29<br>x=%{x}<br>y=%{y}<extra></extra>",
         "hovertext": [
          "deforestation controversy",
          "Will Smith new album",
          "workplace diversity stocks",
          "Naftali Bennett on quiet quitting",
          "Sonos Speaker sales in Sinai Peninsula",
          "Sheryl Sandberg on Black Lives Matter",
          "tariffs"
         ],
         "legendgroup": "29",
         "marker": {
          "color": "#FF97FF",
          "line": {
           "color": "DarkSlateGrey",
           "width": 1
          },
          "size": 10,
          "symbol": "circle"
         },
         "mode": "markers",
         "name": "29",
         "orientation": "v",
         "showlegend": true,
         "type": "scatter",
         "x": {
          "bdata": "29kmwBozJsBvBSbAYn4kwPupIMAF9iTAPe4kwA==",
          "dtype": "f4"
         },
         "xaxis": "x",
         "y": {
          "bdata": "jAesQPNGrEBPaKtAE3atQNJZqECv1qxAQ1mqQA==",
          "dtype": "f4"
         },
         "yaxis": "y"
        },
        {
         "hovertemplate": "<b>%{hovertext}</b><br><br>color=31<br>x=%{x}<br>y=%{y}<extra></extra>",
         "hovertext": [
          "Google Pixel 9 price",
          "Kamala Harris interview",
          "lgbtq rights stocks",
          "Sundar Pichai on corporate social responsibility",
          "new Google Pixel 9 release date",
          "iPhone 16",
          "iPhone 16 price",
          "new iPhone 16 release date",
          "iPhone 16 sales in India",
          "Nice Ltd. response to IDF",
          "Google Pixel 9",
          "Nancy Pelosi on gender equality",
          "Baidu response to Security fence",
          "iPhone 16 review",
          "Google Pixel 9 review"
         ],
         "legendgroup": "31",
         "marker": {
          "color": "#FECB52",
          "line": {
           "color": "DarkSlateGrey",
           "width": 1
          },
          "size": 10,
          "symbol": "circle"
         },
         "mode": "markers",
         "name": "31",
         "orientation": "v",
         "showlegend": true,
         "type": "scatter",
         "x": {
          "bdata": "NPWDwP5nhcD/yYLAtCaHwE6+hMAJMIHAqQl/wNGGhMAQVIHAXTuHwBVOg8ATHIfA5WuIwNK8f8AQP4LA",
          "dtype": "f4"
         },
         "xaxis": "x",
         "y": {
          "bdata": "5kW2QGUttkAXt7RAsd+0QMfWtkANrLlAaeG6QKTztUDbsrtAaOSyQJsht0C/vbNAEJy1QDZCu0Af9rdA",
          "dtype": "f4"
         },
         "yaxis": "y"
        },
        {
         "hovertemplate": "<b>%{hovertext}</b><br><br>color=33<br>x=%{x}<br>y=%{y}<extra></extra>",
         "hovertext": [
          "Red Sea news",
          "Lululemon controversy",
          "Cloudflare layoffs",
          "Red Sea conflict",
          "iPhone Pro Max sales in China",
          "buy Goldman Sachs shares",
          "Amgen response to Iran"
         ],
         "legendgroup": "33",
         "marker": {
          "color": "#636efa",
          "line": {
           "color": "DarkSlateGrey",
           "width": 1
          },
          "size": 10,
          "symbol": "circle"
         },
         "mode": "markers",
         "name": "33",
         "orientation": "v",
         "showlegend": true,
         "type": "scatter",
         "x": {
          "bdata": "N/TLwKr2yMDEOM3AVfzKwHnlzMB1pMrA+fjJwA==",
          "dtype": "f4"
         },
         "xaxis": "x",
         "y": {
          "bdata": "JJqhQGjVn0CU/KBATjeiQF+goEDxQZ9AQbuhQA==",
          "dtype": "f4"
         },
         "yaxis": "y"
        },
        {
         "hovertemplate": "<b>%{hovertext}</b><br><br>color=34<br>x=%{x}<br>y=%{y}<extra></extra>",
         "hovertext": [
          "Galaxy Buds sales in Syria",
          "MacBook Pro M4 sales in Israel",
          "ESG investing stocks",
          "Ted Cruz tweet",
          "Nancy Pelosi interview",
          "Nancy Pelosi tweet",
          "ICLN",
          "economic stimulus",
          "Fiverr stock price",
          "buy PayPal shares",
          "Ted Cruz",
          "investing in Wegovy",
          "Sundar Pichai on corporate governance",
          "Citigroup earnings report"
         ],
         "legendgroup": "34",
         "marker": {
          "color": "#EF553B",
          "line": {
           "color": "DarkSlateGrey",
           "width": 1
          },
          "size": 10,
          "symbol": "circle"
         },
         "mode": "markers",
         "name": "34",
         "orientation": "v",
         "showlegend": true,
         "type": "scatter",
         "x": {
          "bdata": "Quu6wDbuv8C2QrrAUJO8wFnQusCT773ATSW8wPGxvcD4hr/AgXW8wHcOv8D4IcLACr27wOulvcA=",
          "dtype": "f4"
         },
         "xaxis": "x",
         "y": {
          "bdata": "fKNePgCoBD5wV18+M4yQPubnSz7VQFM+b+xePiASqD6eYVs+QlerPtw0mz5Yj0g+ejLWPiC/LT4=",
          "dtype": "f4"
         },
         "yaxis": "y"
        },
        {
         "hovertemplate": "<b>%{hovertext}</b><br><br>color=56<br>x=%{x}<br>y=%{y}<extra></extra>",
         "hovertext": [
          "Goldman Sachs earnings report",
          "Pinterest controversy",
          "trade deficit forecast",
          "eBay controversy",
          "Johnson & Johnson controversy"
         ],
         "legendgroup": "56",
         "marker": {
          "color": "#00cc96",
          "line": {
           "color": "DarkSlateGrey",
           "width": 1
          },
          "size": 10,
          "symbol": "circle"
         },
         "mode": "markers",
         "name": "56",
         "orientation": "v",
         "showlegend": true,
         "type": "scatter",
         "x": {
          "bdata": "ZK3Cv+kwvL/oKL2/nAS6v+qcwr8=",
          "dtype": "f4"
         },
         "xaxis": "x",
         "y": {
          "bdata": "W9l8QDqceUBFQXVA4AB8QJ0qdkA=",
          "dtype": "f4"
         },
         "yaxis": "y"
        },
        {
         "hovertemplate": "<b>%{hovertext}</b><br><br>color=37<br>x=%{x}<br>y=%{y}<extra></extra>",
         "hovertext": [
          "Bernie Sanders on gig economy",
          "metaverse",
          "investing in metaverse",
          "metaverse trends",
          "superfoods trends",
          "Ring Doorbell sales in Jerusalem",
          "investing in NFTs",
          "5G technology trends"
         ],
         "legendgroup": "37",
         "marker": {
          "color": "#ab63fa",
          "line": {
           "color": "DarkSlateGrey",
           "width": 1
          },
          "size": 10,
          "symbol": "circle"
         },
         "mode": "markers",
         "name": "37",
         "orientation": "v",
         "showlegend": true,
         "type": "scatter",
         "x": {
          "bdata": "OhSmwB1ZqsDDUqvACWOowH5QqcCRcKvA+wCnwC1rq8A=",
          "dtype": "f4"
         },
         "xaxis": "x",
         "y": {
          "bdata": "CebYPxhjyT9N8cY/7WPUPyJNvz+MKNM/hU7KP3i60T8=",
          "dtype": "f4"
         },
         "yaxis": "y"
        },
        {
         "hovertemplate": "<b>%{hovertext}</b><br><br>color=35<br>x=%{x}<br>y=%{y}<extra></extra>",
         "hovertext": [
          "interest rates forecast",
          "web3",
          "Fiverr",
          "buy UnitedHealth shares",
          "interest rates",
          "mortgage rates forecast",
          "Payoneer",
          "CPI report",
          "fed meeting"
         ],
         "legendgroup": "35",
         "marker": {
          "color": "#FFA15A",
          "line": {
           "color": "DarkSlateGrey",
           "width": 1
          },
          "size": 10,
          "symbol": "circle"
         },
         "mode": "markers",
         "name": "35",
         "orientation": "v",
         "showlegend": true,
         "type": "scatter",
         "x": {
          "bdata": "bXzbwKE33sBPLuLA/vzdwJgq4sBf+dzABNjfwJpD2sAI8N3A",
          "dtype": "f4"
         },
         "xaxis": "x",
         "y": {
          "bdata": "N21aQL+RYEB4cVZAh9BaQAagVUDHlF1AyLhXQCm7VUBsHlhA",
          "dtype": "f4"
         },
         "yaxis": "y"
        },
        {
         "hovertemplate": "<b>%{hovertext}</b><br><br>color=62<br>x=%{x}<br>y=%{y}<extra></extra>",
         "hovertext": [
          "Adobe layoffs",
          "Apple layoffs",
          "Google layoffs",
          "Amgen layoffs",
          "Uber layoffs",
          "ServiceNow layoffs",
          "Pinterest layoffs",
          "Alexandria Ocasio-Cortez on corporate social responsibility",
          "new Roomba release date",
          "American Express layoffs",
          "PayPal layoffs",
          "Elbit Systems layoffs"
         ],
         "legendgroup": "62",
         "marker": {
          "color": "#19d3f3",
          "line": {
           "color": "DarkSlateGrey",
           "width": 1
          },
          "size": 10,
          "symbol": "circle"
         },
         "mode": "markers",
         "name": "62",
         "orientation": "v",
         "showlegend": true,
         "type": "scatter",
         "x": {
          "bdata": "1uWzwBpat8AuabjAQXu3wH7EtcAJjbfAPH+3wFM3t8AzjLjA5+63wDzwucB2lbXA",
          "dtype": "f4"
         },
         "xaxis": "x",
         "y": {
          "bdata": "hcJ5QA3BfEDOQIJAA9Z+QI1reUDR9H5AboV2QB+fgEDdc4FA9KiBQFBbdkCxCnhA",
          "dtype": "f4"
         },
         "yaxis": "y"
        },
        {
         "hovertemplate": "<b>%{hovertext}</b><br><br>color=53<br>x=%{x}<br>y=%{y}<extra></extra>",
         "hovertext": [
          "India news",
          "Security fence",
          "Micron",
          "Warren Buffett",
          "GOOGL",
          "Berkshire Hathaway"
         ],
         "legendgroup": "53",
         "marker": {
          "color": "#FF6692",
          "line": {
           "color": "DarkSlateGrey",
           "width": 1
          },
          "size": 10,
          "symbol": "circle"
         },
         "mode": "markers",
         "name": "53",
         "orientation": "v",
         "showlegend": true,
         "type": "scatter",
         "x": {
          "bdata": "0MoEwR56BsGVFAbBynQFwRtwBsHS/wXB",
          "dtype": "f4"
         },
         "xaxis": "x",
         "y": {
          "bdata": "PVpAQKeCQ0B2DUhA3AxBQHCWPkDp3kVA",
          "dtype": "f4"
         },
         "yaxis": "y"
        },
        {
         "hovertemplate": "<b>%{hovertext}</b><br><br>color=36<br>x=%{x}<br>y=%{y}<extra></extra>",
         "hovertext": [
          "CVS Health news",
          "Johnson & Johnson layoffs",
          "Johnson & Johnson earnings report",
          "Yuli Edelstein",
          "ethereum trends",
          "social justice stocks",
          "Elbit Systems stock price",
          "Mobileye news"
         ],
         "legendgroup": "36",
         "marker": {
          "color": "#B6E880",
          "line": {
           "color": "DarkSlateGrey",
           "width": 1
          },
          "size": 10,
          "symbol": "circle"
         },
         "mode": "markers",
         "name": "36",
         "orientation": "v",
         "showlegend": true,
         "type": "scatter",
         "x": {
          "bdata": "Mofmv5D38r+XNO6/+nrzv8d23r9Oj/y/BfHsv4Dh6L8=",
          "dtype": "f4"
         },
         "xaxis": "x",
         "y": {
          "bdata": "v1hxQLQjckAKFm1AbGR2QFYVc0BrzG5AcpF3QOrLdkA=",
          "dtype": "f4"
         },
         "yaxis": "y"
        },
        {
         "hovertemplate": "<b>%{hovertext}</b><br><br>color=38<br>x=%{x}<br>y=%{y}<extra></extra>",
         "hovertext": [
          "Ring Doorbell sales in Red Sea",
          "Morgan Stanley earnings report",
          "Pinterest earnings report",
          "Home Depot earnings report",
          "Etsy earnings report",
          "HP earnings report",
          "Wells Fargo earnings report",
          "Dell earnings report",
          "AMD earnings report",
          "Bank of America earnings report",
          "Lizzo new album",
          "Intel earnings report",
          "BlackRock earnings report"
         ],
         "legendgroup": "38",
         "marker": {
          "color": "#FF97FF",
          "line": {
           "color": "DarkSlateGrey",
           "width": 1
          },
          "size": 10,
          "symbol": "circle"
         },
         "mode": "markers",
         "name": "38",
         "orientation": "v",
         "showlegend": true,
         "type": "scatter",
         "x": {
          "bdata": "VW2TwHO/kMCv15bATQaYwLMmkcAjHZPAdkSWwNAulsDQhJfA0vuRwFzuk8A6bJPAnQ+TwA==",
          "dtype": "f4"
         },
         "xaxis": "x",
         "y": {
          "bdata": "xh8KQIDfBUBWsP8/y+IGQER2BECj3ghAYk4EQA6YB0AWIwhADh0IQBtiCUBaNAdAUsACQA==",
          "dtype": "f4"
         },
         "yaxis": "y"
        },
        {
         "hovertemplate": "<b>%{hovertext}</b><br><br>color=39<br>x=%{x}<br>y=%{y}<extra></extra>",
         "hovertext": [
          "Apple response to Red Sea",
          "Tesla layoffs",
          "Taylor Swift new album",
          "Kim Kardashian new album",
          "Yair Lapid on social entrepreneurship",
          "Sanofi layoffs",
          "Sheryl Sandberg tweet",
          "Microsoft Surface vs competitor"
         ],
         "legendgroup": "39",
         "marker": {
          "color": "#FECB52",
          "line": {
           "color": "DarkSlateGrey",
           "width": 1
          },
          "size": 10,
          "symbol": "circle"
         },
         "mode": "markers",
         "name": "39",
         "orientation": "v",
         "showlegend": true,
         "type": "scatter",
         "x": {
          "bdata": "oM/hwFgi4sDL5eDAZdThwB9f5MAzA+TAG1HjwLXO4sA=",
          "dtype": "f4"
         },
         "xaxis": "x",
         "y": {
          "bdata": "1aO9QI0GvEBUdLxAj429QD7du0Co3bhAkh65QMacvEA=",
          "dtype": "f4"
         },
         "yaxis": "y"
        },
        {
         "hovertemplate": "<b>%{hovertext}</b><br><br>color=40<br>x=%{x}<br>y=%{y}<extra></extra>",
         "hovertext": [
          "GSK response to Ceasefire",
          "Eli Lilly earnings report",
          "Apple Vision Pro price",
          "Nest Thermostat sales in Yemen",
          "Kamala Harris on deforestation",
          "Marco Rubio on body positivity",
          "buy Morgan Stanley shares",
          "Apple Vision Pro review",
          "Apple Vision Pro",
          "new Apple Vision Pro release date",
          "Mastercard layoffs"
         ],
         "legendgroup": "40",
         "marker": {
          "color": "#636efa",
          "line": {
           "color": "DarkSlateGrey",
           "width": 1
          },
          "size": 10,
          "symbol": "circle"
         },
         "mode": "markers",
         "name": "40",
         "orientation": "v",
         "showlegend": true,
         "type": "scatter",
         "x": {
          "bdata": "PNrRwNET0sBV1dTA9erTwBkl18CzbNbA+CDTwDDz0cBwytLAfQ7XwKMo0cA=",
          "dtype": "f4"
         },
         "xaxis": "x",
         "y": {
          "bdata": "1wjQQPlIzkAwFs1AQpjOQFqXzEBk9ctA6SPPQDKRzkDnLs9AGynMQAQvz0A=",
          "dtype": "f4"
         },
         "yaxis": "y"
        },
        {
         "hovertemplate": "<b>%{hovertext}</b><br><br>color=41<br>x=%{x}<br>y=%{y}<extra></extra>",
         "hovertext": [
          "pride month",
          "Yair Lapid",
          "Playstation 5 Pro sales in Ukraine",
          "Kamala Harris tweet",
          "Naftali Bennett",
          "Mansour Abbas",
          "CVS Health response to Russia"
         ],
         "legendgroup": "41",
         "marker": {
          "color": "#EF553B",
          "line": {
           "color": "DarkSlateGrey",
           "width": 1
          },
          "size": 10,
          "symbol": "circle"
         },
         "mode": "markers",
         "name": "41",
         "orientation": "v",
         "showlegend": true,
         "type": "scatter",
         "x": {
          "bdata": "KUzSwDz90cBHE9LACZPQwPag0cDc7dDAf8/PwA==",
          "dtype": "f4"
         },
         "xaxis": "x",
         "y": {
          "bdata": "9i+XP/0Coz++wZ8/lAagP56zmj9zYKI/9f6lPw==",
          "dtype": "f4"
         },
         "yaxis": "y"
        },
        {
         "hovertemplate": "<b>%{hovertext}</b><br><br>color=42<br>x=%{x}<br>y=%{y}<extra></extra>",
         "hovertext": [
          "AstraZeneca earnings report",
          "buy H&M shares",
          "Merck response to India",
          "Kamala Harris on Black Lives Matter",
          "buy HP shares",
          "Bristol-Myers Squibb response to Red Sea"
         ],
         "legendgroup": "42",
         "marker": {
          "color": "#00cc96",
          "line": {
           "color": "DarkSlateGrey",
           "width": 1
          },
          "size": 10,
          "symbol": "circle"
         },
         "mode": "markers",
         "name": "42",
         "orientation": "v",
         "showlegend": true,
         "type": "scatter",
         "x": {
          "bdata": "/T5xwGtLb8B1PG/Ac11vwLYiccC8PW7A",
          "dtype": "f4"
         },
         "xaxis": "x",
         "y": {
          "bdata": "ZevTQIn900AnfNVAYHvUQO/x00CN6dJA",
          "dtype": "f4"
         },
         "yaxis": "y"
        },
        {
         "hovertemplate": "<b>%{hovertext}</b><br><br>color=43<br>x=%{x}<br>y=%{y}<extra></extra>",
         "hovertext": [
          "HP layoffs",
          "World Cup",
          "PepsiCo vs PepsiCo",
          "AbbVie layoffs",
          "Amgen response to BDS movement"
         ],
         "legendgroup": "43",
         "marker": {
          "color": "#ab63fa",
          "line": {
           "color": "DarkSlateGrey",
           "width": 1
          },
          "size": 10,
          "symbol": "circle"
         },
         "mode": "markers",
         "name": "43",
         "orientation": "v",
         "showlegend": true,
         "type": "scatter",
         "x": {
          "bdata": "B0q0wJQXtsBoBrLADcGywBiltsA=",
          "dtype": "f4"
         },
         "xaxis": "x",
         "y": {
          "bdata": "ydJxQMO7bEDpeHFAqmBxQBo9cEA=",
          "dtype": "f4"
         },
         "yaxis": "y"
        },
        {
         "hovertemplate": "<b>%{hovertext}</b><br><br>color=44<br>x=%{x}<br>y=%{y}<extra></extra>",
         "hovertext": [
          "BlackRock controversy",
          "CrowdStrike",
          "CrowdStrike controversy",
          "Joe Biden on sustainable finance",
          "CrowdStrike news",
          "buy CrowdStrike shares",
          "Gideon Sa'ar on fast fashion",
          "Best Buy response to BDS movement",
          "buy CVS Health shares",
          "Naftali Bennett on biodiversity conservation"
         ],
         "legendgroup": "44",
         "marker": {
          "color": "#FFA15A",
          "line": {
           "color": "DarkSlateGrey",
           "width": 1
          },
          "size": 10,
          "symbol": "circle"
         },
         "mode": "markers",
         "name": "44",
         "orientation": "v",
         "showlegend": true,
         "type": "scatter",
         "x": {
          "bdata": "aMFrwKxKbcCitGnA3C1qwA6qZsCAJWrAzLBrwBfWacD6iW7Ay4NqwA==",
          "dtype": "f4"
         },
         "xaxis": "x",
         "y": {
          "bdata": "hAHcQFrD2kCpTd1ATI/dQDhO30Ax69xApDXcQE5Q3UCPvthAzfXcQA==",
          "dtype": "f4"
         },
         "yaxis": "y"
        },
        {
         "hovertemplate": "<b>%{hovertext}</b><br><br>color=45<br>x=%{x}<br>y=%{y}<extra></extra>",
         "hovertext": [
          "Walgreens news",
          "body positivity",
          "Kylie Jenner",
          "Wells Fargo",
          "Megan Thee Stallion",
          "PayPal",
          "5G technology",
          "ESG investing",
          "Twitter",
          "Home Depot",
          "Lowe's",
          "Bank of America",
          "GoPro price",
          "Google news",
          "ICLN"
         ],
         "legendgroup": "45",
         "marker": {
          "color": "#19d3f3",
          "line": {
           "color": "DarkSlateGrey",
           "width": 1
          },
          "size": 10,
          "symbol": "circle"
         },
         "mode": "markers",
         "name": "45",
         "orientation": "v",
         "showlegend": true,
         "type": "scatter",
         "x": {
          "bdata": "/gf8wAWU/sC09/3A8U76wM0qAMF+Gf3Akm3+wDAb/8C++v7AbWD/wE7/+sDVhf/AnAj+wHZQ/MBhIfnA",
          "dtype": "f4"
         },
         "xaxis": "x",
         "y": {
          "bdata": "cX3DPo65+T43+tw+OvqqPuh3pz49Y/4+TNi+PgnnAD93OP4+jYYCP/Za0j7oOv4+VC2nPl4OxT6vAec+",
          "dtype": "f4"
         },
         "yaxis": "y"
        },
        {
         "hovertemplate": "<b>%{hovertext}</b><br><br>color=46<br>x=%{x}<br>y=%{y}<extra></extra>",
         "hovertext": [
          "financial regulation",
          "Amgen",
          "genetic testing",
          "fintech",
          "FRDM",
          "plant-based food"
         ],
         "legendgroup": "46",
         "marker": {
          "color": "#FF6692",
          "line": {
           "color": "DarkSlateGrey",
           "width": 1
          },
          "size": 10,
          "symbol": "circle"
         },
         "mode": "markers",
         "name": "46",
         "orientation": "v",
         "showlegend": true,
         "type": "scatter",
         "x": {
          "bdata": "vHb4wI7C9cCbu/jAQ1T2wJox98BkzfrA",
          "dtype": "f4"
         },
         "xaxis": "x",
         "y": {
          "bdata": "MdeHQOrCg0CwsYVAJK6HQNAChUC9KYhA",
          "dtype": "f4"
         },
         "yaxis": "y"
        },
        {
         "hovertemplate": "<b>%{hovertext}</b><br><br>color=48<br>x=%{x}<br>y=%{y}<extra></extra>",
         "hovertext": [
          "Roomba sales in Ethiopia",
          "AMD layoffs",
          "Jake Paul new album",
          "Sheryl Sandberg on social justice",
          "buy Palantir shares",
          "Elon Musk on climate change",
          "Samsung Galaxy S25 sales in Israel",
          "Jake Paul"
         ],
         "legendgroup": "48",
         "marker": {
          "color": "#B6E880",
          "line": {
           "color": "DarkSlateGrey",
           "width": 1
          },
          "size": 10,
          "symbol": "circle"
         },
         "mode": "markers",
         "name": "48",
         "orientation": "v",
         "showlegend": true,
         "type": "scatter",
         "x": {
          "bdata": "HOuDwJrKg8A5yYTAHwiEwFxVhMDh+4PAfoWGwPrWg8A=",
          "dtype": "f4"
         },
         "xaxis": "x",
         "y": {
          "bdata": "qrSDQFRchEBD34JAniCDQDtihEDy9oRAtHGDQAb0hEA=",
          "dtype": "f4"
         },
         "yaxis": "y"
        },
        {
         "hovertemplate": "<b>%{hovertext}</b><br><br>color=83<br>x=%{x}<br>y=%{y}<extra></extra>",
         "hovertext": [
          "investing in digital transformation",
          "Jensen Huang interview",
          "sleep tracking trends",
          "ASML earnings report",
          "Playstation 5 Pro sales in Ethiopia",
          "CHIPS Act forecast"
         ],
         "legendgroup": "83",
         "marker": {
          "color": "#FF97FF",
          "line": {
           "color": "DarkSlateGrey",
           "width": 1
          },
          "size": 10,
          "symbol": "circle"
         },
         "mode": "markers",
         "name": "83",
         "orientation": "v",
         "showlegend": true,
         "type": "scatter",
         "x": {
          "bdata": "VWIjwK52FMBotBzAmkgawMR4GsCrxB3A",
          "dtype": "f4"
         },
         "xaxis": "x",
         "y": {
          "bdata": "tmaAQGT8fEBC4oBAzTZ/QIumgUC7R4BA",
          "dtype": "f4"
         },
         "yaxis": "y"
        },
        {
         "hovertemplate": "<b>%{hovertext}</b><br><br>color=70<br>x=%{x}<br>y=%{y}<extra></extra>",
         "hovertext": [
          "iPhone Pro Max price",
          "oil prices forecast",
          "commodity prices",
          "iPhone Pro Max",
          "real estate market",
          "oil prices"
         ],
         "legendgroup": "70",
         "marker": {
          "color": "#FECB52",
          "line": {
           "color": "DarkSlateGrey",
           "width": 1
          },
          "size": 10,
          "symbol": "circle"
         },
         "mode": "markers",
         "name": "70",
         "orientation": "v",
         "showlegend": true,
         "type": "scatter",
         "x": {
          "bdata": "Q7XnwFcn6MAu3OrAH/XpwNso68AKLOjA",
          "dtype": "f4"
         },
         "xaxis": "x",
         "y": {
          "bdata": "9E4sQNVcLEDIBydA/T0qQAHjLUCdfypA",
          "dtype": "f4"
         },
         "yaxis": "y"
        },
        {
         "hovertemplate": "<b>%{hovertext}</b><br><br>color=49<br>x=%{x}<br>y=%{y}<extra></extra>",
         "hovertext": [
          "Dua Lipa new album",
          "Marco Rubio interview",
          "impact of wage growth",
          "Bristol-Myers Squibb response to Yemen",
          "Fiverr response to Russia",
          "Starbucks layoffs",
          "Merck response to Gaza",
          "Mitch McConnell on green bonds"
         ],
         "legendgroup": "49",
         "marker": {
          "color": "#636efa",
          "line": {
           "color": "DarkSlateGrey",
           "width": 1
          },
          "size": 10,
          "symbol": "circle"
         },
         "mode": "markers",
         "name": "49",
         "orientation": "v",
         "showlegend": true,
         "type": "scatter",
         "x": {
          "bdata": "JW/BwP3Cw8BFCMXATdTCwLkwxcA5dcPAAp2/wKNrxMA=",
          "dtype": "f4"
         },
         "xaxis": "x",
         "y": {
          "bdata": "sL+3QLIEuUBEybVAZ8y2QHUuukBWEbhAPEa4QBJ/u0A=",
          "dtype": "f4"
         },
         "yaxis": "y"
        },
        {
         "hovertemplate": "<b>%{hovertext}</b><br><br>color=50<br>x=%{x}<br>y=%{y}<extra></extra>",
         "hovertext": [
          "Copilot sales in Gaza",
          "Best Buy response to Ethiopia",
          "Samsung Galaxy S25",
          "Chuck Schumer interview",
          "impact of mortgage rates",
          "Copilot review",
          "Marco Rubio on youth climate movement",
          "smart home trends",
          "impact of bond yields",
          "impact investing stocks",
          "Tesla Model Y sales in Palestine"
         ],
         "legendgroup": "50",
         "marker": {
          "color": "#EF553B",
          "line": {
           "color": "DarkSlateGrey",
           "width": 1
          },
          "size": 10,
          "symbol": "circle"
         },
         "mode": "markers",
         "name": "50",
         "orientation": "v",
         "showlegend": true,
         "type": "scatter",
         "x": {
          "bdata": "c58/wD+lPcBdLzvASXI9wGHxM8C43j3A6u08wERGOMDzcT7AXsUzwGtoPsA=",
          "dtype": "f4"
         },
         "xaxis": "x",
         "y": {
          "bdata": "/7SPQOwDj0Bxk5VAcCmOQKp0lEBizpNAC9GRQEtOlECKi5RAUx+VQIybjkA=",
          "dtype": "f4"
         },
         "yaxis": "y"
        },
        {
         "hovertemplate": "<b>%{hovertext}</b><br><br>color=51<br>x=%{x}<br>y=%{y}<extra></extra>",
         "hovertext": [
          "anxiety trends",
          "Tesla controversy",
          "Block controversy",
          "robotics trends",
          "Copilot price",
          "cybersecurity trends",
          "buy Visa shares"
         ],
         "legendgroup": "51",
         "marker": {
          "color": "#00cc96",
          "line": {
           "color": "DarkSlateGrey",
           "width": 1
          },
          "size": 10,
          "symbol": "circle"
         },
         "mode": "markers",
         "name": "51",
         "orientation": "v",
         "showlegend": true,
         "type": "scatter",
         "x": {
          "bdata": "gk04wMLKOcDcezXAoSczwLH7N8ChlzzAwKkywA==",
          "dtype": "f4"
         },
         "xaxis": "x",
         "y": {
          "bdata": "2H2JQPZFiEB6ZIdA8RWIQEvQikCZtohAYo+EQA==",
          "dtype": "f4"
         },
         "yaxis": "y"
        },
        {
         "hovertemplate": "<b>%{hovertext}</b><br><br>color=75<br>x=%{x}<br>y=%{y}<extra></extra>",
         "hovertext": [
          "Iron Dome",
          "Golan Heights conflict",
          "US aid to Palestine",
          "war in Golan Heights",
          "buy Oracle shares",
          "Sinai Peninsula news",
          "Israel conflict",
          "Alexandria Ocasio-Cortez on data privacy",
          "Palestine conflict",
          "CVS Health response to IDF",
          "buy Dell shares",
          "Gaza conflict",
          "war in Sinai Peninsula",
          "US aid to West Bank",
          "Hamas",
          "war in Israel",
          "Palestine news",
          "West Bank conflict"
         ],
         "legendgroup": "75",
         "marker": {
          "color": "#ab63fa",
          "line": {
           "color": "DarkSlateGrey",
           "width": 1
          },
          "size": 10,
          "symbol": "circle"
         },
         "mode": "markers",
         "name": "75",
         "orientation": "v",
         "showlegend": true,
         "type": "scatter",
         "x": {
          "bdata": "cCGnwHl5qcD+kqrAiDeqwMdwqsBtmqrAD9aqwMjwqcAeHafA5RSpwFIbq8C9DKrAD2eqwPqRp8DNpqvAkOetwPt3qMD4eqzA",
          "dtype": "f4"
         },
         "xaxis": "x",
         "y": {
          "bdata": "rG3wQIG680AlsO5AiyPwQFj58kB49vJAKA/yQEZE7kDqR/VAgrnzQM2l8EBeifRAI4rzQIr99UD+ZPRA4KTuQBU98UAKT/BA",
          "dtype": "f4"
         },
         "yaxis": "y"
        },
        {
         "hovertemplate": "<b>%{hovertext}</b><br><br>color=54<br>x=%{x}<br>y=%{y}<extra></extra>",
         "hovertext": [
          "AstraZeneca news",
          "Zoom response to Saudi Arabia",
          "Nitzan Horowitz",
          "AstraZeneca controversy",
          "PewDiePie new album",
          "Grammys ratings",
          "Bernie Sanders on gender equality",
          "buy Home Depot shares",
          "Visa response to Iron Dome",
          "youth climate movement"
         ],
         "legendgroup": "54",
         "marker": {
          "color": "#FFA15A",
          "line": {
           "color": "DarkSlateGrey",
           "width": 1
          },
          "size": 10,
          "symbol": "circle"
         },
         "mode": "markers",
         "name": "54",
         "orientation": "v",
         "showlegend": true,
         "type": "scatter",
         "x": {
          "bdata": "6ea9wAklvMD+RcDA1gK9wFE6ucDeMLnATJW6wLxJuMCBYLvAOYK8wA==",
          "dtype": "f4"
         },
         "xaxis": "x",
         "y": {
          "bdata": "jOknP3GBGj/5gy8/J5IsP5BCPT/yS1I/BKU7PzG7Hz9tDCU/5p1IPw==",
          "dtype": "f4"
         },
         "yaxis": "y"
        },
        {
         "hovertemplate": "<b>%{hovertext}</b><br><br>color=55<br>x=%{x}<br>y=%{y}<extra></extra>",
         "hovertext": [
          "Nike stock price",
          "trade deficit",
          "Nasdaq100",
          "Ryan Reynolds new album",
          "S&P 500",
          "S&P500",
          "Costco stock price",
          "CircularEconomy"
         ],
         "legendgroup": "55",
         "marker": {
          "color": "#19d3f3",
          "line": {
           "color": "DarkSlateGrey",
           "width": 1
          },
          "size": 10,
          "symbol": "circle"
         },
         "mode": "markers",
         "name": "55",
         "orientation": "v",
         "showlegend": true,
         "type": "scatter",
         "x": {
          "bdata": "cxrqwMID6cD02+3AvbjqwDSh6sBhZOvAwmnpwFYK6MA=",
          "dtype": "f4"
         },
         "xaxis": "x",
         "y": {
          "bdata": "Mqt9QIZqgECURH1Awyp9QKJde0Dv3nxAQFZ9QDpoekA=",
          "dtype": "f4"
         },
         "yaxis": "y"
        },
        {
         "hovertemplate": "<b>%{hovertext}</b><br><br>color=57<br>x=%{x}<br>y=%{y}<extra></extra>",
         "hovertext": [
          "Shopify response to Yemen",
          "investing in remote work",
          "Elon Musk on inclusion initiatives",
          "buy Costco shares",
          "home workout trends"
         ],
         "legendgroup": "57",
         "marker": {
          "color": "#FF6692",
          "line": {
           "color": "DarkSlateGrey",
           "width": 1
          },
          "size": 10,
          "symbol": "circle"
         },
         "mode": "markers",
         "name": "57",
         "orientation": "v",
         "showlegend": true,
         "type": "scatter",
         "x": {
          "bdata": "sU96wDM0ecBGMnjAEj1/wOUFeMA=",
          "dtype": "f4"
         },
         "xaxis": "x",
         "y": {
          "bdata": "QmqkQFyupECW86NAxOGiQE4qo0A=",
          "dtype": "f4"
         },
         "yaxis": "y"
        },
        {
         "hovertemplate": "<b>%{hovertext}</b><br><br>color=58<br>x=%{x}<br>y=%{y}<extra></extra>",
         "hovertext": [
          "Roomba sales in China",
          "Airbnb stock price",
          "Ring Doorbell sales in West Bank",
          "Pfizer controversy",
          "buy Airbnb shares",
          "Playstation 5 Pro sales in Iraq",
          "buy Moderna shares"
         ],
         "legendgroup": "58",
         "marker": {
          "color": "#B6E880",
          "line": {
           "color": "DarkSlateGrey",
           "width": 1
          },
          "size": 10,
          "symbol": "circle"
         },
         "mode": "markers",
         "name": "58",
         "orientation": "v",
         "showlegend": true,
         "type": "scatter",
         "x": {
          "bdata": "UnupwCK6q8Ds6qbAfwqswMxZrMA1DKrAnYerwA==",
          "dtype": "f4"
         },
         "xaxis": "x",
         "y": {
          "bdata": "1xygPayN4j0G0OI9X8CqPdxrhz1hzjM7C6f0PA==",
          "dtype": "f4"
         },
         "yaxis": "y"
        },
        {
         "hovertemplate": "<b>%{hovertext}</b><br><br>color=59<br>x=%{x}<br>y=%{y}<extra></extra>",
         "hovertext": [
          "stakeholder capitalism",
          "eBay",
          "Microsoft Surface review",
          "GSK stock price",
          "Dow Jones 30",
          "US_Biotech"
         ],
         "legendgroup": "59",
         "marker": {
          "color": "#FF97FF",
          "line": {
           "color": "DarkSlateGrey",
           "width": 1
          },
          "size": 10,
          "symbol": "circle"
         },
         "mode": "markers",
         "name": "59",
         "orientation": "v",
         "showlegend": true,
         "type": "scatter",
         "x": {
          "bdata": "OZjywInn8sBjIPPAuo/ywMXa9MC1XfTA",
          "dtype": "f4"
         },
         "xaxis": "x",
         "y": {
          "bdata": "/scLPnnWOj5bV/A9ZUpDPu+E0j3anOA9",
          "dtype": "f4"
         },
         "yaxis": "y"
        },
        {
         "hovertemplate": "<b>%{hovertext}</b><br><br>color=60<br>x=%{x}<br>y=%{y}<extra></extra>",
         "hovertext": [
          "India conflict",
          "Met Gala ratings",
          "Peloton sales in US",
          "CrowdStrike layoffs",
          "US aid to Pakistan",
          "Pakistan conflict",
          "Ceasefire",
          "Unity response to US",
          "Lyft earnings report",
          "war in India",
          "GSK response to Jerusalem",
          "UnitedHealth layoffs",
          "war in Pakistan",
          "LGBTQEquality",
          "Ayman Odeh on gender equality",
          "Pakistan news"
         ],
         "legendgroup": "60",
         "marker": {
          "color": "#FECB52",
          "line": {
           "color": "DarkSlateGrey",
           "width": 1
          },
          "size": 10,
          "symbol": "circle"
         },
         "mode": "markers",
         "name": "60",
         "orientation": "v",
         "showlegend": true,
         "type": "scatter",
         "x": {
          "bdata": "RBiVwGkQl8CQBJTACnOUwKK+mMDcjpTAB+WTwCJjlcCb7pbARhmXwCNjlcBLBJTAJjOVwLGhlcBgk5TAq5uVwA==",
          "dtype": "f4"
         },
         "xaxis": "x",
         "y": {
          "bdata": "kFdRQNQHUkDCDVZAGR5OQOZfVkBZaFBArVZUQIIeVkAqrE9AA2xQQGHZS0CHPFdAdVNQQB4RTkCbfVVAl59OQA==",
          "dtype": "f4"
         },
         "yaxis": "y"
        },
        {
         "hovertemplate": "<b>%{hovertext}</b><br><br>color=67<br>x=%{x}<br>y=%{y}<extra></extra>",
         "hovertext": [
          "Bernie Sanders tweet",
          "gig economy controversy",
          "Cybertruck sales in US",
          "Joe Biden interview",
          "Alibaba earnings report",
          "CVS Health response to Yemen",
          "Best Buy response to Israel",
          "Adele",
          "Adele new album"
         ],
         "legendgroup": "67",
         "marker": {
          "color": "#636efa",
          "line": {
           "color": "DarkSlateGrey",
           "width": 1
          },
          "size": 10,
          "symbol": "circle"
         },
         "mode": "markers",
         "name": "67",
         "orientation": "v",
         "showlegend": true,
         "type": "scatter",
         "x": {
          "bdata": "4Sa9wODgvsCqzL7AD368wK1WusAC1rzAUpu+wAmdwMANqb/A",
          "dtype": "f4"
         },
         "xaxis": "x",
         "y": {
          "bdata": "JbixP1lnyj8PL7w/sZS8P6qluz9hcr8/r0y9P8rizj+sbMQ/",
          "dtype": "f4"
         },
         "yaxis": "y"
        },
        {
         "hovertemplate": "<b>%{hovertext}</b><br><br>color=61<br>x=%{x}<br>y=%{y}<extra></extra>",
         "hovertext": [
          "new AirPods Pro release date",
          "Mary Barra",
          "new Apple Watch release date",
          "Bad Bunny",
          "housing market",
          "new iPhone Pro Max release date"
         ],
         "legendgroup": "61",
         "marker": {
          "color": "#EF553B",
          "line": {
           "color": "DarkSlateGrey",
           "width": 1
          },
          "size": 10,
          "symbol": "circle"
         },
         "mode": "markers",
         "name": "61",
         "orientation": "v",
         "showlegend": true,
         "type": "scatter",
         "x": {
          "bdata": "ARvfwBb938AQ8OHAjb/gwGzs38BvEd/A",
          "dtype": "f4"
         },
         "xaxis": "x",
         "y": {
          "bdata": "bZkxQG1sK0CfRS9AKP02QNktMUAUKTFA",
          "dtype": "f4"
         },
         "yaxis": "y"
        },
        {
         "hovertemplate": "<b>%{hovertext}</b><br><br>color=73<br>x=%{x}<br>y=%{y}<extra></extra>",
         "hovertext": [
          "US aid to Israel",
          "Charles Schwab layoffs",
          "Middle East conflict",
          "US aid to Middle East",
          "Jerusalem news",
          "Intifada",
          "Sinai Peninsula",
          "Benjamin Netanyahu"
         ],
         "legendgroup": "73",
         "marker": {
          "color": "#00cc96",
          "line": {
           "color": "DarkSlateGrey",
           "width": 1
          },
          "size": 10,
          "symbol": "circle"
         },
         "mode": "markers",
         "name": "73",
         "orientation": "v",
         "showlegend": true,
         "type": "scatter",
         "x": {
          "bdata": "C6iswEsqrsBzlLDA7uCwwPSEsMDtuK/ANwexwKzIr8A=",
          "dtype": "f4"
         },
         "xaxis": "x",
         "y": {
          "bdata": "Tx3TQEMb0kCro9NA123UQLk11UB269FA4UPYQEZZ1EA=",
          "dtype": "f4"
         },
         "yaxis": "y"
        },
        {
         "hovertemplate": "<b>%{hovertext}</b><br><br>color=92<br>x=%{x}<br>y=%{y}<extra></extra>",
         "hovertext": [
          "Target controversy",
          "Ron DeSantis tweet",
          "Monday.com stock price",
          "pride month controversy",
          "Ron DeSantis interview"
         ],
         "legendgroup": "92",
         "marker": {
          "color": "#ab63fa",
          "line": {
           "color": "DarkSlateGrey",
           "width": 1
          },
          "size": 10,
          "symbol": "circle"
         },
         "mode": "markers",
         "name": "92",
         "orientation": "v",
         "showlegend": true,
         "type": "scatter",
         "x": {
          "bdata": "cj3CwEGAwsC5R8bA/xnDwE3Nw8A=",
          "dtype": "f4"
         },
         "xaxis": "x",
         "y": {
          "bdata": "MuZIQB9gSkDgaUdAO2xLQINySEA=",
          "dtype": "f4"
         },
         "yaxis": "y"
        },
        {
         "hovertemplate": "<b>%{hovertext}</b><br><br>color=91<br>x=%{x}<br>y=%{y}<extra></extra>",
         "hovertext": [
          "war in Jerusalem",
          "new Meta Quest 3 release date",
          "Bad Bunny new album",
          "Qualcomm layoffs",
          "war in West Bank"
         ],
         "legendgroup": "91",
         "marker": {
          "color": "#FFA15A",
          "line": {
           "color": "DarkSlateGrey",
           "width": 1
          },
          "size": 10,
          "symbol": "circle"
         },
         "mode": "markers",
         "name": "91",
         "orientation": "v",
         "showlegend": true,
         "type": "scatter",
         "x": {
          "bdata": "XEuuwM2PrsB1GKzAFt6uwGzurMA=",
          "dtype": "f4"
         },
         "xaxis": "x",
         "y": {
          "bdata": "myDfQAxW20BkRN9A/A/eQA/v20A=",
          "dtype": "f4"
         },
         "yaxis": "y"
        },
        {
         "hovertemplate": "<b>%{hovertext}</b><br><br>color=64<br>x=%{x}<br>y=%{y}<extra></extra>",
         "hovertext": [
          "Cisco earnings report",
          "emerging markets forecast",
          "Android 15 review"
         ],
         "legendgroup": "64",
         "marker": {
          "color": "#19d3f3",
          "line": {
           "color": "DarkSlateGrey",
           "width": 1
          },
          "size": 10,
          "symbol": "circle"
         },
         "mode": "markers",
         "name": "64",
         "orientation": "v",
         "showlegend": true,
         "type": "scatter",
         "x": {
          "bdata": "mdPIv4K50L91g9O/",
          "dtype": "f4"
         },
         "xaxis": "x",
         "y": {
          "bdata": "C8d1QOi6eEDE3HhA",
          "dtype": "f4"
         },
         "yaxis": "y"
        },
        {
         "hovertemplate": "<b>%{hovertext}</b><br><br>color=72<br>x=%{x}<br>y=%{y}<extra></extra>",
         "hovertext": [
          "Amazon",
          "virtual reality",
          "Etsy",
          "Kroger"
         ],
         "legendgroup": "72",
         "marker": {
          "color": "#FF6692",
          "line": {
           "color": "DarkSlateGrey",
           "width": 1
          },
          "size": 10,
          "symbol": "circle"
         },
         "mode": "markers",
         "name": "72",
         "orientation": "v",
         "showlegend": true,
         "type": "scatter",
         "x": {
          "bdata": "KjYJwVGJCcG2XwrBrUcIwQ==",
          "dtype": "f4"
         },
         "xaxis": "x",
         "y": {
          "bdata": "Ec9wPymMgj+Pf4k/6w98Pw==",
          "dtype": "f4"
         },
         "yaxis": "y"
        },
        {
         "hovertemplate": "<b>%{hovertext}</b><br><br>color=84<br>x=%{x}<br>y=%{y}<extra></extra>",
         "hovertext": [
          "Zoom news",
          "SolarEdge stock price",
          "Sea Limited stock price",
          "Alibaba stock price",
          "Wells Fargo layoffs"
         ],
         "legendgroup": "84",
         "marker": {
          "color": "#B6E880",
          "line": {
           "color": "DarkSlateGrey",
           "width": 1
          },
          "size": 10,
          "symbol": "circle"
         },
         "mode": "markers",
         "name": "84",
         "orientation": "v",
         "showlegend": true,
         "type": "scatter",
         "x": {
          "bdata": "tRDUwAys1MDzV9XAKMTUwOio1cA=",
          "dtype": "f4"
         },
         "xaxis": "x",
         "y": {
          "bdata": "nR9uOrcqvT2dEC09XZDuPXKDrbw=",
          "dtype": "f4"
         },
         "yaxis": "y"
        },
        {
         "hovertemplate": "<b>%{hovertext}</b><br><br>color=81<br>x=%{x}<br>y=%{y}<extra></extra>",
         "hovertext": [
          "Mitch McConnell tweet",
          "Zoom stock price",
          "buy Alibaba shares",
          "JD.com news",
          "Azure sales in Sinai Peninsula",
          "Mitch McConnell interview",
          "buy AstraZeneca shares",
          "AstraZeneca stock price",
          "Mitch McConnell"
         ],
         "legendgroup": "81",
         "marker": {
          "color": "#FF97FF",
          "line": {
           "color": "DarkSlateGrey",
           "width": 1
          },
          "size": 10,
          "symbol": "circle"
         },
         "mode": "markers",
         "name": "81",
         "orientation": "v",
         "showlegend": true,
         "type": "scatter",
         "x": {
          "bdata": "GaK3wN2wtcDQX7XApnW7wKFpucD1j7jA28u1wGy1tsCkELnA",
          "dtype": "f4"
         },
         "xaxis": "x",
         "y": {
          "bdata": "viQ5vj0S5r3Q3su82kcwvX6HLr3ihnK9mgSvvIY4LL3wsge+",
          "dtype": "f4"
         },
         "yaxis": "y"
        },
        {
         "hovertemplate": "<b>%{hovertext}</b><br><br>color=66<br>x=%{x}<br>y=%{y}<extra></extra>",
         "hovertext": [
          "virtual reality trends",
          "new Tesla Model Y release date",
          "Merck response to Ethiopia",
          "Zoom response to October 7 attacks",
          "buy Charles Schwab shares",
          "investing in virtual reality",
          "The Weeknd new album",
          "Sanofi controversy",
          "AirPods Pro sales in Syria",
          "sustainable fashion trends",
          "Goldman Sachs response to Jerusalem"
         ],
         "legendgroup": "66",
         "marker": {
          "color": "#FECB52",
          "line": {
           "color": "DarkSlateGrey",
           "width": 1
          },
          "size": 10,
          "symbol": "circle"
         },
         "mode": "markers",
         "name": "66",
         "orientation": "v",
         "showlegend": true,
         "type": "scatter",
         "x": {
          "bdata": "26GDwDSfgsDK74PAineCwPAsgsCWFoPAHwKGwIeNg8AFqoXA9KqDwO36g8A=",
          "dtype": "f4"
         },
         "xaxis": "x",
         "y": {
          "bdata": "wyqhQOQXo0B0h6hAKqelQHMRnkA90J9Afp+gQN5HpUA2TaVAlT+gQIHap0A=",
          "dtype": "f4"
         },
         "yaxis": "y"
        },
        {
         "hovertemplate": "<b>%{hovertext}</b><br><br>color=68<br>x=%{x}<br>y=%{y}<extra></extra>",
         "hovertext": [
          "Meta Quest 3 review",
          "Meta Quest 3 price",
          "Zara controversy",
          "Etsy layoffs",
          "Meta Quest 3 sales in Syria",
          "Starbucks controversy"
         ],
         "legendgroup": "68",
         "marker": {
          "color": "#636efa",
          "line": {
           "color": "DarkSlateGrey",
           "width": 1
          },
          "size": 10,
          "symbol": "circle"
         },
         "mode": "markers",
         "name": "68",
         "orientation": "v",
         "showlegend": true,
         "type": "scatter",
         "x": {
          "bdata": "ui6pwFZuqcAlSKrAs+WrwOYsq8DhZ63A",
          "dtype": "f4"
         },
         "xaxis": "x",
         "y": {
          "bdata": "wUm5QPtbt0Bgu7tA8tO6QHl5ukD8BbtA",
          "dtype": "f4"
         },
         "yaxis": "y"
        },
        {
         "hovertemplate": "<b>%{hovertext}</b><br><br>color=88<br>x=%{x}<br>y=%{y}<extra></extra>",
         "hovertext": [
          "Baidu",
          "Sanofi",
          "Sea Limited",
          "buy Target shares",
          "Microsoft Surface price"
         ],
         "legendgroup": "88",
         "marker": {
          "color": "#EF553B",
          "line": {
           "color": "DarkSlateGrey",
           "width": 1
          },
          "size": 10,
          "symbol": "circle"
         },
         "mode": "markers",
         "name": "88",
         "orientation": "v",
         "showlegend": true,
         "type": "scatter",
         "x": {
          "bdata": "Lbb+wKVn+sDRefvA5HP8wHb5+sA=",
          "dtype": "f4"
         },
         "xaxis": "x",
         "y": {
          "bdata": "msqMP6BChz+4+Xs/IiKHPwHDgT8=",
          "dtype": "f4"
         },
         "yaxis": "y"
        },
        {
         "hovertemplate": "<b>%{hovertext}</b><br><br>color=93<br>x=%{x}<br>y=%{y}<extra></extra>",
         "hovertext": [
          "Apple controversy",
          "crypto trends",
          "Cloudflare news",
          "Target earnings report",
          "AWS review"
         ],
         "legendgroup": "93",
         "marker": {
          "color": "#00cc96",
          "line": {
           "color": "DarkSlateGrey",
           "width": 1
          },
          "size": 10,
          "symbol": "circle"
         },
         "mode": "markers",
         "name": "93",
         "orientation": "v",
         "showlegend": true,
         "type": "scatter",
         "x": {
          "bdata": "gjJKwK9/RcCl5UbAO3BKwB2jScA=",
          "dtype": "f4"
         },
         "xaxis": "x",
         "y": {
          "bdata": "stlUQCp5WUBzglpAOsJUQPHQV0A=",
          "dtype": "f4"
         },
         "yaxis": "y"
        },
        {
         "hovertemplate": "<b>%{hovertext}</b><br><br>color=86<br>x=%{x}<br>y=%{y}<extra></extra>",
         "hovertext": [
          "Rihanna new album",
          "Joe Rogan new album",
          "GSK response to Iran",
          "Sundar Pichai tweet",
          "Kamala Harris on greenwashing",
          "Gavin Newsom",
          "Mobileye stock price"
         ],
         "legendgroup": "86",
         "marker": {
          "color": "#ab63fa",
          "line": {
           "color": "DarkSlateGrey",
           "width": 1
          },
          "size": 10,
          "symbol": "circle"
         },
         "mode": "markers",
         "name": "86",
         "orientation": "v",
         "showlegend": true,
         "type": "scatter",
         "x": {
          "bdata": "PGbbwEPy18BnvdnALzDYwOu71sBWd9jAJPTWwA==",
          "dtype": "f4"
         },
         "xaxis": "x",
         "y": {
          "bdata": "yBHuP3in/D9dcfI/Vd/wP4Cr7D9euvE/Zv73Pw==",
          "dtype": "f4"
         },
         "yaxis": "y"
        },
        {
         "hovertemplate": "<b>%{hovertext}</b><br><br>color=69<br>x=%{x}<br>y=%{y}<extra></extra>",
         "hovertext": [
          "Copilot sales in China",
          "Peloton sales in Yemen",
          "Mansour Abbas on ethical sourcing",
          "Sheryl Sandberg on eco-friendly products",
          "investing in web3"
         ],
         "legendgroup": "69",
         "marker": {
          "color": "#FFA15A",
          "line": {
           "color": "DarkSlateGrey",
           "width": 1
          },
          "size": 10,
          "symbol": "circle"
         },
         "mode": "markers",
         "name": "69",
         "orientation": "v",
         "showlegend": true,
         "type": "scatter",
         "x": {
          "bdata": "rERTwOXkU8CDRFPAt2hUwN4LVsA=",
          "dtype": "f4"
         },
         "xaxis": "x",
         "y": {
          "bdata": "61C6QDh0u0COibtA7oO8QCzXvEA=",
          "dtype": "f4"
         },
         "yaxis": "y"
        },
        {
         "hovertemplate": "<b>%{hovertext}</b><br><br>color=76<br>x=%{x}<br>y=%{y}<extra></extra>",
         "hovertext": [
          "Unity vs Unity",
          "Uniqlo",
          "Lululemon",
          "Salesforce",
          "Spotify",
          "Garmin Watch",
          "Costco vs Costco"
         ],
         "legendgroup": "76",
         "marker": {
          "color": "#19d3f3",
          "line": {
           "color": "DarkSlateGrey",
           "width": 1
          },
          "size": 10,
          "symbol": "circle"
         },
         "mode": "markers",
         "name": "76",
         "orientation": "v",
         "showlegend": true,
         "type": "scatter",
         "x": {
          "bdata": "RHjtwC727cANMO7AP+zuwBVj78A2ku/A2L3vwA==",
          "dtype": "f4"
         },
         "xaxis": "x",
         "y": {
          "bdata": "wJZgQC2RWkA9RVpAIJddQH+8X0A2hFhA00lXQA==",
          "dtype": "f4"
         },
         "yaxis": "y"
        },
        {
         "hovertemplate": "<b>%{hovertext}</b><br><br>color=71<br>x=%{x}<br>y=%{y}<extra></extra>",
         "hovertext": [
          "lgbtq rights",
          "Alexandria Ocasio-Cortez",
          "Donald Trump tweet",
          "Marco Rubio tweet",
          "Bernie Sanders interview",
          "Joe Biden tweet",
          "Donald Trump",
          "Goldman Sachs response to Red Sea",
          "Mary Barra interview",
          "stakeholder capitalism controversy",
          "Reed Hastings on work-life balance",
          "US news",
          "Alexandria Ocasio-Cortez tweet",
          "MacBook Pro M4 sales in Sinai Peninsula",
          "Joe Biden on climate change",
          "Joe Biden",
          "US"
         ],
         "legendgroup": "71",
         "marker": {
          "color": "#FF6692",
          "line": {
           "color": "DarkSlateGrey",
           "width": 1
          },
          "size": 10,
          "symbol": "circle"
         },
         "mode": "markers",
         "name": "71",
         "orientation": "v",
         "showlegend": true,
         "type": "scatter",
         "x": {
          "bdata": "TA20wEUossBrkLTAvZO3wOs+rcDffbDA6cOywMWAsMAP/rLASg2wwAwMrcAj+7PAqSSuwBVhr8Aula/Ai+CuwF9CtMA=",
          "dtype": "f4"
         },
         "xaxis": "x",
         "y": {
          "bdata": "t4Qkv6vGEL89FRa/Bewbv59cJL8Rox+/la4mv+6ELL8azwq/jKk0v2ZEML9K0Cu/X7Qlv348Hr9ZiCW/jW4zv4IHOb8=",
          "dtype": "f4"
         },
         "yaxis": "y"
        },
        {
         "hovertemplate": "<b>%{hovertext}</b><br><br>color=74<br>x=%{x}<br>y=%{y}<extra></extra>",
         "hovertext": [
          "Azure price",
          "foreign exchange forecast",
          "Micron news",
          "McDonald's news",
          "Salesforce news",
          "Block stock price"
         ],
         "legendgroup": "74",
         "marker": {
          "color": "#B6E880",
          "line": {
           "color": "DarkSlateGrey",
           "width": 1
          },
          "size": 10,
          "symbol": "circle"
         },
         "mode": "markers",
         "name": "74",
         "orientation": "v",
         "showlegend": true,
         "type": "scatter",
         "x": {
          "bdata": "QmFnwLVja8CExWPA9Y9rwK52bcBkNWvA",
          "dtype": "f4"
         },
         "xaxis": "x",
         "y": {
          "bdata": "+3Q2QCk/OEAnLzhAwfkyQKP9MkCzjDRA",
          "dtype": "f4"
         },
         "yaxis": "y"
        },
        {
         "hovertemplate": "<b>%{hovertext}</b><br><br>color=79<br>x=%{x}<br>y=%{y}<extra></extra>",
         "hovertext": [
          "investing in supply chain",
          "investing in gut health",
          "impact of emerging markets",
          "investing in mental health",
          "AI advancements"
         ],
         "legendgroup": "79",
         "marker": {
          "color": "#FF97FF",
          "line": {
           "color": "DarkSlateGrey",
           "width": 1
          },
          "size": 10,
          "symbol": "circle"
         },
         "mode": "markers",
         "name": "79",
         "orientation": "v",
         "showlegend": true,
         "type": "scatter",
         "x": {
          "bdata": "MdxMwN6AUMDvk1HA3r5GwPRfTcA=",
          "dtype": "f4"
         },
         "xaxis": "x",
         "y": {
          "bdata": "cxaWQO4ZlUBuDZhAiBqWQLw5mUA=",
          "dtype": "f4"
         },
         "yaxis": "y"
        },
        {
         "hovertemplate": "<b>%{hovertext}</b><br><br>color=80<br>x=%{x}<br>y=%{y}<extra></extra>",
         "hovertext": [
          "impact of CHIPS Act",
          "BAC",
          "US_Regional_Banks",
          "US_Financials_Sector",
          "US_Banks"
         ],
         "legendgroup": "80",
         "marker": {
          "color": "#FECB52",
          "line": {
           "color": "DarkSlateGrey",
           "width": 1
          },
          "size": 10,
          "symbol": "circle"
         },
         "mode": "markers",
         "name": "80",
         "orientation": "v",
         "showlegend": true,
         "type": "scatter",
         "x": {
          "bdata": "FYInwY5nJsG9GijBlCEowZ/oJ8E=",
          "dtype": "f4"
         },
         "xaxis": "x",
         "y": {
          "bdata": "u4wKQLr+CUBg6AhAHSkGQKwiCUA=",
          "dtype": "f4"
         },
         "yaxis": "y"
        },
        {
         "hovertemplate": "<b>%{hovertext}</b><br><br>color=82<br>x=%{x}<br>y=%{y}<extra></extra>",
         "hovertext": [
          "Mobileye earnings report",
          "buy Sea Limited shares",
          "Benjamin Netanyahu interview",
          "Yuli Edelstein tweet",
          "Salesforce earnings report"
         ],
         "legendgroup": "82",
         "marker": {
          "color": "#636efa",
          "line": {
           "color": "DarkSlateGrey",
           "width": 1
          },
          "size": 10,
          "symbol": "circle"
         },
         "mode": "markers",
         "name": "82",
         "orientation": "v",
         "showlegend": true,
         "type": "scatter",
         "x": {
          "bdata": "NCoTwEdJE8CJvQ/Awd0QwJ65FcA=",
          "dtype": "f4"
         },
         "xaxis": "x",
         "y": {
          "bdata": "ds1pQH2MZ0BJHGxAiw5oQDYibEA=",
          "dtype": "f4"
         },
         "yaxis": "y"
        },
        {
         "hovertemplate": "<b>%{hovertext}</b><br><br>color=85<br>x=%{x}<br>y=%{y}<extra></extra>",
         "hovertext": [
          "buy Uber shares",
          "Andy Jassy",
          "buy Zoom shares",
          "buy American Express shares",
          "Broadcom response to Israel",
          "Roomba sales in Palestine"
         ],
         "legendgroup": "85",
         "marker": {
          "color": "#EF553B",
          "line": {
           "color": "DarkSlateGrey",
           "width": 1
          },
          "size": 10,
          "symbol": "circle"
         },
         "mode": "markers",
         "name": "85",
         "orientation": "v",
         "showlegend": true,
         "type": "scatter",
         "x": {
          "bdata": "cYegwBNFoMCwRKDAJbufwFCzocB4z5/A",
          "dtype": "f4"
         },
         "xaxis": "x",
         "y": {
          "bdata": "R+YqP1yuJj9kXS8/xJwhPy2uKz8ZIzM/",
          "dtype": "f4"
         },
         "yaxis": "y"
        },
        {
         "hovertemplate": "<b>%{hovertext}</b><br><br>color=87<br>x=%{x}<br>y=%{y}<extra></extra>",
         "hovertext": [
          "carbon emissions stocks",
          "investing in genetic testing",
          "buy Spotify shares",
          "CyberArk stock price",
          "Apple response to Golan Heights",
          "bond yields forecast",
          "Lululemon earnings report"
         ],
         "legendgroup": "87",
         "marker": {
          "color": "#00cc96",
          "line": {
           "color": "DarkSlateGrey",
           "width": 1
          },
          "size": 10,
          "symbol": "circle"
         },
         "mode": "markers",
         "name": "87",
         "orientation": "v",
         "showlegend": true,
         "type": "scatter",
         "x": {
          "bdata": "2A7NvvXzzb4vw6e+bP6wvhUiBb8ZU+e+CJm8vg==",
          "dtype": "f4"
         },
         "xaxis": "x",
         "y": {
          "bdata": "845xQLwPckCLrm1AehZzQA7ycEAMOXFAtBVzQA==",
          "dtype": "f4"
         },
         "yaxis": "y"
        },
        {
         "hovertemplate": "<b>%{hovertext}</b><br><br>color=89<br>x=%{x}<br>y=%{y}<extra></extra>",
         "hovertext": [
          "monetary policy forecast",
          "keto diet trends",
          "Zara earnings report",
          "Zoom controversy",
          "IKEA layoffs"
         ],
         "legendgroup": "89",
         "marker": {
          "color": "#ab63fa",
          "line": {
           "color": "DarkSlateGrey",
           "width": 1
          },
          "size": 10,
          "symbol": "circle"
         },
         "mode": "markers",
         "name": "89",
         "orientation": "v",
         "showlegend": true,
         "type": "scatter",
         "x": {
          "bdata": "hhqGv5FWir+QGoa/kjR+v2JNgr8=",
          "dtype": "f4"
         },
         "xaxis": "x",
         "y": {
          "bdata": "xQ5zQHUsdECA/nJAznpuQPOSdUA=",
          "dtype": "f4"
         },
         "yaxis": "y"
        },
        {
         "hovertemplate": "<b>%{hovertext}</b><br><br>color=94<br>x=%{x}<br>y=%{y}<extra></extra>",
         "hovertext": [
          "ISRG",
          "Google",
          "V",
          "NOW",
          "COST",
          "BKNG",
          "ORCL",
          "AMZN",
          "APPLE",
          "MSFT",
          "UBER",
          "XOM",
          "CVX",
          "IBM",
          "LargeTech",
          "AIEthics",
          "SupportUkraine",
          "NFLX",
          "COP",
          "GOOGL",
          "VeteranFriendly",
          "META",
          "CRWD",
          "S&P500",
          "MS",
          "LGBTQEquality",
          "MA",
          "SLB",
          "AAPL",
          "BLK"
         ],
         "legendgroup": "94",
         "marker": {
          "color": "#FFA15A",
          "line": {
           "color": "DarkSlateGrey",
           "width": 1
          },
          "size": 10,
          "symbol": "circle"
         },
         "mode": "markers",
         "name": "94",
         "orientation": "v",
         "showlegend": true,
         "type": "scatter",
         "x": {
          "bdata": "ib8cwaXLH8G69B3BhoscwSGlHsHbISDBDT4dwUwSIMHyeCHBArUfweIZG8EYuSHBmwUhwV3WHsGDsyDBdz4fwcHpIME9sR7BjG8gwXJkIMEVVyDBf5IfwU6LHcHldBzB3IgiwaGMIMHMnR/BC+odwUKJIcHv5x3B",
          "dtype": "f4"
         },
         "xaxis": "x",
         "y": {
          "bdata": "DrgOQAGkAUAEIQNAlMQPQNitCEDAwgVAvF4PQB/7+T9gqQBAJ5EFQBZgD0BYbAhAjxwMQDg0CEAi8P4/vpH7PwliBkAVQAdAxx8LQA41+j8P+Q1AE8z6PzZfC0D8YxNAJk0KQDTwA0AgmQRA8qAOQC/h/T9y/RBA",
          "dtype": "f4"
         },
         "yaxis": "y"
        },
        {
         "hovertemplate": "<b>%{hovertext}</b><br><br>color=95<br>x=%{x}<br>y=%{y}<extra></extra>",
         "hovertext": [
          "Russell2000",
          "US_Consumer_Staples",
          "US_Consumer_Discretionary",
          "US_Tech_Sector",
          "Nasdaq100",
          "US_Industrials",
          "US_Homebuilders",
          "US_Communication_Services",
          "US_Real_Estate",
          "US_HealthCare_Sector",
          "US_Materials",
          "US_Utilities",
          "DowJones30",
          "S&P500_ETF"
         ],
         "legendgroup": "95",
         "marker": {
          "color": "#19d3f3",
          "line": {
           "color": "DarkSlateGrey",
           "width": 1
          },
          "size": 10,
          "symbol": "circle"
         },
         "mode": "markers",
         "name": "95",
         "orientation": "v",
         "showlegend": true,
         "type": "scatter",
         "x": {
          "bdata": "5PIpwebqK8Fz0CrBpyIqwTUVK8GXairBHa4qwbYYLMElUizBBaAqwXp9KsHY/irBeY8qwVaZKsE=",
          "dtype": "f4"
         },
         "xaxis": "x",
         "y": {
          "bdata": "VdoBQKoT9z9KV/k/7xr6P3ZX+D8VXgFAdnz+P02R+T+fivU/m0v/Pw8zAEAhNvo/k3j6P90QAEA=",
          "dtype": "f4"
         },
         "yaxis": "y"
        },
        {
         "hovertemplate": "<b>%{hovertext}</b><br><br>color=96<br>x=%{x}<br>y=%{y}<extra></extra>",
         "hovertext": [
          "GenderDiversity",
          "NVDA",
          "PANW",
          "AI_Infrastructure_Stack",
          "SupportIsrael"
         ],
         "legendgroup": "96",
         "marker": {
          "color": "#FF6692",
          "line": {
           "color": "DarkSlateGrey",
           "width": 1
          },
          "size": 10,
          "symbol": "circle"
         },
         "mode": "markers",
         "name": "96",
         "orientation": "v",
         "showlegend": true,
         "type": "scatter",
         "x": {
          "bdata": "mNIVwauUFcE40xTBc20VwWjOFcE=",
          "dtype": "f4"
         },
         "xaxis": "x",
         "y": {
          "bdata": "PK8uQPIALkDkUy1Ad+YvQBTTLEA=",
          "dtype": "f4"
         },
         "yaxis": "y"
        }
       ],
       "layout": {
        "height": 600,
        "legend": {
         "title": {
          "text": "color"
         },
         "tracegroupgap": 0
        },
        "template": {
         "data": {
          "bar": [
           {
            "error_x": {
             "color": "#2a3f5f"
            },
            "error_y": {
             "color": "#2a3f5f"
            },
            "marker": {
             "line": {
              "color": "#E5ECF6",
              "width": 0.5
             },
             "pattern": {
              "fillmode": "overlay",
              "size": 10,
              "solidity": 0.2
             }
            },
            "type": "bar"
           }
          ],
          "barpolar": [
           {
            "marker": {
             "line": {
              "color": "#E5ECF6",
              "width": 0.5
             },
             "pattern": {
              "fillmode": "overlay",
              "size": 10,
              "solidity": 0.2
             }
            },
            "type": "barpolar"
           }
          ],
          "carpet": [
           {
            "aaxis": {
             "endlinecolor": "#2a3f5f",
             "gridcolor": "white",
             "linecolor": "white",
             "minorgridcolor": "white",
             "startlinecolor": "#2a3f5f"
            },
            "baxis": {
             "endlinecolor": "#2a3f5f",
             "gridcolor": "white",
             "linecolor": "white",
             "minorgridcolor": "white",
             "startlinecolor": "#2a3f5f"
            },
            "type": "carpet"
           }
          ],
          "choropleth": [
           {
            "colorbar": {
             "outlinewidth": 0,
             "ticks": ""
            },
            "type": "choropleth"
           }
          ],
          "contour": [
           {
            "colorbar": {
             "outlinewidth": 0,
             "ticks": ""
            },
            "colorscale": [
             [
              0,
              "#0d0887"
             ],
             [
              0.1111111111111111,
              "#46039f"
             ],
             [
              0.2222222222222222,
              "#7201a8"
             ],
             [
              0.3333333333333333,
              "#9c179e"
             ],
             [
              0.4444444444444444,
              "#bd3786"
             ],
             [
              0.5555555555555556,
              "#d8576b"
             ],
             [
              0.6666666666666666,
              "#ed7953"
             ],
             [
              0.7777777777777778,
              "#fb9f3a"
             ],
             [
              0.8888888888888888,
              "#fdca26"
             ],
             [
              1,
              "#f0f921"
             ]
            ],
            "type": "contour"
           }
          ],
          "contourcarpet": [
           {
            "colorbar": {
             "outlinewidth": 0,
             "ticks": ""
            },
            "type": "contourcarpet"
           }
          ],
          "heatmap": [
           {
            "colorbar": {
             "outlinewidth": 0,
             "ticks": ""
            },
            "colorscale": [
             [
              0,
              "#0d0887"
             ],
             [
              0.1111111111111111,
              "#46039f"
             ],
             [
              0.2222222222222222,
              "#7201a8"
             ],
             [
              0.3333333333333333,
              "#9c179e"
             ],
             [
              0.4444444444444444,
              "#bd3786"
             ],
             [
              0.5555555555555556,
              "#d8576b"
             ],
             [
              0.6666666666666666,
              "#ed7953"
             ],
             [
              0.7777777777777778,
              "#fb9f3a"
             ],
             [
              0.8888888888888888,
              "#fdca26"
             ],
             [
              1,
              "#f0f921"
             ]
            ],
            "type": "heatmap"
           }
          ],
          "histogram": [
           {
            "marker": {
             "pattern": {
              "fillmode": "overlay",
              "size": 10,
              "solidity": 0.2
             }
            },
            "type": "histogram"
           }
          ],
          "histogram2d": [
           {
            "colorbar": {
             "outlinewidth": 0,
             "ticks": ""
            },
            "colorscale": [
             [
              0,
              "#0d0887"
             ],
             [
              0.1111111111111111,
              "#46039f"
             ],
             [
              0.2222222222222222,
              "#7201a8"
             ],
             [
              0.3333333333333333,
              "#9c179e"
             ],
             [
              0.4444444444444444,
              "#bd3786"
             ],
             [
              0.5555555555555556,
              "#d8576b"
             ],
             [
              0.6666666666666666,
              "#ed7953"
             ],
             [
              0.7777777777777778,
              "#fb9f3a"
             ],
             [
              0.8888888888888888,
              "#fdca26"
             ],
             [
              1,
              "#f0f921"
             ]
            ],
            "type": "histogram2d"
           }
          ],
          "histogram2dcontour": [
           {
            "colorbar": {
             "outlinewidth": 0,
             "ticks": ""
            },
            "colorscale": [
             [
              0,
              "#0d0887"
             ],
             [
              0.1111111111111111,
              "#46039f"
             ],
             [
              0.2222222222222222,
              "#7201a8"
             ],
             [
              0.3333333333333333,
              "#9c179e"
             ],
             [
              0.4444444444444444,
              "#bd3786"
             ],
             [
              0.5555555555555556,
              "#d8576b"
             ],
             [
              0.6666666666666666,
              "#ed7953"
             ],
             [
              0.7777777777777778,
              "#fb9f3a"
             ],
             [
              0.8888888888888888,
              "#fdca26"
             ],
             [
              1,
              "#f0f921"
             ]
            ],
            "type": "histogram2dcontour"
           }
          ],
          "mesh3d": [
           {
            "colorbar": {
             "outlinewidth": 0,
             "ticks": ""
            },
            "type": "mesh3d"
           }
          ],
          "parcoords": [
           {
            "line": {
             "colorbar": {
              "outlinewidth": 0,
              "ticks": ""
             }
            },
            "type": "parcoords"
           }
          ],
          "pie": [
           {
            "automargin": true,
            "type": "pie"
           }
          ],
          "scatter": [
           {
            "fillpattern": {
             "fillmode": "overlay",
             "size": 10,
             "solidity": 0.2
            },
            "type": "scatter"
           }
          ],
          "scatter3d": [
           {
            "line": {
             "colorbar": {
              "outlinewidth": 0,
              "ticks": ""
             }
            },
            "marker": {
             "colorbar": {
              "outlinewidth": 0,
              "ticks": ""
             }
            },
            "type": "scatter3d"
           }
          ],
          "scattercarpet": [
           {
            "marker": {
             "colorbar": {
              "outlinewidth": 0,
              "ticks": ""
             }
            },
            "type": "scattercarpet"
           }
          ],
          "scattergeo": [
           {
            "marker": {
             "colorbar": {
              "outlinewidth": 0,
              "ticks": ""
             }
            },
            "type": "scattergeo"
           }
          ],
          "scattergl": [
           {
            "marker": {
             "colorbar": {
              "outlinewidth": 0,
              "ticks": ""
             }
            },
            "type": "scattergl"
           }
          ],
          "scattermap": [
           {
            "marker": {
             "colorbar": {
              "outlinewidth": 0,
              "ticks": ""
             }
            },
            "type": "scattermap"
           }
          ],
          "scattermapbox": [
           {
            "marker": {
             "colorbar": {
              "outlinewidth": 0,
              "ticks": ""
             }
            },
            "type": "scattermapbox"
           }
          ],
          "scatterpolar": [
           {
            "marker": {
             "colorbar": {
              "outlinewidth": 0,
              "ticks": ""
             }
            },
            "type": "scatterpolar"
           }
          ],
          "scatterpolargl": [
           {
            "marker": {
             "colorbar": {
              "outlinewidth": 0,
              "ticks": ""
             }
            },
            "type": "scatterpolargl"
           }
          ],
          "scatterternary": [
           {
            "marker": {
             "colorbar": {
              "outlinewidth": 0,
              "ticks": ""
             }
            },
            "type": "scatterternary"
           }
          ],
          "surface": [
           {
            "colorbar": {
             "outlinewidth": 0,
             "ticks": ""
            },
            "colorscale": [
             [
              0,
              "#0d0887"
             ],
             [
              0.1111111111111111,
              "#46039f"
             ],
             [
              0.2222222222222222,
              "#7201a8"
             ],
             [
              0.3333333333333333,
              "#9c179e"
             ],
             [
              0.4444444444444444,
              "#bd3786"
             ],
             [
              0.5555555555555556,
              "#d8576b"
             ],
             [
              0.6666666666666666,
              "#ed7953"
             ],
             [
              0.7777777777777778,
              "#fb9f3a"
             ],
             [
              0.8888888888888888,
              "#fdca26"
             ],
             [
              1,
              "#f0f921"
             ]
            ],
            "type": "surface"
           }
          ],
          "table": [
           {
            "cells": {
             "fill": {
              "color": "#EBF0F8"
             },
             "line": {
              "color": "white"
             }
            },
            "header": {
             "fill": {
              "color": "#C8D4E3"
             },
             "line": {
              "color": "white"
             }
            },
            "type": "table"
           }
          ]
         },
         "layout": {
          "annotationdefaults": {
           "arrowcolor": "#2a3f5f",
           "arrowhead": 0,
           "arrowwidth": 1
          },
          "autotypenumbers": "strict",
          "coloraxis": {
           "colorbar": {
            "outlinewidth": 0,
            "ticks": ""
           }
          },
          "colorscale": {
           "diverging": [
            [
             0,
             "#8e0152"
            ],
            [
             0.1,
             "#c51b7d"
            ],
            [
             0.2,
             "#de77ae"
            ],
            [
             0.3,
             "#f1b6da"
            ],
            [
             0.4,
             "#fde0ef"
            ],
            [
             0.5,
             "#f7f7f7"
            ],
            [
             0.6,
             "#e6f5d0"
            ],
            [
             0.7,
             "#b8e186"
            ],
            [
             0.8,
             "#7fbc41"
            ],
            [
             0.9,
             "#4d9221"
            ],
            [
             1,
             "#276419"
            ]
           ],
           "sequential": [
            [
             0,
             "#0d0887"
            ],
            [
             0.1111111111111111,
             "#46039f"
            ],
            [
             0.2222222222222222,
             "#7201a8"
            ],
            [
             0.3333333333333333,
             "#9c179e"
            ],
            [
             0.4444444444444444,
             "#bd3786"
            ],
            [
             0.5555555555555556,
             "#d8576b"
            ],
            [
             0.6666666666666666,
             "#ed7953"
            ],
            [
             0.7777777777777778,
             "#fb9f3a"
            ],
            [
             0.8888888888888888,
             "#fdca26"
            ],
            [
             1,
             "#f0f921"
            ]
           ],
           "sequentialminus": [
            [
             0,
             "#0d0887"
            ],
            [
             0.1111111111111111,
             "#46039f"
            ],
            [
             0.2222222222222222,
             "#7201a8"
            ],
            [
             0.3333333333333333,
             "#9c179e"
            ],
            [
             0.4444444444444444,
             "#bd3786"
            ],
            [
             0.5555555555555556,
             "#d8576b"
            ],
            [
             0.6666666666666666,
             "#ed7953"
            ],
            [
             0.7777777777777778,
             "#fb9f3a"
            ],
            [
             0.8888888888888888,
             "#fdca26"
            ],
            [
             1,
             "#f0f921"
            ]
           ]
          },
          "colorway": [
           "#636efa",
           "#EF553B",
           "#00cc96",
           "#ab63fa",
           "#FFA15A",
           "#19d3f3",
           "#FF6692",
           "#B6E880",
           "#FF97FF",
           "#FECB52"
          ],
          "font": {
           "color": "#2a3f5f"
          },
          "geo": {
           "bgcolor": "white",
           "lakecolor": "white",
           "landcolor": "#E5ECF6",
           "showlakes": true,
           "showland": true,
           "subunitcolor": "white"
          },
          "hoverlabel": {
           "align": "left"
          },
          "hovermode": "closest",
          "mapbox": {
           "style": "light"
          },
          "paper_bgcolor": "white",
          "plot_bgcolor": "#E5ECF6",
          "polar": {
           "angularaxis": {
            "gridcolor": "white",
            "linecolor": "white",
            "ticks": ""
           },
           "bgcolor": "#E5ECF6",
           "radialaxis": {
            "gridcolor": "white",
            "linecolor": "white",
            "ticks": ""
           }
          },
          "scene": {
           "xaxis": {
            "backgroundcolor": "#E5ECF6",
            "gridcolor": "white",
            "gridwidth": 2,
            "linecolor": "white",
            "showbackground": true,
            "ticks": "",
            "zerolinecolor": "white"
           },
           "yaxis": {
            "backgroundcolor": "#E5ECF6",
            "gridcolor": "white",
            "gridwidth": 2,
            "linecolor": "white",
            "showbackground": true,
            "ticks": "",
            "zerolinecolor": "white"
           },
           "zaxis": {
            "backgroundcolor": "#E5ECF6",
            "gridcolor": "white",
            "gridwidth": 2,
            "linecolor": "white",
            "showbackground": true,
            "ticks": "",
            "zerolinecolor": "white"
           }
          },
          "shapedefaults": {
           "line": {
            "color": "#2a3f5f"
           }
          },
          "ternary": {
           "aaxis": {
            "gridcolor": "white",
            "linecolor": "white",
            "ticks": ""
           },
           "baxis": {
            "gridcolor": "white",
            "linecolor": "white",
            "ticks": ""
           },
           "bgcolor": "#E5ECF6",
           "caxis": {
            "gridcolor": "white",
            "linecolor": "white",
            "ticks": ""
           }
          },
          "title": {
           "x": 0.05
          },
          "xaxis": {
           "automargin": true,
           "gridcolor": "white",
           "linecolor": "white",
           "ticks": "",
           "title": {
            "standoff": 15
           },
           "zerolinecolor": "white",
           "zerolinewidth": 2
          },
          "yaxis": {
           "automargin": true,
           "gridcolor": "white",
           "linecolor": "white",
           "ticks": "",
           "title": {
            "standoff": 15
           },
           "zerolinecolor": "white",
           "zerolinewidth": 2
          }
         }
        },
        "title": {
         "text": "Soft-DTW Time Series Clustering (UMAP visualization)"
        },
        "width": 600,
        "xaxis": {
         "anchor": "y",
         "domain": [
          0,
          1
         ],
         "title": {
          "text": "x"
         }
        },
        "yaxis": {
         "anchor": "x",
         "domain": [
          0,
          1
         ],
         "title": {
          "text": "y"
         }
        }
       }
      }
     },
     "metadata": {},
     "output_type": "display_data"
    }
   ],
   "source": [
    "mask = labels != -1\n",
    "\n",
    "fig = px.scatter(\n",
    "    x=X_embedded[mask, 0],\n",
    "    y=X_embedded[mask, 1],\n",
    "    color=labels[mask].astype(str),\n",
    "    hover_name=[unified.index[i] for i in np.where(mask)[0]],\n",
    "    title=\"Soft-DTW Time Series Clustering (UMAP visualization)\",\n",
    "    width=600,\n",
    "    height=600\n",
    ")\n",
    "fig.update_traces(marker=dict(size=10, line=dict(width=1, color='DarkSlateGrey')))\n",
    "fig.show()"
   ]
  },
  {
   "cell_type": "code",
   "execution_count": 39,
   "id": "58026e33",
   "metadata": {},
   "outputs": [],
   "source": [
    "# map labels to original indices in unified\n",
    "label_map = {unified.index[i]: labels[i] for i in range(len(labels))}\n",
    "label_series = pd.Series(label_map)\n",
    "label_series = label_series[label_series != -1]  # remove outliers\n",
    "label_series.sort_values().to_csv(PROCESSED_DATA / \"cluster_labels.csv\", header=[\"cluster\"])"
   ]
  },
  {
   "cell_type": "code",
   "execution_count": 40,
   "id": "f4d2912d",
   "metadata": {},
   "outputs": [],
   "source": [
    "# make a json with cluster to list of items\n",
    "cluster_map = {}\n",
    "for idx, cluster in label_series.items():\n",
    "    if cluster not in cluster_map:\n",
    "        cluster_map[cluster] = []\n",
    "    cluster_map[cluster].append(idx)\n",
    "import json\n",
    "with open(PROCESSED_DATA / \"clusters.json\", \"w\") as f:\n",
    "    json.dump(cluster_map, f, indent=4)\n",
    "    "
   ]
  },
  {
   "cell_type": "code",
   "execution_count": 41,
   "id": "049de42b",
   "metadata": {},
   "outputs": [],
   "source": [
    "with open(PROCESSED_DATA / 'cluster_GPT.json') as f:\n",
    "    gpt_clusters = json.load(f)\n"
   ]
  },
  {
   "cell_type": "code",
   "execution_count": 50,
   "id": "04f1c026",
   "metadata": {},
   "outputs": [],
   "source": [
    "clusters = list(gpt_clusters.keys())\n",
    "from typing import Dict, Optional\n",
    "from dataclasses import dataclass\n",
    "\n",
    "@dataclass\n",
    "class ClusterInfo:\n",
    "    name: str\n",
    "    description: str\n",
    "    scores: Dict[str, float]\n",
    "    coherence: float\n",
    "\n",
    "\n",
    "cluster_infos = []\n",
    "for cluster in clusters:\n",
    "    info = gpt_clusters[cluster]\n",
    "    cluster_infos.append(ClusterInfo(\n",
    "        name=cluster,\n",
    "        description=info[\"description\"],\n",
    "        scores=info[\"scores\"],\n",
    "        coherence=info[\"coherence\"]\n",
    "    ))"
   ]
  },
  {
   "cell_type": "code",
   "execution_count": null,
   "id": "966efbaf",
   "metadata": {},
   "outputs": [
    {
     "data": {
      "text/plain": [
       "Text(0.5, 0, 'Coherence Score')"
      ]
     },
     "execution_count": 52,
     "metadata": {},
     "output_type": "execute_result"
    },
    {
     "data": {
      "image/png": "[encoded data removed]",
      "text/plain": [
       "<Figure size 640x480 with 1 Axes>"
      ]
     },
     "metadata": {},
     "output_type": "display_data"
    }
   ],
   "source": [
    "coherence_scores = [info.coherence for info in cluster_infos]\n",
    "import matplotlib.pyplot as plt\n",
    "plt.hist(coherence_scores, bins=20)\n",
    "plt.xlabel(\"Coherence Score\")\n",
    "c"
   ]
  },
  {
   "cell_type": "code",
   "execution_count": 53,
   "id": "8d42c366",
   "metadata": {},
   "outputs": [
    {
     "data": {
      "text/html": [
       "<div>\n",
       "<style scoped>\n",
       "    .dataframe tbody tr th:only-of-type {\n",
       "        vertical-align: middle;\n",
       "    }\n",
       "\n",
       "    .dataframe tbody tr th {\n",
       "        vertical-align: top;\n",
       "    }\n",
       "\n",
       "    .dataframe thead th {\n",
       "        text-align: right;\n",
       "    }\n",
       "</style>\n",
       "<table border=\"1\" class=\"dataframe\">\n",
       "  <thead>\n",
       "    <tr style=\"text-align: right;\">\n",
       "      <th></th>\n",
       "      <th>ISRG</th>\n",
       "      <th>RSX</th>\n",
       "      <th>US_Transportation</th>\n",
       "      <th>Russell2000</th>\n",
       "      <th>US_Biotech</th>\n",
       "      <th>Google</th>\n",
       "      <th>V</th>\n",
       "      <th>US_Consumer_Staples</th>\n",
       "      <th>US_Consumer_Discretionary</th>\n",
       "      <th>BAC</th>\n",
       "      <th>...</th>\n",
       "      <th>MA</th>\n",
       "      <th>SLB</th>\n",
       "      <th>AAPL</th>\n",
       "      <th>HydrogenCCS</th>\n",
       "      <th>SAP</th>\n",
       "      <th>ASML</th>\n",
       "      <th>JNJ</th>\n",
       "      <th>CRM</th>\n",
       "      <th>CleanWater</th>\n",
       "      <th>BLK</th>\n",
       "    </tr>\n",
       "    <tr>\n",
       "      <th>date</th>\n",
       "      <th></th>\n",
       "      <th></th>\n",
       "      <th></th>\n",
       "      <th></th>\n",
       "      <th></th>\n",
       "      <th></th>\n",
       "      <th></th>\n",
       "      <th></th>\n",
       "      <th></th>\n",
       "      <th></th>\n",
       "      <th></th>\n",
       "      <th></th>\n",
       "      <th></th>\n",
       "      <th></th>\n",
       "      <th></th>\n",
       "      <th></th>\n",
       "      <th></th>\n",
       "      <th></th>\n",
       "      <th></th>\n",
       "      <th></th>\n",
       "      <th></th>\n",
       "    </tr>\n",
       "  </thead>\n",
       "  <tbody>\n",
       "    <tr>\n",
       "      <th>2020-09-05</th>\n",
       "      <td>0.000398</td>\n",
       "      <td>0.000957</td>\n",
       "      <td>0.000435</td>\n",
       "      <td>0.000413</td>\n",
       "      <td>0.000524</td>\n",
       "      <td>0.000332</td>\n",
       "      <td>0.000455</td>\n",
       "      <td>0.000462</td>\n",
       "      <td>0.000460</td>\n",
       "      <td>0.000378</td>\n",
       "      <td>...</td>\n",
       "      <td>0.000456</td>\n",
       "      <td>0.000252</td>\n",
       "      <td>0.000384</td>\n",
       "      <td>0.000382</td>\n",
       "      <td>0.000529</td>\n",
       "      <td>0.000292</td>\n",
       "      <td>0.000483</td>\n",
       "      <td>0.000598</td>\n",
       "      <td>0.000439</td>\n",
       "      <td>0.000376</td>\n",
       "    </tr>\n",
       "    <tr>\n",
       "      <th>2020-09-06</th>\n",
       "      <td>0.000393</td>\n",
       "      <td>0.000948</td>\n",
       "      <td>0.000434</td>\n",
       "      <td>0.000411</td>\n",
       "      <td>0.000522</td>\n",
       "      <td>0.000329</td>\n",
       "      <td>0.000452</td>\n",
       "      <td>0.000459</td>\n",
       "      <td>0.000459</td>\n",
       "      <td>0.000374</td>\n",
       "      <td>...</td>\n",
       "      <td>0.000454</td>\n",
       "      <td>0.000249</td>\n",
       "      <td>0.000377</td>\n",
       "      <td>0.000381</td>\n",
       "      <td>0.000525</td>\n",
       "      <td>0.000288</td>\n",
       "      <td>0.000482</td>\n",
       "      <td>0.000590</td>\n",
       "      <td>0.000437</td>\n",
       "      <td>0.000374</td>\n",
       "    </tr>\n",
       "    <tr>\n",
       "      <th>2020-09-07</th>\n",
       "      <td>0.000387</td>\n",
       "      <td>0.000940</td>\n",
       "      <td>0.000432</td>\n",
       "      <td>0.000409</td>\n",
       "      <td>0.000519</td>\n",
       "      <td>0.000326</td>\n",
       "      <td>0.000450</td>\n",
       "      <td>0.000457</td>\n",
       "      <td>0.000457</td>\n",
       "      <td>0.000370</td>\n",
       "      <td>...</td>\n",
       "      <td>0.000453</td>\n",
       "      <td>0.000246</td>\n",
       "      <td>0.000371</td>\n",
       "      <td>0.000380</td>\n",
       "      <td>0.000521</td>\n",
       "      <td>0.000284</td>\n",
       "      <td>0.000481</td>\n",
       "      <td>0.000582</td>\n",
       "      <td>0.000435</td>\n",
       "      <td>0.000372</td>\n",
       "    </tr>\n",
       "    <tr>\n",
       "      <th>2020-09-12</th>\n",
       "      <td>0.000388</td>\n",
       "      <td>0.000954</td>\n",
       "      <td>0.000440</td>\n",
       "      <td>0.000409</td>\n",
       "      <td>0.000530</td>\n",
       "      <td>0.000320</td>\n",
       "      <td>0.000452</td>\n",
       "      <td>0.000459</td>\n",
       "      <td>0.000460</td>\n",
       "      <td>0.000368</td>\n",
       "      <td>...</td>\n",
       "      <td>0.000455</td>\n",
       "      <td>0.000237</td>\n",
       "      <td>0.000365</td>\n",
       "      <td>0.000383</td>\n",
       "      <td>0.000534</td>\n",
       "      <td>0.000292</td>\n",
       "      <td>0.000482</td>\n",
       "      <td>0.000581</td>\n",
       "      <td>0.000445</td>\n",
       "      <td>0.000364</td>\n",
       "    </tr>\n",
       "    <tr>\n",
       "      <th>2020-09-13</th>\n",
       "      <td>0.000391</td>\n",
       "      <td>0.000958</td>\n",
       "      <td>0.000442</td>\n",
       "      <td>0.000413</td>\n",
       "      <td>0.000539</td>\n",
       "      <td>0.000320</td>\n",
       "      <td>0.000455</td>\n",
       "      <td>0.000460</td>\n",
       "      <td>0.000462</td>\n",
       "      <td>0.000369</td>\n",
       "      <td>...</td>\n",
       "      <td>0.000459</td>\n",
       "      <td>0.000238</td>\n",
       "      <td>0.000369</td>\n",
       "      <td>0.000386</td>\n",
       "      <td>0.000536</td>\n",
       "      <td>0.000294</td>\n",
       "      <td>0.000483</td>\n",
       "      <td>0.000584</td>\n",
       "      <td>0.000446</td>\n",
       "      <td>0.000365</td>\n",
       "    </tr>\n",
       "    <tr>\n",
       "      <th>...</th>\n",
       "      <td>...</td>\n",
       "      <td>...</td>\n",
       "      <td>...</td>\n",
       "      <td>...</td>\n",
       "      <td>...</td>\n",
       "      <td>...</td>\n",
       "      <td>...</td>\n",
       "      <td>...</td>\n",
       "      <td>...</td>\n",
       "      <td>...</td>\n",
       "      <td>...</td>\n",
       "      <td>...</td>\n",
       "      <td>...</td>\n",
       "      <td>...</td>\n",
       "      <td>...</td>\n",
       "      <td>...</td>\n",
       "      <td>...</td>\n",
       "      <td>...</td>\n",
       "      <td>...</td>\n",
       "      <td>...</td>\n",
       "      <td>...</td>\n",
       "    </tr>\n",
       "    <tr>\n",
       "      <th>2025-07-23</th>\n",
       "      <td>0.000827</td>\n",
       "      <td>0.000305</td>\n",
       "      <td>0.000662</td>\n",
       "      <td>0.000656</td>\n",
       "      <td>0.000559</td>\n",
       "      <td>0.000810</td>\n",
       "      <td>0.000821</td>\n",
       "      <td>0.000659</td>\n",
       "      <td>0.000741</td>\n",
       "      <td>0.000777</td>\n",
       "      <td>...</td>\n",
       "      <td>0.000790</td>\n",
       "      <td>0.000512</td>\n",
       "      <td>0.000710</td>\n",
       "      <td>0.000492</td>\n",
       "      <td>0.001055</td>\n",
       "      <td>0.000599</td>\n",
       "      <td>0.000631</td>\n",
       "      <td>0.000642</td>\n",
       "      <td>0.000574</td>\n",
       "      <td>0.000843</td>\n",
       "    </tr>\n",
       "    <tr>\n",
       "      <th>2025-07-24</th>\n",
       "      <td>0.000805</td>\n",
       "      <td>0.000305</td>\n",
       "      <td>0.000654</td>\n",
       "      <td>0.000647</td>\n",
       "      <td>0.000559</td>\n",
       "      <td>0.000819</td>\n",
       "      <td>0.000818</td>\n",
       "      <td>0.000657</td>\n",
       "      <td>0.000728</td>\n",
       "      <td>0.000781</td>\n",
       "      <td>...</td>\n",
       "      <td>0.000792</td>\n",
       "      <td>0.000513</td>\n",
       "      <td>0.000709</td>\n",
       "      <td>0.000492</td>\n",
       "      <td>0.001039</td>\n",
       "      <td>0.000606</td>\n",
       "      <td>0.000633</td>\n",
       "      <td>0.000643</td>\n",
       "      <td>0.000575</td>\n",
       "      <td>0.000841</td>\n",
       "    </tr>\n",
       "    <tr>\n",
       "      <th>2025-07-25</th>\n",
       "      <td>0.000817</td>\n",
       "      <td>0.000305</td>\n",
       "      <td>0.000661</td>\n",
       "      <td>0.000649</td>\n",
       "      <td>0.000559</td>\n",
       "      <td>0.000823</td>\n",
       "      <td>0.000825</td>\n",
       "      <td>0.000658</td>\n",
       "      <td>0.000735</td>\n",
       "      <td>0.000782</td>\n",
       "      <td>...</td>\n",
       "      <td>0.000799</td>\n",
       "      <td>0.000517</td>\n",
       "      <td>0.000709</td>\n",
       "      <td>0.000500</td>\n",
       "      <td>0.001046</td>\n",
       "      <td>0.000594</td>\n",
       "      <td>0.000628</td>\n",
       "      <td>0.000646</td>\n",
       "      <td>0.000579</td>\n",
       "      <td>0.000845</td>\n",
       "    </tr>\n",
       "    <tr>\n",
       "      <th>2025-07-26</th>\n",
       "      <td>0.000816</td>\n",
       "      <td>0.000305</td>\n",
       "      <td>0.000661</td>\n",
       "      <td>0.000649</td>\n",
       "      <td>0.000557</td>\n",
       "      <td>0.000822</td>\n",
       "      <td>0.000824</td>\n",
       "      <td>0.000656</td>\n",
       "      <td>0.000736</td>\n",
       "      <td>0.000781</td>\n",
       "      <td>...</td>\n",
       "      <td>0.000799</td>\n",
       "      <td>0.000519</td>\n",
       "      <td>0.000709</td>\n",
       "      <td>0.000499</td>\n",
       "      <td>0.001039</td>\n",
       "      <td>0.000600</td>\n",
       "      <td>0.000626</td>\n",
       "      <td>0.000647</td>\n",
       "      <td>0.000578</td>\n",
       "      <td>0.000843</td>\n",
       "    </tr>\n",
       "    <tr>\n",
       "      <th>2025-07-27</th>\n",
       "      <td>0.000815</td>\n",
       "      <td>0.000305</td>\n",
       "      <td>0.000660</td>\n",
       "      <td>0.000649</td>\n",
       "      <td>0.000555</td>\n",
       "      <td>0.000821</td>\n",
       "      <td>0.000823</td>\n",
       "      <td>0.000654</td>\n",
       "      <td>0.000738</td>\n",
       "      <td>0.000780</td>\n",
       "      <td>...</td>\n",
       "      <td>0.000799</td>\n",
       "      <td>0.000522</td>\n",
       "      <td>0.000709</td>\n",
       "      <td>0.000497</td>\n",
       "      <td>0.001032</td>\n",
       "      <td>0.000605</td>\n",
       "      <td>0.000623</td>\n",
       "      <td>0.000648</td>\n",
       "      <td>0.000576</td>\n",
       "      <td>0.000842</td>\n",
       "    </tr>\n",
       "  </tbody>\n",
       "</table>\n",
       "<p>1781 rows × 92 columns</p>\n",
       "</div>"
      ],
      "text/plain": [
       "                ISRG       RSX  US_Transportation  Russell2000  US_Biotech  \\\n",
       "date                                                                         \n",
       "2020-09-05  0.000398  0.000957           0.000435     0.000413    0.000524   \n",
       "2020-09-06  0.000393  0.000948           0.000434     0.000411    0.000522   \n",
       "2020-09-07  0.000387  0.000940           0.000432     0.000409    0.000519   \n",
       "2020-09-12  0.000388  0.000954           0.000440     0.000409    0.000530   \n",
       "2020-09-13  0.000391  0.000958           0.000442     0.000413    0.000539   \n",
       "...              ...       ...                ...          ...         ...   \n",
       "2025-07-23  0.000827  0.000305           0.000662     0.000656    0.000559   \n",
       "2025-07-24  0.000805  0.000305           0.000654     0.000647    0.000559   \n",
       "2025-07-25  0.000817  0.000305           0.000661     0.000649    0.000559   \n",
       "2025-07-26  0.000816  0.000305           0.000661     0.000649    0.000557   \n",
       "2025-07-27  0.000815  0.000305           0.000660     0.000649    0.000555   \n",
       "\n",
       "              Google         V  US_Consumer_Staples  \\\n",
       "date                                                  \n",
       "2020-09-05  0.000332  0.000455             0.000462   \n",
       "2020-09-06  0.000329  0.000452             0.000459   \n",
       "2020-09-07  0.000326  0.000450             0.000457   \n",
       "2020-09-12  0.000320  0.000452             0.000459   \n",
       "2020-09-13  0.000320  0.000455             0.000460   \n",
       "...              ...       ...                  ...   \n",
       "2025-07-23  0.000810  0.000821             0.000659   \n",
       "2025-07-24  0.000819  0.000818             0.000657   \n",
       "2025-07-25  0.000823  0.000825             0.000658   \n",
       "2025-07-26  0.000822  0.000824             0.000656   \n",
       "2025-07-27  0.000821  0.000823             0.000654   \n",
       "\n",
       "            US_Consumer_Discretionary       BAC  ...        MA       SLB  \\\n",
       "date                                             ...                       \n",
       "2020-09-05                   0.000460  0.000378  ...  0.000456  0.000252   \n",
       "2020-09-06                   0.000459  0.000374  ...  0.000454  0.000249   \n",
       "2020-09-07                   0.000457  0.000370  ...  0.000453  0.000246   \n",
       "2020-09-12                   0.000460  0.000368  ...  0.000455  0.000237   \n",
       "2020-09-13                   0.000462  0.000369  ...  0.000459  0.000238   \n",
       "...                               ...       ...  ...       ...       ...   \n",
       "2025-07-23                   0.000741  0.000777  ...  0.000790  0.000512   \n",
       "2025-07-24                   0.000728  0.000781  ...  0.000792  0.000513   \n",
       "2025-07-25                   0.000735  0.000782  ...  0.000799  0.000517   \n",
       "2025-07-26                   0.000736  0.000781  ...  0.000799  0.000519   \n",
       "2025-07-27                   0.000738  0.000780  ...  0.000799  0.000522   \n",
       "\n",
       "                AAPL  HydrogenCCS       SAP      ASML       JNJ       CRM  \\\n",
       "date                                                                        \n",
       "2020-09-05  0.000384     0.000382  0.000529  0.000292  0.000483  0.000598   \n",
       "2020-09-06  0.000377     0.000381  0.000525  0.000288  0.000482  0.000590   \n",
       "2020-09-07  0.000371     0.000380  0.000521  0.000284  0.000481  0.000582   \n",
       "2020-09-12  0.000365     0.000383  0.000534  0.000292  0.000482  0.000581   \n",
       "2020-09-13  0.000369     0.000386  0.000536  0.000294  0.000483  0.000584   \n",
       "...              ...          ...       ...       ...       ...       ...   \n",
       "2025-07-23  0.000710     0.000492  0.001055  0.000599  0.000631  0.000642   \n",
       "2025-07-24  0.000709     0.000492  0.001039  0.000606  0.000633  0.000643   \n",
       "2025-07-25  0.000709     0.000500  0.001046  0.000594  0.000628  0.000646   \n",
       "2025-07-26  0.000709     0.000499  0.001039  0.000600  0.000626  0.000647   \n",
       "2025-07-27  0.000709     0.000497  0.001032  0.000605  0.000623  0.000648   \n",
       "\n",
       "            CleanWater       BLK  \n",
       "date                              \n",
       "2020-09-05    0.000439  0.000376  \n",
       "2020-09-06    0.000437  0.000374  \n",
       "2020-09-07    0.000435  0.000372  \n",
       "2020-09-12    0.000445  0.000364  \n",
       "2020-09-13    0.000446  0.000365  \n",
       "...                ...       ...  \n",
       "2025-07-23    0.000574  0.000843  \n",
       "2025-07-24    0.000575  0.000841  \n",
       "2025-07-25    0.000579  0.000845  \n",
       "2025-07-26    0.000578  0.000843  \n",
       "2025-07-27    0.000576  0.000842  \n",
       "\n",
       "[1781 rows x 92 columns]"
      ]
     },
     "execution_count": 53,
     "metadata": {},
     "output_type": "execute_result"
    }
   ],
   "source": [
    "prices"
   ]
  },
  {
   "cell_type": "code",
   "execution_count": 63,
   "id": "a4f1dc81",
   "metadata": {},
   "outputs": [
    {
     "data": {
      "text/plain": [
       "(92, 2)"
      ]
     },
     "execution_count": 63,
     "metadata": {},
     "output_type": "execute_result"
    }
   ],
   "source": [
    "X_embedded.shape"
   ]
  },
  {
   "cell_type": "code",
   "execution_count": 80,
   "id": "e17a605d",
   "metadata": {},
   "outputs": [
    {
     "name": "stderr",
     "output_type": "stream",
     "text": [
      "/Users/ronraisch/miniforge3/envs/needle/lib/python3.10/site-packages/umap/umap_.py:1952: UserWarning:\n",
      "\n",
      "n_jobs value 1 overridden to 1 by setting random_state. Use no seed for parallelism.\n",
      "\n"
     ]
    },
    {
     "data": {
      "text/plain": [
       "0    23\n",
       "1    38\n",
       "2    20\n",
       "3     5\n",
       "4     6\n",
       "dtype: int64"
      ]
     },
     "execution_count": 80,
     "metadata": {},
     "output_type": "execute_result"
    }
   ],
   "source": [
    "reducer = umap.UMAP(n_neighbors=5, min_dist=0.1, random_state=0)\n",
    "X_embedded = reducer.fit_transform(prices.T)\n",
    "\n",
    "dbscan = DBSCAN(eps=0.8, min_samples=5)\n",
    "labels = dbscan.fit_predict(X_embedded)\n",
    "count = np.unique(labels, return_counts=True)\n",
    "pd.Series(count[1], index=count[0]).sort_index()"
   ]
  },
  {
   "cell_type": "code",
   "execution_count": null,
   "id": "aac3ef0b",
   "metadata": {},
   "outputs": [],
   "source": []
  },
  {
   "cell_type": "code",
   "execution_count": 83,
   "id": "af5be757",
   "metadata": {},
   "outputs": [
    {
     "data": {
      "application/vnd.plotly.v1+json": {
       "config": {
        "plotlyServerURL": "https://plot.ly"
       },
       "data": [
        {
         "hovertemplate": "<b>%{hovertext}</b><br><br>color=0<br>x=%{x}<br>y=%{y}<extra></extra>",
         "hovertext": [
          "ISRG",
          "NOW",
          "LLY",
          "COST",
          "BKNG",
          "TSM",
          "ORCL",
          "UBER",
          "Rebuilding_America_Grid_Chips",
          "GenderDiversity",
          "NVDA",
          "IBM",
          "AIEthics",
          "GS",
          "PANW",
          "AI_Infrastructure_Stack",
          "NFLX",
          "JPM",
          "META",
          "CRWD",
          "AVGO",
          "SupportIsrael",
          "SAP"
         ],
         "legendgroup": "0",
         "marker": {
          "color": "#636efa",
          "line": {
           "color": "DarkSlateGrey",
           "width": 1
          },
          "size": 10,
          "symbol": "circle"
         },
         "mode": "markers",
         "name": "0",
         "orientation": "v",
         "showlegend": true,
         "type": "scatter",
         "x": {
          "bdata": "FGjoQEcP4UAprQZBQc4FQUCvAkEoTPVAd3kIQUYd7kD2ngpB0loMQXraCkH/cf9A9j3kQIGA60C3HglBt9kGQVonAkF/MfVA/3QEQXY590DlqAxBcmcJQZ3KAUE=",
          "dtype": "f4"
         },
         "xaxis": "x",
         "y": {
          "bdata": "2cwnQPRJQkCaZRc/zmOiPzFJ/j99JS1ADzHNPz1sP0C7FZE/HG19P6+h9j4L8uc/mEk2QBrzFkDkkYA/82kbPwY4KEB50AxACwIoQFJEMUDOSf4+UExMPyR0HUA=",
          "dtype": "f4"
         },
         "yaxis": "y"
        },
        {
         "hovertemplate": "<b>%{hovertext}</b><br><br>color=1<br>x=%{x}<br>y=%{y}<extra></extra>",
         "hovertext": [
          "RSX",
          "US_Transportation",
          "Russell2000",
          "US_Biotech",
          "US_Consumer_Staples",
          "US_Consumer_Discretionary",
          "BAC",
          "ISRA",
          "ERUS",
          "ICLN",
          "TAN",
          "AMZN",
          "INTC",
          "TMO",
          "SHE",
          "ADSK",
          "NEE",
          "US_Regional_Banks",
          "US_Communication_Services",
          "US_Real_Estate",
          "US_HealthCare_Sector",
          "CircularEconomy",
          "US_Banks",
          "TSLA",
          "US_Materials",
          "DHR",
          "VeteranFriendly",
          "Tesla",
          "SHOP",
          "US_Utilities",
          "EIS",
          "FRDM",
          "UNH",
          "HydrogenCCS",
          "JNJ",
          "CRM",
          "CleanWater",
          "BLK"
         ],
         "legendgroup": "1",
         "marker": {
          "color": "#EF553B",
          "line": {
           "color": "DarkSlateGrey",
           "width": 1
          },
          "size": 10,
          "symbol": "circle"
         },
         "mode": "markers",
         "name": "1",
         "orientation": "v",
         "showlegend": true,
         "type": "scatter",
         "x": {
          "bdata": "dQSEvrl10T+yKZE/am8FP8O0BUCKWx5AZDzJP3R+gz/kqYe+eFPtPG8LRL5tqjxAJy8CvmIojD8YEDFAEpVhP7iGLz/Q/5k/L2NEQJYhnD8+MOU/xWMrQA4xsD+8YBpAOzPhP7BcdT/J5zpAj0sQQPauID/CjBxAoMjoP63KEkA1pOY/zRtfPiA4sD+R3TtAeyRYP5v7NkA=",
          "dtype": "f4"
         },
         "xaxis": "x",
         "y": {
          "bdata": "g/oGQAGHLUBJqxdAgecgQGLTa0AhbdM/KiCwP4lA+j8+lghAgg4wQHZxJkBZXtQ/g20hQD9HXkAwhgtA1KUGQFYfTUBNmdg/tMXcP8n4NUD/rW9AM9YcQCh+vT+Mpbo/i/xRQJjwUUAOZV1ApwSfPzaA8j/C/2hAjt6gP+ujG0AAh3ZAvbI8QJaJZEAi9Mw/UNFAQMURCkA=",
          "dtype": "f4"
         },
         "yaxis": "y"
        },
        {
         "hovertemplate": "<b>%{hovertext}</b><br><br>color=2<br>x=%{x}<br>y=%{y}<extra></extra>",
         "hovertext": [
          "Google",
          "V",
          "SYK",
          "US_Tech_Sector",
          "MSFT",
          "Nasdaq100",
          "AMD",
          "US_Industrials",
          "LargeTech",
          "US_Homebuilders",
          "US_Financials_Sector",
          "GOOGL",
          "DowJones30",
          "PHO",
          "S&P500_ETF",
          "S&P500",
          "MS",
          "LGBTQEquality",
          "MA",
          "ASML"
         ],
         "legendgroup": "2",
         "marker": {
          "color": "#00cc96",
          "line": {
           "color": "DarkSlateGrey",
           "width": 1
          },
          "size": 10,
          "symbol": "circle"
         },
         "mode": "markers",
         "name": "2",
         "orientation": "v",
         "showlegend": true,
         "type": "scatter",
         "x": {
          "bdata": "DQi2QMvNjUA+M5FAUQnCQLJ+ukBK6LhAAlqvQPeneED+q7BA2WS4QJ/odUDpGLFA4BZKQAUyUUB/0n5A5+phQMHWhUABxZ9A+buLQE89nkA=",
          "dtype": "f4"
         },
         "xaxis": "x",
         "y": {
          "bdata": "tkl9QAgCW0AKq05A/BVjQMgAZUDdoXJAlk9JQC1OT0CgsIBALOVgQL1gNEBzNIBAr4ZOQNPlSUCISlVATPs5QKzvLEBJ9XdAyqVZQPWqOEA=",
          "dtype": "f4"
         },
         "yaxis": "y"
        },
        {
         "hovertemplate": "<b>%{hovertext}</b><br><br>color=4<br>x=%{x}<br>y=%{y}<extra></extra>",
         "hovertext": [
          "MRK",
          "APPLE",
          "SupportUkraine",
          "REGN",
          "NVO",
          "AAPL"
         ],
         "legendgroup": "4",
         "marker": {
          "color": "#ab63fa",
          "line": {
           "color": "DarkSlateGrey",
           "width": 1
          },
          "size": 10,
          "symbol": "circle"
         },
         "mode": "markers",
         "name": "4",
         "orientation": "v",
         "showlegend": true,
         "type": "scatter",
         "x": {
          "bdata": "qC9sQJdOkEBVoodAbCJmQLhYaUDAiZFA",
          "dtype": "f4"
         },
         "xaxis": "x",
         "y": {
          "bdata": "DBiuQKNQlkAikKJAeumoQGU+q0CtxJVA",
          "dtype": "f4"
         },
         "yaxis": "y"
        },
        {
         "hovertemplate": "<b>%{hovertext}</b><br><br>color=3<br>x=%{x}<br>y=%{y}<extra></extra>",
         "hovertext": [
          "XOM",
          "CVX",
          "COP",
          "US_Energy",
          "SLB"
         ],
         "legendgroup": "3",
         "marker": {
          "color": "#FFA15A",
          "line": {
           "color": "DarkSlateGrey",
           "width": 1
          },
          "size": 10,
          "symbol": "circle"
         },
         "mode": "markers",
         "name": "3",
         "orientation": "v",
         "showlegend": true,
         "type": "scatter",
         "x": {
          "bdata": "S8hyQLcyb0CZGH5AvK51QD0GZ0A=",
          "dtype": "f4"
         },
         "xaxis": "x",
         "y": {
          "bdata": "1XnJQJFsy0CGLshAZPPJQENl0EA=",
          "dtype": "f4"
         },
         "yaxis": "y"
        }
       ],
       "layout": {
        "height": 600,
        "legend": {
         "title": {
          "text": "color"
         },
         "tracegroupgap": 0
        },
        "margin": {
         "t": 60
        },
        "template": {
         "data": {
          "bar": [
           {
            "error_x": {
             "color": "#2a3f5f"
            },
            "error_y": {
             "color": "#2a3f5f"
            },
            "marker": {
             "line": {
              "color": "#E5ECF6",
              "width": 0.5
             },
             "pattern": {
              "fillmode": "overlay",
              "size": 10,
              "solidity": 0.2
             }
            },
            "type": "bar"
           }
          ],
          "barpolar": [
           {
            "marker": {
             "line": {
              "color": "#E5ECF6",
              "width": 0.5
             },
             "pattern": {
              "fillmode": "overlay",
              "size": 10,
              "solidity": 0.2
             }
            },
            "type": "barpolar"
           }
          ],
          "carpet": [
           {
            "aaxis": {
             "endlinecolor": "#2a3f5f",
             "gridcolor": "white",
             "linecolor": "white",
             "minorgridcolor": "white",
             "startlinecolor": "#2a3f5f"
            },
            "baxis": {
             "endlinecolor": "#2a3f5f",
             "gridcolor": "white",
             "linecolor": "white",
             "minorgridcolor": "white",
             "startlinecolor": "#2a3f5f"
            },
            "type": "carpet"
           }
          ],
          "choropleth": [
           {
            "colorbar": {
             "outlinewidth": 0,
             "ticks": ""
            },
            "type": "choropleth"
           }
          ],
          "contour": [
           {
            "colorbar": {
             "outlinewidth": 0,
             "ticks": ""
            },
            "colorscale": [
             [
              0,
              "#0d0887"
             ],
             [
              0.1111111111111111,
              "#46039f"
             ],
             [
              0.2222222222222222,
              "#7201a8"
             ],
             [
              0.3333333333333333,
              "#9c179e"
             ],
             [
              0.4444444444444444,
              "#bd3786"
             ],
             [
              0.5555555555555556,
              "#d8576b"
             ],
             [
              0.6666666666666666,
              "#ed7953"
             ],
             [
              0.7777777777777778,
              "#fb9f3a"
             ],
             [
              0.8888888888888888,
              "#fdca26"
             ],
             [
              1,
              "#f0f921"
             ]
            ],
            "type": "contour"
           }
          ],
          "contourcarpet": [
           {
            "colorbar": {
             "outlinewidth": 0,
             "ticks": ""
            },
            "type": "contourcarpet"
           }
          ],
          "heatmap": [
           {
            "colorbar": {
             "outlinewidth": 0,
             "ticks": ""
            },
            "colorscale": [
             [
              0,
              "#0d0887"
             ],
             [
              0.1111111111111111,
              "#46039f"
             ],
             [
              0.2222222222222222,
              "#7201a8"
             ],
             [
              0.3333333333333333,
              "#9c179e"
             ],
             [
              0.4444444444444444,
              "#bd3786"
             ],
             [
              0.5555555555555556,
              "#d8576b"
             ],
             [
              0.6666666666666666,
              "#ed7953"
             ],
             [
              0.7777777777777778,
              "#fb9f3a"
             ],
             [
              0.8888888888888888,
              "#fdca26"
             ],
             [
              1,
              "#f0f921"
             ]
            ],
            "type": "heatmap"
           }
          ],
          "histogram": [
           {
            "marker": {
             "pattern": {
              "fillmode": "overlay",
              "size": 10,
              "solidity": 0.2
             }
            },
            "type": "histogram"
           }
          ],
          "histogram2d": [
           {
            "colorbar": {
             "outlinewidth": 0,
             "ticks": ""
            },
            "colorscale": [
             [
              0,
              "#0d0887"
             ],
             [
              0.1111111111111111,
              "#46039f"
             ],
             [
              0.2222222222222222,
              "#7201a8"
             ],
             [
              0.3333333333333333,
              "#9c179e"
             ],
             [
              0.4444444444444444,
              "#bd3786"
             ],
             [
              0.5555555555555556,
              "#d8576b"
             ],
             [
              0.6666666666666666,
              "#ed7953"
             ],
             [
              0.7777777777777778,
              "#fb9f3a"
             ],
             [
              0.8888888888888888,
              "#fdca26"
             ],
             [
              1,
              "#f0f921"
             ]
            ],
            "type": "histogram2d"
           }
          ],
          "histogram2dcontour": [
           {
            "colorbar": {
             "outlinewidth": 0,
             "ticks": ""
            },
            "colorscale": [
             [
              0,
              "#0d0887"
             ],
             [
              0.1111111111111111,
              "#46039f"
             ],
             [
              0.2222222222222222,
              "#7201a8"
             ],
             [
              0.3333333333333333,
              "#9c179e"
             ],
             [
              0.4444444444444444,
              "#bd3786"
             ],
             [
              0.5555555555555556,
              "#d8576b"
             ],
             [
              0.6666666666666666,
              "#ed7953"
             ],
             [
              0.7777777777777778,
              "#fb9f3a"
             ],
             [
              0.8888888888888888,
              "#fdca26"
             ],
             [
              1,
              "#f0f921"
             ]
            ],
            "type": "histogram2dcontour"
           }
          ],
          "mesh3d": [
           {
            "colorbar": {
             "outlinewidth": 0,
             "ticks": ""
            },
            "type": "mesh3d"
           }
          ],
          "parcoords": [
           {
            "line": {
             "colorbar": {
              "outlinewidth": 0,
              "ticks": ""
             }
            },
            "type": "parcoords"
           }
          ],
          "pie": [
           {
            "automargin": true,
            "type": "pie"
           }
          ],
          "scatter": [
           {
            "fillpattern": {
             "fillmode": "overlay",
             "size": 10,
             "solidity": 0.2
            },
            "type": "scatter"
           }
          ],
          "scatter3d": [
           {
            "line": {
             "colorbar": {
              "outlinewidth": 0,
              "ticks": ""
             }
            },
            "marker": {
             "colorbar": {
              "outlinewidth": 0,
              "ticks": ""
             }
            },
            "type": "scatter3d"
           }
          ],
          "scattercarpet": [
           {
            "marker": {
             "colorbar": {
              "outlinewidth": 0,
              "ticks": ""
             }
            },
            "type": "scattercarpet"
           }
          ],
          "scattergeo": [
           {
            "marker": {
             "colorbar": {
              "outlinewidth": 0,
              "ticks": ""
             }
            },
            "type": "scattergeo"
           }
          ],
          "scattergl": [
           {
            "marker": {
             "colorbar": {
              "outlinewidth": 0,
              "ticks": ""
             }
            },
            "type": "scattergl"
           }
          ],
          "scattermap": [
           {
            "marker": {
             "colorbar": {
              "outlinewidth": 0,
              "ticks": ""
             }
            },
            "type": "scattermap"
           }
          ],
          "scattermapbox": [
           {
            "marker": {
             "colorbar": {
              "outlinewidth": 0,
              "ticks": ""
             }
            },
            "type": "scattermapbox"
           }
          ],
          "scatterpolar": [
           {
            "marker": {
             "colorbar": {
              "outlinewidth": 0,
              "ticks": ""
             }
            },
            "type": "scatterpolar"
           }
          ],
          "scatterpolargl": [
           {
            "marker": {
             "colorbar": {
              "outlinewidth": 0,
              "ticks": ""
             }
            },
            "type": "scatterpolargl"
           }
          ],
          "scatterternary": [
           {
            "marker": {
             "colorbar": {
              "outlinewidth": 0,
              "ticks": ""
             }
            },
            "type": "scatterternary"
           }
          ],
          "surface": [
           {
            "colorbar": {
             "outlinewidth": 0,
             "ticks": ""
            },
            "colorscale": [
             [
              0,
              "#0d0887"
             ],
             [
              0.1111111111111111,
              "#46039f"
             ],
             [
              0.2222222222222222,
              "#7201a8"
             ],
             [
              0.3333333333333333,
              "#9c179e"
             ],
             [
              0.4444444444444444,
              "#bd3786"
             ],
             [
              0.5555555555555556,
              "#d8576b"
             ],
             [
              0.6666666666666666,
              "#ed7953"
             ],
             [
              0.7777777777777778,
              "#fb9f3a"
             ],
             [
              0.8888888888888888,
              "#fdca26"
             ],
             [
              1,
              "#f0f921"
             ]
            ],
            "type": "surface"
           }
          ],
          "table": [
           {
            "cells": {
             "fill": {
              "color": "#EBF0F8"
             },
             "line": {
              "color": "white"
             }
            },
            "header": {
             "fill": {
              "color": "#C8D4E3"
             },
             "line": {
              "color": "white"
             }
            },
            "type": "table"
           }
          ]
         },
         "layout": {
          "annotationdefaults": {
           "arrowcolor": "#2a3f5f",
           "arrowhead": 0,
           "arrowwidth": 1
          },
          "autotypenumbers": "strict",
          "coloraxis": {
           "colorbar": {
            "outlinewidth": 0,
            "ticks": ""
           }
          },
          "colorscale": {
           "diverging": [
            [
             0,
             "#8e0152"
            ],
            [
             0.1,
             "#c51b7d"
            ],
            [
             0.2,
             "#de77ae"
            ],
            [
             0.3,
             "#f1b6da"
            ],
            [
             0.4,
             "#fde0ef"
            ],
            [
             0.5,
             "#f7f7f7"
            ],
            [
             0.6,
             "#e6f5d0"
            ],
            [
             0.7,
             "#b8e186"
            ],
            [
             0.8,
             "#7fbc41"
            ],
            [
             0.9,
             "#4d9221"
            ],
            [
             1,
             "#276419"
            ]
           ],
           "sequential": [
            [
             0,
             "#0d0887"
            ],
            [
             0.1111111111111111,
             "#46039f"
            ],
            [
             0.2222222222222222,
             "#7201a8"
            ],
            [
             0.3333333333333333,
             "#9c179e"
            ],
            [
             0.4444444444444444,
             "#bd3786"
            ],
            [
             0.5555555555555556,
             "#d8576b"
            ],
            [
             0.6666666666666666,
             "#ed7953"
            ],
            [
             0.7777777777777778,
             "#fb9f3a"
            ],
            [
             0.8888888888888888,
             "#fdca26"
            ],
            [
             1,
             "#f0f921"
            ]
           ],
           "sequentialminus": [
            [
             0,
             "#0d0887"
            ],
            [
             0.1111111111111111,
             "#46039f"
            ],
            [
             0.2222222222222222,
             "#7201a8"
            ],
            [
             0.3333333333333333,
             "#9c179e"
            ],
            [
             0.4444444444444444,
             "#bd3786"
            ],
            [
             0.5555555555555556,
             "#d8576b"
            ],
            [
             0.6666666666666666,
             "#ed7953"
            ],
            [
             0.7777777777777778,
             "#fb9f3a"
            ],
            [
             0.8888888888888888,
             "#fdca26"
            ],
            [
             1,
             "#f0f921"
            ]
           ]
          },
          "colorway": [
           "#636efa",
           "#EF553B",
           "#00cc96",
           "#ab63fa",
           "#FFA15A",
           "#19d3f3",
           "#FF6692",
           "#B6E880",
           "#FF97FF",
           "#FECB52"
          ],
          "font": {
           "color": "#2a3f5f"
          },
          "geo": {
           "bgcolor": "white",
           "lakecolor": "white",
           "landcolor": "#E5ECF6",
           "showlakes": true,
           "showland": true,
           "subunitcolor": "white"
          },
          "hoverlabel": {
           "align": "left"
          },
          "hovermode": "closest",
          "mapbox": {
           "style": "light"
          },
          "paper_bgcolor": "white",
          "plot_bgcolor": "#E5ECF6",
          "polar": {
           "angularaxis": {
            "gridcolor": "white",
            "linecolor": "white",
            "ticks": ""
           },
           "bgcolor": "#E5ECF6",
           "radialaxis": {
            "gridcolor": "white",
            "linecolor": "white",
            "ticks": ""
           }
          },
          "scene": {
           "xaxis": {
            "backgroundcolor": "#E5ECF6",
            "gridcolor": "white",
            "gridwidth": 2,
            "linecolor": "white",
            "showbackground": true,
            "ticks": "",
            "zerolinecolor": "white"
           },
           "yaxis": {
            "backgroundcolor": "#E5ECF6",
            "gridcolor": "white",
            "gridwidth": 2,
            "linecolor": "white",
            "showbackground": true,
            "ticks": "",
            "zerolinecolor": "white"
           },
           "zaxis": {
            "backgroundcolor": "#E5ECF6",
            "gridcolor": "white",
            "gridwidth": 2,
            "linecolor": "white",
            "showbackground": true,
            "ticks": "",
            "zerolinecolor": "white"
           }
          },
          "shapedefaults": {
           "line": {
            "color": "#2a3f5f"
           }
          },
          "ternary": {
           "aaxis": {
            "gridcolor": "white",
            "linecolor": "white",
            "ticks": ""
           },
           "baxis": {
            "gridcolor": "white",
            "linecolor": "white",
            "ticks": ""
           },
           "bgcolor": "#E5ECF6",
           "caxis": {
            "gridcolor": "white",
            "linecolor": "white",
            "ticks": ""
           }
          },
          "title": {
           "x": 0.05
          },
          "xaxis": {
           "automargin": true,
           "gridcolor": "white",
           "linecolor": "white",
           "ticks": "",
           "title": {
            "standoff": 15
           },
           "zerolinecolor": "white",
           "zerolinewidth": 2
          },
          "yaxis": {
           "automargin": true,
           "gridcolor": "white",
           "linecolor": "white",
           "ticks": "",
           "title": {
            "standoff": 15
           },
           "zerolinecolor": "white",
           "zerolinewidth": 2
          }
         }
        },
        "width": 600,
        "xaxis": {
         "anchor": "y",
         "domain": [
          0,
          1
         ],
         "title": {
          "text": "x"
         }
        },
        "yaxis": {
         "anchor": "x",
         "domain": [
          0,
          1
         ],
         "title": {
          "text": "y"
         }
        }
       }
      }
     },
     "metadata": {},
     "output_type": "display_data"
    }
   ],
   "source": [
    "mask = labels != -2\n",
    "\n",
    "fig = px.scatter(\n",
    "    x=X_embedded[mask, 0],\n",
    "    y=X_embedded[mask, 1],\n",
    "    color=labels[mask].astype(str),\n",
    "    hover_name=[prices.columns[i] for i in np.where(mask)[0]],\n",
    "    width=600,\n",
    "    height=600\n",
    ")\n",
    "fig.update_traces(marker=dict(size=10, line=dict(width=1, color='DarkSlateGrey')))\n",
    "fig.show()"
   ]
  },
  {
   "cell_type": "code",
   "execution_count": 82,
   "id": "56cdabd4",
   "metadata": {},
   "outputs": [
    {
     "data": {
      "text/plain": [
       "Index(['ISRG', 'RSX', 'US_Transportation', 'Russell2000', 'US_Biotech',\n",
       "       'Google', 'V', 'US_Consumer_Staples', 'US_Consumer_Discretionary',\n",
       "       'BAC', 'ISRA', 'SYK', 'NOW', 'ERUS', 'LLY', 'COST', 'BKNG', 'MRK',\n",
       "       'TSM', 'ICLN', 'ORCL', 'TAN', 'AMZN', 'INTC', 'US_Tech_Sector', 'APPLE',\n",
       "       'TMO', 'SHE', 'ADSK', 'NEE', 'MSFT', 'UBER',\n",
       "       'Rebuilding_America_Grid_Chips', 'GenderDiversity', 'Nasdaq100', 'AMD',\n",
       "       'NVDA', 'US_Regional_Banks', 'XOM', 'CVX', 'US_Industrials', 'IBM',\n",
       "       'LargeTech', 'AIEthics', 'US_Homebuilders', 'GS',\n",
       "       'US_Communication_Services', 'PANW', 'US_Real_Estate',\n",
       "       'US_Financials_Sector', 'US_HealthCare_Sector', 'CircularEconomy',\n",
       "       'AI_Infrastructure_Stack', 'US_Banks', 'SupportUkraine', 'NFLX', 'JPM',\n",
       "       'TSLA', 'COP', 'US_Materials', 'DHR', 'GOOGL', 'VeteranFriendly',\n",
       "       'Tesla', 'META', 'CRWD', 'SHOP', 'AVGO', 'REGN', 'US_Energy',\n",
       "       'US_Utilities', 'DowJones30', 'PHO', 'EIS', 'S&P500_ETF', 'FRDM',\n",
       "       'S&P500', 'NVO', 'SupportIsrael', 'MS', 'LGBTQEquality', 'UNH', 'MA',\n",
       "       'SLB', 'AAPL', 'HydrogenCCS', 'SAP', 'ASML', 'JNJ', 'CRM', 'CleanWater',\n",
       "       'BLK'],\n",
       "      dtype='object')"
      ]
     },
     "execution_count": 82,
     "metadata": {},
     "output_type": "execute_result"
    }
   ],
   "source": [
    "prices.columns"
   ]
  },
  {
   "cell_type": "code",
   "execution_count": 1,
   "id": "70f326d1",
   "metadata": {},
   "outputs": [
    {
     "ename": "NameError",
     "evalue": "name 'prices' is not defined",
     "output_type": "error",
     "traceback": [
      "\u001b[0;31m---------------------------------------------------------------------------\u001b[0m",
      "\u001b[0;31mNameError\u001b[0m                                 Traceback (most recent call last)",
      "Cell \u001b[0;32mIn[1], line 1\u001b[0m\n\u001b[0;32m----> 1\u001b[0m \u001b[43mprices\u001b[49m\n",
      "\u001b[0;31mNameError\u001b[0m: name 'prices' is not defined"
     ]
    }
   ],
   "source": [
    "prices"
   ]
  },
  {
   "cell_type": "code",
   "execution_count": null,
   "id": "a34e4ce2",
   "metadata": {},
   "outputs": [],
   "source": []
  }
 ],
 "metadata": {
  "kernelspec": {
   "display_name": "needle",
   "language": "python",
   "name": "python3"
  },
  "language_info": {
   "codemirror_mode": {
    "name": "ipython",
    "version": 3
   },
   "file_extension": ".py",
   "mimetype": "text/x-python",
   "name": "python",
   "nbconvert_exporter": "python",
   "pygments_lexer": "ipython3",
   "version": "3.10.18"
  }
 },
 "nbformat": 4,
 "nbformat_minor": 5
}
