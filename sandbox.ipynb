{
 "cells": [
  {
   "cell_type": "code",
   "execution_count": 1,
   "id": "ec5d33b2",
   "metadata": {},
   "outputs": [],
   "source": [
    "from pytrends.request import TrendReq\n",
    "from pytrends.exceptions import ResponseError\n",
    "import time\n",
    "import urllib3\n",
    "urllib3.disable_warnings(urllib3.exceptions.InsecureRequestWarning)\n",
    "import pandas as pd\n",
    "import json"
   ]
  },
  {
   "cell_type": "code",
   "execution_count": 2,
   "id": "f2e9729c",
   "metadata": {},
   "outputs": [],
   "source": [
    "with open('cfg/stock_data_clustering.json', 'r') as f:\n",
    "    stock_data = json.load(f)"
   ]
  },
  {
   "cell_type": "code",
   "execution_count": null,
   "id": "a6cb9d2e",
   "metadata": {},
   "outputs": [
    {
     "data": {
      "text/plain": [
       "103"
      ]
     },
     "execution_count": 3,
     "metadata": {},
     "output_type": "execute_result"
    }
   ],
   "source": [
    "len(stock_data['entries'])"
   ]
  },
  {
   "cell_type": "code",
   "execution_count": 6,
   "id": "b7231b68",
   "metadata": {},
   "outputs": [
    {
     "data": {
      "text/plain": [
       "['S&P500',\n",
       " 'Apple',\n",
       " 'Google',\n",
       " 'Tesla',\n",
       " 'LargeTech',\n",
       " 'GreenLeaders',\n",
       " 'SupportIsrael',\n",
       " 'SupportPalestine',\n",
       " 'SupportUkraine',\n",
       " 'SupportRussia',\n",
       " 'CleanWater',\n",
       " 'GenderDiversity',\n",
       " 'LGBTQEquality',\n",
       " 'VeteranFriendly',\n",
       " 'HydrogenCCS',\n",
       " 'AIEthics',\n",
       " 'CircularEconomy',\n",
       " 'ICLN',\n",
       " 'TAN',\n",
       " 'PHO',\n",
       " 'AQWA',\n",
       " 'EIS',\n",
       " 'ISRA',\n",
       " 'FRDM',\n",
       " 'RSX',\n",
       " 'ERUS',\n",
       " 'SHE',\n",
       " 'LGBT',\n",
       " 'VETS',\n",
       " 'S&P500_ETF',\n",
       " 'Nasdaq100',\n",
       " 'Russell2000',\n",
       " 'DowJones30',\n",
       " 'US_Tech_Sector',\n",
       " 'US_HealthCare_Sector',\n",
       " 'US_Financials_Sector',\n",
       " 'US_Consumer_Discretionary',\n",
       " 'US_Consumer_Staples',\n",
       " 'US_Industrials',\n",
       " 'US_Energy',\n",
       " 'US_Utilities',\n",
       " 'US_Materials',\n",
       " 'US_Communication_Services',\n",
       " 'US_Real_Estate',\n",
       " 'US_Biotech',\n",
       " 'US_Banks',\n",
       " 'US_Regional_Banks',\n",
       " 'US_Transportation',\n",
       " 'US_Homebuilders',\n",
       " 'AI_Infrastructure_Stack',\n",
       " 'Defense_Cyber_Resilience',\n",
       " 'Rebuilding_America_Grid_Chips',\n",
       " 'MSFT',\n",
       " 'NVDA',\n",
       " 'AMZN',\n",
       " 'META',\n",
       " 'AVGO',\n",
       " 'AAPL',\n",
       " 'TSLA',\n",
       " 'GOOGL',\n",
       " 'ASML',\n",
       " 'TSM',\n",
       " 'AMD',\n",
       " 'NFLX',\n",
       " 'ORCL',\n",
       " 'SAP',\n",
       " 'CRM',\n",
       " 'IBM',\n",
       " 'INTC',\n",
       " 'ARM',\n",
       " 'SNOW',\n",
       " 'PANW',\n",
       " 'CRWD',\n",
       " 'SHOP',\n",
       " 'ADSK',\n",
       " 'NOW',\n",
       " 'UBER',\n",
       " 'ABNB',\n",
       " 'BKNG',\n",
       " 'LLY',\n",
       " 'NVO',\n",
       " 'JNJ',\n",
       " 'MRK',\n",
       " 'UNH',\n",
       " 'TMO',\n",
       " 'DHR',\n",
       " 'ISRG',\n",
       " 'SYK',\n",
       " 'REGN',\n",
       " 'XOM',\n",
       " 'CVX',\n",
       " 'COP',\n",
       " 'SLB',\n",
       " 'NEE',\n",
       " 'JPM',\n",
       " 'BAC',\n",
       " 'GS',\n",
       " 'MS',\n",
       " 'BRK.B',\n",
       " 'BLK',\n",
       " 'V',\n",
       " 'MA',\n",
       " 'COST']"
      ]
     },
     "execution_count": 6,
     "metadata": {},
     "output_type": "execute_result"
    }
   ],
   "source": [
    "[stock['name'] for stock in stock_data['entries']]"
   ]
  },
  {
   "cell_type": "code",
   "execution_count": null,
   "id": "a243b92b",
   "metadata": {},
   "outputs": [],
   "source": []
  }
 ],
 "metadata": {
  "kernelspec": {
   "display_name": "needleInHaystack",
   "language": "python",
   "name": "python3"
  },
  "language_info": {
   "codemirror_mode": {
    "name": "ipython",
    "version": 3
   },
   "file_extension": ".py",
   "mimetype": "text/x-python",
   "name": "python",
   "nbconvert_exporter": "python",
   "pygments_lexer": "ipython3",
   "version": "3.11.13"
  }
 },
 "nbformat": 4,
 "nbformat_minor": 5
}
