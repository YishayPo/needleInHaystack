{
 "cells": [
  {
   "cell_type": "code",
   "execution_count": 175,
   "id": "7b52dddb",
   "metadata": {},
   "outputs": [],
   "source": [
    "import pandas as pd\n",
    "import numpy as np\n",
    "import plotly.express as px\n",
    "from pathlib import Path\n",
    "from tslearn.clustering import TimeSeriesKMeans\n",
    "from sklearn.preprocessing import StandardScaler\n",
    "import umap\n",
    "from sklearn.cluster import KMeans\n",
    "from sklearn.cluster import DBSCAN\n",
    "import matplotlib.pyplot as plt"
   ]
  },
  {
   "cell_type": "code",
   "execution_count": 176,
   "id": "fb603e2e",
   "metadata": {},
   "outputs": [
    {
     "data": {
      "text/plain": [
       "((1766, 1574), (1766, 476), (1766, 476))"
      ]
     },
     "execution_count": 176,
     "metadata": {},
     "output_type": "execute_result"
    }
   ],
   "source": [
    "DATA_ROOT = Path(\"data\")\n",
    "PROCESSED_DATA = DATA_ROOT / \"processed\"\n",
    "\n",
    "trends = pd.read_csv(PROCESSED_DATA / \"trends.csv\", index_col=0, parse_dates=True)\n",
    "prices = pd.read_csv(PROCESSED_DATA / \"prices.csv\", index_col=0, parse_dates=True)\n",
    "volumes = pd.read_csv(PROCESSED_DATA / \"volumes.csv\", index_col=0, parse_dates=True)\n",
    "\n",
    "trends.shape, prices.shape, volumes.shape"
   ]
  },
  {
   "cell_type": "code",
   "execution_count": 177,
   "id": "6bffdc5b",
   "metadata": {},
   "outputs": [
    {
     "data": {
      "text/plain": [
       "(2050, 1766)"
      ]
     },
     "execution_count": 177,
     "metadata": {},
     "output_type": "execute_result"
    }
   ],
   "source": [
    "def normalize_df(df: pd.DataFrame) -> pd.DataFrame:\n",
    "    # return (df - df.min()) / (df.max() - df.min())\n",
    "    return df/df.sum(axis=0)\n",
    "\n",
    "trends = normalize_df(trends)\n",
    "prices = normalize_df(prices)\n",
    "volumes = normalize_df(volumes)\n",
    "\n",
    "unified = pd.concat([trends, volumes], axis=1).T\n",
    "unified.shape"
   ]
  },
  {
   "cell_type": "code",
   "execution_count": 178,
   "id": "51f50b97",
   "metadata": {},
   "outputs": [],
   "source": [
    "import json\n",
    "\n",
    "with open('cfg/stock_data.json') as f:\n",
    "    stock_data = json.load(f)['entries']\n",
    "    \n",
    "with open('cfg/stock_data_clustering.json') as f:\n",
    "    stock_data_clustering = json.load(f)['entries']\n",
    "    \n",
    "    \n",
    "with open('cfg/etf_stocks.json') as f:\n",
    "    etf_stocks = json.load(f)['entries']"
   ]
  },
  {
   "cell_type": "code",
   "execution_count": 179,
   "id": "e0e36ac1",
   "metadata": {},
   "outputs": [],
   "source": [
    "stock_data =stock_data+stock_data_clustering+etf_stocks"
   ]
  },
  {
   "cell_type": "code",
   "execution_count": 189,
   "id": "78b9232f",
   "metadata": {},
   "outputs": [],
   "source": [
    "stock_df = pd.DataFrame(stock_data)\n",
    "stock_df = stock_df.drop(columns=['start', 'end','aggregate','interval','period'])\n",
    "stock_df['tickers'] = stock_df.apply(lambda x: [x['ticker']] if isinstance(x['ticker'], str) else x['tickers'], axis=1)\n",
    "stock_df = stock_df.drop(columns=['ticker'])\n",
    "stock_df = stock_df.drop_duplicates(subset=['tickers'])\n",
    "stock_df['num_tickers'] = stock_df['tickers'].apply(len)\n",
    "stock_df['is_sector'] = stock_df['name'].str.contains('US_')\n",
    "stock_df = stock_df[stock_df['name'].isin(prices.columns)]\n",
    "\n",
    "single_stocks = stock_df.query('not is_sector and num_tickers==1')\n",
    "is_etf = single_stocks['description'].fillna(\"\").str.lower().str.contains('etf|index|tracks')\n",
    "\n",
    "stock_df['is_etf'] = False\n",
    "stock_df.loc[is_etf.index, 'is_etf'] = is_etf"
   ]
  },
  {
   "cell_type": "code",
   "execution_count": 190,
   "id": "502e3af4",
   "metadata": {},
   "outputs": [
    {
     "data": {
      "text/plain": [
       "[['XLK'],\n",
       " ['XLV'],\n",
       " ['XLF'],\n",
       " ['XLY'],\n",
       " ['XLP'],\n",
       " ['XLI'],\n",
       " ['XLE'],\n",
       " ['XLU'],\n",
       " ['XLB'],\n",
       " ['XLC'],\n",
       " ['XLRE'],\n",
       " ['IBB'],\n",
       " ['KBE'],\n",
       " ['KRE'],\n",
       " ['IYT'],\n",
       " ['ITB']]"
      ]
     },
     "execution_count": 190,
     "metadata": {},
     "output_type": "execute_result"
    }
   ],
   "source": [
    "stock_df[stock_df['is_sector']]['tickers'].tolist()"
   ]
  },
  {
   "cell_type": "code",
   "execution_count": 191,
   "id": "7c56de8e",
   "metadata": {},
   "outputs": [
    {
     "data": {
      "text/plain": [
       "['^GSPC',\n",
       " 'ICLN',\n",
       " 'TAN',\n",
       " 'PHO',\n",
       " 'EIS',\n",
       " 'ISRA',\n",
       " 'FRDM',\n",
       " 'RSX',\n",
       " 'ERUS',\n",
       " 'SHE',\n",
       " 'SPY',\n",
       " 'QQQ',\n",
       " 'IWM',\n",
       " 'DIA']"
      ]
     },
     "execution_count": 191,
     "metadata": {},
     "output_type": "execute_result"
    }
   ],
   "source": [
    "stock_df[stock_df['is_etf']].tickers.apply(lambda x: x[0]).tolist()"
   ]
  },
  {
   "cell_type": "code",
   "execution_count": 192,
   "id": "1589f195",
   "metadata": {},
   "outputs": [],
   "source": [
    "holdings = pd.read_csv('etf_holdings_top50.csv')\n",
    "holdings = holdings.groupby('ETF').agg(list)\n",
    "\n",
    "tickers = stock_df.query('not is_sector and num_tickers==1').tickers.apply(lambda x:x[0]).to_list()\n",
    "holdings['data_tickers'] = holdings['Ticker'].apply(lambda x: set(x).intersection(tickers))\n",
    "holdings['num_data_tickers'] = holdings['data_tickers'].apply(len)\n",
    "coloring = holdings[holdings['num_data_tickers']>1].drop(columns=['Ticker'])"
   ]
  },
  {
   "cell_type": "code",
   "execution_count": 240,
   "id": "f29cdecc",
   "metadata": {},
   "outputs": [
    {
     "name": "stderr",
     "output_type": "stream",
     "text": [
      "/var/folders/hm/y24_51v94jj_qlbxgg2t7kmw0000gn/T/ipykernel_55544/1197410361.py:3: SettingWithCopyWarning:\n",
      "\n",
      "\n",
      "A value is trying to be set on a copy of a slice from a DataFrame.\n",
      "Try using .loc[row_indexer,col_indexer] = value instead\n",
      "\n",
      "See the caveats in the documentation: https://pandas.pydata.org/pandas-docs/stable/user_guide/indexing.html#returning-a-view-versus-a-copy\n",
      "\n"
     ]
    }
   ],
   "source": [
    "# for each etf in holdings, find its description from stock_df\n",
    "holdings_descriptions = stock_df.query('is_etf or is_sector')\n",
    "holdings_descriptions['tickers'] = holdings_descriptions['tickers'].apply(lambda x: x[0])\n",
    "holdings_descriptions = holdings_descriptions.set_index('tickers')\n",
    "holdings['description'] = holdings.merge(holdings_descriptions, left_on='ETF', right_index=True)['description_y']"
   ]
  },
  {
   "cell_type": "code",
   "execution_count": 194,
   "id": "f833a603",
   "metadata": {},
   "outputs": [],
   "source": [
    "# all_tickers = holdings['Ticker'].to_list()\n",
    "# all_tickers = [item for sublist in all_tickers for item in sublist]\n",
    "# pd.Series(all_tickers).to_csv('all_etf_tickers.csv', index=False)"
   ]
  },
  {
   "cell_type": "code",
   "execution_count": null,
   "id": "ff02bc38",
   "metadata": {},
   "outputs": [],
   "source": [
    "# etf_stock_cfg = {\"output_dir\": \"./data/market\"}\n",
    "# entries = []\n",
    "# for ticker in all_tickers:\n",
    "#     entries.append({\n",
    "#         \"name\": ticker,\n",
    "#         \"ticker\": ticker,\n",
    "#         \"period\": \"5y\",\n",
    "#         \"interval\": \"1d\",})\n",
    "# etf_stock_cfg['entries'] = entries\n",
    "\n",
    "# json.dump(etf_stock_cfg, open('cfg/etf_stocks.json', 'w'), indent=4)\n"
   ]
  },
  {
   "cell_type": "code",
   "execution_count": 241,
   "id": "ecd1e35f",
   "metadata": {},
   "outputs": [
    {
     "name": "stderr",
     "output_type": "stream",
     "text": [
      "/Users/ronraisch/miniforge3/envs/needle/lib/python3.10/site-packages/umap/umap_.py:1952: UserWarning:\n",
      "\n",
      "n_jobs value 1 overridden to 1 by setting random_state. Use no seed for parallelism.\n",
      "\n"
     ]
    },
    {
     "data": {
      "image/png": "[encoded data removed]",
      "text/plain": [
       "<Figure size 640x480 with 1 Axes>"
      ]
     },
     "metadata": {},
     "output_type": "display_data"
    }
   ],
   "source": [
    "single_stocks = stock_df.query('not is_sector and num_tickers==1 and not is_etf')\n",
    "\n",
    "# use UMAP to reduce dimensionality of single stocks\n",
    "reducer = umap.UMAP(n_neighbors=10, min_dist=0.3, random_state=42)\n",
    "# reducer = \n",
    "reduced_single_stocks = reducer.fit_transform(prices[single_stocks['name']].T)\n",
    "\n",
    "\n",
    "plt.scatter(reduced_single_stocks[:, 0], reduced_single_stocks[:, 1])\n",
    "plt.title('UMAP projection of single stocks')\n",
    "plt.xlabel('UMAP 1')\n",
    "plt.ylabel('UMAP 2')\n",
    "plt.show()"
   ]
  },
  {
   "cell_type": "code",
   "execution_count": 250,
   "id": "b2d7369d",
   "metadata": {},
   "outputs": [
    {
     "data": {
      "text/plain": [
       "'DIA'"
      ]
     },
     "execution_count": 250,
     "metadata": {},
     "output_type": "execute_result"
    }
   ],
   "source": [
    "holdings.loc[coloring.index[0]].name"
   ]
  },
  {
   "cell_type": "code",
   "execution_count": 251,
   "id": "08cb3c5e",
   "metadata": {},
   "outputs": [
    {
     "data": {
      "image/png": "[encoded data removed]",
      "text/plain": [
       "<Figure size 2400x2000 with 30 Axes>"
      ]
     },
     "metadata": {},
     "output_type": "display_data"
    }
   ],
   "source": [
    "import math\n",
    "\n",
    "# determine grid size\n",
    "n = len(coloring)\n",
    "cols = int(math.ceil(math.sqrt(n)))\n",
    "rows = int(math.ceil(n / cols))\n",
    "\n",
    "fig, axes = plt.subplots(rows, cols, figsize=(cols * 4, rows * 4))\n",
    "axes = axes.flatten()\n",
    "\n",
    "for i in range(len(coloring.index)):\n",
    "    etf_name = holdings.loc[coloring.index[i]]['description']\n",
    "    etf_name =  holdings.loc[coloring.index[i]].name + \": \" + etf_name\n",
    "    # make the etf_name use \\n to break lines every 40 characters\n",
    "    etf_name = '\\n'.join([etf_name[j:j+40] for j in range(0, len(etf_name), 40)])\n",
    "    if etf_name.endswith('.'):\n",
    "        etf_name = etf_name[:-1]\n",
    "        \n",
    "    members = set(coloring.iloc[i, 0])\n",
    "    in_etf = single_stocks['tickers'].apply(lambda x: x[0] in members)\n",
    "\n",
    "    ax = axes[i]\n",
    "    # plot points in ETF\n",
    "    ax.scatter(\n",
    "        reduced_single_stocks[in_etf, 0],\n",
    "        reduced_single_stocks[in_etf, 1],\n",
    "        c='red', s=8, edgecolors='darkslategray', linewidth=0.5, label='In'\n",
    "    )\n",
    "    # plot points not in ETF\n",
    "    ax.scatter(\n",
    "        reduced_single_stocks[~in_etf, 0],\n",
    "        reduced_single_stocks[~in_etf, 1],\n",
    "        c='#ADD8E6', s=8, edgecolors='darkslategray', linewidth=0.5, label='Not in'\n",
    "    )\n",
    "    ax.set_title(etf_name)\n",
    "    ax.set_xticks([])\n",
    "    ax.set_yticks([])\n",
    "\n",
    "# turn off unused subplots\n",
    "for j in range(i+1, len(axes)):\n",
    "    axes[j].axis('off')\n",
    "\n",
    "fig.suptitle(\"UMAP projections colored by ETFs' membership\", fontsize=16)\n",
    "fig.tight_layout(rect=[0, 0, 1, 0.95])\n",
    "plt.show()"
   ]
  },
  {
   "cell_type": "code",
   "execution_count": 216,
   "id": "052b06a1",
   "metadata": {},
   "outputs": [
    {
     "data": {
      "text/plain": [
       "-1     58\n",
       " 0     20\n",
       " 1     13\n",
       " 2     15\n",
       " 3     33\n",
       " 4     17\n",
       " 5     15\n",
       " 6     23\n",
       " 7     20\n",
       " 8     18\n",
       " 9     13\n",
       " 10    25\n",
       " 11    23\n",
       " 12    29\n",
       " 13    32\n",
       " 14     6\n",
       " 15    14\n",
       " 16    12\n",
       " 17     5\n",
       " 18     9\n",
       " 19     5\n",
       " 20     8\n",
       " 21     5\n",
       " 22     9\n",
       " 23     3\n",
       "dtype: int64"
      ]
     },
     "execution_count": 216,
     "metadata": {},
     "output_type": "execute_result"
    }
   ],
   "source": [
    "dbscan = DBSCAN(eps=0.4, min_samples=5)\n",
    "labels = dbscan.fit_predict(reduced_single_stocks)\n",
    "count = np.unique(labels, return_counts=True)\n",
    "pd.Series(count[1], index=count[0]).sort_index()"
   ]
  },
  {
   "cell_type": "code",
   "execution_count": 217,
   "id": "035054fd",
   "metadata": {},
   "outputs": [
    {
     "data": {
      "application/vnd.plotly.v1+json": {
       "config": {
        "plotlyServerURL": "https://plot.ly"
       },
       "data": [
        {
         "hovertemplate": "<b>%{hovertext}</b><br><br>color=0<br>x=%{x}<br>y=%{y}<extra></extra>",
         "hovertext": [
          "Google",
          "SYK",
          "BLK",
          "V",
          "MA",
          "HQY",
          "DAL",
          "AX",
          "BPOP",
          "WTFC",
          "ZWS",
          "GOOG",
          "LYV",
          "NWSA",
          "NWS",
          "ICE",
          "CME",
          "MCO",
          "EMR",
          "CBRE"
         ],
         "legendgroup": "0",
         "marker": {
          "color": "#636efa",
          "line": {
           "color": "DarkSlateGrey",
           "width": 1
          },
          "size": 10,
          "symbol": "circle"
         },
         "mode": "markers",
         "name": "0",
         "orientation": "v",
         "showlegend": true,
         "type": "scatter",
         "x": {
          "bdata": "h8G5QKJBqkD0StBAKXawQOxEsEA2FrlA27bGQG17v0CXPMJAoG+tQI2zxEBa1bZAQHrAQLE8y0ATr8FA+2K8QOrju0ALNMBA9HW9QBRHuEA=",
          "dtype": "f4"
         },
         "xaxis": "x",
         "y": {
          "bdata": "rnJsQEdIVEAzgItANB1yQLkGakA00n5AMF+IQDEEmEDa15dAorWgQOmcjkB2M1xA7PKSQA3ng0CtGIVAmeV5QG6ZaEAY235Ah1h7QOlwmkA=",
          "dtype": "f4"
         },
         "yaxis": "y"
        },
        {
         "hovertemplate": "<b>%{hovertext}</b><br><br>color=13<br>x=%{x}<br>y=%{y}<extra></extra>",
         "hovertext": [
          "Tesla",
          "BAC",
          "TSEM",
          "WAT",
          "GTLS",
          "UMBF",
          "WD",
          "RF",
          "CADE",
          "ABCB",
          "FNB",
          "EWBC",
          "BOKF",
          "WBS",
          "SSB",
          "FHN",
          "HBAN",
          "MTB",
          "SNV",
          "ONB",
          "OZK",
          "CFR",
          "AUB",
          "PB",
          "PNFP",
          "SCHW",
          "PSA",
          "AVB",
          "EQR",
          "ESS",
          "MAA",
          "KIM"
         ],
         "legendgroup": "13",
         "marker": {
          "color": "#EF553B",
          "line": {
           "color": "DarkSlateGrey",
           "width": 1
          },
          "size": 10,
          "symbol": "circle"
         },
         "mode": "markers",
         "name": "13",
         "orientation": "v",
         "showlegend": true,
         "type": "scatter",
         "x": {
          "bdata": "KLwNQaNHDEGLiQBB0dQNQeH5DkF6pg1BwEEcQaHVBkFukwRBRnACQfSH+UCeSftAEOEFQW9PDEHGAAJBH/0BQfKoBkEMcwVB9ZQJQW04/0DGLQJB6RoIQXYHB0EcnghBPDUFQVNuC0HDyg9BxakUQSywFkHZDRZBSXkYQQ7kC0E=",
          "dtype": "f4"
         },
         "xaxis": "x",
         "y": {
          "bdata": "DW16QMHRlUB1JllAj9ZNQFiTVkD4p5VA/1VAQADyeEDLfo5AtBGQQH+sdUDe8JNAz4ptQLXlhEB+NH1A8SxlQGCaiUD7TX5ADsuTQESxg0CYynZAx7JsQJnWQ0ArkVdA9BuTQHEXhUCFoEhASrFQQG0XSkDZLGBAW6g8QKwxXUA=",
          "dtype": "f4"
         },
         "yaxis": "y"
        },
        {
         "hovertemplate": "<b>%{hovertext}</b><br><br>color=20<br>x=%{x}<br>y=%{y}<extra></extra>",
         "hovertext": [
          "MSFT",
          "ASML",
          "AMD",
          "FERG",
          "MU",
          "MLM",
          "LRCX",
          "AMAT"
         ],
         "legendgroup": "20",
         "marker": {
          "color": "#00cc96",
          "line": {
           "color": "DarkSlateGrey",
           "width": 1
          },
          "size": 10,
          "symbol": "circle"
         },
         "mode": "markers",
         "name": "20",
         "orientation": "v",
         "showlegend": true,
         "type": "scatter",
         "x": {
          "bdata": "4k13QD6JfUCBg0dA0IFnQKzCa0BwQV9A9x1dQLdmV0A=",
          "dtype": "f4"
         },
         "xaxis": "x",
         "y": {
          "bdata": "YkYDQKfj1D+lbdE/xVXwP1nf5j8oCv0/KdHVP5XZ1T8=",
          "dtype": "f4"
         },
         "yaxis": "y"
        },
        {
         "hovertemplate": "<b>%{hovertext}</b><br><br>color=1<br>x=%{x}<br>y=%{y}<extra></extra>",
         "hovertext": [
          "NVDA",
          "AVGO",
          "INSM",
          "HIMS",
          "STRL",
          "MOD",
          "IDCC",
          "GE",
          "HWM",
          "ANET",
          "VST",
          "NRG",
          "RCL"
         ],
         "legendgroup": "1",
         "marker": {
          "color": "#ab63fa",
          "line": {
           "color": "DarkSlateGrey",
           "width": 1
          },
          "size": 10,
          "symbol": "circle"
         },
         "mode": "markers",
         "name": "1",
         "orientation": "v",
         "showlegend": true,
         "type": "scatter",
         "x": {
          "bdata": "mKwKvDWJNT4kAnw/QJ/NPs30hb2/Djc9f/1FP7FV4j66xpw+xrmNPsrNdD0hjvo+434sPw==",
          "dtype": "f4"
         },
         "xaxis": "x",
         "y": {
          "bdata": "ibabQLfKnUDzSaRAfVWmQKFAnUBteZJAxhKhQPYOokB5WKdA4tmKQPVAokCAsqNAP2mlQA==",
          "dtype": "f4"
         },
         "yaxis": "y"
        },
        {
         "hovertemplate": "<b>%{hovertext}</b><br><br>color=2<br>x=%{x}<br>y=%{y}<extra></extra>",
         "hovertext": [
          "TSM",
          "NOW",
          "ISRG",
          "JPM",
          "GS",
          "AXP",
          "WMT",
          "CVCO",
          "BK",
          "PNR",
          "MWA",
          "KMI",
          "WFC",
          "WELL",
          "GRMN"
         ],
         "legendgroup": "2",
         "marker": {
          "color": "#FFA15A",
          "line": {
           "color": "DarkSlateGrey",
           "width": 1
          },
          "size": 10,
          "symbol": "circle"
         },
         "mode": "markers",
         "name": "2",
         "orientation": "v",
         "showlegend": true,
         "type": "scatter",
         "x": {
          "bdata": "HL45QEBHR0AgFUZAHaJGQLooZEBXr1hA7VpMQAO1REAjPV1ABJJZQJxDUkDmT3VAcS14QBt7ZUDbsEFA",
          "dtype": "f4"
         },
         "xaxis": "x",
         "y": {
          "bdata": "3dejQKpnqEBJ7qRAqQSeQIUvnkAo2ZJAb9qTQHXbiEAxdZ1ASJCpQOpfn0AKi41AQgSbQI06lUCK4qpA",
          "dtype": "f4"
         },
         "yaxis": "y"
        },
        {
         "hovertemplate": "<b>%{hovertext}</b><br><br>color=3<br>x=%{x}<br>y=%{y}<extra></extra>",
         "hovertext": [
          "ORCL",
          "IBM",
          "PANW",
          "BKNG",
          "LLY",
          "COST",
          "CYBR",
          "NVMI",
          "MDGL",
          "LII",
          "FN",
          "SPXC",
          "XPO",
          "R",
          "TBBK",
          "BMI",
          "SBS",
          "TKO",
          "WMB",
          "TPL",
          "PGR",
          "KKR",
          "ETN",
          "PH",
          "TT",
          "TDG",
          "CTAS",
          "URI",
          "APH",
          "KLAC",
          "IRM",
          "BSX",
          "MCK"
         ],
         "legendgroup": "3",
         "marker": {
          "color": "#19d3f3",
          "line": {
           "color": "DarkSlateGrey",
           "width": 1
          },
          "size": 10,
          "symbol": "circle"
         },
         "mode": "markers",
         "name": "3",
         "orientation": "v",
         "showlegend": true,
         "type": "scatter",
         "x": {
          "bdata": "qK7rP4/aD0A1Ibg/htffP2/CED9qqwBACwjNP0YsnT8AE84/fZTiP9BUcT81yjE/SxJAP13kC0C9DBNArs3XP4ZJ+T+XtvE/uswGQH++zD9egsw/JXqRPyZAZT8RHbI/mmyXP//Omj9Mx+Y/30ptP17IzT+VU2o/W6kdP9099j+udwlA",
          "dtype": "f4"
         },
         "xaxis": "x",
         "y": {
          "bdata": "8R+BQIfUjUAVzmtAAmKLQInsaUA1eoBACCiXQEErekD3/FhAB/OKQE39XEBlXnRAopNMQCe6dkCzsXRAfAttQDTLYEBgbm1AGS+BQKxzikCixntAPOGDQClIYEAKBnVAKUaDQH4EcUBuDHRAPQNRQEonikDIZ2VAyyV0QH8fjEBAj1dA",
          "dtype": "f4"
         },
         "yaxis": "y"
        },
        {
         "hovertemplate": "<b>%{hovertext}</b><br><br>color=4<br>x=%{x}<br>y=%{y}<extra></extra>",
         "hovertext": [
          "INTC",
          "DIS",
          "ONC",
          "BNTX",
          "LUV",
          "AAL",
          "ALK",
          "HASI",
          "IFF",
          "BALL",
          "TGT",
          "CCI",
          "SBAC",
          "ARE",
          "DOC",
          "MDT",
          "NKE"
         ],
         "legendgroup": "4",
         "marker": {
          "color": "#FF6692",
          "line": {
           "color": "DarkSlateGrey",
           "width": 1
          },
          "size": 10,
          "symbol": "circle"
         },
         "mode": "markers",
         "name": "4",
         "orientation": "v",
         "showlegend": true,
         "type": "scatter",
         "x": {
          "bdata": "azQ7QX5qPkEJazdBcD47QdTyO0FFmjRB26kwQWOcP0FgFzpBFHk5QZP2O0FpWTdBnYw1QbWGPUEEOzZBtPIvQR99PUE=",
          "dtype": "f4"
         },
         "xaxis": "x",
         "y": {
          "bdata": "PZwRQHfnO0AWAzxAdwAHQLfSOECU2zlAnYBNQNmHOEAnZBxAggYsQIP2EUBbO/s/ZajdP5o4AkBlVyJAYk4lQNKr/T8=",
          "dtype": "f4"
         },
         "yaxis": "y"
        },
        {
         "hovertemplate": "<b>%{hovertext}</b><br><br>color=5<br>x=%{x}<br>y=%{y}<extra></extra>",
         "hovertext": [
          "SHOP",
          "ADSK",
          "MMM",
          "WIX",
          "VRNS",
          "FROG",
          "CDE",
          "BBIO",
          "RKT",
          "IP",
          "SW",
          "TTWO",
          "GM",
          "EBAY",
          "CCL"
         ],
         "legendgroup": "5",
         "marker": {
          "color": "#B6E880",
          "line": {
           "color": "DarkSlateGrey",
           "width": 1
          },
          "size": 10,
          "symbol": "circle"
         },
         "mode": "markers",
         "name": "5",
         "orientation": "v",
         "showlegend": true,
         "type": "scatter",
         "x": {
          "bdata": "D98CQS97/UDHowNBPVMGQc45AkFaGQZB5SgFQXAHB0E7TAVBSaL7QL4i/0BSZuxAIzoEQZTd9UAjrPxA",
          "dtype": "f4"
         },
         "xaxis": "x",
         "y": {
          "bdata": "o93CQAY2tEDZxa1AOfTHQC/8u0CDx8RAyKXDQOXayEDIQsFA0O+nQHPvq0C4L6xAN2OxQKg4rUA5HLZA",
          "dtype": "f4"
         },
         "yaxis": "y"
        },
        {
         "hovertemplate": "<b>%{hovertext}</b><br><br>color=6<br>x=%{x}<br>y=%{y}<extra></extra>",
         "hovertext": [
          "JNJ",
          "NEE",
          "BIIB",
          "INCY",
          "ORA",
          "CWEN",
          "UPS",
          "CHRW",
          "AWK",
          "WTRG",
          "CWT",
          "NEM",
          "AMCR",
          "SYY",
          "KDP",
          "AMT",
          "O",
          "D",
          "XEL",
          "ES",
          "PFE",
          "CVS",
          "BMY"
         ],
         "legendgroup": "6",
         "marker": {
          "color": "#FF97FF",
          "line": {
           "color": "DarkSlateGrey",
           "width": 1
          },
          "size": 10,
          "symbol": "circle"
         },
         "mode": "markers",
         "name": "6",
         "orientation": "v",
         "showlegend": true,
         "type": "scatter",
         "x": {
          "bdata": "DsAZQYh8JEE4DTRBSPstQXZ5JkEe9CFB0HwvQb7/HEHZnClBH68rQVN8KkHkvi1BWhAjQdRVGEH1whxB340rQR4IIUG+hjFBvQgaQSDCL0HHdDVBNe8tQVoKJkE=",
          "dtype": "f4"
         },
         "xaxis": "x",
         "y": {
          "bdata": "TQtMP8JoXT/E864/mwy/Pw77JT9WaTg/UNaEP9bYDj8tc58/W3uNP/7nhD8NROw/2Dl4P9Xrgj8/UkA/owXCP6erdD8DoOM/CUbWPtgGpT/xnII/EKRePwT2Sj8=",
          "dtype": "f4"
         },
         "yaxis": "y"
        },
        {
         "hovertemplate": "<b>%{hovertext}</b><br><br>color=16<br>x=%{x}<br>y=%{y}<extra></extra>",
         "hovertext": [
          "MRK",
          "REGN",
          "DOX",
          "ODFL",
          "FELE",
          "FCX",
          "OMC",
          "MDLZ",
          "MNST",
          "PCG",
          "EIX",
          "YUM"
         ],
         "legendgroup": "16",
         "marker": {
          "color": "#FECB52",
          "line": {
           "color": "DarkSlateGrey",
           "width": 1
          },
          "size": 10,
          "symbol": "circle"
         },
         "mode": "markers",
         "name": "16",
         "orientation": "v",
         "showlegend": true,
         "type": "scatter",
         "x": {
          "bdata": "UQDUQL4w20AL0NtAJBzhQJuB6EDY8eVAO0neQE4k6EANkt5A1zbMQFR81UDccttA",
          "dtype": "f4"
         },
         "xaxis": "x",
         "y": {
          "bdata": "sAIAP8npBz+iNn0/KT2mPzrEsT/8EMw/neSHP0NLaz8P7ZY/TzEjPzpaQT9jYNo/",
          "dtype": "f4"
         },
         "yaxis": "y"
        },
        {
         "hovertemplate": "<b>%{hovertext}</b><br><br>color=7<br>x=%{x}<br>y=%{y}<extra></extra>",
         "hovertext": [
          "TMO",
          "DHR",
          "BA",
          "IQV",
          "MTD",
          "IONS",
          "FND",
          "FBIN",
          "IEX",
          "ADBE",
          "PPG",
          "CMCSA",
          "PLD",
          "CSGP",
          "EXR",
          "WY",
          "INVH",
          "ZTS",
          "SBUX",
          "F"
         ],
         "legendgroup": "7",
         "marker": {
          "color": "#636efa",
          "line": {
           "color": "DarkSlateGrey",
           "width": 1
          },
          "size": 10,
          "symbol": "circle"
         },
         "mode": "markers",
         "name": "7",
         "orientation": "v",
         "showlegend": true,
         "type": "scatter",
         "x": {
          "bdata": "vDkUQeojFkEQDBxBIcQVQXeQHEGuchFBVzMaQRkNGkHlSQxBBZYdQdHXHUF5dSNBBPwRQYttEUGOERVBnO8RQRazFUHygxZBscYOQSBvFEE=",
          "dtype": "f4"
         },
         "xaxis": "x",
         "y": {
          "bdata": "QwC8P0iK4T/uuu4/Ux3CPySqtT9KYIE/OxD3PwLYBEB+z6w/yRQIQH9R3z+OQRFA5ZoOQJEq5D/M/jVAjUKyP95YIkDLPQpAsA3yP2iGGUA=",
          "dtype": "f4"
         },
         "yaxis": "y"
        },
        {
         "hovertemplate": "<b>%{hovertext}</b><br><br>color=8<br>x=%{x}<br>y=%{y}<extra></extra>",
         "hovertext": [
          "XOM",
          "CVX",
          "COP",
          "SLB",
          "RMBS",
          "NUE",
          "STLD",
          "CF",
          "EOG",
          "MPC",
          "PSX",
          "VLO",
          "OXY",
          "FANG",
          "DVN",
          "HAL",
          "CTRA",
          "APA"
         ],
         "legendgroup": "8",
         "marker": {
          "color": "#EF553B",
          "line": {
           "color": "DarkSlateGrey",
           "width": 1
          },
          "size": 10,
          "symbol": "circle"
         },
         "mode": "markers",
         "name": "8",
         "orientation": "v",
         "showlegend": true,
         "type": "scatter",
         "x": {
          "bdata": "WpiDQNOTl0A/v45AJqiUQP0eZ0AuN5JAtKtxQIcroEAjpotA/+hfQLcHakBNb3tACBaXQC5cbkBuVZ5Ab2WcQC+3m0D716FA",
          "dtype": "f4"
         },
         "xaxis": "x",
         "y": {
          "bdata": "kmb3PtO1pD64y7s9ZjCLvciEPz/rjaG6lvciP7rSBT9PnqQ+B6MMP70HZD+kTdI+R1imvFtPBD+4SAq+2e/XvTfQHj9OUGS+",
          "dtype": "f4"
         },
         "yaxis": "y"
        },
        {
         "hovertemplate": "<b>%{hovertext}</b><br><br>color=9<br>x=%{x}<br>y=%{y}<extra></extra>",
         "hovertext": [
          "CAT",
          "TEVA",
          "VRTX",
          "ENSG",
          "AVAV",
          "KEX",
          "PFSI",
          "TJX",
          "OKE",
          "AJG",
          "ORLY",
          "HLT",
          "MAR"
         ],
         "legendgroup": "9",
         "marker": {
          "color": "#00cc96",
          "line": {
           "color": "DarkSlateGrey",
           "width": 1
          },
          "size": 10,
          "symbol": "circle"
         },
         "mode": "markers",
         "name": "9",
         "orientation": "v",
         "showlegend": true,
         "type": "scatter",
         "x": {
          "bdata": "+KA4QCo9TUDh6DpAsbBdQJUJIkC3XDdAcUY9QKbzO0BzlT9AEuYqQBS+LUAe+jxAO61HQA==",
          "dtype": "f4"
         },
         "xaxis": "x",
         "y": {
          "bdata": "CNNLQAdjb0Aq6j1APSxQQJ5fUkAAGUJA5O9eQHc1ZECw7HVAEX1aQH4eSUATT3RAV51QQA==",
          "dtype": "f4"
         },
         "yaxis": "y"
        },
        {
         "hovertemplate": "<b>%{hovertext}</b><br><br>color=12<br>x=%{x}<br>y=%{y}<extra></extra>",
         "hovertext": [
          "HD",
          "HON",
          "PG",
          "NBIX",
          "LOW",
          "UNP",
          "NSC",
          "FDX",
          "CSX",
          "EXPD",
          "XYL",
          "ROP",
          "AOS",
          "WMS",
          "QCOM",
          "TXN",
          "ACN",
          "TEL",
          "APD",
          "DD",
          "AVY",
          "EA",
          "ITW",
          "CL",
          "KMB",
          "CHD",
          "EQIX",
          "ABT",
          "ROST"
         ],
         "legendgroup": "12",
         "marker": {
          "color": "#ab63fa",
          "line": {
           "color": "DarkSlateGrey",
           "width": 1
          },
          "size": 10,
          "symbol": "circle"
         },
         "mode": "markers",
         "name": "12",
         "orientation": "v",
         "showlegend": true,
         "type": "scatter",
         "x": {
          "bdata": "ZGDfQPcXB0H8U+VAQSfbQPfz3kC7qfxAtDYKQX5zAEEBZQlBg3n/QBuj8kAK/+BAXon1QLh69EAyl+lAmDgBQTvD60Bh6/BAPHsGQYF0/kCWgQFBrlwFQdx56ECUO+lADEb9QF5x70Cir+RA9CkFQXOR2UA=",
          "dtype": "f4"
         },
         "xaxis": "x",
         "y": {
          "bdata": "58RFQGBrFECWmwZAx5INQB37IUCi2B5AjzkiQL1bFkCr1Pc/mHbSP/8EHEDs4CNA0GrLP3Up1z+CijJAjDIPQJn4KkDRHypAQRv/P0VrAUD22OM/SdgSQFB77z90lhNAsMIRQGGZFEAEFzRA9DknQMPTOkA=",
          "dtype": "f4"
         },
         "yaxis": "y"
        },
        {
         "hovertemplate": "<b>%{hovertext}</b><br><br>color=10<br>x=%{x}<br>y=%{y}<extra></extra>",
         "hovertext": [
          "MCD",
          "AMGN",
          "HALO",
          "VMI",
          "CTVA",
          "AON",
          "DE",
          "LMT",
          "NOC",
          "KO",
          "K",
          "VICI",
          "VTR",
          "DUK",
          "AEP",
          "SRE",
          "EXC",
          "ED",
          "WEC",
          "DTE",
          "AEE",
          "PPL",
          "CNP",
          "FE",
          "CI"
         ],
         "legendgroup": "10",
         "marker": {
          "color": "#FFA15A",
          "line": {
           "color": "DarkSlateGrey",
           "width": 1
          },
          "size": 10,
          "symbol": "circle"
         },
         "mode": "markers",
         "name": "10",
         "orientation": "v",
         "showlegend": true,
         "type": "scatter",
         "x": {
          "bdata": "Hx3SQIqK0kBrULlA5yPOQHIWv0BPv8xAeKzGQJoxxEDtsbhAS8G+QO4rrEDrQ8lANnCzQKX/uUAARr1ARyfEQOjatUDSVbpAHfzLQOLxvkC0ccdABBO1QKWAtkAdAcVAEGC3QA==",
          "dtype": "f4"
         },
         "xaxis": "x",
         "y": {
          "bdata": "AI+lPwRyAkAiUxtAiOq4P9s2pz/9nsg/c4i0P967dj94n4A/hZrSP2sMI0DBU54/Dtc1QKSnDUDn6ApAbTeRPyhsqj9V2aE/IbEJQMk3B0CDzwJAdz4eQJtSxT+Wjb0/2d7rPw==",
          "dtype": "f4"
         },
         "yaxis": "y"
        },
        {
         "hovertemplate": "<b>%{hovertext}</b><br><br>color=11<br>x=%{x}<br>y=%{y}<extra></extra>",
         "hovertext": [
          "TRV",
          "GILD",
          "ALNY",
          "UTHR",
          "WTS",
          "ACM",
          "LIN",
          "INTU",
          "ABBV",
          "VMC",
          "BKR",
          "CB",
          "MMC",
          "RTX",
          "ADP",
          "GD",
          "WM",
          "MO",
          "KR",
          "SO",
          "PEG",
          "ATO",
          "HCA"
         ],
         "legendgroup": "11",
         "marker": {
          "color": "#19d3f3",
          "line": {
           "color": "DarkSlateGrey",
           "width": 1
          },
          "size": 10,
          "symbol": "circle"
         },
         "mode": "markers",
         "name": "11",
         "orientation": "v",
         "showlegend": true,
         "type": "scatter",
         "x": {
          "bdata": "Ql2FQNZcmkCcWKBAmb58QNvSiECesohAPmCEQPlsikBhVntA0N2HQEBOgEAQ74FAiMWFQMWulUBrEZBAWsqVQHl5jEBqyJ1A8WaVQISLoEDm6ZxA0kWhQMxndEA=",
          "dtype": "f4"
         },
         "xaxis": "x",
         "y": {
          "bdata": "f+dFQPXOTkC8pTtA+1lCQCojCUB1hTpAQOEdQAmfC0BmeDBAjaMOQCzdNkAHjDZAjD0nQHt3R0BHFDNAZM0eQFNnLUBIQVVA/+w/QF14LECNHzFAp6k3QNgRKEA=",
          "dtype": "f4"
         },
         "yaxis": "y"
        },
        {
         "hovertemplate": "<b>%{hovertext}</b><br><br>color=21<br>x=%{x}<br>y=%{y}<extra></extra>",
         "hovertext": [
          "CHKP",
          "EXEL",
          "T",
          "FOX",
          "ETR"
         ],
         "legendgroup": "21",
         "marker": {
          "color": "#FF6692",
          "line": {
           "color": "DarkSlateGrey",
           "width": 1
          },
          "size": 10,
          "symbol": "circle"
         },
         "mode": "markers",
         "name": "21",
         "orientation": "v",
         "showlegend": true,
         "type": "scatter",
         "x": {
          "bdata": "bFKZQElrlkAom6BAqWimQPU0lkA=",
          "dtype": "f4"
         },
         "xaxis": "x",
         "y": {
          "bdata": "o2pwQFOKgkAdnHVAA2eDQKG8cUA=",
          "dtype": "f4"
         },
         "yaxis": "y"
        },
        {
         "hovertemplate": "<b>%{hovertext}</b><br><br>color=14<br>x=%{x}<br>y=%{y}<extra></extra>",
         "hovertext": [
          "ILMN",
          "RUN",
          "LYFT",
          "WBD",
          "MTCH",
          "PSKY"
         ],
         "legendgroup": "14",
         "marker": {
          "color": "#B6E880",
          "line": {
           "color": "DarkSlateGrey",
           "width": 1
          },
          "size": 10,
          "symbol": "circle"
         },
         "mode": "markers",
         "name": "14",
         "orientation": "v",
         "showlegend": true,
         "type": "scatter",
         "x": {
          "bdata": "Om9IQd60SkHU7klBaDBHQZguS0FcHktB",
          "dtype": "f4"
         },
         "xaxis": "x",
         "y": {
          "bdata": "wDoPQAyMFUDGSBdA5n8LQHm6GUDBZg9A",
          "dtype": "f4"
         },
         "yaxis": "y"
        },
        {
         "hovertemplate": "<b>%{hovertext}</b><br><br>color=22<br>x=%{x}<br>y=%{y}<extra></extra>",
         "hovertext": [
          "GMAB",
          "ENPH",
          "FLG",
          "DQ",
          "SEDG",
          "JKS",
          "CSIQ",
          "DG",
          "EL"
         ],
         "legendgroup": "22",
         "marker": {
          "color": "#FF97FF",
          "line": {
           "color": "DarkSlateGrey",
           "width": 1
          },
          "size": 10,
          "symbol": "circle"
         },
         "mode": "markers",
         "name": "22",
         "orientation": "v",
         "showlegend": true,
         "type": "scatter",
         "x": {
          "bdata": "hoc7Qda4PEF9eTtBAE1GQWyKQ0E+WUBBO+FBQbUYQUGAFUNB",
          "dtype": "f4"
         },
         "xaxis": "x",
         "y": {
          "bdata": "Yi2uP2jZcT+HibQ/nljTPzNTsz9bqK0/oODBPxo0nT/t5NA/",
          "dtype": "f4"
         },
         "yaxis": "y"
        },
        {
         "hovertemplate": "<b>%{hovertext}</b><br><br>color=15<br>x=%{x}<br>y=%{y}<extra></extra>",
         "hovertext": [
          "MEDP",
          "DHI",
          "LEN",
          "NVR",
          "BLD",
          "IBP",
          "OC",
          "MTH",
          "KBH",
          "SSD",
          "EXP",
          "TPH",
          "SAIA",
          "CMG"
         ],
         "legendgroup": "15",
         "marker": {
          "color": "#FECB52",
          "line": {
           "color": "DarkSlateGrey",
           "width": 1
          },
          "size": 10,
          "symbol": "circle"
         },
         "mode": "markers",
         "name": "15",
         "orientation": "v",
         "showlegend": true,
         "type": "scatter",
         "x": {
          "bdata": "QHEOQO0IAUBtCBFAZlsWQKnMKUDM8/s/ra4CQGDhCEBvpeo/7QIzQKeh7j99JApAGVsbQAkFFEA=",
          "dtype": "f4"
         },
         "xaxis": "x",
         "y": {
          "bdata": "yXPvPyGF0T/9kbs/dXzxP+hpxD8Vft0/RWQDQJ6qwD9GA9Q/eAXfP7jO8j+lvMk/GLPgP7OQCEA=",
          "dtype": "f4"
         },
         "yaxis": "y"
        },
        {
         "hovertemplate": "<b>%{hovertext}</b><br><br>color=18<br>x=%{x}<br>y=%{y}<extra></extra>",
         "hovertext": [
          "BMRN",
          "JBHT",
          "KNX",
          "DOW",
          "LYB",
          "IPG",
          "KHC",
          "STZ",
          "BDX"
         ],
         "legendgroup": "18",
         "marker": {
          "color": "#636efa",
          "line": {
           "color": "DarkSlateGrey",
           "width": 1
          },
          "size": 10,
          "symbol": "circle"
         },
         "mode": "markers",
         "name": "18",
         "orientation": "v",
         "showlegend": true,
         "type": "scatter",
         "x": {
          "bdata": "JmkQQegWCkFHYQZBk7YPQc8JC0HINAZB4v0OQVc+CUF6zBBB",
          "dtype": "f4"
         },
         "xaxis": "x",
         "y": {
          "bdata": "TWYYP+ujlT8Yqog/nql0P7nIWT8VYYE/JawiP/OgKD8np1g/",
          "dtype": "f4"
         },
         "yaxis": "y"
        },
        {
         "hovertemplate": "<b>%{hovertext}</b><br><br>color=17<br>x=%{x}<br>y=%{y}<extra></extra>",
         "hovertext": [
          "PHM",
          "TOL",
          "TMHC",
          "BLDR",
          "MHO"
         ],
         "legendgroup": "17",
         "marker": {
          "color": "#EF553B",
          "line": {
           "color": "DarkSlateGrey",
           "width": 1
          },
          "size": 10,
          "symbol": "circle"
         },
         "mode": "markers",
         "name": "17",
         "orientation": "v",
         "showlegend": true,
         "type": "scatter",
         "x": {
          "bdata": "5LOQP/fXhT8Mbbs/GC2qPxSxpT8=",
          "dtype": "f4"
         },
         "xaxis": "x",
         "y": {
          "bdata": "xHofQEBALEAQqBxAIwYNQHImFEA=",
          "dtype": "f4"
         },
         "yaxis": "y"
        },
        {
         "hovertemplate": "<b>%{hovertext}</b><br><br>color=23<br>x=%{x}<br>y=%{y}<extra></extra>",
         "hovertext": [
          "CFG",
          "NTRS",
          "PNC"
         ],
         "legendgroup": "23",
         "marker": {
          "color": "#00cc96",
          "line": {
           "color": "DarkSlateGrey",
           "width": 1
          },
          "size": 10,
          "symbol": "circle"
         },
         "mode": "markers",
         "name": "23",
         "orientation": "v",
         "showlegend": true,
         "type": "scatter",
         "x": {
          "bdata": "Ya0VQRn5FUGCUBBB",
          "dtype": "f4"
         },
         "xaxis": "x",
         "y": {
          "bdata": "FdmSQH5PjkBAjpNA",
          "dtype": "f4"
         },
         "yaxis": "y"
        },
        {
         "hovertemplate": "<b>%{hovertext}</b><br><br>color=19<br>x=%{x}<br>y=%{y}<extra></extra>",
         "hovertext": [
          "WAL",
          "CMA",
          "ZION",
          "KEY",
          "TFC"
         ],
         "legendgroup": "19",
         "marker": {
          "color": "#ab63fa",
          "line": {
           "color": "DarkSlateGrey",
           "width": 1
          },
          "size": 10,
          "symbol": "circle"
         },
         "mode": "markers",
         "name": "19",
         "orientation": "v",
         "showlegend": true,
         "type": "scatter",
         "x": {
          "bdata": "MoYdQTnAIUEJtB5Bg7MhQYgbJUE=",
          "dtype": "f4"
         },
         "xaxis": "x",
         "y": {
          "bdata": "6LKVQK9MjkBao5JAMCiPQLvxh0A=",
          "dtype": "f4"
         },
         "yaxis": "y"
        }
       ],
       "layout": {
        "height": 600,
        "legend": {
         "title": {
          "text": "color"
         },
         "tracegroupgap": 0
        },
        "template": {
         "data": {
          "bar": [
           {
            "error_x": {
             "color": "#2a3f5f"
            },
            "error_y": {
             "color": "#2a3f5f"
            },
            "marker": {
             "line": {
              "color": "#E5ECF6",
              "width": 0.5
             },
             "pattern": {
              "fillmode": "overlay",
              "size": 10,
              "solidity": 0.2
             }
            },
            "type": "bar"
           }
          ],
          "barpolar": [
           {
            "marker": {
             "line": {
              "color": "#E5ECF6",
              "width": 0.5
             },
             "pattern": {
              "fillmode": "overlay",
              "size": 10,
              "solidity": 0.2
             }
            },
            "type": "barpolar"
           }
          ],
          "carpet": [
           {
            "aaxis": {
             "endlinecolor": "#2a3f5f",
             "gridcolor": "white",
             "linecolor": "white",
             "minorgridcolor": "white",
             "startlinecolor": "#2a3f5f"
            },
            "baxis": {
             "endlinecolor": "#2a3f5f",
             "gridcolor": "white",
             "linecolor": "white",
             "minorgridcolor": "white",
             "startlinecolor": "#2a3f5f"
            },
            "type": "carpet"
           }
          ],
          "choropleth": [
           {
            "colorbar": {
             "outlinewidth": 0,
             "ticks": ""
            },
            "type": "choropleth"
           }
          ],
          "contour": [
           {
            "colorbar": {
             "outlinewidth": 0,
             "ticks": ""
            },
            "colorscale": [
             [
              0,
              "#0d0887"
             ],
             [
              0.1111111111111111,
              "#46039f"
             ],
             [
              0.2222222222222222,
              "#7201a8"
             ],
             [
              0.3333333333333333,
              "#9c179e"
             ],
             [
              0.4444444444444444,
              "#bd3786"
             ],
             [
              0.5555555555555556,
              "#d8576b"
             ],
             [
              0.6666666666666666,
              "#ed7953"
             ],
             [
              0.7777777777777778,
              "#fb9f3a"
             ],
             [
              0.8888888888888888,
              "#fdca26"
             ],
             [
              1,
              "#f0f921"
             ]
            ],
            "type": "contour"
           }
          ],
          "contourcarpet": [
           {
            "colorbar": {
             "outlinewidth": 0,
             "ticks": ""
            },
            "type": "contourcarpet"
           }
          ],
          "heatmap": [
           {
            "colorbar": {
             "outlinewidth": 0,
             "ticks": ""
            },
            "colorscale": [
             [
              0,
              "#0d0887"
             ],
             [
              0.1111111111111111,
              "#46039f"
             ],
             [
              0.2222222222222222,
              "#7201a8"
             ],
             [
              0.3333333333333333,
              "#9c179e"
             ],
             [
              0.4444444444444444,
              "#bd3786"
             ],
             [
              0.5555555555555556,
              "#d8576b"
             ],
             [
              0.6666666666666666,
              "#ed7953"
             ],
             [
              0.7777777777777778,
              "#fb9f3a"
             ],
             [
              0.8888888888888888,
              "#fdca26"
             ],
             [
              1,
              "#f0f921"
             ]
            ],
            "type": "heatmap"
           }
          ],
          "histogram": [
           {
            "marker": {
             "pattern": {
              "fillmode": "overlay",
              "size": 10,
              "solidity": 0.2
             }
            },
            "type": "histogram"
           }
          ],
          "histogram2d": [
           {
            "colorbar": {
             "outlinewidth": 0,
             "ticks": ""
            },
            "colorscale": [
             [
              0,
              "#0d0887"
             ],
             [
              0.1111111111111111,
              "#46039f"
             ],
             [
              0.2222222222222222,
              "#7201a8"
             ],
             [
              0.3333333333333333,
              "#9c179e"
             ],
             [
              0.4444444444444444,
              "#bd3786"
             ],
             [
              0.5555555555555556,
              "#d8576b"
             ],
             [
              0.6666666666666666,
              "#ed7953"
             ],
             [
              0.7777777777777778,
              "#fb9f3a"
             ],
             [
              0.8888888888888888,
              "#fdca26"
             ],
             [
              1,
              "#f0f921"
             ]
            ],
            "type": "histogram2d"
           }
          ],
          "histogram2dcontour": [
           {
            "colorbar": {
             "outlinewidth": 0,
             "ticks": ""
            },
            "colorscale": [
             [
              0,
              "#0d0887"
             ],
             [
              0.1111111111111111,
              "#46039f"
             ],
             [
              0.2222222222222222,
              "#7201a8"
             ],
             [
              0.3333333333333333,
              "#9c179e"
             ],
             [
              0.4444444444444444,
              "#bd3786"
             ],
             [
              0.5555555555555556,
              "#d8576b"
             ],
             [
              0.6666666666666666,
              "#ed7953"
             ],
             [
              0.7777777777777778,
              "#fb9f3a"
             ],
             [
              0.8888888888888888,
              "#fdca26"
             ],
             [
              1,
              "#f0f921"
             ]
            ],
            "type": "histogram2dcontour"
           }
          ],
          "mesh3d": [
           {
            "colorbar": {
             "outlinewidth": 0,
             "ticks": ""
            },
            "type": "mesh3d"
           }
          ],
          "parcoords": [
           {
            "line": {
             "colorbar": {
              "outlinewidth": 0,
              "ticks": ""
             }
            },
            "type": "parcoords"
           }
          ],
          "pie": [
           {
            "automargin": true,
            "type": "pie"
           }
          ],
          "scatter": [
           {
            "fillpattern": {
             "fillmode": "overlay",
             "size": 10,
             "solidity": 0.2
            },
            "type": "scatter"
           }
          ],
          "scatter3d": [
           {
            "line": {
             "colorbar": {
              "outlinewidth": 0,
              "ticks": ""
             }
            },
            "marker": {
             "colorbar": {
              "outlinewidth": 0,
              "ticks": ""
             }
            },
            "type": "scatter3d"
           }
          ],
          "scattercarpet": [
           {
            "marker": {
             "colorbar": {
              "outlinewidth": 0,
              "ticks": ""
             }
            },
            "type": "scattercarpet"
           }
          ],
          "scattergeo": [
           {
            "marker": {
             "colorbar": {
              "outlinewidth": 0,
              "ticks": ""
             }
            },
            "type": "scattergeo"
           }
          ],
          "scattergl": [
           {
            "marker": {
             "colorbar": {
              "outlinewidth": 0,
              "ticks": ""
             }
            },
            "type": "scattergl"
           }
          ],
          "scattermap": [
           {
            "marker": {
             "colorbar": {
              "outlinewidth": 0,
              "ticks": ""
             }
            },
            "type": "scattermap"
           }
          ],
          "scattermapbox": [
           {
            "marker": {
             "colorbar": {
              "outlinewidth": 0,
              "ticks": ""
             }
            },
            "type": "scattermapbox"
           }
          ],
          "scatterpolar": [
           {
            "marker": {
             "colorbar": {
              "outlinewidth": 0,
              "ticks": ""
             }
            },
            "type": "scatterpolar"
           }
          ],
          "scatterpolargl": [
           {
            "marker": {
             "colorbar": {
              "outlinewidth": 0,
              "ticks": ""
             }
            },
            "type": "scatterpolargl"
           }
          ],
          "scatterternary": [
           {
            "marker": {
             "colorbar": {
              "outlinewidth": 0,
              "ticks": ""
             }
            },
            "type": "scatterternary"
           }
          ],
          "surface": [
           {
            "colorbar": {
             "outlinewidth": 0,
             "ticks": ""
            },
            "colorscale": [
             [
              0,
              "#0d0887"
             ],
             [
              0.1111111111111111,
              "#46039f"
             ],
             [
              0.2222222222222222,
              "#7201a8"
             ],
             [
              0.3333333333333333,
              "#9c179e"
             ],
             [
              0.4444444444444444,
              "#bd3786"
             ],
             [
              0.5555555555555556,
              "#d8576b"
             ],
             [
              0.6666666666666666,
              "#ed7953"
             ],
             [
              0.7777777777777778,
              "#fb9f3a"
             ],
             [
              0.8888888888888888,
              "#fdca26"
             ],
             [
              1,
              "#f0f921"
             ]
            ],
            "type": "surface"
           }
          ],
          "table": [
           {
            "cells": {
             "fill": {
              "color": "#EBF0F8"
             },
             "line": {
              "color": "white"
             }
            },
            "header": {
             "fill": {
              "color": "#C8D4E3"
             },
             "line": {
              "color": "white"
             }
            },
            "type": "table"
           }
          ]
         },
         "layout": {
          "annotationdefaults": {
           "arrowcolor": "#2a3f5f",
           "arrowhead": 0,
           "arrowwidth": 1
          },
          "autotypenumbers": "strict",
          "coloraxis": {
           "colorbar": {
            "outlinewidth": 0,
            "ticks": ""
           }
          },
          "colorscale": {
           "diverging": [
            [
             0,
             "#8e0152"
            ],
            [
             0.1,
             "#c51b7d"
            ],
            [
             0.2,
             "#de77ae"
            ],
            [
             0.3,
             "#f1b6da"
            ],
            [
             0.4,
             "#fde0ef"
            ],
            [
             0.5,
             "#f7f7f7"
            ],
            [
             0.6,
             "#e6f5d0"
            ],
            [
             0.7,
             "#b8e186"
            ],
            [
             0.8,
             "#7fbc41"
            ],
            [
             0.9,
             "#4d9221"
            ],
            [
             1,
             "#276419"
            ]
           ],
           "sequential": [
            [
             0,
             "#0d0887"
            ],
            [
             0.1111111111111111,
             "#46039f"
            ],
            [
             0.2222222222222222,
             "#7201a8"
            ],
            [
             0.3333333333333333,
             "#9c179e"
            ],
            [
             0.4444444444444444,
             "#bd3786"
            ],
            [
             0.5555555555555556,
             "#d8576b"
            ],
            [
             0.6666666666666666,
             "#ed7953"
            ],
            [
             0.7777777777777778,
             "#fb9f3a"
            ],
            [
             0.8888888888888888,
             "#fdca26"
            ],
            [
             1,
             "#f0f921"
            ]
           ],
           "sequentialminus": [
            [
             0,
             "#0d0887"
            ],
            [
             0.1111111111111111,
             "#46039f"
            ],
            [
             0.2222222222222222,
             "#7201a8"
            ],
            [
             0.3333333333333333,
             "#9c179e"
            ],
            [
             0.4444444444444444,
             "#bd3786"
            ],
            [
             0.5555555555555556,
             "#d8576b"
            ],
            [
             0.6666666666666666,
             "#ed7953"
            ],
            [
             0.7777777777777778,
             "#fb9f3a"
            ],
            [
             0.8888888888888888,
             "#fdca26"
            ],
            [
             1,
             "#f0f921"
            ]
           ]
          },
          "colorway": [
           "#636efa",
           "#EF553B",
           "#00cc96",
           "#ab63fa",
           "#FFA15A",
           "#19d3f3",
           "#FF6692",
           "#B6E880",
           "#FF97FF",
           "#FECB52"
          ],
          "font": {
           "color": "#2a3f5f"
          },
          "geo": {
           "bgcolor": "white",
           "lakecolor": "white",
           "landcolor": "#E5ECF6",
           "showlakes": true,
           "showland": true,
           "subunitcolor": "white"
          },
          "hoverlabel": {
           "align": "left"
          },
          "hovermode": "closest",
          "mapbox": {
           "style": "light"
          },
          "paper_bgcolor": "white",
          "plot_bgcolor": "#E5ECF6",
          "polar": {
           "angularaxis": {
            "gridcolor": "white",
            "linecolor": "white",
            "ticks": ""
           },
           "bgcolor": "#E5ECF6",
           "radialaxis": {
            "gridcolor": "white",
            "linecolor": "white",
            "ticks": ""
           }
          },
          "scene": {
           "xaxis": {
            "backgroundcolor": "#E5ECF6",
            "gridcolor": "white",
            "gridwidth": 2,
            "linecolor": "white",
            "showbackground": true,
            "ticks": "",
            "zerolinecolor": "white"
           },
           "yaxis": {
            "backgroundcolor": "#E5ECF6",
            "gridcolor": "white",
            "gridwidth": 2,
            "linecolor": "white",
            "showbackground": true,
            "ticks": "",
            "zerolinecolor": "white"
           },
           "zaxis": {
            "backgroundcolor": "#E5ECF6",
            "gridcolor": "white",
            "gridwidth": 2,
            "linecolor": "white",
            "showbackground": true,
            "ticks": "",
            "zerolinecolor": "white"
           }
          },
          "shapedefaults": {
           "line": {
            "color": "#2a3f5f"
           }
          },
          "ternary": {
           "aaxis": {
            "gridcolor": "white",
            "linecolor": "white",
            "ticks": ""
           },
           "baxis": {
            "gridcolor": "white",
            "linecolor": "white",
            "ticks": ""
           },
           "bgcolor": "#E5ECF6",
           "caxis": {
            "gridcolor": "white",
            "linecolor": "white",
            "ticks": ""
           }
          },
          "title": {
           "x": 0.05
          },
          "xaxis": {
           "automargin": true,
           "gridcolor": "white",
           "linecolor": "white",
           "ticks": "",
           "title": {
            "standoff": 15
           },
           "zerolinecolor": "white",
           "zerolinewidth": 2
          },
          "yaxis": {
           "automargin": true,
           "gridcolor": "white",
           "linecolor": "white",
           "ticks": "",
           "title": {
            "standoff": 15
           },
           "zerolinecolor": "white",
           "zerolinewidth": 2
          }
         }
        },
        "title": {
         "text": "DBSCAN Clustering (UMAP visualization) - noise points removed"
        },
        "width": 600,
        "xaxis": {
         "anchor": "y",
         "domain": [
          0,
          1
         ],
         "title": {
          "text": "x"
         }
        },
        "yaxis": {
         "anchor": "x",
         "domain": [
          0,
          1
         ],
         "title": {
          "text": "y"
         }
        }
       }
      }
     },
     "metadata": {},
     "output_type": "display_data"
    }
   ],
   "source": [
    "mask = labels != -1\n",
    "\n",
    "fig = px.scatter(\n",
    "    x=reduced_single_stocks[mask, 0],\n",
    "    y=reduced_single_stocks[mask, 1],\n",
    "    color=labels[mask].astype(str),\n",
    "    hover_name=single_stocks[mask]['name'],\n",
    "    title=\"DBSCAN Clustering (UMAP visualization) - noise points removed\",\n",
    "    width=600,\n",
    "    height=600\n",
    "    \n",
    ")\n",
    "fig.update_traces(marker=dict(size=10, line=dict(width=1, color='DarkSlateGrey')))\n",
    "fig.show()"
   ]
  },
  {
   "cell_type": "code",
   "execution_count": 39,
   "id": "58026e33",
   "metadata": {},
   "outputs": [],
   "source": [
    "# map labels to original indices in unified\n",
    "label_map = {unified.index[i]: labels[i] for i in range(len(labels))}\n",
    "label_series = pd.Series(label_map)\n",
    "label_series = label_series[label_series != -1]  # remove outliers\n",
    "label_series.sort_values().to_csv(PROCESSED_DATA / \"cluster_labels.csv\", header=[\"cluster\"])"
   ]
  },
  {
   "cell_type": "code",
   "execution_count": 40,
   "id": "f4d2912d",
   "metadata": {},
   "outputs": [],
   "source": [
    "# make a json with cluster to list of items\n",
    "cluster_map = {}\n",
    "for idx, cluster in label_series.items():\n",
    "    if cluster not in cluster_map:\n",
    "        cluster_map[cluster] = []\n",
    "    cluster_map[cluster].append(idx)\n",
    "import json\n",
    "with open(PROCESSED_DATA / \"clusters.json\", \"w\") as f:\n",
    "    json.dump(cluster_map, f, indent=4)\n",
    "    "
   ]
  },
  {
   "cell_type": "code",
   "execution_count": 41,
   "id": "049de42b",
   "metadata": {},
   "outputs": [],
   "source": [
    "with open(PROCESSED_DATA / 'cluster_GPT.json') as f:\n",
    "    gpt_clusters = json.load(f)\n"
   ]
  },
  {
   "cell_type": "code",
   "execution_count": 50,
   "id": "04f1c026",
   "metadata": {},
   "outputs": [],
   "source": [
    "clusters = list(gpt_clusters.keys())\n",
    "from typing import Dict, Optional\n",
    "from dataclasses import dataclass\n",
    "\n",
    "@dataclass\n",
    "class ClusterInfo:\n",
    "    name: str\n",
    "    description: str\n",
    "    scores: Dict[str, float]\n",
    "    coherence: float\n",
    "\n",
    "\n",
    "cluster_infos = []\n",
    "for cluster in clusters:\n",
    "    info = gpt_clusters[cluster]\n",
    "    cluster_infos.append(ClusterInfo(\n",
    "        name=cluster,\n",
    "        description=info[\"description\"],\n",
    "        scores=info[\"scores\"],\n",
    "        coherence=info[\"coherence\"]\n",
    "    ))"
   ]
  },
  {
   "cell_type": "code",
   "execution_count": null,
   "id": "966efbaf",
   "metadata": {},
   "outputs": [
    {
     "data": {
      "text/plain": [
       "Text(0.5, 0, 'Coherence Score')"
      ]
     },
     "execution_count": 52,
     "metadata": {},
     "output_type": "execute_result"
    },
    {
     "data": {
      "image/png": "[encoded data removed]",
      "text/plain": [
       "<Figure size 640x480 with 1 Axes>"
      ]
     },
     "metadata": {},
     "output_type": "display_data"
    }
   ],
   "source": [
    "coherence_scores = [info.coherence for info in cluster_infos]\n",
    "import matplotlib.pyplot as plt\n",
    "plt.hist(coherence_scores, bins=20)\n",
    "plt.xlabel(\"Coherence Score\")\n",
    "c"
   ]
  },
  {
   "cell_type": "code",
   "execution_count": 53,
   "id": "8d42c366",
   "metadata": {},
   "outputs": [
    {
     "data": {
      "text/html": [
       "<div>\n",
       "<style scoped>\n",
       "    .dataframe tbody tr th:only-of-type {\n",
       "        vertical-align: middle;\n",
       "    }\n",
       "\n",
       "    .dataframe tbody tr th {\n",
       "        vertical-align: top;\n",
       "    }\n",
       "\n",
       "    .dataframe thead th {\n",
       "        text-align: right;\n",
       "    }\n",
       "</style>\n",
       "<table border=\"1\" class=\"dataframe\">\n",
       "  <thead>\n",
       "    <tr style=\"text-align: right;\">\n",
       "      <th></th>\n",
       "      <th>ISRG</th>\n",
       "      <th>RSX</th>\n",
       "      <th>US_Transportation</th>\n",
       "      <th>Russell2000</th>\n",
       "      <th>US_Biotech</th>\n",
       "      <th>Google</th>\n",
       "      <th>V</th>\n",
       "      <th>US_Consumer_Staples</th>\n",
       "      <th>US_Consumer_Discretionary</th>\n",
       "      <th>BAC</th>\n",
       "      <th>...</th>\n",
       "      <th>MA</th>\n",
       "      <th>SLB</th>\n",
       "      <th>AAPL</th>\n",
       "      <th>HydrogenCCS</th>\n",
       "      <th>SAP</th>\n",
       "      <th>ASML</th>\n",
       "      <th>JNJ</th>\n",
       "      <th>CRM</th>\n",
       "      <th>CleanWater</th>\n",
       "      <th>BLK</th>\n",
       "    </tr>\n",
       "    <tr>\n",
       "      <th>date</th>\n",
       "      <th></th>\n",
       "      <th></th>\n",
       "      <th></th>\n",
       "      <th></th>\n",
       "      <th></th>\n",
       "      <th></th>\n",
       "      <th></th>\n",
       "      <th></th>\n",
       "      <th></th>\n",
       "      <th></th>\n",
       "      <th></th>\n",
       "      <th></th>\n",
       "      <th></th>\n",
       "      <th></th>\n",
       "      <th></th>\n",
       "      <th></th>\n",
       "      <th></th>\n",
       "      <th></th>\n",
       "      <th></th>\n",
       "      <th></th>\n",
       "      <th></th>\n",
       "    </tr>\n",
       "  </thead>\n",
       "  <tbody>\n",
       "    <tr>\n",
       "      <th>2020-09-05</th>\n",
       "      <td>0.000398</td>\n",
       "      <td>0.000957</td>\n",
       "      <td>0.000435</td>\n",
       "      <td>0.000413</td>\n",
       "      <td>0.000524</td>\n",
       "      <td>0.000332</td>\n",
       "      <td>0.000455</td>\n",
       "      <td>0.000462</td>\n",
       "      <td>0.000460</td>\n",
       "      <td>0.000378</td>\n",
       "      <td>...</td>\n",
       "      <td>0.000456</td>\n",
       "      <td>0.000252</td>\n",
       "      <td>0.000384</td>\n",
       "      <td>0.000382</td>\n",
       "      <td>0.000529</td>\n",
       "      <td>0.000292</td>\n",
       "      <td>0.000483</td>\n",
       "      <td>0.000598</td>\n",
       "      <td>0.000439</td>\n",
       "      <td>0.000376</td>\n",
       "    </tr>\n",
       "    <tr>\n",
       "      <th>2020-09-06</th>\n",
       "      <td>0.000393</td>\n",
       "      <td>0.000948</td>\n",
       "      <td>0.000434</td>\n",
       "      <td>0.000411</td>\n",
       "      <td>0.000522</td>\n",
       "      <td>0.000329</td>\n",
       "      <td>0.000452</td>\n",
       "      <td>0.000459</td>\n",
       "      <td>0.000459</td>\n",
       "      <td>0.000374</td>\n",
       "      <td>...</td>\n",
       "      <td>0.000454</td>\n",
       "      <td>0.000249</td>\n",
       "      <td>0.000377</td>\n",
       "      <td>0.000381</td>\n",
       "      <td>0.000525</td>\n",
       "      <td>0.000288</td>\n",
       "      <td>0.000482</td>\n",
       "      <td>0.000590</td>\n",
       "      <td>0.000437</td>\n",
       "      <td>0.000374</td>\n",
       "    </tr>\n",
       "    <tr>\n",
       "      <th>2020-09-07</th>\n",
       "      <td>0.000387</td>\n",
       "      <td>0.000940</td>\n",
       "      <td>0.000432</td>\n",
       "      <td>0.000409</td>\n",
       "      <td>0.000519</td>\n",
       "      <td>0.000326</td>\n",
       "      <td>0.000450</td>\n",
       "      <td>0.000457</td>\n",
       "      <td>0.000457</td>\n",
       "      <td>0.000370</td>\n",
       "      <td>...</td>\n",
       "      <td>0.000453</td>\n",
       "      <td>0.000246</td>\n",
       "      <td>0.000371</td>\n",
       "      <td>0.000380</td>\n",
       "      <td>0.000521</td>\n",
       "      <td>0.000284</td>\n",
       "      <td>0.000481</td>\n",
       "      <td>0.000582</td>\n",
       "      <td>0.000435</td>\n",
       "      <td>0.000372</td>\n",
       "    </tr>\n",
       "    <tr>\n",
       "      <th>2020-09-12</th>\n",
       "      <td>0.000388</td>\n",
       "      <td>0.000954</td>\n",
       "      <td>0.000440</td>\n",
       "      <td>0.000409</td>\n",
       "      <td>0.000530</td>\n",
       "      <td>0.000320</td>\n",
       "      <td>0.000452</td>\n",
       "      <td>0.000459</td>\n",
       "      <td>0.000460</td>\n",
       "      <td>0.000368</td>\n",
       "      <td>...</td>\n",
       "      <td>0.000455</td>\n",
       "      <td>0.000237</td>\n",
       "      <td>0.000365</td>\n",
       "      <td>0.000383</td>\n",
       "      <td>0.000534</td>\n",
       "      <td>0.000292</td>\n",
       "      <td>0.000482</td>\n",
       "      <td>0.000581</td>\n",
       "      <td>0.000445</td>\n",
       "      <td>0.000364</td>\n",
       "    </tr>\n",
       "    <tr>\n",
       "      <th>2020-09-13</th>\n",
       "      <td>0.000391</td>\n",
       "      <td>0.000958</td>\n",
       "      <td>0.000442</td>\n",
       "      <td>0.000413</td>\n",
       "      <td>0.000539</td>\n",
       "      <td>0.000320</td>\n",
       "      <td>0.000455</td>\n",
       "      <td>0.000460</td>\n",
       "      <td>0.000462</td>\n",
       "      <td>0.000369</td>\n",
       "      <td>...</td>\n",
       "      <td>0.000459</td>\n",
       "      <td>0.000238</td>\n",
       "      <td>0.000369</td>\n",
       "      <td>0.000386</td>\n",
       "      <td>0.000536</td>\n",
       "      <td>0.000294</td>\n",
       "      <td>0.000483</td>\n",
       "      <td>0.000584</td>\n",
       "      <td>0.000446</td>\n",
       "      <td>0.000365</td>\n",
       "    </tr>\n",
       "    <tr>\n",
       "      <th>...</th>\n",
       "      <td>...</td>\n",
       "      <td>...</td>\n",
       "      <td>...</td>\n",
       "      <td>...</td>\n",
       "      <td>...</td>\n",
       "      <td>...</td>\n",
       "      <td>...</td>\n",
       "      <td>...</td>\n",
       "      <td>...</td>\n",
       "      <td>...</td>\n",
       "      <td>...</td>\n",
       "      <td>...</td>\n",
       "      <td>...</td>\n",
       "      <td>...</td>\n",
       "      <td>...</td>\n",
       "      <td>...</td>\n",
       "      <td>...</td>\n",
       "      <td>...</td>\n",
       "      <td>...</td>\n",
       "      <td>...</td>\n",
       "      <td>...</td>\n",
       "    </tr>\n",
       "    <tr>\n",
       "      <th>2025-07-23</th>\n",
       "      <td>0.000827</td>\n",
       "      <td>0.000305</td>\n",
       "      <td>0.000662</td>\n",
       "      <td>0.000656</td>\n",
       "      <td>0.000559</td>\n",
       "      <td>0.000810</td>\n",
       "      <td>0.000821</td>\n",
       "      <td>0.000659</td>\n",
       "      <td>0.000741</td>\n",
       "      <td>0.000777</td>\n",
       "      <td>...</td>\n",
       "      <td>0.000790</td>\n",
       "      <td>0.000512</td>\n",
       "      <td>0.000710</td>\n",
       "      <td>0.000492</td>\n",
       "      <td>0.001055</td>\n",
       "      <td>0.000599</td>\n",
       "      <td>0.000631</td>\n",
       "      <td>0.000642</td>\n",
       "      <td>0.000574</td>\n",
       "      <td>0.000843</td>\n",
       "    </tr>\n",
       "    <tr>\n",
       "      <th>2025-07-24</th>\n",
       "      <td>0.000805</td>\n",
       "      <td>0.000305</td>\n",
       "      <td>0.000654</td>\n",
       "      <td>0.000647</td>\n",
       "      <td>0.000559</td>\n",
       "      <td>0.000819</td>\n",
       "      <td>0.000818</td>\n",
       "      <td>0.000657</td>\n",
       "      <td>0.000728</td>\n",
       "      <td>0.000781</td>\n",
       "      <td>...</td>\n",
       "      <td>0.000792</td>\n",
       "      <td>0.000513</td>\n",
       "      <td>0.000709</td>\n",
       "      <td>0.000492</td>\n",
       "      <td>0.001039</td>\n",
       "      <td>0.000606</td>\n",
       "      <td>0.000633</td>\n",
       "      <td>0.000643</td>\n",
       "      <td>0.000575</td>\n",
       "      <td>0.000841</td>\n",
       "    </tr>\n",
       "    <tr>\n",
       "      <th>2025-07-25</th>\n",
       "      <td>0.000817</td>\n",
       "      <td>0.000305</td>\n",
       "      <td>0.000661</td>\n",
       "      <td>0.000649</td>\n",
       "      <td>0.000559</td>\n",
       "      <td>0.000823</td>\n",
       "      <td>0.000825</td>\n",
       "      <td>0.000658</td>\n",
       "      <td>0.000735</td>\n",
       "      <td>0.000782</td>\n",
       "      <td>...</td>\n",
       "      <td>0.000799</td>\n",
       "      <td>0.000517</td>\n",
       "      <td>0.000709</td>\n",
       "      <td>0.000500</td>\n",
       "      <td>0.001046</td>\n",
       "      <td>0.000594</td>\n",
       "      <td>0.000628</td>\n",
       "      <td>0.000646</td>\n",
       "      <td>0.000579</td>\n",
       "      <td>0.000845</td>\n",
       "    </tr>\n",
       "    <tr>\n",
       "      <th>2025-07-26</th>\n",
       "      <td>0.000816</td>\n",
       "      <td>0.000305</td>\n",
       "      <td>0.000661</td>\n",
       "      <td>0.000649</td>\n",
       "      <td>0.000557</td>\n",
       "      <td>0.000822</td>\n",
       "      <td>0.000824</td>\n",
       "      <td>0.000656</td>\n",
       "      <td>0.000736</td>\n",
       "      <td>0.000781</td>\n",
       "      <td>...</td>\n",
       "      <td>0.000799</td>\n",
       "      <td>0.000519</td>\n",
       "      <td>0.000709</td>\n",
       "      <td>0.000499</td>\n",
       "      <td>0.001039</td>\n",
       "      <td>0.000600</td>\n",
       "      <td>0.000626</td>\n",
       "      <td>0.000647</td>\n",
       "      <td>0.000578</td>\n",
       "      <td>0.000843</td>\n",
       "    </tr>\n",
       "    <tr>\n",
       "      <th>2025-07-27</th>\n",
       "      <td>0.000815</td>\n",
       "      <td>0.000305</td>\n",
       "      <td>0.000660</td>\n",
       "      <td>0.000649</td>\n",
       "      <td>0.000555</td>\n",
       "      <td>0.000821</td>\n",
       "      <td>0.000823</td>\n",
       "      <td>0.000654</td>\n",
       "      <td>0.000738</td>\n",
       "      <td>0.000780</td>\n",
       "      <td>...</td>\n",
       "      <td>0.000799</td>\n",
       "      <td>0.000522</td>\n",
       "      <td>0.000709</td>\n",
       "      <td>0.000497</td>\n",
       "      <td>0.001032</td>\n",
       "      <td>0.000605</td>\n",
       "      <td>0.000623</td>\n",
       "      <td>0.000648</td>\n",
       "      <td>0.000576</td>\n",
       "      <td>0.000842</td>\n",
       "    </tr>\n",
       "  </tbody>\n",
       "</table>\n",
       "<p>1781 rows × 92 columns</p>\n",
       "</div>"
      ],
      "text/plain": [
       "                ISRG       RSX  US_Transportation  Russell2000  US_Biotech  \\\n",
       "date                                                                         \n",
       "2020-09-05  0.000398  0.000957           0.000435     0.000413    0.000524   \n",
       "2020-09-06  0.000393  0.000948           0.000434     0.000411    0.000522   \n",
       "2020-09-07  0.000387  0.000940           0.000432     0.000409    0.000519   \n",
       "2020-09-12  0.000388  0.000954           0.000440     0.000409    0.000530   \n",
       "2020-09-13  0.000391  0.000958           0.000442     0.000413    0.000539   \n",
       "...              ...       ...                ...          ...         ...   \n",
       "2025-07-23  0.000827  0.000305           0.000662     0.000656    0.000559   \n",
       "2025-07-24  0.000805  0.000305           0.000654     0.000647    0.000559   \n",
       "2025-07-25  0.000817  0.000305           0.000661     0.000649    0.000559   \n",
       "2025-07-26  0.000816  0.000305           0.000661     0.000649    0.000557   \n",
       "2025-07-27  0.000815  0.000305           0.000660     0.000649    0.000555   \n",
       "\n",
       "              Google         V  US_Consumer_Staples  \\\n",
       "date                                                  \n",
       "2020-09-05  0.000332  0.000455             0.000462   \n",
       "2020-09-06  0.000329  0.000452             0.000459   \n",
       "2020-09-07  0.000326  0.000450             0.000457   \n",
       "2020-09-12  0.000320  0.000452             0.000459   \n",
       "2020-09-13  0.000320  0.000455             0.000460   \n",
       "...              ...       ...                  ...   \n",
       "2025-07-23  0.000810  0.000821             0.000659   \n",
       "2025-07-24  0.000819  0.000818             0.000657   \n",
       "2025-07-25  0.000823  0.000825             0.000658   \n",
       "2025-07-26  0.000822  0.000824             0.000656   \n",
       "2025-07-27  0.000821  0.000823             0.000654   \n",
       "\n",
       "            US_Consumer_Discretionary       BAC  ...        MA       SLB  \\\n",
       "date                                             ...                       \n",
       "2020-09-05                   0.000460  0.000378  ...  0.000456  0.000252   \n",
       "2020-09-06                   0.000459  0.000374  ...  0.000454  0.000249   \n",
       "2020-09-07                   0.000457  0.000370  ...  0.000453  0.000246   \n",
       "2020-09-12                   0.000460  0.000368  ...  0.000455  0.000237   \n",
       "2020-09-13                   0.000462  0.000369  ...  0.000459  0.000238   \n",
       "...                               ...       ...  ...       ...       ...   \n",
       "2025-07-23                   0.000741  0.000777  ...  0.000790  0.000512   \n",
       "2025-07-24                   0.000728  0.000781  ...  0.000792  0.000513   \n",
       "2025-07-25                   0.000735  0.000782  ...  0.000799  0.000517   \n",
       "2025-07-26                   0.000736  0.000781  ...  0.000799  0.000519   \n",
       "2025-07-27                   0.000738  0.000780  ...  0.000799  0.000522   \n",
       "\n",
       "                AAPL  HydrogenCCS       SAP      ASML       JNJ       CRM  \\\n",
       "date                                                                        \n",
       "2020-09-05  0.000384     0.000382  0.000529  0.000292  0.000483  0.000598   \n",
       "2020-09-06  0.000377     0.000381  0.000525  0.000288  0.000482  0.000590   \n",
       "2020-09-07  0.000371     0.000380  0.000521  0.000284  0.000481  0.000582   \n",
       "2020-09-12  0.000365     0.000383  0.000534  0.000292  0.000482  0.000581   \n",
       "2020-09-13  0.000369     0.000386  0.000536  0.000294  0.000483  0.000584   \n",
       "...              ...          ...       ...       ...       ...       ...   \n",
       "2025-07-23  0.000710     0.000492  0.001055  0.000599  0.000631  0.000642   \n",
       "2025-07-24  0.000709     0.000492  0.001039  0.000606  0.000633  0.000643   \n",
       "2025-07-25  0.000709     0.000500  0.001046  0.000594  0.000628  0.000646   \n",
       "2025-07-26  0.000709     0.000499  0.001039  0.000600  0.000626  0.000647   \n",
       "2025-07-27  0.000709     0.000497  0.001032  0.000605  0.000623  0.000648   \n",
       "\n",
       "            CleanWater       BLK  \n",
       "date                              \n",
       "2020-09-05    0.000439  0.000376  \n",
       "2020-09-06    0.000437  0.000374  \n",
       "2020-09-07    0.000435  0.000372  \n",
       "2020-09-12    0.000445  0.000364  \n",
       "2020-09-13    0.000446  0.000365  \n",
       "...                ...       ...  \n",
       "2025-07-23    0.000574  0.000843  \n",
       "2025-07-24    0.000575  0.000841  \n",
       "2025-07-25    0.000579  0.000845  \n",
       "2025-07-26    0.000578  0.000843  \n",
       "2025-07-27    0.000576  0.000842  \n",
       "\n",
       "[1781 rows x 92 columns]"
      ]
     },
     "execution_count": 53,
     "metadata": {},
     "output_type": "execute_result"
    }
   ],
   "source": [
    "prices"
   ]
  },
  {
   "cell_type": "code",
   "execution_count": 63,
   "id": "a4f1dc81",
   "metadata": {},
   "outputs": [
    {
     "data": {
      "text/plain": [
       "(92, 2)"
      ]
     },
     "execution_count": 63,
     "metadata": {},
     "output_type": "execute_result"
    }
   ],
   "source": [
    "X_embedded.shape"
   ]
  },
  {
   "cell_type": "code",
   "execution_count": 80,
   "id": "e17a605d",
   "metadata": {},
   "outputs": [
    {
     "name": "stderr",
     "output_type": "stream",
     "text": [
      "/Users/ronraisch/miniforge3/envs/needle/lib/python3.10/site-packages/umap/umap_.py:1952: UserWarning:\n",
      "\n",
      "n_jobs value 1 overridden to 1 by setting random_state. Use no seed for parallelism.\n",
      "\n"
     ]
    },
    {
     "data": {
      "text/plain": [
       "0    23\n",
       "1    38\n",
       "2    20\n",
       "3     5\n",
       "4     6\n",
       "dtype: int64"
      ]
     },
     "execution_count": 80,
     "metadata": {},
     "output_type": "execute_result"
    }
   ],
   "source": [
    "reducer = umap.UMAP(n_neighbors=5, min_dist=0.1, random_state=0)\n",
    "X_embedded = reducer.fit_transform(prices.T)\n",
    "\n",
    "dbscan = DBSCAN(eps=0.8, min_samples=5)\n",
    "labels = dbscan.fit_predict(X_embedded)\n",
    "count = np.unique(labels, return_counts=True)\n",
    "pd.Series(count[1], index=count[0]).sort_index()"
   ]
  },
  {
   "cell_type": "code",
   "execution_count": null,
   "id": "aac3ef0b",
   "metadata": {},
   "outputs": [],
   "source": []
  },
  {
   "cell_type": "code",
   "execution_count": 83,
   "id": "af5be757",
   "metadata": {},
   "outputs": [
    {
     "data": {
      "application/vnd.plotly.v1+json": {
       "config": {
        "plotlyServerURL": "https://plot.ly"
       },
       "data": [
        {
         "hovertemplate": "<b>%{hovertext}</b><br><br>color=0<br>x=%{x}<br>y=%{y}<extra></extra>",
         "hovertext": [
          "ISRG",
          "NOW",
          "LLY",
          "COST",
          "BKNG",
          "TSM",
          "ORCL",
          "UBER",
          "Rebuilding_America_Grid_Chips",
          "GenderDiversity",
          "NVDA",
          "IBM",
          "AIEthics",
          "GS",
          "PANW",
          "AI_Infrastructure_Stack",
          "NFLX",
          "JPM",
          "META",
          "CRWD",
          "AVGO",
          "SupportIsrael",
          "SAP"
         ],
         "legendgroup": "0",
         "marker": {
          "color": "#636efa",
          "line": {
           "color": "DarkSlateGrey",
           "width": 1
          },
          "size": 10,
          "symbol": "circle"
         },
         "mode": "markers",
         "name": "0",
         "orientation": "v",
         "showlegend": true,
         "type": "scatter",
         "x": {
          "bdata": "FGjoQEcP4UAprQZBQc4FQUCvAkEoTPVAd3kIQUYd7kD2ngpB0loMQXraCkH/cf9A9j3kQIGA60C3HglBt9kGQVonAkF/MfVA/3QEQXY590DlqAxBcmcJQZ3KAUE=",
          "dtype": "f4"
         },
         "xaxis": "x",
         "y": {
          "bdata": "2cwnQPRJQkCaZRc/zmOiPzFJ/j99JS1ADzHNPz1sP0C7FZE/HG19P6+h9j4L8uc/mEk2QBrzFkDkkYA/82kbPwY4KEB50AxACwIoQFJEMUDOSf4+UExMPyR0HUA=",
          "dtype": "f4"
         },
         "yaxis": "y"
        },
        {
         "hovertemplate": "<b>%{hovertext}</b><br><br>color=1<br>x=%{x}<br>y=%{y}<extra></extra>",
         "hovertext": [
          "RSX",
          "US_Transportation",
          "Russell2000",
          "US_Biotech",
          "US_Consumer_Staples",
          "US_Consumer_Discretionary",
          "BAC",
          "ISRA",
          "ERUS",
          "ICLN",
          "TAN",
          "AMZN",
          "INTC",
          "TMO",
          "SHE",
          "ADSK",
          "NEE",
          "US_Regional_Banks",
          "US_Communication_Services",
          "US_Real_Estate",
          "US_HealthCare_Sector",
          "CircularEconomy",
          "US_Banks",
          "TSLA",
          "US_Materials",
          "DHR",
          "VeteranFriendly",
          "Tesla",
          "SHOP",
          "US_Utilities",
          "EIS",
          "FRDM",
          "UNH",
          "HydrogenCCS",
          "JNJ",
          "CRM",
          "CleanWater",
          "BLK"
         ],
         "legendgroup": "1",
         "marker": {
          "color": "#EF553B",
          "line": {
           "color": "DarkSlateGrey",
           "width": 1
          },
          "size": 10,
          "symbol": "circle"
         },
         "mode": "markers",
         "name": "1",
         "orientation": "v",
         "showlegend": true,
         "type": "scatter",
         "x": {
          "bdata": "dQSEvrl10T+yKZE/am8FP8O0BUCKWx5AZDzJP3R+gz/kqYe+eFPtPG8LRL5tqjxAJy8CvmIojD8YEDFAEpVhP7iGLz/Q/5k/L2NEQJYhnD8+MOU/xWMrQA4xsD+8YBpAOzPhP7BcdT/J5zpAj0sQQPauID/CjBxAoMjoP63KEkA1pOY/zRtfPiA4sD+R3TtAeyRYP5v7NkA=",
          "dtype": "f4"
         },
         "xaxis": "x",
         "y": {
          "bdata": "g/oGQAGHLUBJqxdAgecgQGLTa0AhbdM/KiCwP4lA+j8+lghAgg4wQHZxJkBZXtQ/g20hQD9HXkAwhgtA1KUGQFYfTUBNmdg/tMXcP8n4NUD/rW9AM9YcQCh+vT+Mpbo/i/xRQJjwUUAOZV1ApwSfPzaA8j/C/2hAjt6gP+ujG0AAh3ZAvbI8QJaJZEAi9Mw/UNFAQMURCkA=",
          "dtype": "f4"
         },
         "yaxis": "y"
        },
        {
         "hovertemplate": "<b>%{hovertext}</b><br><br>color=2<br>x=%{x}<br>y=%{y}<extra></extra>",
         "hovertext": [
          "Google",
          "V",
          "SYK",
          "US_Tech_Sector",
          "MSFT",
          "Nasdaq100",
          "AMD",
          "US_Industrials",
          "LargeTech",
          "US_Homebuilders",
          "US_Financials_Sector",
          "GOOGL",
          "DowJones30",
          "PHO",
          "S&P500_ETF",
          "S&P500",
          "MS",
          "LGBTQEquality",
          "MA",
          "ASML"
         ],
         "legendgroup": "2",
         "marker": {
          "color": "#00cc96",
          "line": {
           "color": "DarkSlateGrey",
           "width": 1
          },
          "size": 10,
          "symbol": "circle"
         },
         "mode": "markers",
         "name": "2",
         "orientation": "v",
         "showlegend": true,
         "type": "scatter",
         "x": {
          "bdata": "DQi2QMvNjUA+M5FAUQnCQLJ+ukBK6LhAAlqvQPeneED+q7BA2WS4QJ/odUDpGLFA4BZKQAUyUUB/0n5A5+phQMHWhUABxZ9A+buLQE89nkA=",
          "dtype": "f4"
         },
         "xaxis": "x",
         "y": {
          "bdata": "tkl9QAgCW0AKq05A/BVjQMgAZUDdoXJAlk9JQC1OT0CgsIBALOVgQL1gNEBzNIBAr4ZOQNPlSUCISlVATPs5QKzvLEBJ9XdAyqVZQPWqOEA=",
          "dtype": "f4"
         },
         "yaxis": "y"
        },
        {
         "hovertemplate": "<b>%{hovertext}</b><br><br>color=4<br>x=%{x}<br>y=%{y}<extra></extra>",
         "hovertext": [
          "MRK",
          "APPLE",
          "SupportUkraine",
          "REGN",
          "NVO",
          "AAPL"
         ],
         "legendgroup": "4",
         "marker": {
          "color": "#ab63fa",
          "line": {
           "color": "DarkSlateGrey",
           "width": 1
          },
          "size": 10,
          "symbol": "circle"
         },
         "mode": "markers",
         "name": "4",
         "orientation": "v",
         "showlegend": true,
         "type": "scatter",
         "x": {
          "bdata": "qC9sQJdOkEBVoodAbCJmQLhYaUDAiZFA",
          "dtype": "f4"
         },
         "xaxis": "x",
         "y": {
          "bdata": "DBiuQKNQlkAikKJAeumoQGU+q0CtxJVA",
          "dtype": "f4"
         },
         "yaxis": "y"
        },
        {
         "hovertemplate": "<b>%{hovertext}</b><br><br>color=3<br>x=%{x}<br>y=%{y}<extra></extra>",
         "hovertext": [
          "XOM",
          "CVX",
          "COP",
          "US_Energy",
          "SLB"
         ],
         "legendgroup": "3",
         "marker": {
          "color": "#FFA15A",
          "line": {
           "color": "DarkSlateGrey",
           "width": 1
          },
          "size": 10,
          "symbol": "circle"
         },
         "mode": "markers",
         "name": "3",
         "orientation": "v",
         "showlegend": true,
         "type": "scatter",
         "x": {
          "bdata": "S8hyQLcyb0CZGH5AvK51QD0GZ0A=",
          "dtype": "f4"
         },
         "xaxis": "x",
         "y": {
          "bdata": "1XnJQJFsy0CGLshAZPPJQENl0EA=",
          "dtype": "f4"
         },
         "yaxis": "y"
        }
       ],
       "layout": {
        "height": 600,
        "legend": {
         "title": {
          "text": "color"
         },
         "tracegroupgap": 0
        },
        "margin": {
         "t": 60
        },
        "template": {
         "data": {
          "bar": [
           {
            "error_x": {
             "color": "#2a3f5f"
            },
            "error_y": {
             "color": "#2a3f5f"
            },
            "marker": {
             "line": {
              "color": "#E5ECF6",
              "width": 0.5
             },
             "pattern": {
              "fillmode": "overlay",
              "size": 10,
              "solidity": 0.2
             }
            },
            "type": "bar"
           }
          ],
          "barpolar": [
           {
            "marker": {
             "line": {
              "color": "#E5ECF6",
              "width": 0.5
             },
             "pattern": {
              "fillmode": "overlay",
              "size": 10,
              "solidity": 0.2
             }
            },
            "type": "barpolar"
           }
          ],
          "carpet": [
           {
            "aaxis": {
             "endlinecolor": "#2a3f5f",
             "gridcolor": "white",
             "linecolor": "white",
             "minorgridcolor": "white",
             "startlinecolor": "#2a3f5f"
            },
            "baxis": {
             "endlinecolor": "#2a3f5f",
             "gridcolor": "white",
             "linecolor": "white",
             "minorgridcolor": "white",
             "startlinecolor": "#2a3f5f"
            },
            "type": "carpet"
           }
          ],
          "choropleth": [
           {
            "colorbar": {
             "outlinewidth": 0,
             "ticks": ""
            },
            "type": "choropleth"
           }
          ],
          "contour": [
           {
            "colorbar": {
             "outlinewidth": 0,
             "ticks": ""
            },
            "colorscale": [
             [
              0,
              "#0d0887"
             ],
             [
              0.1111111111111111,
              "#46039f"
             ],
             [
              0.2222222222222222,
              "#7201a8"
             ],
             [
              0.3333333333333333,
              "#9c179e"
             ],
             [
              0.4444444444444444,
              "#bd3786"
             ],
             [
              0.5555555555555556,
              "#d8576b"
             ],
             [
              0.6666666666666666,
              "#ed7953"
             ],
             [
              0.7777777777777778,
              "#fb9f3a"
             ],
             [
              0.8888888888888888,
              "#fdca26"
             ],
             [
              1,
              "#f0f921"
             ]
            ],
            "type": "contour"
           }
          ],
          "contourcarpet": [
           {
            "colorbar": {
             "outlinewidth": 0,
             "ticks": ""
            },
            "type": "contourcarpet"
           }
          ],
          "heatmap": [
           {
            "colorbar": {
             "outlinewidth": 0,
             "ticks": ""
            },
            "colorscale": [
             [
              0,
              "#0d0887"
             ],
             [
              0.1111111111111111,
              "#46039f"
             ],
             [
              0.2222222222222222,
              "#7201a8"
             ],
             [
              0.3333333333333333,
              "#9c179e"
             ],
             [
              0.4444444444444444,
              "#bd3786"
             ],
             [
              0.5555555555555556,
              "#d8576b"
             ],
             [
              0.6666666666666666,
              "#ed7953"
             ],
             [
              0.7777777777777778,
              "#fb9f3a"
             ],
             [
              0.8888888888888888,
              "#fdca26"
             ],
             [
              1,
              "#f0f921"
             ]
            ],
            "type": "heatmap"
           }
          ],
          "histogram": [
           {
            "marker": {
             "pattern": {
              "fillmode": "overlay",
              "size": 10,
              "solidity": 0.2
             }
            },
            "type": "histogram"
           }
          ],
          "histogram2d": [
           {
            "colorbar": {
             "outlinewidth": 0,
             "ticks": ""
            },
            "colorscale": [
             [
              0,
              "#0d0887"
             ],
             [
              0.1111111111111111,
              "#46039f"
             ],
             [
              0.2222222222222222,
              "#7201a8"
             ],
             [
              0.3333333333333333,
              "#9c179e"
             ],
             [
              0.4444444444444444,
              "#bd3786"
             ],
             [
              0.5555555555555556,
              "#d8576b"
             ],
             [
              0.6666666666666666,
              "#ed7953"
             ],
             [
              0.7777777777777778,
              "#fb9f3a"
             ],
             [
              0.8888888888888888,
              "#fdca26"
             ],
             [
              1,
              "#f0f921"
             ]
            ],
            "type": "histogram2d"
           }
          ],
          "histogram2dcontour": [
           {
            "colorbar": {
             "outlinewidth": 0,
             "ticks": ""
            },
            "colorscale": [
             [
              0,
              "#0d0887"
             ],
             [
              0.1111111111111111,
              "#46039f"
             ],
             [
              0.2222222222222222,
              "#7201a8"
             ],
             [
              0.3333333333333333,
              "#9c179e"
             ],
             [
              0.4444444444444444,
              "#bd3786"
             ],
             [
              0.5555555555555556,
              "#d8576b"
             ],
             [
              0.6666666666666666,
              "#ed7953"
             ],
             [
              0.7777777777777778,
              "#fb9f3a"
             ],
             [
              0.8888888888888888,
              "#fdca26"
             ],
             [
              1,
              "#f0f921"
             ]
            ],
            "type": "histogram2dcontour"
           }
          ],
          "mesh3d": [
           {
            "colorbar": {
             "outlinewidth": 0,
             "ticks": ""
            },
            "type": "mesh3d"
           }
          ],
          "parcoords": [
           {
            "line": {
             "colorbar": {
              "outlinewidth": 0,
              "ticks": ""
             }
            },
            "type": "parcoords"
           }
          ],
          "pie": [
           {
            "automargin": true,
            "type": "pie"
           }
          ],
          "scatter": [
           {
            "fillpattern": {
             "fillmode": "overlay",
             "size": 10,
             "solidity": 0.2
            },
            "type": "scatter"
           }
          ],
          "scatter3d": [
           {
            "line": {
             "colorbar": {
              "outlinewidth": 0,
              "ticks": ""
             }
            },
            "marker": {
             "colorbar": {
              "outlinewidth": 0,
              "ticks": ""
             }
            },
            "type": "scatter3d"
           }
          ],
          "scattercarpet": [
           {
            "marker": {
             "colorbar": {
              "outlinewidth": 0,
              "ticks": ""
             }
            },
            "type": "scattercarpet"
           }
          ],
          "scattergeo": [
           {
            "marker": {
             "colorbar": {
              "outlinewidth": 0,
              "ticks": ""
             }
            },
            "type": "scattergeo"
           }
          ],
          "scattergl": [
           {
            "marker": {
             "colorbar": {
              "outlinewidth": 0,
              "ticks": ""
             }
            },
            "type": "scattergl"
           }
          ],
          "scattermap": [
           {
            "marker": {
             "colorbar": {
              "outlinewidth": 0,
              "ticks": ""
             }
            },
            "type": "scattermap"
           }
          ],
          "scattermapbox": [
           {
            "marker": {
             "colorbar": {
              "outlinewidth": 0,
              "ticks": ""
             }
            },
            "type": "scattermapbox"
           }
          ],
          "scatterpolar": [
           {
            "marker": {
             "colorbar": {
              "outlinewidth": 0,
              "ticks": ""
             }
            },
            "type": "scatterpolar"
           }
          ],
          "scatterpolargl": [
           {
            "marker": {
             "colorbar": {
              "outlinewidth": 0,
              "ticks": ""
             }
            },
            "type": "scatterpolargl"
           }
          ],
          "scatterternary": [
           {
            "marker": {
             "colorbar": {
              "outlinewidth": 0,
              "ticks": ""
             }
            },
            "type": "scatterternary"
           }
          ],
          "surface": [
           {
            "colorbar": {
             "outlinewidth": 0,
             "ticks": ""
            },
            "colorscale": [
             [
              0,
              "#0d0887"
             ],
             [
              0.1111111111111111,
              "#46039f"
             ],
             [
              0.2222222222222222,
              "#7201a8"
             ],
             [
              0.3333333333333333,
              "#9c179e"
             ],
             [
              0.4444444444444444,
              "#bd3786"
             ],
             [
              0.5555555555555556,
              "#d8576b"
             ],
             [
              0.6666666666666666,
              "#ed7953"
             ],
             [
              0.7777777777777778,
              "#fb9f3a"
             ],
             [
              0.8888888888888888,
              "#fdca26"
             ],
             [
              1,
              "#f0f921"
             ]
            ],
            "type": "surface"
           }
          ],
          "table": [
           {
            "cells": {
             "fill": {
              "color": "#EBF0F8"
             },
             "line": {
              "color": "white"
             }
            },
            "header": {
             "fill": {
              "color": "#C8D4E3"
             },
             "line": {
              "color": "white"
             }
            },
            "type": "table"
           }
          ]
         },
         "layout": {
          "annotationdefaults": {
           "arrowcolor": "#2a3f5f",
           "arrowhead": 0,
           "arrowwidth": 1
          },
          "autotypenumbers": "strict",
          "coloraxis": {
           "colorbar": {
            "outlinewidth": 0,
            "ticks": ""
           }
          },
          "colorscale": {
           "diverging": [
            [
             0,
             "#8e0152"
            ],
            [
             0.1,
             "#c51b7d"
            ],
            [
             0.2,
             "#de77ae"
            ],
            [
             0.3,
             "#f1b6da"
            ],
            [
             0.4,
             "#fde0ef"
            ],
            [
             0.5,
             "#f7f7f7"
            ],
            [
             0.6,
             "#e6f5d0"
            ],
            [
             0.7,
             "#b8e186"
            ],
            [
             0.8,
             "#7fbc41"
            ],
            [
             0.9,
             "#4d9221"
            ],
            [
             1,
             "#276419"
            ]
           ],
           "sequential": [
            [
             0,
             "#0d0887"
            ],
            [
             0.1111111111111111,
             "#46039f"
            ],
            [
             0.2222222222222222,
             "#7201a8"
            ],
            [
             0.3333333333333333,
             "#9c179e"
            ],
            [
             0.4444444444444444,
             "#bd3786"
            ],
            [
             0.5555555555555556,
             "#d8576b"
            ],
            [
             0.6666666666666666,
             "#ed7953"
            ],
            [
             0.7777777777777778,
             "#fb9f3a"
            ],
            [
             0.8888888888888888,
             "#fdca26"
            ],
            [
             1,
             "#f0f921"
            ]
           ],
           "sequentialminus": [
            [
             0,
             "#0d0887"
            ],
            [
             0.1111111111111111,
             "#46039f"
            ],
            [
             0.2222222222222222,
             "#7201a8"
            ],
            [
             0.3333333333333333,
             "#9c179e"
            ],
            [
             0.4444444444444444,
             "#bd3786"
            ],
            [
             0.5555555555555556,
             "#d8576b"
            ],
            [
             0.6666666666666666,
             "#ed7953"
            ],
            [
             0.7777777777777778,
             "#fb9f3a"
            ],
            [
             0.8888888888888888,
             "#fdca26"
            ],
            [
             1,
             "#f0f921"
            ]
           ]
          },
          "colorway": [
           "#636efa",
           "#EF553B",
           "#00cc96",
           "#ab63fa",
           "#FFA15A",
           "#19d3f3",
           "#FF6692",
           "#B6E880",
           "#FF97FF",
           "#FECB52"
          ],
          "font": {
           "color": "#2a3f5f"
          },
          "geo": {
           "bgcolor": "white",
           "lakecolor": "white",
           "landcolor": "#E5ECF6",
           "showlakes": true,
           "showland": true,
           "subunitcolor": "white"
          },
          "hoverlabel": {
           "align": "left"
          },
          "hovermode": "closest",
          "mapbox": {
           "style": "light"
          },
          "paper_bgcolor": "white",
          "plot_bgcolor": "#E5ECF6",
          "polar": {
           "angularaxis": {
            "gridcolor": "white",
            "linecolor": "white",
            "ticks": ""
           },
           "bgcolor": "#E5ECF6",
           "radialaxis": {
            "gridcolor": "white",
            "linecolor": "white",
            "ticks": ""
           }
          },
          "scene": {
           "xaxis": {
            "backgroundcolor": "#E5ECF6",
            "gridcolor": "white",
            "gridwidth": 2,
            "linecolor": "white",
            "showbackground": true,
            "ticks": "",
            "zerolinecolor": "white"
           },
           "yaxis": {
            "backgroundcolor": "#E5ECF6",
            "gridcolor": "white",
            "gridwidth": 2,
            "linecolor": "white",
            "showbackground": true,
            "ticks": "",
            "zerolinecolor": "white"
           },
           "zaxis": {
            "backgroundcolor": "#E5ECF6",
            "gridcolor": "white",
            "gridwidth": 2,
            "linecolor": "white",
            "showbackground": true,
            "ticks": "",
            "zerolinecolor": "white"
           }
          },
          "shapedefaults": {
           "line": {
            "color": "#2a3f5f"
           }
          },
          "ternary": {
           "aaxis": {
            "gridcolor": "white",
            "linecolor": "white",
            "ticks": ""
           },
           "baxis": {
            "gridcolor": "white",
            "linecolor": "white",
            "ticks": ""
           },
           "bgcolor": "#E5ECF6",
           "caxis": {
            "gridcolor": "white",
            "linecolor": "white",
            "ticks": ""
           }
          },
          "title": {
           "x": 0.05
          },
          "xaxis": {
           "automargin": true,
           "gridcolor": "white",
           "linecolor": "white",
           "ticks": "",
           "title": {
            "standoff": 15
           },
           "zerolinecolor": "white",
           "zerolinewidth": 2
          },
          "yaxis": {
           "automargin": true,
           "gridcolor": "white",
           "linecolor": "white",
           "ticks": "",
           "title": {
            "standoff": 15
           },
           "zerolinecolor": "white",
           "zerolinewidth": 2
          }
         }
        },
        "width": 600,
        "xaxis": {
         "anchor": "y",
         "domain": [
          0,
          1
         ],
         "title": {
          "text": "x"
         }
        },
        "yaxis": {
         "anchor": "x",
         "domain": [
          0,
          1
         ],
         "title": {
          "text": "y"
         }
        }
       }
      }
     },
     "metadata": {},
     "output_type": "display_data"
    }
   ],
   "source": [
    "mask = labels != -2\n",
    "\n",
    "fig = px.scatter(\n",
    "    x=X_embedded[mask, 0],\n",
    "    y=X_embedded[mask, 1],\n",
    "    color=labels[mask].astype(str),\n",
    "    hover_name=[prices.columns[i] for i in np.where(mask)[0]],\n",
    "    width=600,\n",
    "    height=600\n",
    ")\n",
    "fig.update_traces(marker=dict(size=10, line=dict(width=1, color='DarkSlateGrey')))\n",
    "fig.show()"
   ]
  },
  {
   "cell_type": "code",
   "execution_count": 82,
   "id": "56cdabd4",
   "metadata": {},
   "outputs": [
    {
     "data": {
      "text/plain": [
       "Index(['ISRG', 'RSX', 'US_Transportation', 'Russell2000', 'US_Biotech',\n",
       "       'Google', 'V', 'US_Consumer_Staples', 'US_Consumer_Discretionary',\n",
       "       'BAC', 'ISRA', 'SYK', 'NOW', 'ERUS', 'LLY', 'COST', 'BKNG', 'MRK',\n",
       "       'TSM', 'ICLN', 'ORCL', 'TAN', 'AMZN', 'INTC', 'US_Tech_Sector', 'APPLE',\n",
       "       'TMO', 'SHE', 'ADSK', 'NEE', 'MSFT', 'UBER',\n",
       "       'Rebuilding_America_Grid_Chips', 'GenderDiversity', 'Nasdaq100', 'AMD',\n",
       "       'NVDA', 'US_Regional_Banks', 'XOM', 'CVX', 'US_Industrials', 'IBM',\n",
       "       'LargeTech', 'AIEthics', 'US_Homebuilders', 'GS',\n",
       "       'US_Communication_Services', 'PANW', 'US_Real_Estate',\n",
       "       'US_Financials_Sector', 'US_HealthCare_Sector', 'CircularEconomy',\n",
       "       'AI_Infrastructure_Stack', 'US_Banks', 'SupportUkraine', 'NFLX', 'JPM',\n",
       "       'TSLA', 'COP', 'US_Materials', 'DHR', 'GOOGL', 'VeteranFriendly',\n",
       "       'Tesla', 'META', 'CRWD', 'SHOP', 'AVGO', 'REGN', 'US_Energy',\n",
       "       'US_Utilities', 'DowJones30', 'PHO', 'EIS', 'S&P500_ETF', 'FRDM',\n",
       "       'S&P500', 'NVO', 'SupportIsrael', 'MS', 'LGBTQEquality', 'UNH', 'MA',\n",
       "       'SLB', 'AAPL', 'HydrogenCCS', 'SAP', 'ASML', 'JNJ', 'CRM', 'CleanWater',\n",
       "       'BLK'],\n",
       "      dtype='object')"
      ]
     },
     "execution_count": 82,
     "metadata": {},
     "output_type": "execute_result"
    }
   ],
   "source": [
    "prices.columns"
   ]
  },
  {
   "cell_type": "code",
   "execution_count": 1,
   "id": "70f326d1",
   "metadata": {},
   "outputs": [
    {
     "ename": "NameError",
     "evalue": "name 'prices' is not defined",
     "output_type": "error",
     "traceback": [
      "\u001b[0;31m---------------------------------------------------------------------------\u001b[0m",
      "\u001b[0;31mNameError\u001b[0m                                 Traceback (most recent call last)",
      "Cell \u001b[0;32mIn[1], line 1\u001b[0m\n\u001b[0;32m----> 1\u001b[0m \u001b[43mprices\u001b[49m\n",
      "\u001b[0;31mNameError\u001b[0m: name 'prices' is not defined"
     ]
    }
   ],
   "source": [
    "prices"
   ]
  },
  {
   "cell_type": "code",
   "execution_count": null,
   "id": "a34e4ce2",
   "metadata": {},
   "outputs": [],
   "source": []
  }
 ],
 "metadata": {
  "kernelspec": {
   "display_name": "needle",
   "language": "python",
   "name": "python3"
  },
  "language_info": {
   "codemirror_mode": {
    "name": "ipython",
    "version": 3
   },
   "file_extension": ".py",
   "mimetype": "text/x-python",
   "name": "python",
   "nbconvert_exporter": "python",
   "pygments_lexer": "ipython3",
   "version": "3.10.18"
  }
 },
 "nbformat": 4,
 "nbformat_minor": 5
}
