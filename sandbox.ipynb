{
 "cells": [
  {
   "cell_type": "code",
   "execution_count": 35,
   "id": "7b52dddb",
   "metadata": {},
   "outputs": [],
   "source": [
    "import pandas as pd\n",
    "import numpy as np\n",
    "import plotly.express as px\n",
    "from pathlib import Path\n",
    "from tslearn.clustering import TimeSeriesKMeans\n",
    "from sklearn.preprocessing import StandardScaler\n",
    "import umap\n",
    "from sklearn.cluster import KMeans\n",
    "from sklearn.cluster import DBSCAN\n"
   ]
  },
  {
   "cell_type": "code",
   "execution_count": 18,
   "id": "fb603e2e",
   "metadata": {},
   "outputs": [
    {
     "data": {
      "text/plain": [
       "((1781, 1859), (1781, 92), (1781, 92))"
      ]
     },
     "execution_count": 18,
     "metadata": {},
     "output_type": "execute_result"
    }
   ],
   "source": [
    "DATA_ROOT = Path(\"data\")\n",
    "PROCESSED_DATA = DATA_ROOT / \"processed\"\n",
    "\n",
    "trends = pd.read_csv(PROCESSED_DATA / \"trends.csv\", index_col=0, parse_dates=True)\n",
    "prices = pd.read_csv(PROCESSED_DATA / \"prices.csv\", index_col=0, parse_dates=True)\n",
    "volumes = pd.read_csv(PROCESSED_DATA / \"volumes.csv\", index_col=0, parse_dates=True)\n",
    "\n",
    "trends.shape, prices.shape, volumes.shape"
   ]
  },
  {
   "cell_type": "code",
   "execution_count": 34,
   "id": "b5807b48",
   "metadata": {},
   "outputs": [
    {
     "data": {
      "text/plain": [
       "66"
      ]
     },
     "execution_count": 34,
     "metadata": {},
     "output_type": "execute_result"
    }
   ],
   "source": [
    "len(trends.columns.intersection(prices.columns))"
   ]
  },
  {
   "cell_type": "code",
   "execution_count": 19,
   "id": "6bffdc5b",
   "metadata": {},
   "outputs": [
    {
     "data": {
      "text/plain": [
       "(1951, 1781)"
      ]
     },
     "execution_count": 19,
     "metadata": {},
     "output_type": "execute_result"
    }
   ],
   "source": [
    "def normalize_df(df: pd.DataFrame) -> pd.DataFrame:\n",
    "    # return (df - df.min()) / (df.max() - df.min())\n",
    "    return df/df.sum(axis=0)\n",
    "\n",
    "trends = normalize_df(trends)\n",
    "prices = normalize_df(prices)\n",
    "volumes = normalize_df(volumes)\n",
    "\n",
    "unified = pd.concat([trends, volumes], axis=1).T\n",
    "unified.shape"
   ]
  },
  {
   "cell_type": "code",
   "execution_count": 30,
   "id": "5a4b5550",
   "metadata": {},
   "outputs": [
    {
     "data": {
      "text/plain": [
       "(1781, 92)"
      ]
     },
     "execution_count": 30,
     "metadata": {},
     "output_type": "execute_result"
    }
   ],
   "source": [
    "prices.shape"
   ]
  },
  {
   "cell_type": "code",
   "execution_count": 29,
   "id": "d4625c18",
   "metadata": {},
   "outputs": [
    {
     "data": {
      "text/plain": [
       "Index(['ISRG', 'RSX', 'Russell2000', 'Google', 'V',\n",
       "       'US_Consumer_Discretionary', 'BAC', 'ISRA', 'SYK', 'NOW',\n",
       "       ...\n",
       "       'MA', 'SLB', 'AAPL', 'HydrogenCCS', 'SAP', 'ASML', 'JNJ', 'CRM',\n",
       "       'CleanWater', 'BLK'],\n",
       "      dtype='object', length=132)"
      ]
     },
     "execution_count": 29,
     "metadata": {},
     "output_type": "execute_result"
    }
   ],
   "source": [
    "duplicates = unified.loc[unified.index.duplicated(keep=False)]\n",
    "duplicates.index"
   ]
  },
  {
   "cell_type": "code",
   "execution_count": 31,
   "id": "a88978ca",
   "metadata": {},
   "outputs": [
    {
     "data": {
      "text/plain": [
       "66"
      ]
     },
     "execution_count": 31,
     "metadata": {},
     "output_type": "execute_result"
    }
   ],
   "source": [
    "1951-1885"
   ]
  },
  {
   "cell_type": "code",
   "execution_count": 26,
   "id": "51f9d5c0",
   "metadata": {},
   "outputs": [
    {
     "data": {
      "text/plain": [
       "GS                                  2\n",
       "SAP                                 2\n",
       "NVO                                 2\n",
       "PANW                                2\n",
       "SHE                                 2\n",
       "                                   ..\n",
       "Azure price                         1\n",
       "buy Workday shares                  1\n",
       "Galaxy Buds sales in Afghanistan    1\n",
       "electric vehicle                    1\n",
       "SupportIsrael                       1\n",
       "Name: count, Length: 1885, dtype: int64"
      ]
     },
     "execution_count": 26,
     "metadata": {},
     "output_type": "execute_result"
    }
   ],
   "source": [
    "unified.index.value_counts()"
   ]
  },
  {
   "cell_type": "code",
   "execution_count": 20,
   "id": "052b06a1",
   "metadata": {},
   "outputs": [
    {
     "name": "stderr",
     "output_type": "stream",
     "text": [
      "/Users/ronraisch/miniforge3/envs/needle/lib/python3.10/site-packages/umap/umap_.py:1952: UserWarning: n_jobs value 1 overridden to 1 by setting random_state. Use no seed for parallelism.\n",
      "  warn(\n"
     ]
    },
    {
     "data": {
      "text/plain": [
       "0       3\n",
       "1    1798\n",
       "2      13\n",
       "3       2\n",
       "4     135\n",
       "dtype: int64"
      ]
     },
     "execution_count": 20,
     "metadata": {},
     "output_type": "execute_result"
    }
   ],
   "source": [
    "reducer = umap.UMAP(n_neighbors=10, min_dist=0.1, random_state=0)\n",
    "X_embedded = reducer.fit_transform(unified)\n",
    "\n",
    "\n",
    "ts_kmeans = TimeSeriesKMeans(n_clusters=5, metric=\"euclidean\", random_state=0)\n",
    "labels = ts_kmeans.fit_predict(unified)\n",
    "count = np.unique(labels, return_counts=True)\n",
    "pd.Series(count[1], index=count[0]).sort_index()"
   ]
  },
  {
   "cell_type": "code",
   "execution_count": 23,
   "id": "035054fd",
   "metadata": {},
   "outputs": [
    {
     "data": {
      "application/vnd.plotly.v1+json": {
       "config": {
        "plotlyServerURL": "https://plot.ly"
       },
       "data": [
        {
         "hovertemplate": "<b>%{hovertext}</b><br><br>color=1<br>x=%{x}<br>y=%{y}<extra></extra>",
         "hovertext": [
          "fintech trends",
          "Ethiopia",
          "Airbnb news",
          "renewable energy stocks",
          "Dyson Vacuum vs competitor",
          "SolarEdge news",
          "Eli Lilly stock price",
          "war in Syria",
          "Atlassian",
          "ISRG",
          "cancel culture",
          "buy GSK shares",
          "IDF",
          "meditation trends",
          "war in Iran",
          "RSX",
          "Elon Musk on gender equality",
          "Best Buy stock price",
          "Nest Thermostat sales in Red Sea",
          "Goldman Sachs response to IDF",
          "income inequality",
          "PayPal controversy",
          "Oprah Winfrey",
          "impact of retail sales",
          "new Nvidia RTX 5090 release date",
          "Walmart earnings report",
          "Workday stock price",
          "Berkshire Hathaway stock price",
          "Sudan conflict",
          "buy Xiaomi shares",
          "Unity layoffs",
          "Costco news",
          "Andrew Tate",
          "Pinterest",
          "Iraq",
          "Palestine",
          "war in NATO",
          "Pfizer stock price",
          "Russell2000",
          "Kroger stock price",
          "Mastercard",
          "sustainable fashion",
          "war in Saudi Arabia",
          "H&M news",
          "gender equality",
          "Google Cloud review",
          "big data trends",
          "cybersecurity",
          "Google",
          "Amazon news",
          "GSK news",
          "Oppenheimer movie ratings",
          "veteran support",
          "Charles Schwab news",
          "ocean pollution",
          "IKEA stock price",
          "burning man",
          "CPI report forecast",
          "gold prices",
          "Etsy vs Etsy",
          "Samsung Electronics controversy",
          "Home Depot layoffs",
          "Sonos Speaker price",
          "Google Pixel 9 sales in Taiwan",
          "impact of labor market",
          "Peloton vs competitor",
          "buy Atlassian shares",
          "V",
          "Travis Scott",
          "Sheryl Sandberg on inclusion initiatives",
          "investing in organic food",
          "AMD controversy",
          "Visa news",
          "Sea Limited controversy",
          "Coca-Cola news",
          "Google Gemini review",
          "Fitbit price",
          "Yair Lapid on Black Lives Matter",
          "Snapchat stock price",
          "Nvidia news",
          "Syria conflict",
          "Warren Buffett tweet",
          "Kindle",
          "Pinterest response to Iran",
          "Gaza",
          "Azure sales in US",
          "Bristol-Myers Squibb layoffs",
          "blockchain",
          "Isaac Herzog tweet",
          "Amir Ohana",
          "Netflix response to Hezbollah",
          "Super Bowl",
          "impact of central banks",
          "Ayman Odeh on stakeholder capitalism",
          "social media trends",
          "dollar index forecast",
          "Alexandria Ocasio-Cortez on water scarcity",
          "Tim Cook on gender equality",
          "machine learning trends",
          "Galaxy Buds review",
          "Novartis stock price",
          "impact of cryptocurrency market",
          "India",
          "Nike layoffs",
          "Sea Limited news",
          "Microsoft earnings report",
          "Samsung Galaxy S25 price",
          "stock market",
          "Afghanistan news",
          "Bristol-Myers Squibb response to Nova music festival massacre",
          "greenwashing controversy",
          "Isaac Herzog",
          "Android 15 vs competitor",
          "Ellen DeGeneres new album",
          "Windows 11 review",
          "CyberArk",
          "Microsoft controversy",
          "deforestation controversy",
          "organic food trends",
          "Jensen Huang on corporate governance",
          "superfoods",
          "Roomba",
          "Roomba sales in Gaza",
          "buy Twitter shares",
          "PepsiCo",
          "buy Starbucks shares",
          "Google Pixel 9 price",
          "Qualcomm stock price",
          "Walgreens controversy",
          "war in Ukraine",
          "Nice Ltd.",
          "Sheryl Sandberg on stakeholder capitalism",
          "Mitch McConnell on deforestation",
          "Target news",
          "Starbucks",
          "Red Sea news",
          "fair trade controversy",
          "Galaxy Buds sales in Syria",
          "Uber vs Uber",
          "CHIPS Act",
          "Bernie Sanders on gig economy",
          "Sydney Sweeney",
          "interest rates forecast",
          "Adobe layoffs",
          "MacBook Pro M4 sales in Israel",
          "West Bank news",
          "Lyft layoffs",
          "Azure",
          "Sonos Speaker",
          "India news",
          "gut health",
          "war in Palestine",
          "renewable energy",
          "CVS Health news",
          "Sydney Sweeney new album",
          "Airbnb earnings report",
          "metaverse",
          "carbon emissions",
          "Palantir layoffs",
          "Spotify news",
          "Bank of America stock price",
          "Ring Doorbell sales in Red Sea",
          "Apple response to Red Sea",
          "buy Etsy shares",
          "investing in ethereum",
          "GSK response to Ceasefire",
          "Elizabeth Warren tweet",
          "Fiverr response to Palestine",
          "new Cybertruck release date",
          "pride month",
          "AstraZeneca earnings report",
          "HP layoffs",
          "US_Consumer_Discretionary",
          "BlackRock controversy",
          "Walgreens news",
          "financial regulation",
          "Pfizer news",
          "American Express stock price",
          "Zoom earnings report",
          "Roomba sales in Ethiopia",
          "investing in digital transformation",
          "iPhone Pro Max price",
          "MacBook Pro M4",
          "Texas Instruments stock price",
          "new Sonos Speaker release date",
          "Dua Lipa new album",
          "buy Apple shares",
          "Tesla Model Y review",
          "Check Point Software earnings report",
          "ESG investing stocks",
          "Mary Barra tweet",
          "Copilot sales in Gaza",
          "US aid to Ethiopia",
          "buy CyberArk shares",
          "Yair Lapid",
          "anxiety trends",
          "Oracle stock price",
          "Playstation 5 Pro price",
          "Visa response to Iran",
          "war in Russia",
          "BAC",
          "Reddit stock price",
          "Alibaba",
          "automation",
          "supply chain trends",
          "market volatility",
          "Cybertruck price",
          "buy Adobe shares",
          "Dyson Vacuum",
          "American Express",
          "digital detox stocks",
          "Twitter news",
          "Kamala Harris interview",
          "Ted Cruz tweet",
          "Lyft",
          "Sheryl Sandberg on sustainable finance",
          "Satya Nadella",
          "ISRA",
          "Marco Rubio interview",
          "Merck response to Iran",
          "Wix stock price",
          "October 7 attacks",
          "wage growth",
          "vegan trends",
          "Security fence",
          "impact of business investment",
          "Beyonce new album",
          "Adobe earnings report",
          "lgbtq rights stocks",
          "Russia news",
          "Baidu response to Taiwan",
          "Iron Dome",
          "Jensen Huang",
          "MercadoLibre stock price",
          "AstraZeneca news",
          "Unity controversy",
          "impact of industrial production",
          "supply chain",
          "Nest Thermostat",
          "Mansour Abbas on data privacy",
          "Nancy Pelosi interview",
          "war in Taiwan",
          "yoga trends",
          "Meta Quest 3 sales in Golan Heights",
          "Nike stock price",
          "NATO conflict",
          "Best Buy response to Ethiopia",
          "Shopify response to Yemen",
          "quantitative easing",
          "new GoPro release date",
          "Settlements",
          "Spotify stock price",
          "Roomba sales in China",
          "impact of economic stimulus",
          "buy H&M shares",
          "Netflix news",
          "Wegovy",
          "Block news",
          "US aid to India",
          "body positivity",
          "Zoom response to Saudi Arabia",
          "mental health",
          "AirPods Pro sales in Red Sea",
          "Elizabeth Warren",
          "Baidu response to October 7 attacks",
          "impact of interest rates",
          "AirPods Pro price",
          "stakeholder capitalism",
          "Will Smith",
          "Samsung Galaxy S25",
          "India conflict",
          "buy Samsung Electronics shares",
          "Met Gala ratings",
          "SYK",
          "Samsung Galaxy S25 sales in Iran",
          "Marc Benioff",
          "Chuck Schumer interview",
          "Unity earnings report",
          "Goldman Sachs stock price",
          "buy Google shares",
          "Citigroup news",
          "sleep tracking",
          "robotics",
          "remote work culture",
          "Bernie Sanders tweet",
          "Jerusalem",
          "circular economy",
          "AMD news",
          "AirPods Pro sales in Palestine",
          "Snapchat",
          "investing in streaming services",
          "NOW",
          "Pfizer layoffs",
          "Qualcomm",
          "Yuli Edelstein on ocean pollution",
          "CrowdStrike",
          "Best Buy response to Settlements",
          "Drake",
          "impact of trade deficit",
          "Palantir controversy",
          "TSMC earnings report",
          "ERUS",
          "LLY",
          "ASML stock price",
          "impact of monetary policy",
          "Peloton sales in US",
          "Kylie Jenner",
          "Taiwan news",
          "Nancy Pelosi tweet",
          "Dell news",
          "UnitedHealth",
          "Lululemon controversy",
          "Tim Cook on body positivity",
          "machine learning",
          "corporate governance",
          "COST",
          "new AirPods Pro release date",
          "buy eBay shares",
          "Wix news",
          "Mary Barra",
          "blockchain trends",
          "Texas Instruments layoffs",
          "Moderna",
          "keto diet",
          "Yuli Edelstein on data privacy",
          "Morgan Stanley earnings report",
          "Netflix layoffs",
          "investing in anxiety",
          "Intel layoffs",
          "Target layoffs",
          "air quality",
          "impact of Inflation Reduction Act",
          "BKNG",
          "Reed Hastings on impact investing",
          "Merck response to Peace talks",
          "immune system",
          "Novartis layoffs",
          "Uber news",
          "Apple layoffs",
          "Elon Musk",
          "AirPods Pro sales in Sinai Peninsula",
          "Johnson & Johnson stock price",
          "Best Buy response to Peace talks",
          "Airbnb stock price",
          "Xbox Series X review",
          "online education trends",
          "home workout",
          "digital detox",
          "SolarEdge layoffs",
          "Adobe controversy",
          "buy Amazon shares",
          "IBM stock price",
          "Afghanistan conflict",
          "smart home",
          "US aid to Israel",
          "Fiverr response to Jerusalem",
          "Visa layoffs",
          "AWS price",
          "iPhone 16 sales in Israel",
          "Baidu news",
          "IBM news",
          "Snowflake news",
          "Zoom response to NATO",
          "gaming industry trends",
          "Tesla Model Y sales in Afghanistan",
          "Target controversy",
          "Visa response to Saudi Arabia",
          "yoga",
          "war in Jerusalem",
          "inflation forecast",
          "gig economy controversy",
          "buy Meta shares",
          "Amazon earnings report",
          "new Apple Watch release date",
          "CVS Health response to US",
          "Twitter layoffs",
          "depression",
          "Wells Fargo",
          "Pinterest earnings report",
          "Megan Thee Stallion",
          "Amazon",
          "impact of financial regulation",
          "AirPods Pro sales in Gaza",
          "gender equality controversy",
          "Merck",
          "Zoom news",
          "unemployment forecast",
          "Nike news",
          "MRK",
          "Google layoffs",
          "TSM",
          "Elon Musk on climate resilience",
          "remote work trends",
          "Mansour Abbas on climate change",
          "Nvidia earnings report",
          "Wells Fargo stock price",
          "Lisa Su",
          "ICLN",
          "PayPal",
          "Red Sea",
          "Mitch McConnell tweet",
          "Black Lives Matter controversy",
          "Taylor Swift",
          "Johnson & Johnson",
          "Home Depot earnings report",
          "Sundar Pichai",
          "TSMC layoffs",
          "Mobileye",
          "Nancy Pelosi on biodiversity conservation",
          "Peace talks",
          "Eli Lilly earnings report",
          "Goldman Sachs news",
          "Sanofi news",
          "Amazon stock price",
          "Amgen",
          "McDonald's stock price",
          "JPMorgan Chase stock price",
          "cancel culture controversy",
          "Sundar Pichai interview",
          "Kanye West new album",
          "Cloudflare layoffs",
          "virtual reality trends",
          "Reed Hastings on universal basic income",
          "Mastercard news",
          "Nitzan Horowitz",
          "Bad Bunny",
          "impact of unemployment",
          "Red Sea conflict",
          "Netflix stock price",
          "Black Lives Matter",
          "ORCL",
          "Cybertruck sales in US",
          "virtual doctor visit",
          "Reed Hastings",
          "monetary policy",
          "Yuli Edelstein on environmental activism",
          "Best Buy news",
          "Texas Instruments",
          "ARM layoffs",
          "genetic testing",
          "Meta Quest 3 review",
          "Costco",
          "Dwayne Johnson",
          "Baidu",
          "Harry Styles new album",
          "new MacBook Pro M4 release date",
          "Tesla controversy",
          "Google Gemini",
          "Broadcom response to Russia",
          "eBay",
          "OpenAI Sora sales in Yemen",
          "Golan Heights",
          "Uniqlo stock price",
          "climate resilience stocks",
          "Dua Lipa",
          "AstraZeneca controversy",
          "economic stimulus",
          "Pfizer",
          "Sheryl Sandberg on impact investing",
          "Kindle price",
          "ASML vs ASML",
          "Snowflake stock price",
          "investing in metaverse",
          "Apple controversy",
          "AMD layoffs",
          "Will Smith new album",
          "foreign exchange",
          "new Tesla Model Y release date",
          "Naftali Bennett on corporate governance",
          "iPhone Pro Max sales in China",
          "Rihanna new album",
          "Apple response to Sinai Peninsula",
          "Copilot sales in China",
          "Malala Yousafzai",
          "environmental activism",
          "Benjamin Netanyahu tweet",
          "Walgreens earnings report",
          "Bristol-Myers Squibb stock price",
          "Sundar Pichai on corporate social responsibility",
          "clean energy transition stocks",
          "Shopify earnings report",
          "new Kindle release date",
          "Check Point Software",
          "Playstation 5 Pro sales in Ukraine",
          "Israel news",
          "MacBook Pro M4 sales in Golan Heights",
          "North Korea conflict",
          "Tesla Model Y price",
          "Unity response to Sudan",
          "Unity vs Unity",
          "Tesla Model Y",
          "Coca-Cola stock price",
          "Tesla layoffs",
          "AWS vs competitor",
          "Netflix response to Gaza",
          "CrowdStrike layoffs",
          "TAN",
          "Playstation 5 Pro",
          "Cloudflare stock price",
          "Zara news",
          "buy ARM shares",
          "Marco Rubio",
          "Merck news",
          "AMZN",
          "digital currency",
          "INTC",
          "Lowe's news",
          "supply chain forecast",
          "Cisco stock price",
          "Sanofi stock price",
          "Shopify stock price",
          "Microsoft news",
          "PewDiePie new album",
          "Yair Lapid on biodiversity conservation",
          "real estate market forecast",
          "Sanofi",
          "George Clooney new album",
          "buy Nvidia shares",
          "Reed Hastings interview",
          "Best Buy response to IDF",
          "buy Microsoft shares",
          "data breach trends",
          "web3",
          "Coachella",
          "Walmart",
          "Pakistan",
          "oil prices forecast",
          "Zoom layoffs",
          "Starbucks stock price",
          "Kamala Harris tweet",
          "Netflix earnings report",
          "MrBeast",
          "Apple Vision Pro price",
          "Johnson & Johnson layoffs",
          "lgbtq rights",
          "Texas Instruments news",
          "Jensen Huang interview",
          "Fiverr",
          "Amgen layoffs",
          "US aid to Pakistan",
          "Playstation 5 Pro review",
          "Microsoft Surface review",
          "commodity prices",
          "H&M stock price",
          "Novartis earnings report",
          "savings rate forecast",
          "Google controversy",
          "Sudan news",
          "digital currency trends",
          "Meta news",
          "sleep tracking trends",
          "new Android 15 release date",
          "Merck response to Ethiopia",
          "Salesforce stock price",
          "Apple Watch review",
          "Micron earnings report",
          "World Cup",
          "Apple",
          "Block controversy",
          "Zendaya new album",
          "Xiaomi news",
          "iPhone Pro Max sales in Red Sea",
          "Gavin Newsom interview",
          "virtual reality",
          "Tim Cook interview",
          "Etsy earnings report",
          "Yemen",
          "Netflix",
          "Warren Buffett interview",
          "Block",
          "Samsung Galaxy S25 sales in US",
          "investing in remote work",
          "fashion week",
          "Salesforce layoffs",
          "Alexandria Ocasio-Cortez",
          "TMO",
          "US aid to Sudan",
          "Jeff Bezos interview",
          "SHE",
          "energy prices forecast",
          "Goldman Sachs layoffs",
          "global trade",
          "Kylie Jenner new album",
          "housing market",
          "Peloton sales in Sinai Peninsula",
          "Charles Schwab layoffs",
          "CrowdStrike controversy",
          "Goldman Sachs response to US",
          "electric vehicle",
          "Galaxy Buds sales in Afghanistan",
          "buy Workday shares",
          "Azure price",
          "Peloton sales in Pakistan",
          "Joe Biden on sustainable finance",
          "5G technology",
          "CrowdStrike earnings report",
          "Taiwan conflict",
          "impact of gold prices",
          "Tim Cook tweet",
          "Peloton",
          "XLP",
          "US aid to Red Sea",
          "PepsiCo layoffs",
          "automation trends",
          "IKEA response to US",
          "Best Buy earnings report",
          "Golan Heights conflict",
          "ADSK",
          "universal basic income",
          "Nancy Pelosi",
          "impact of real estate market",
          "Uniqlo",
          "US aid to Palestine",
          "digital transformation trends",
          "organic food",
          "BlackRock news",
          "Russia conflict",
          "Naftali Bennett",
          "Lady Gaga new album",
          "NEE",
          "Yemen news",
          "new Google Pixel 9 release date",
          "AbbVie",
          "Tesla news",
          "Fiverr stock price",
          "trade deficit",
          "Azure sales in India",
          "Oscars ratings",
          "Donald Trump interview",
          "Kroger earnings report",
          "China news",
          "social media trends trends",
          "Bernie Sanders on greenwashing",
          "investing in gaming industry",
          "MSFT",
          "housing market forecast",
          "buy Reddit shares",
          "Palantir earnings report",
          "green bonds stocks",
          "Roche stock price",
          "Donald Trump tweet",
          "mental health awareness stocks",
          "Android 15 review",
          "Bernie Sanders",
          "Twitter stock price",
          "impact of quantitative easing",
          "impact of mortgage rates",
          "OpenAI Sora",
          "Sundar Pichai on remote work culture",
          "buy UnitedHealth shares",
          "Larry Fink",
          "Elizabeth Warren interview",
          "HP earnings report",
          "investing in probiotics",
          "Uber layoffs",
          "Fiverr response to Yemen",
          "MacBook Pro M4 price",
          "NFTs",
          "investing in lab grown meat",
          "Uber",
          "Ellen DeGeneres",
          "HP",
          "Fiverr response to Golan Heights",
          "Marco Rubio tweet",
          "business investment",
          "SolarEdge stock price",
          "Sanofi earnings report",
          "Wells Fargo earnings report",
          "impact investing",
          "Sea Limited",
          "emerging markets",
          "buy Pfizer shares",
          "Meta Quest 3 price",
          "Eli Lilly vs Eli Lilly",
          "Ring Doorbell price",
          "Reddit",
          "impact of income inequality",
          "iPhone 16",
          "CrowdStrike news",
          "Baidu response to Jerusalem",
          "Workday",
          "Unity response to Ukraine",
          "Tim Cook",
          "Nvidia RTX 5090 price",
          "corporate social responsibility stocks",
          "Jensen Huang on Black Lives Matter",
          "US conflict",
          "Sinai Peninsula conflict",
          "Snapchat layoffs",
          "Roomba price",
          "Roche",
          "Ted Cruz interview",
          "Ring Doorbell sales in US",
          "Nasdaq100",
          "iPhone Pro Max",
          "Taylor Swift new album",
          "online education",
          "Dyson Vacuum sales in Yemen",
          "Apple news",
          "plant-based food trends",
          "AMD",
          "recession forecast",
          "Jensen Huang on inclusion initiatives",
          "AbbVie news",
          "Syria news",
          "Micron layoffs",
          "Garmin Watch price",
          "war in China",
          "McDonald's layoffs",
          "IBB",
          "Garmin Watch review",
          "eBay earnings report",
          "ESG investing",
          "ServiceNow layoffs",
          "Dell earnings report",
          "intermittent fasting",
          "Yair Lapid on carbon footprint",
          "Intel",
          "Kim Kardashian new album",
          "Andy Jassy interview",
          "eco-friendly products",
          "Texas Instruments vs Texas Instruments",
          "Pinterest layoffs",
          "industrial production forecast",
          "AirPods Pro sales in India",
          "IBM layoffs",
          "Lyft stock price",
          "NVDA",
          "Jake Paul new album",
          "PewDiePie",
          "Elon Musk on inclusion initiatives",
          "Walmart stock price",
          "Android 15 price",
          "savings rate",
          "influencer marketing trends",
          "war in Golan Heights",
          "mental health awareness controversy",
          "Gaza news",
          "streaming services trends",
          "robotics trends",
          "Twitter",
          "Broadcom response to Jerusalem",
          "SolarEdge vs SolarEdge",
          "impact of wage growth",
          "Middle East conflict",
          "Nest Thermostat price",
          "buy PayPal shares",
          "MacBook Pro M4 review",
          "Dyson Vacuum review",
          "buy CrowdStrike shares",
          "investing in supply chain",
          "Jensen Huang on social entrepreneurship",
          "Merck stock price",
          "ASML news",
          "US aid to NATO",
          "big data",
          "Gideon Sa'ar on living wage",
          "ServiceNow",
          "inclusion initiatives",
          "Ted Cruz",
          "fast fashion",
          "Sheryl Sandberg on air quality",
          "Mansour Abbas on me too movement",
          "US aid to Iran",
          "eBay controversy",
          "Meta layoffs",
          "Roomba review",
          "Nice Ltd. response to Saudi Arabia",
          "Walmart layoffs",
          "impact of CHIPS Act",
          "Costco controversy",
          "Micron",
          "buy Oracle shares",
          "investing in Wegovy",
          "GoPro review",
          "investing in bitcoin",
          "Copilot review",
          "investing in fintech",
          "buy McDonald's shares",
          "Zoom stock price",
          "me too movement",
          "Copilot sales in Golan Heights",
          "Zara",
          "Meta stock price",
          "Qualcomm news",
          "Alibaba news",
          "workplace diversity stocks",
          "Walgreens",
          "social justice controversy",
          "real estate market",
          "Olivia Rodrigo",
          "Nvidia layoffs",
          "Sonos Speaker review",
          "new Meta Quest 3 release date",
          "Bernie Sanders interview",
          "Costco earnings report",
          "Mobileye earnings report",
          "XOM",
          "HP stock price",
          "China conflict",
          "Zendaya",
          "Home Depot",
          "NATO news",
          "Oppenheimer movie",
          "climate change stocks",
          "Reed Hastings on inclusion initiatives",
          "Joe Biden tweet",
          "Zoom response to Middle East",
          "Gideon Sa'ar on environmental activism",
          "immune system trends",
          "CVX",
          "Pakistan conflict",
          "impact of market volatility",
          "US aid to US",
          "AstraZeneca layoffs",
          "Nest Thermostat sales in Palestine",
          "OpenAI Sora sales in Red Sea",
          "Joe Biden interview",
          "Nest Thermostat sales in Yemen",
          "foreign exchange forecast",
          "Unity news",
          "Block layoffs",
          "buy Broadcom shares",
          "Sudan",
          "Yair Lapid on social entrepreneurship",
          "deforestation",
          "Mark Zuckerberg interview",
          "buy Bank of America shares",
          "Israel",
          "remote work",
          "US_Industrials",
          "vegetarian",
          "Pfizer earnings report",
          "central banks",
          "Spotify layoffs",
          "human rights",
          "Chuck Schumer",
          "Ron DeSantis tweet",
          "Pfizer controversy",
          "anxiety",
          "Nancy Pelosi on impact investing",
          "green bonds",
          "environmental activism controversy",
          "Sinai Peninsula news",
          "Zoom response to October 7 attacks",
          "Reed Hastings on digital detox",
          "Workday controversy",
          "Broadcom stock price",
          "IWM",
          "Micron news",
          "iPhone 16 price",
          "Billie Eilish",
          "Reed Hastings on cancel culture",
          "Jamie Dimon interview",
          "Sanofi layoffs",
          "Wix",
          "Home Depot vs Home Depot",
          "Mansour Abbas",
          "Monday.com stock price",
          "investing in cybersecurity",
          "AirPods Pro review",
          "investing in automation",
          "SolarEdge",
          "Donald Trump",
          "Sheryl Sandberg tweet",
          "ASML earnings report",
          "biodiversity conservation controversy",
          "Samsung Galaxy S25 sales in Syria",
          "new iPhone Pro Max release date",
          "buy IBM shares",
          "Google Pixel 9 sales in Afghanistan",
          "commodity prices forecast",
          "climate resilience",
          "Workday layoffs",
          "buy Alibaba shares",
          "Galaxy Buds price",
          "Dyson Vacuum price",
          "AWS",
          "Visa",
          "Warren Buffett",
          "AirPods Pro sales in North Korea",
          "Naftali Bennett on quiet quitting",
          "PayPal stock price",
          "Sheryl Sandberg on social justice",
          "JD.com stock price",
          "war in Ethiopia",
          "Kendrick Lamar new album",
          "Android 15",
          "Lowe's",
          "Cardi B",
          "Elbit Systems",
          "Etsy",
          "TSMC",
          "MercadoLibre earnings report",
          "Bristol-Myers Squibb response to Sudan",
          "CVS Health earnings report",
          "North Korea",
          "Samsung Galaxy S25 sales in Palestine",
          "Ceasefire",
          "Peloton sales in Yemen",
          "Oracle",
          "Mitch McConnell on sustainable finance",
          "Sundar Pichai on eco-friendly products",
          "Tesla Model Y sales in US",
          "Elon Musk interview",
          "Amgen news",
          "Novartis controversy",
          "new iPhone 16 release date",
          "US aid to Middle East",
          "war in US",
          "Ryan Reynolds new album",
          "Etsy stock price",
          "Alibaba earnings report",
          "investing in robotics",
          "Lululemon",
          "workplace diversity",
          "Copilot price",
          "Moderna stock price",
          "social justice",
          "Google Cloud price",
          "Cardi B new album",
          "Naftali Bennett interview",
          "impact of recession",
          "Merck response to West Bank",
          "investing in gut health",
          "Doja Cat new album",
          "Mansour Abbas on ethical sourcing",
          "clean energy transition",
          "IKEA news",
          "buy Cloudflare shares",
          "Fiverr news",
          "Merck response to India",
          "impact of energy prices",
          "IBM",
          "consumer confidence",
          "Israel conflict",
          "impact of stock market",
          "Johnson & Johnson earnings report",
          "Logan Paul new album",
          "AMD earnings report",
          "MacBook Pro M4 sales in Taiwan",
          "HP news",
          "buy Citigroup shares",
          "Dyson Vacuum sales in Iraq",
          "Kamala Harris on deforestation",
          "Joe Biden on social justice",
          "Jerusalem news",
          "Lowe's stock price",
          "Alexandria Ocasio-Cortez on corporate social responsibility",
          "Morgan Stanley layoffs",
          "Bank of America earnings report",
          "investing in mindfulness",
          "bond yields",
          "AMD stock price",
          "war in Middle East",
          "Sea Limited stock price",
          "investing in superfoods",
          "buy Uber shares",
          "wearable fitness trends",
          "investing in blockchain",
          "Lizzo new album",
          "impact of emerging markets",
          "Xbox Series X",
          "Alexandria Ocasio-Cortez on data privacy",
          "Kamala Harris on Black Lives Matter",
          "Jensen Huang on work-life balance",
          "cybersecurity trends",
          "AirPods Pro",
          "Windows 11 price",
          "BlackRock",
          "Palestine conflict",
          "Marco Rubio on body positivity",
          "anti-aging",
          "buy Morgan Stanley shares",
          "Yuli Edelstein",
          "buy Tesla shares",
          "Naftali Bennett on gig economy",
          "IKEA response to IDF",
          "impact of consumer spending",
          "Nvidia RTX 5090",
          "Kevin McCarthy interview",
          "Copilot",
          "carbon footprint",
          "Jerome Powell",
          "Sonos Speaker sales in Sinai Peninsula",
          "investing in digital currency",
          "gold prices forecast",
          "Atlassian layoffs",
          "GS",
          "Nest Thermostat sales in West Bank",
          "Xiaomi stock price",
          "US aid to Russia",
          "investing in crypto",
          "GoPro",
          "Apple Watch",
          "greenwashing",
          "Nike",
          "interest rates",
          "Uniqlo news",
          "corporate social responsibility",
          "Gideon Sa'ar on fast fashion",
          "JD.com news",
          "Gavin Newsom tweet",
          "Sonos Speaker sales in Golan Heights",
          "Walgreens stock price",
          "Monday.com",
          "MacBook Pro M4 sales in Syria",
          "Bank of America",
          "Microsoft stock price",
          "PANW",
          "Saudi Arabia news",
          "Meta Quest 3 sales in Red Sea",
          "US aid to Syria",
          "labor market",
          "Mark Zuckerberg",
          "buy Berkshire Hathaway shares",
          "Lady Gaga",
          "Dell",
          "buy Snowflake shares",
          "Copilot sales in India",
          "Best Buy response to Security fence",
          "Oracle controversy",
          "Tom Holland",
          "US aid to Afghanistan",
          "Yemen conflict",
          "Home Depot news",
          "impact of GDP",
          "Monday.com earnings report",
          "Windows 11",
          "new Roomba release date",
          "gut health trends",
          "Iran news",
          "Sea Limited earnings report",
          "XLY",
          "meditation",
          "Unity response to US",
          "Amgen response to Red Sea",
          "Visa stock price",
          "Reddit controversy",
          "Etsy news",
          "depression trends",
          "BlackRock stock price",
          "US_Banks",
          "war in Afghanistan",
          "US aid to Ukraine",
          "Johnson & Johnson vs Johnson & Johnson",
          "Merck vs Merck",
          "Sundar Pichai on fast fashion",
          "Mitch McConnell on corporate governance",
          "NFLX",
          "Joe Rogan new album",
          "Nvidia stock price",
          "Grammys",
          "CVS Health response to IDF",
          "retail sales",
          "Joe Rogan",
          "ethical sourcing",
          "Bad Bunny new album",
          "Best Buy layoffs",
          "Roche news",
          "buy Dell shares",
          "buy Costco shares",
          "Kroger news",
          "Amgen stock price",
          "Grammys ratings",
          "MercadoLibre",
          "Mansour Abbas on lgbtq rights",
          "buy BlackRock shares",
          "buy Charles Schwab shares",
          "Starbucks earnings report",
          "Coca-Cola",
          "Unity stock price",
          "Golan Heights news",
          "Elon Musk tweet",
          "Spotify controversy",
          "intermittent fasting trends",
          "Mansour Abbas on sustainable finance",
          "Pinterest response to BDS movement",
          "Nike controversy",
          "mortgage rates forecast",
          "Moderna earnings report",
          "Beyonce",
          "Pinterest stock price",
          "Gaza conflict",
          "Ozempic",
          "Cisco layoffs",
          "PepsiCo vs PepsiCo",
          "social entrepreneurship",
          "retail sales forecast",
          "Amgen response to Russia",
          "Palantir",
          "Iraq news",
          "Bristol-Myers Squibb response to Yemen",
          "mindfulness",
          "ethereum trends",
          "Andy Jassy",
          "investing in depression",
          "Fiverr response to Red Sea",
          "metaverse trends",
          "Workday news",
          "JPM",
          "AI advancements trends",
          "Samsung Galaxy S25 sales in Jerusalem",
          "buy Walmart shares",
          "new Xbox Series X release date",
          "superfoods trends",
          "Goldman Sachs response to Red Sea",
          "buy Target shares",
          "Hezbollah",
          "TSMC vs TSMC",
          "AbbVie stock price",
          "impact of commodity prices",
          "GSK earnings report",
          "impact of oil prices",
          "impact of tariffs",
          "Ukraine conflict",
          "TSLA",
          "Palantir stock price",
          "Cybertruck review",
          "Xiaomi",
          "Azure sales in Sinai Peninsula",
          "COP",
          "DHR",
          "Citigroup stock price",
          "Lululemon news",
          "Target",
          "Billie Eilish new album",
          "Lululemon stock price",
          "IKEA",
          "vegan",
          "Ring Doorbell sales in Jerusalem",
          "Johnson & Johnson news",
          "XLK",
          "buy Sea Limited shares",
          "impact of venture capital",
          "Doja Cat",
          "GoPro price",
          "Jeff Bezos",
          "new Microsoft Surface release date",
          "Apple Vision Pro review",
          "Cisco news",
          "Charles Schwab earnings report",
          "Playstation 5 Pro sales in Ethiopia",
          "war in Sinai Peninsula",
          "investing in mental health",
          "CVS Health response to Yemen",
          "Nancy Pelosi on living wage",
          "Eli Lilly news",
          "Mary Barra interview",
          "US aid to Taiwan",
          "Netflix response to Palestine",
          "human rights controversy",
          "stakeholder capitalism controversy",
          "American Express layoffs",
          "crypto trends",
          "web3 trends",
          "quantum computing trends",
          "Bank of America layoffs",
          "Intifada",
          "Cloudflare news",
          "Mitch McConnell interview",
          "Xiaomi vs Xiaomi",
          "oil prices",
          "Reddit news",
          "Jensen Huang on corporate social responsibility",
          "Microsoft Surface",
          "Sinai Peninsula",
          "Charles Schwab",
          "fed meeting forecast",
          "Lyft earnings report",
          "IYT",
          "Jerusalem conflict",
          "McDonald's news",
          "ServiceNow news",
          "Adobe stock price",
          "Apple Vision Pro",
          "war in India",
          "buy Zoom shares",
          "Ukraine news",
          "Azure sales in Iraq",
          "Fiverr response to Russia",
          "Broadcom",
          "Marco Rubio on youth climate movement",
          "GOOGL",
          "AirPods Pro sales in Saudi Arabia",
          "Joe Biden on fair trade",
          "Middle East news",
          "Target stock price",
          "impact of foreign exchange",
          "CHIPS Act forecast",
          "iPhone 16 sales in India",
          "Home Depot stock price",
          "US aid to Gaza",
          "Best Buy response to Israel",
          "Apple earnings report",
          "Intel earnings report",
          "OpenAI Sora sales in Israel",
          "buy AstraZeneca shares",
          "Ring Doorbell sales in India",
          "Inflation Reduction Act forecast",
          "Gideon Sa'ar",
          "Baidu vs Baidu",
          "GSK response to Iran",
          "H&M",
          "Peloton price",
          "Microsoft layoffs",
          "US aid to West Bank",
          "Ring Doorbell review",
          "Tesla",
          "smart home trends",
          "investing in online education",
          "Meta",
          "data breach",
          "Jeff Bezos tweet",
          "Microsoft",
          "Jamie Dimon",
          "gaming industry",
          "Ayman Odeh on social justice",
          "Nice Ltd. response to IDF",
          "Samsung Electronics",
          "Bernie Sanders on gender equality",
          "buy Airbnb shares",
          "PayPal earnings report",
          "GSK stock price",
          "Novartis news",
          "Cybertruck",
          "Wells Fargo vs Wells Fargo",
          "PayPal news",
          "impact of supply chain",
          "ethereum",
          "Google Pixel 9 sales in Palestine",
          "inflation",
          "Adobe",
          "Hamas",
          "CVS Health layoffs",
          "GSK response to Jerusalem",
          "stock market forecast",
          "Sundar Pichai tweet",
          "Google Pixel 9",
          "CRWD",
          "Starbucks news",
          "lab grown meat",
          "US aid to Iraq",
          "Target earnings report",
          "streaming services",
          "PayPal layoffs",
          "SHOP",
          "Goldman Sachs response to Peace talks",
          "JPMorgan Chase news",
          "Met Gala",
          "Amazon controversy",
          "McDonald's controversy",
          "investing in virtual reality",
          "Cloudflare",
          "Google Cloud",
          "Shopify response to October 7 attacks",
          "Airbnb",
          "Margot Robbie new album",
          "impact of fiscal policy",
          "Alexandria Ocasio-Cortez on green bonds",
          "Reed Hastings on work-life balance",
          "Adele",
          "war in Israel",
          "ServiceNow stock price",
          "business investment forecast",
          "Meta Quest 3",
          "Itamar Ben-Gvir on biodiversity conservation",
          "Sheryl Sandberg on Black Lives Matter",
          "Syria",
          "buy Home Depot shares",
          "CyberArk vs CyberArk",
          "Joe Biden on work-life balance",
          "American Express news",
          "Salesforce news",
          "Travis Scott new album",
          "Tim Cook on sustainable agriculture",
          "Morgan Stanley stock price",
          "Ayman Odeh",
          "Playstation 5 Pro sales in West Bank",
          "Intel news",
          "Bristol-Myers Squibb controversy",
          "war in Sudan",
          "buy Nike shares",
          "Costco layoffs",
          "investing in anti-aging",
          "Apple stock price",
          "UnitedHealth layoffs",
          "new Samsung Galaxy S25 release date",
          "Charles Schwab stock price",
          "quiet quitting",
          "buy Coca-Cola shares",
          "augmented reality trends",
          "Qualcomm layoffs",
          "Palestine news",
          "Yair Lapid on water scarcity",
          "Walmart news",
          "investing in vegan",
          "North Korea news",
          "Intel stock price",
          "Adobe news",
          "US news",
          "Google Gemini price",
          "buy American Express shares",
          "Morgan Stanley news",
          "Sheryl Sandberg",
          "Galaxy Buds sales in Iraq",
          "AVGO",
          "PepsiCo stock price",
          "CVS Health stock price",
          "Azure sales in North Korea",
          "REGN",
          "venture capital",
          "war in Gaza",
          "sustainable living",
          "circular economy stocks",
          "Netflix controversy",
          "Walgreens layoffs",
          "Fitbit vs competitor",
          "buy Goldman Sachs shares",
          "buy Intel shares",
          "Bernie Sanders on AI ethics",
          "NFTs trends",
          "Nvidia",
          "fintech",
          "George Clooney",
          "AstraZeneca stock price",
          "Ethiopia conflict",
          "pride month controversy",
          "Lowe's layoffs",
          "Tesla stock price",
          "bitcoin",
          "Nancy Pelosi on eco-friendly products",
          "Twitter earnings report",
          "buy AMD shares",
          "Payoneer stock price",
          "buy Palantir shares",
          "Uniqlo controversy",
          "buy HP shares",
          "climate change controversy",
          "crypto",
          "Middle East",
          "Itamar Ben-Gvir on circular economy",
          "US_Utilities",
          "Sundar Pichai on corporate governance",
          "Azure review",
          "AstraZeneca",
          "Snowflake",
          "Saudi Arabia",
          "Atlassian news",
          "Iran conflict",
          "Best Buy",
          "Nancy Pelosi on gender equality",
          "Berkshire Hathaway",
          "impact of consumer confidence",
          "Oracle news",
          "impact of global trade",
          "war in Pakistan",
          "US aid to North Korea",
          "new Fitbit release date",
          "Dell layoffs",
          "The Weeknd new album",
          "Barbie movie ratings",
          "Greta Thunberg",
          "Iran",
          "Itamar Ben-Gvir",
          "Starbucks controversy",
          "iPhone 16 sales in North Korea",
          "Broadcom earnings report",
          "impact of corporate earnings",
          "Snowflake layoffs",
          "NATO",
          "Yair Lapid on digital detox",
          "Coca-Cola controversy",
          "Olivia Rodrigo new album",
          "war in Iraq",
          "Ron DeSantis interview",
          "investing in quantum computing",
          "influencer marketing",
          "Payoneer",
          "Margot Robbie",
          "iPhone Pro Max sales in NATO",
          "Leonardo DiCaprio",
          "PHO",
          "dairy-free",
          "Kindle review",
          "Best Buy response to BDS movement",
          "Kevin McCarthy",
          "Shopify news",
          "Sanofi controversy",
          "new Apple Vision Pro release date",
          "Garmin Watch vs competitor",
          "sustainable finance",
          "buy CVS Health shares",
          "cryptocurrency market",
          "war in North Korea",
          "buy Best Buy shares",
          "EIS",
          "Baidu stock price",
          "Salesforce",
          "fiscal policy",
          "Teva Pharmaceutical",
          "social justice stocks",
          "FRDM",
          "Nice Ltd. response to Golan Heights",
          "Citigroup layoffs",
          "Alexandria Ocasio-Cortez on carbon footprint",
          "Wells Fargo news",
          "new Windows 11 release date",
          "NVO",
          "Block stock price",
          "TSMC news",
          "PepsiCo news",
          "China",
          "Goldman Sachs response to Palestine",
          "Baidu response to Security fence",
          "Barbie movie",
          "AbbVie layoffs",
          "investing in big data",
          "Snapchat earnings report",
          "Copilot sales in Israel",
          "Benny Gantz",
          "MS",
          "Wix layoffs",
          "Amazon layoffs",
          "Rihanna",
          "mental health awareness",
          "gig economy",
          "war in Red Sea",
          "Goldman Sachs",
          "Google stock price",
          "Starbucks layoffs",
          "IBM earnings report",
          "Roche layoffs",
          "data privacy",
          "JD.com",
          "LGBTQEquality",
          "eBay layoffs",
          "Merck response to Afghanistan",
          "Roche earnings report",
          "GDP forecast",
          "Unity",
          "Fitbit review",
          "Alexandria Ocasio-Cortez tweet",
          "Peloton review",
          "eBay news",
          "gluten-free",
          "biodiversity conservation stocks",
          "Uber stock price",
          "CVS Health",
          "Tesla earnings report",
          "impact of inflation",
          "Spotify",
          "Roomba sales in Golan Heights",
          "Shopify layoffs",
          "Mastercard layoffs",
          "Nike earnings report",
          "Broadcom layoffs",
          "Afghanistan",
          "Kanye West",
          "Pinterest news",
          "Bristol-Myers Squibb response to Red Sea",
          "CPI report",
          "Benjamin Netanyahu interview",
          "augmented reality",
          "Moderna news",
          "Amgen response to Iran",
          "mortgage rates",
          "Olympics ratings",
          "investing in NFTs",
          "CrowdStrike stock price",
          "Cisco",
          "Elbit Systems stock price",
          "Russia",
          "unemployment",
          "Playstation 5 Pro sales in Iraq",
          "living wage",
          "MacBook Pro M4 sales in Sinai Peninsula",
          "Ethiopia news",
          "Apple response to Israel",
          "Visa response to Middle East",
          "Best Buy response to Iran",
          "Naftali Bennett on biodiversity conservation",
          "ARM stock price",
          "Amgen response to BDS movement",
          "Iraq conflict",
          "impact of bond yields",
          "Xbox Series X price",
          "dairy-free trends",
          "UNH",
          "GSK",
          "Mitch McConnell",
          "AirPods Pro sales in Syria",
          "Lululemon layoffs",
          "S&P500",
          "Kroger",
          "new Ring Doorbell release date",
          "Mastercard stock price",
          "Alibaba stock price",
          "Snowflake earnings report",
          "Broadcom response to Israel",
          "Galaxy Buds sales in West Bank",
          "anti-aging trends",
          "Playstation 5 Pro sales in Pakistan",
          "Yuli Edelstein on impact investing",
          "TSMC stock price",
          "Reddit layoffs",
          "Microsoft Surface vs competitor",
          "Pinterest response to Pakistan",
          "Sheryl Sandberg interview",
          "Bristol-Myers Squibb",
          "buy Unity shares",
          "impact investing stocks",
          "Citigroup",
          "fair trade",
          "iPhone 16 review",
          "MA",
          "Kamala Harris on greenwashing",
          "Olympics",
          "Fitbit",
          "Twitter controversy",
          "Ayman Odeh on gender equality",
          "industrial production",
          "Mark Zuckerberg tweet",
          "Kevin McCarthy tweet",
          "BlackRock layoffs",
          "bitcoin trends",
          "Harry Styles",
          "JPMorgan Chase",
          "SLB",
          "Berkshire Hathaway news",
          "Lyft news",
          "Taiwan",
          "ARM",
          "Ozempic trends",
          "Kendrick Lamar",
          "Google Pixel 9 review",
          "Merck response to Gaza",
          "buy Moderna shares",
          "Kamala Harris",
          "AAPL",
          "Pinterest response to Syria",
          "HydrogenCCS",
          "AI advancements",
          "iPhone 16 sales in Yemen",
          "Saudi Arabia conflict",
          "Berkshire Hathaway vs Berkshire Hathaway",
          "Morgan Stanley",
          "Yuli Edelstein tweet",
          "work-life balance",
          "impact of housing market",
          "Ring Doorbell sales in Yemen",
          "Samsung Galaxy S25 sales in China",
          "mindfulness trends",
          "AI ethics",
          "Elon Musk on climate change",
          "Reddit earnings report",
          "vegetarian trends",
          "Meta earnings report",
          "Yair Lapid tweet",
          "Roomba sales in Palestine",
          "Palantir news",
          "Atlassian stock price",
          "Lizzo",
          "war in Yemen",
          "Zara stock price",
          "recession",
          "BDS movement",
          "Zoom",
          "ethical sourcing stocks",
          "Joe Biden on climate change",
          "GDP",
          "Samsung Galaxy S25 sales in Israel",
          "sustainable fashion trends",
          "Mobileye news",
          "Galaxy Buds",
          "Wells Fargo layoffs",
          "water scarcity",
          "impact of savings rate",
          "Best Buy response to Sinai Peninsula",
          "Oscars",
          "OpenAI Sora sales in Pakistan",
          "Uber earnings report",
          "Joe Biden",
          "West Bank",
          "corporate earnings",
          "Google news",
          "home workout trends",
          "buy Wells Fargo shares",
          "Shopify",
          "Salesforce earnings report",
          "Ryan Reynolds",
          "climate change",
          "Apple Watch price",
          "fed meeting",
          "Visa response to Iron Dome",
          "Costco stock price",
          "impact of euro index",
          "Drake new album",
          "Micron stock price",
          "sustainable agriculture",
          "Nancy Pelosi on renewable energy",
          "CVS Health response to Ukraine",
          "investing in machine learning",
          "Airbnb layoffs",
          "eBay stock price",
          "Google earnings report",
          "Kim Kardashian",
          "Unity response to Nova music festival massacre",
          "digital transformation",
          "McDonald's",
          "World Cup ratings",
          "West Bank conflict",
          "Megan Thee Stallion new album",
          "Eli Lilly",
          "investing in web3",
          "buy Visa shares",
          "Yuli Edelstein on Black Lives Matter",
          "plant-based food",
          "Bank of America news",
          "5G technology trends",
          "Itamar Ben-Gvir on carbon emissions",
          "Apple Vision Pro vs competitor",
          "Lyft controversy",
          "IKEA response to Russia",
          "Snapchat news",
          "tariffs",
          "Goldman Sachs response to Iron Dome",
          "Walmart controversy",
          "Nova music festival massacre",
          "Ron DeSantis",
          "GSK layoffs",
          "biodiversity conservation",
          "wearable fitness",
          "Gavin Newsom",
          "iPhone Pro Max review",
          "US",
          "Novartis",
          "dollar index",
          "The Weeknd",
          "climate resilience controversy",
          "Citigroup earnings report",
          "weight loss drug",
          "Dell stock price",
          "euro index",
          "Marc Benioff interview",
          "consumer spending",
          "quantitative easing forecast",
          "SAP",
          "Garmin Watch",
          "ASML",
          "ARM news",
          "Mobileye stock price",
          "mental health trends",
          "Jake Paul",
          "Chuck Schumer tweet",
          "JNJ",
          "iPhone Pro Max sales in Russia",
          "e-sports",
          "OpenAI Sora sales in Middle East",
          "me too movement controversy",
          "Itamar Ben-Gvir on body positivity",
          "AWS review",
          "Playstation 5 Pro sales in Russia",
          "Bristol-Myers Squibb response to India",
          "Check Point Software response to China",
          "buy Netflix shares",
          "Inflation Reduction Act",
          "Costco vs Costco",
          "Microsoft Surface price",
          "Greta Thunberg new album",
          "US aid to China",
          "quantum computing",
          "Tesla Model Y sales in Palestine",
          "Jensen Huang on universal basic income",
          "BlackRock earnings report",
          "Logan Paul",
          "CRM",
          "Ring Doorbell",
          "Nitzan Horowitz tweet",
          "Oracle layoffs",
          "Adele new album",
          "Ukraine",
          "AirPods Pro sales in NATO",
          "MacBook Pro M4 sales in China",
          "Shopify response to Intifada",
          "Oracle earnings report",
          "CleanWater",
          "Broadcom news",
          "Meta controversy",
          "Nice Ltd. response to Security fence",
          "Goldman Sachs response to Jerusalem",
          "electric vehicle trends",
          "Nest Thermostat review",
          "Broadcom response to Ethiopia",
          "energy prices",
          "Pakistan news",
          "war in West Bank",
          "Elbit Systems layoffs",
          "probiotics",
          "Benjamin Netanyahu",
          "youth climate movement",
          "Mitch McConnell on green bonds",
          "Meta Quest 3 sales in Jerusalem",
          "BLK",
          "Teva Pharmaceutical news",
          "Apple response to NATO",
          "ISRG",
          "RSX",
          "US_Transportation",
          "Russell2000",
          "US_Biotech",
          "Google",
          "V",
          "US_Consumer_Staples",
          "US_Consumer_Discretionary",
          "BAC",
          "ISRA",
          "SYK",
          "NOW",
          "ERUS",
          "LLY",
          "COST",
          "BKNG",
          "MRK",
          "TSM",
          "ICLN",
          "ORCL",
          "TAN",
          "AMZN",
          "INTC",
          "US_Tech_Sector",
          "APPLE",
          "TMO",
          "SHE",
          "ADSK",
          "NEE",
          "MSFT",
          "UBER",
          "Rebuilding_America_Grid_Chips",
          "GenderDiversity",
          "Nasdaq100",
          "AMD",
          "NVDA",
          "US_Regional_Banks",
          "XOM",
          "CVX",
          "US_Industrials",
          "IBM",
          "LargeTech",
          "AIEthics",
          "US_Homebuilders",
          "GS",
          "US_Communication_Services",
          "PANW",
          "US_Real_Estate",
          "US_Financials_Sector",
          "US_HealthCare_Sector",
          "CircularEconomy",
          "AI_Infrastructure_Stack",
          "US_Banks",
          "SupportUkraine",
          "NFLX",
          "JPM",
          "TSLA",
          "COP",
          "US_Materials",
          "DHR",
          "GOOGL",
          "VeteranFriendly",
          "Tesla",
          "META",
          "CRWD",
          "SHOP",
          "AVGO",
          "REGN",
          "US_Energy",
          "US_Utilities",
          "DowJones30",
          "PHO",
          "EIS",
          "S&P500_ETF",
          "FRDM",
          "S&P500",
          "NVO",
          "SupportIsrael",
          "MS",
          "LGBTQEquality",
          "UNH",
          "MA",
          "SLB",
          "AAPL",
          "HydrogenCCS",
          "SAP",
          "ASML",
          "JNJ",
          "CRM",
          "CleanWater",
          "BLK"
         ],
         "legendgroup": "1",
         "marker": {
          "color": "#636efa",
          "line": {
           "color": "DarkSlateGrey",
           "width": 1
          },
          "size": 10,
          "symbol": "circle"
         },
         "mode": "markers",
         "name": "1",
         "showlegend": true,
         "type": "scattergl",
         "x": {
          "bdata": "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",
          "dtype": "f4"
         },
         "xaxis": "x",
         "y": {
          "bdata": "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",
          "dtype": "f4"
         },
         "yaxis": "y"
        },
        {
         "hovertemplate": "<b>%{hovertext}</b><br><br>color=4<br>x=%{x}<br>y=%{y}<extra></extra>",
         "hovertext": [
          "corporate earnings forecast",
          "new AWS release date",
          "Satya Nadella interview",
          "Apple response to Hamas",
          "Wegovy trends",
          "venture capital forecast",
          "new Google Cloud release date",
          "ServiceNow earnings report",
          "Etsy controversy",
          "Xiaomi controversy",
          "Netflix response to US",
          "ChatGPT-5",
          "Goldman Sachs earnings report",
          "probiotics trends",
          "consumer confidence forecast",
          "H&M earnings report",
          "UnitedHealth stock price",
          "Nvidia controversy",
          "Jerome Powell tweet",
          "Visa controversy",
          "ChatGPT-5 price",
          "work-life balance stocks",
          "Pinterest controversy",
          "Mansour Abbas on sustainable agriculture",
          "PepsiCo earnings report",
          "Check Point Software news",
          "Block earnings report",
          "cryptocurrency market forecast",
          "Marco Rubio on renewable energy",
          "carbon footprint stocks",
          "mindfulness stocks",
          "gluten-free trends",
          "UnitedHealth earnings report",
          "Home Depot controversy",
          "Cisco earnings report",
          "emerging markets forecast",
          "fiscal policy forecast",
          "human rights stocks",
          "Payoneer news",
          "PepsiCo controversy",
          "Samsung Electronics earnings report",
          "Intel controversy",
          "mindfulness controversy",
          "Spotify earnings report",
          "Merck earnings report",
          "ARM controversy",
          "trade deficit forecast",
          "new Google Gemini release date",
          "Jerome Powell interview",
          "Uber controversy",
          "Apple response to China",
          "TSMC controversy",
          "Mastercard controversy",
          "Alibaba controversy",
          "buy Johnson & Johnson shares",
          "impact of dollar index",
          "UnitedHealth news",
          "Moderna layoffs",
          "Dell controversy",
          "smartwatch health features",
          "renewable energy controversy",
          "McDonald's earnings report",
          "Nvidia RTX 5090 review",
          "data privacy controversy",
          "Samsung Galaxy S25 review",
          "iPhone 16 sales in US",
          "Kroger controversy",
          "Qualcomm earnings report",
          "Best Buy controversy",
          "investing in yoga",
          "fair trade stocks",
          "corporate governance stocks",
          "Check Point Software stock price",
          "Samsung Electronics stock price",
          "IKEA controversy",
          "Visa response to India",
          "Snapchat controversy",
          "OpenAI Sora review",
          "US aid to Saudi Arabia",
          "MercadoLibre news",
          "CyberArk news",
          "Berkshire Hathaway earnings report",
          "American Express earnings report",
          "American Express controversy",
          "iPhone Pro Max sales in US",
          "carbon emissions stocks",
          "global trade forecast",
          "investing in genetic testing",
          "AI ethics stocks",
          "euro index forecast",
          "monetary policy forecast",
          "buy Spotify shares",
          "consumer spending forecast",
          "wage growth forecast",
          "Elbit Systems news",
          "IBM controversy",
          "CyberArk stock price",
          "Airbnb controversy",
          "ARM earnings report",
          "buy Block shares",
          "OpenAI Sora price",
          "Johnson & Johnson controversy",
          "Apple response to Golan Heights",
          "AirPods Pro sales in US",
          "keto diet trends",
          "labor market forecast",
          "market volatility forecast",
          "impact of fed meeting",
          "tariffs forecast",
          "Zara earnings report",
          "central banks forecast",
          "UnitedHealth vs UnitedHealth",
          "Itamar Ben-Gvir on Black Lives Matter",
          "Cloudflare controversy",
          "Cisco controversy",
          "Shopify controversy",
          "Monday.com news",
          "H&M controversy",
          "Salesforce controversy",
          "new Azure release date",
          "data privacy stocks",
          "Samsung Electronics news",
          "CVS Health response to Russia",
          "Visa earnings report",
          "Merck layoffs",
          "Zoom controversy",
          "Mastercard earnings report",
          "air quality stocks",
          "Merck controversy",
          "IKEA layoffs",
          "bond yields forecast",
          "HP controversy",
          "Xiaomi layoffs",
          "Lululemon earnings report",
          "air quality controversy"
         ],
         "legendgroup": "4",
         "marker": {
          "color": "#EF553B",
          "line": {
           "color": "DarkSlateGrey",
           "width": 1
          },
          "size": 10,
          "symbol": "circle"
         },
         "mode": "markers",
         "name": "4",
         "showlegend": true,
         "type": "scattergl",
         "x": {
          "bdata": "v8MRQQAkEUHBSxpBuSsrQSqRHkFtaR5BuPsUQbawEUHEoCNBW+gQQSlfFUFg3xBBgTwsQT5LJEFgCRJBouIUQSfdJkEG/iFBEoEgQeZIIEG6pA5B8LElQUfFLEEleHZBDqgVQTawF0H1iyFBvmAcQdcqJkFJJhdBRlkcQSQ5GEEtqw5BjDwpQUYcLEGijy1BneIkQZOnKEFs8BlBvEooQYhAJ0EtExRBUuQZQU5mH0FUeCJB1GgpQVH+KkEjcx9BDwoiQUtSJ0EdYT5Bdb0hQcOnDkEglw5BRKc5QSFDIUF+IBxB6LohQaplF0HELStBr+sSQfNYEUG0gDFBPV0ZQbrhKkFzuw5BdwsnQWXdIEGpjCRBs0onQVqfIUEYwihB3fopQWAkH0GR3yZBoyUcQYj8GEGGrRNB30o1QZ5rF0Fv3g5B8XAZQTydHEGb9Q9B9v4nQd8IHEHh9SFB76MdQZxEKkEDCBFB0vwmQbDIG0HXUXxBPlIeQfW1JEGTZBBBDNIcQSAMIEFYOR9BtyIpQY9IHEFDyy1BebUfQYALI0EvlHdBip0jQTpuIkG+JyhBI/UnQfnHJUGfUx9BACAhQVjxKEFAJBRB+GYPQbc9FEHnziVBmxEqQUboKEEemRVB3pMnQecIEEGQHndBaYogQX6uEEGhAiVB1BYPQexWKEHg6BpB4TYoQW9vHUEjWR5BzVEZQWu6G0HKqg5B",
          "dtype": "f4"
         },
         "xaxis": "x",
         "y": {
          "bdata": "BzDMQM9nxkBij8VAs8jQQNwcx0ALVLxA0+3FQMzFwkCSaMhAkkHFQI1HwEBoGclAPdbEQLIvukDr08lAymPLQIqFxUDkFLxAC/vKQCXOwkAanspARPW+QN51xkBLycdA1Ke8QKRwu0A0b8BAZNm7QJjmtkB4/LtAW+68QJfou0DugspAjkjGQAyAyECCNcdAxFrJQNrVqUCS1cVA9OeqQBqDzkAJM8JAiuDGQJofxkAclcpACBTFQDpvykBpUMNA0iLIQGJExEBz9ZtAPrTKQHNqykDzkMpAY8PDQK/pxECDZsZAwnXIQDOew0A1m6ZA2bfJQM13xUCT7b1AulHIQPL3vkC4dcpACoC3QOSFyED9drVA/V+4QFnHxkDnSqlACQimQHrwyECuNsVADJq9QNRIxUB9r8JAzAa+QObfwkCp4cpAA7XHQMVoyUAWlcpAoXWnQOjPykAslMBAZrzOQMXHpUBcYMRArNnIQPnty0Bu5OFA65PIQPtCwUAMgstAFbDLQAR9xUBx8MZAPQzOQMJUxEBeocRAQtbQQG0Jx0A6zsNARqS6QGAkuEBFbcxANTTEQGZIyEDtJctA/7nAQGfbtEAgDMtAp3/KQArbvkBtf7dATa/MQHgapEAm1MFA9uOtQE30x0CvMBFBcPfKQDD6ykDJactANuTKQOjWrUCRWbtAV1LJQEfuyUB4Gb9ANfe9QNZ4yUAod8pA",
          "dtype": "f4"
         },
         "yaxis": "y"
        },
        {
         "hovertemplate": "<b>%{hovertext}</b><br><br>color=2<br>x=%{x}<br>y=%{y}<extra></extra>",
         "hovertext": [
          "Azure sales in Red Sea",
          "Joe Biden on eco-friendly products",
          "Ring Doorbell sales in West Bank",
          "Super Bowl ratings",
          "buy Shopify shares",
          "JPMorgan Chase layoffs",
          "Azure sales in Golan Heights",
          "US aid to Yemen",
          "Netflix response to NATO",
          "Sheryl Sandberg on eco-friendly products",
          "OpenAI Sora sales in Ukraine",
          "Lisa Su interview",
          "Kroger layoffs"
         ],
         "legendgroup": "2",
         "marker": {
          "color": "#00cc96",
          "line": {
           "color": "DarkSlateGrey",
           "width": 1
          },
          "size": 10,
          "symbol": "circle"
         },
         "mode": "markers",
         "name": "2",
         "showlegend": true,
         "type": "scattergl",
         "x": {
          "bdata": "UmpYQbu0b0HHNWNBPsBfQZQhZEHUNVRBHElVQSCWZUG3VmRB+sdaQYFoU0Hg4XFBysBRQQ==",
          "dtype": "f4"
         },
         "xaxis": "x",
         "y": {
          "bdata": "bMy7QMXQEUE0dChBdRfZQLnI2kBkBNVAQjzTQGlq40DPwNVARKHMQP/q1EAep4VAXlvQQA==",
          "dtype": "f4"
         },
         "yaxis": "y"
        },
        {
         "hovertemplate": "<b>%{hovertext}</b><br><br>color=0<br>x=%{x}<br>y=%{y}<extra></extra>",
         "hovertext": [
          "Zara controversy",
          "Etsy layoffs",
          "Meta Quest 3 sales in Syria"
         ],
         "legendgroup": "0",
         "marker": {
          "color": "#ab63fa",
          "line": {
           "color": "DarkSlateGrey",
           "width": 1
          },
          "size": 10,
          "symbol": "circle"
         },
         "mode": "markers",
         "name": "0",
         "showlegend": true,
         "type": "scattergl",
         "x": {
          "bdata": "AbJtQRLgbEF3x21B",
          "dtype": "f4"
         },
         "xaxis": "x",
         "y": {
          "bdata": "Da+RQFqij0CVbJNA",
          "dtype": "f4"
         },
         "yaxis": "y"
        },
        {
         "hovertemplate": "<b>%{hovertext}</b><br><br>color=3<br>x=%{x}<br>y=%{y}<extra></extra>",
         "hovertext": [
          "Ayman Odeh on veteran support",
          "greenwashing stocks"
         ],
         "legendgroup": "3",
         "marker": {
          "color": "#FFA15A",
          "line": {
           "color": "DarkSlateGrey",
           "width": 1
          },
          "size": 10,
          "symbol": "circle"
         },
         "mode": "markers",
         "name": "3",
         "showlegend": true,
         "type": "scattergl",
         "x": {
          "bdata": "kWN1QUnrdkE=",
          "dtype": "f4"
         },
         "xaxis": "x",
         "y": {
          "bdata": "+ocDQZhQBUE=",
          "dtype": "f4"
         },
         "yaxis": "y"
        }
       ],
       "layout": {
        "height": 1200,
        "legend": {
         "title": {
          "text": "color"
         },
         "tracegroupgap": 0
        },
        "template": {
         "data": {
          "bar": [
           {
            "error_x": {
             "color": "#2a3f5f"
            },
            "error_y": {
             "color": "#2a3f5f"
            },
            "marker": {
             "line": {
              "color": "#E5ECF6",
              "width": 0.5
             },
             "pattern": {
              "fillmode": "overlay",
              "size": 10,
              "solidity": 0.2
             }
            },
            "type": "bar"
           }
          ],
          "barpolar": [
           {
            "marker": {
             "line": {
              "color": "#E5ECF6",
              "width": 0.5
             },
             "pattern": {
              "fillmode": "overlay",
              "size": 10,
              "solidity": 0.2
             }
            },
            "type": "barpolar"
           }
          ],
          "carpet": [
           {
            "aaxis": {
             "endlinecolor": "#2a3f5f",
             "gridcolor": "white",
             "linecolor": "white",
             "minorgridcolor": "white",
             "startlinecolor": "#2a3f5f"
            },
            "baxis": {
             "endlinecolor": "#2a3f5f",
             "gridcolor": "white",
             "linecolor": "white",
             "minorgridcolor": "white",
             "startlinecolor": "#2a3f5f"
            },
            "type": "carpet"
           }
          ],
          "choropleth": [
           {
            "colorbar": {
             "outlinewidth": 0,
             "ticks": ""
            },
            "type": "choropleth"
           }
          ],
          "contour": [
           {
            "colorbar": {
             "outlinewidth": 0,
             "ticks": ""
            },
            "colorscale": [
             [
              0,
              "#0d0887"
             ],
             [
              0.1111111111111111,
              "#46039f"
             ],
             [
              0.2222222222222222,
              "#7201a8"
             ],
             [
              0.3333333333333333,
              "#9c179e"
             ],
             [
              0.4444444444444444,
              "#bd3786"
             ],
             [
              0.5555555555555556,
              "#d8576b"
             ],
             [
              0.6666666666666666,
              "#ed7953"
             ],
             [
              0.7777777777777778,
              "#fb9f3a"
             ],
             [
              0.8888888888888888,
              "#fdca26"
             ],
             [
              1,
              "#f0f921"
             ]
            ],
            "type": "contour"
           }
          ],
          "contourcarpet": [
           {
            "colorbar": {
             "outlinewidth": 0,
             "ticks": ""
            },
            "type": "contourcarpet"
           }
          ],
          "heatmap": [
           {
            "colorbar": {
             "outlinewidth": 0,
             "ticks": ""
            },
            "colorscale": [
             [
              0,
              "#0d0887"
             ],
             [
              0.1111111111111111,
              "#46039f"
             ],
             [
              0.2222222222222222,
              "#7201a8"
             ],
             [
              0.3333333333333333,
              "#9c179e"
             ],
             [
              0.4444444444444444,
              "#bd3786"
             ],
             [
              0.5555555555555556,
              "#d8576b"
             ],
             [
              0.6666666666666666,
              "#ed7953"
             ],
             [
              0.7777777777777778,
              "#fb9f3a"
             ],
             [
              0.8888888888888888,
              "#fdca26"
             ],
             [
              1,
              "#f0f921"
             ]
            ],
            "type": "heatmap"
           }
          ],
          "histogram": [
           {
            "marker": {
             "pattern": {
              "fillmode": "overlay",
              "size": 10,
              "solidity": 0.2
             }
            },
            "type": "histogram"
           }
          ],
          "histogram2d": [
           {
            "colorbar": {
             "outlinewidth": 0,
             "ticks": ""
            },
            "colorscale": [
             [
              0,
              "#0d0887"
             ],
             [
              0.1111111111111111,
              "#46039f"
             ],
             [
              0.2222222222222222,
              "#7201a8"
             ],
             [
              0.3333333333333333,
              "#9c179e"
             ],
             [
              0.4444444444444444,
              "#bd3786"
             ],
             [
              0.5555555555555556,
              "#d8576b"
             ],
             [
              0.6666666666666666,
              "#ed7953"
             ],
             [
              0.7777777777777778,
              "#fb9f3a"
             ],
             [
              0.8888888888888888,
              "#fdca26"
             ],
             [
              1,
              "#f0f921"
             ]
            ],
            "type": "histogram2d"
           }
          ],
          "histogram2dcontour": [
           {
            "colorbar": {
             "outlinewidth": 0,
             "ticks": ""
            },
            "colorscale": [
             [
              0,
              "#0d0887"
             ],
             [
              0.1111111111111111,
              "#46039f"
             ],
             [
              0.2222222222222222,
              "#7201a8"
             ],
             [
              0.3333333333333333,
              "#9c179e"
             ],
             [
              0.4444444444444444,
              "#bd3786"
             ],
             [
              0.5555555555555556,
              "#d8576b"
             ],
             [
              0.6666666666666666,
              "#ed7953"
             ],
             [
              0.7777777777777778,
              "#fb9f3a"
             ],
             [
              0.8888888888888888,
              "#fdca26"
             ],
             [
              1,
              "#f0f921"
             ]
            ],
            "type": "histogram2dcontour"
           }
          ],
          "mesh3d": [
           {
            "colorbar": {
             "outlinewidth": 0,
             "ticks": ""
            },
            "type": "mesh3d"
           }
          ],
          "parcoords": [
           {
            "line": {
             "colorbar": {
              "outlinewidth": 0,
              "ticks": ""
             }
            },
            "type": "parcoords"
           }
          ],
          "pie": [
           {
            "automargin": true,
            "type": "pie"
           }
          ],
          "scatter": [
           {
            "fillpattern": {
             "fillmode": "overlay",
             "size": 10,
             "solidity": 0.2
            },
            "type": "scatter"
           }
          ],
          "scatter3d": [
           {
            "line": {
             "colorbar": {
              "outlinewidth": 0,
              "ticks": ""
             }
            },
            "marker": {
             "colorbar": {
              "outlinewidth": 0,
              "ticks": ""
             }
            },
            "type": "scatter3d"
           }
          ],
          "scattercarpet": [
           {
            "marker": {
             "colorbar": {
              "outlinewidth": 0,
              "ticks": ""
             }
            },
            "type": "scattercarpet"
           }
          ],
          "scattergeo": [
           {
            "marker": {
             "colorbar": {
              "outlinewidth": 0,
              "ticks": ""
             }
            },
            "type": "scattergeo"
           }
          ],
          "scattergl": [
           {
            "marker": {
             "colorbar": {
              "outlinewidth": 0,
              "ticks": ""
             }
            },
            "type": "scattergl"
           }
          ],
          "scattermap": [
           {
            "marker": {
             "colorbar": {
              "outlinewidth": 0,
              "ticks": ""
             }
            },
            "type": "scattermap"
           }
          ],
          "scattermapbox": [
           {
            "marker": {
             "colorbar": {
              "outlinewidth": 0,
              "ticks": ""
             }
            },
            "type": "scattermapbox"
           }
          ],
          "scatterpolar": [
           {
            "marker": {
             "colorbar": {
              "outlinewidth": 0,
              "ticks": ""
             }
            },
            "type": "scatterpolar"
           }
          ],
          "scatterpolargl": [
           {
            "marker": {
             "colorbar": {
              "outlinewidth": 0,
              "ticks": ""
             }
            },
            "type": "scatterpolargl"
           }
          ],
          "scatterternary": [
           {
            "marker": {
             "colorbar": {
              "outlinewidth": 0,
              "ticks": ""
             }
            },
            "type": "scatterternary"
           }
          ],
          "surface": [
           {
            "colorbar": {
             "outlinewidth": 0,
             "ticks": ""
            },
            "colorscale": [
             [
              0,
              "#0d0887"
             ],
             [
              0.1111111111111111,
              "#46039f"
             ],
             [
              0.2222222222222222,
              "#7201a8"
             ],
             [
              0.3333333333333333,
              "#9c179e"
             ],
             [
              0.4444444444444444,
              "#bd3786"
             ],
             [
              0.5555555555555556,
              "#d8576b"
             ],
             [
              0.6666666666666666,
              "#ed7953"
             ],
             [
              0.7777777777777778,
              "#fb9f3a"
             ],
             [
              0.8888888888888888,
              "#fdca26"
             ],
             [
              1,
              "#f0f921"
             ]
            ],
            "type": "surface"
           }
          ],
          "table": [
           {
            "cells": {
             "fill": {
              "color": "#EBF0F8"
             },
             "line": {
              "color": "white"
             }
            },
            "header": {
             "fill": {
              "color": "#C8D4E3"
             },
             "line": {
              "color": "white"
             }
            },
            "type": "table"
           }
          ]
         },
         "layout": {
          "annotationdefaults": {
           "arrowcolor": "#2a3f5f",
           "arrowhead": 0,
           "arrowwidth": 1
          },
          "autotypenumbers": "strict",
          "coloraxis": {
           "colorbar": {
            "outlinewidth": 0,
            "ticks": ""
           }
          },
          "colorscale": {
           "diverging": [
            [
             0,
             "#8e0152"
            ],
            [
             0.1,
             "#c51b7d"
            ],
            [
             0.2,
             "#de77ae"
            ],
            [
             0.3,
             "#f1b6da"
            ],
            [
             0.4,
             "#fde0ef"
            ],
            [
             0.5,
             "#f7f7f7"
            ],
            [
             0.6,
             "#e6f5d0"
            ],
            [
             0.7,
             "#b8e186"
            ],
            [
             0.8,
             "#7fbc41"
            ],
            [
             0.9,
             "#4d9221"
            ],
            [
             1,
             "#276419"
            ]
           ],
           "sequential": [
            [
             0,
             "#0d0887"
            ],
            [
             0.1111111111111111,
             "#46039f"
            ],
            [
             0.2222222222222222,
             "#7201a8"
            ],
            [
             0.3333333333333333,
             "#9c179e"
            ],
            [
             0.4444444444444444,
             "#bd3786"
            ],
            [
             0.5555555555555556,
             "#d8576b"
            ],
            [
             0.6666666666666666,
             "#ed7953"
            ],
            [
             0.7777777777777778,
             "#fb9f3a"
            ],
            [
             0.8888888888888888,
             "#fdca26"
            ],
            [
             1,
             "#f0f921"
            ]
           ],
           "sequentialminus": [
            [
             0,
             "#0d0887"
            ],
            [
             0.1111111111111111,
             "#46039f"
            ],
            [
             0.2222222222222222,
             "#7201a8"
            ],
            [
             0.3333333333333333,
             "#9c179e"
            ],
            [
             0.4444444444444444,
             "#bd3786"
            ],
            [
             0.5555555555555556,
             "#d8576b"
            ],
            [
             0.6666666666666666,
             "#ed7953"
            ],
            [
             0.7777777777777778,
             "#fb9f3a"
            ],
            [
             0.8888888888888888,
             "#fdca26"
            ],
            [
             1,
             "#f0f921"
            ]
           ]
          },
          "colorway": [
           "#636efa",
           "#EF553B",
           "#00cc96",
           "#ab63fa",
           "#FFA15A",
           "#19d3f3",
           "#FF6692",
           "#B6E880",
           "#FF97FF",
           "#FECB52"
          ],
          "font": {
           "color": "#2a3f5f"
          },
          "geo": {
           "bgcolor": "white",
           "lakecolor": "white",
           "landcolor": "#E5ECF6",
           "showlakes": true,
           "showland": true,
           "subunitcolor": "white"
          },
          "hoverlabel": {
           "align": "left"
          },
          "hovermode": "closest",
          "mapbox": {
           "style": "light"
          },
          "paper_bgcolor": "white",
          "plot_bgcolor": "#E5ECF6",
          "polar": {
           "angularaxis": {
            "gridcolor": "white",
            "linecolor": "white",
            "ticks": ""
           },
           "bgcolor": "#E5ECF6",
           "radialaxis": {
            "gridcolor": "white",
            "linecolor": "white",
            "ticks": ""
           }
          },
          "scene": {
           "xaxis": {
            "backgroundcolor": "#E5ECF6",
            "gridcolor": "white",
            "gridwidth": 2,
            "linecolor": "white",
            "showbackground": true,
            "ticks": "",
            "zerolinecolor": "white"
           },
           "yaxis": {
            "backgroundcolor": "#E5ECF6",
            "gridcolor": "white",
            "gridwidth": 2,
            "linecolor": "white",
            "showbackground": true,
            "ticks": "",
            "zerolinecolor": "white"
           },
           "zaxis": {
            "backgroundcolor": "#E5ECF6",
            "gridcolor": "white",
            "gridwidth": 2,
            "linecolor": "white",
            "showbackground": true,
            "ticks": "",
            "zerolinecolor": "white"
           }
          },
          "shapedefaults": {
           "line": {
            "color": "#2a3f5f"
           }
          },
          "ternary": {
           "aaxis": {
            "gridcolor": "white",
            "linecolor": "white",
            "ticks": ""
           },
           "baxis": {
            "gridcolor": "white",
            "linecolor": "white",
            "ticks": ""
           },
           "bgcolor": "#E5ECF6",
           "caxis": {
            "gridcolor": "white",
            "linecolor": "white",
            "ticks": ""
           }
          },
          "title": {
           "x": 0.05
          },
          "xaxis": {
           "automargin": true,
           "gridcolor": "white",
           "linecolor": "white",
           "ticks": "",
           "title": {
            "standoff": 15
           },
           "zerolinecolor": "white",
           "zerolinewidth": 2
          },
          "yaxis": {
           "automargin": true,
           "gridcolor": "white",
           "linecolor": "white",
           "ticks": "",
           "title": {
            "standoff": 15
           },
           "zerolinecolor": "white",
           "zerolinewidth": 2
          }
         }
        },
        "title": {
         "text": "Soft-DTW Time Series Clustering (UMAP visualization)"
        },
        "width": 1200,
        "xaxis": {
         "anchor": "y",
         "domain": [
          0,
          1
         ],
         "title": {
          "text": "x"
         }
        },
        "yaxis": {
         "anchor": "x",
         "domain": [
          0,
          1
         ],
         "title": {
          "text": "y"
         }
        }
       }
      }
     },
     "metadata": {},
     "output_type": "display_data"
    }
   ],
   "source": [
    "fig = px.scatter(\n",
    "    x=X_embedded[:, 0],\n",
    "    y=X_embedded[:, 1],\n",
    "    color=labels.astype(str),\n",
    "    hover_name=[f\"{col}\" for col in unified.index],\n",
    "    title=\"Soft-DTW Time Series Clustering (UMAP visualization)\",\n",
    "    width=1200,\n",
    "    height=1200\n",
    ")\n",
    "fig.update_traces(marker=dict(size=10, line=dict(width=1, color='DarkSlateGrey')))\n",
    "fig.show()"
   ]
  },
  {
   "cell_type": "code",
   "execution_count": null,
   "id": "58026e33",
   "metadata": {},
   "outputs": [],
   "source": []
  }
 ],
 "metadata": {
  "kernelspec": {
   "display_name": "needle",
   "language": "python",
   "name": "python3"
  },
  "language_info": {
   "codemirror_mode": {
    "name": "ipython",
    "version": 3
   },
   "file_extension": ".py",
   "mimetype": "text/x-python",
   "name": "python",
   "nbconvert_exporter": "python",
   "pygments_lexer": "ipython3",
   "version": "3.10.18"
  }
 },
 "nbformat": 4,
 "nbformat_minor": 5
}
