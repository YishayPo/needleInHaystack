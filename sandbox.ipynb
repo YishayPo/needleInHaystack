{
 "cells": [
  {
   "cell_type": "code",
   "execution_count": 23,
   "id": "ec5d33b2",
   "metadata": {},
   "outputs": [],
   "source": [
    "from pytrends.request import TrendReq\n",
    "from pytrends.exceptions import ResponseError\n",
    "import time"
   ]
  },
  {
   "cell_type": "code",
   "execution_count": 24,
   "id": "ac402792",
   "metadata": {},
   "outputs": [],
   "source": [
    "def fetch_trend_data(keywords, timeframe=\"today 12-m\", geo=\"\", gprop=\"\", max_retries=5):\n",
    "    \"\"\"\n",
    "    Fetch Google Trends data for given keyword(s), with retry on HTTP 429.\n",
    "\n",
    "    Args:\n",
    "        keywords (str or list of str): Single term or list of terms to query.\n",
    "        timeframe (str): Time period (e.g. \"2023-01-01 2023-06-01\" or \"today 12-m\").\n",
    "        geo (str): Country code (e.g. \"US\", \"IL\"); empty string for worldwide.\n",
    "        gprop (str): Category (e.g. \"news\", \"images\", \"youtube\"); empty for web search.\n",
    "        max_retries (int): Number of attempts if a 429 (rate-limit) is encountered.\n",
    "\n",
    "    Returns:\n",
    "        pandas.DataFrame or None: Interest over time, or None on failure.\n",
    "    \"\"\"\n",
    "    # Ensure keywords is a non-empty list of strings\n",
    "    kw_list = [keywords] if isinstance(keywords, str) else keywords\n",
    "    if not kw_list or any(not isinstance(k, str) or not k.strip() for k in kw_list):\n",
    "        raise ValueError(\"keywords must be a non-empty string or list of non-empty strings\")\n",
    "\n",
    "    pytrend = TrendReq(hl=\"en-US\", tz=0)\n",
    "    attempt = 0\n",
    "    backoff = 1  # initial backoff in seconds\n",
    "\n",
    "    while attempt < max_retries:\n",
    "        try:\n",
    "            pytrend.build_payload(kw_list=kw_list, timeframe=timeframe, geo=geo, gprop=gprop)\n",
    "            df = pytrend.interest_over_time()\n",
    "            if df.empty:\n",
    "                print(f\"No data returned for {kw_list} over '{timeframe}'.\")\n",
    "                return None\n",
    "            return df\n",
    "\n",
    "        except ResponseError as e:\n",
    "            msg = str(e).lower()\n",
    "            # If it's a 429 (rate-limit), wait and retry\n",
    "            if \"429\" in msg:\n",
    "                attempt += 1\n",
    "                print(f\"Rate limited (429). Retry {attempt}/{max_retries} after {backoff}s...\")\n",
    "                time.sleep(backoff)\n",
    "                backoff *= 2  # exponential backoff\n",
    "                continue\n",
    "            else:\n",
    "                # Other errors: print and abort\n",
    "                print(f\"ResponseError: {e}. Please check parameters.\")\n",
    "                return None\n",
    "\n",
    "    print(f\"Failed to fetch after {max_retries} retries due to repeated 429 errors.\")\n",
    "    return None\n"
   ]
  },
  {
   "cell_type": "code",
   "execution_count": 25,
   "id": "90fc1546",
   "metadata": {},
   "outputs": [
    {
     "ename": "ValueError",
     "evalue": "gprop must be empty (to indicate web), images, news, youtube, or froogle",
     "output_type": "error",
     "traceback": [
      "\u001b[0;31m---------------------------------------------------------------------------\u001b[0m",
      "\u001b[0;31mValueError\u001b[0m                                Traceback (most recent call last)",
      "Cell \u001b[0;32mIn[25], line 1\u001b[0m\n\u001b[0;32m----> 1\u001b[0m df \u001b[38;5;241m=\u001b[39m \u001b[43mfetch_trend_data\u001b[49m\u001b[43m(\u001b[49m\u001b[38;5;124;43m\"\u001b[39;49m\u001b[38;5;124;43mPython\u001b[39;49m\u001b[38;5;124;43m\"\u001b[39;49m\u001b[43m,\u001b[49m\u001b[43m \u001b[49m\u001b[43mtimeframe\u001b[49m\u001b[38;5;241;43m=\u001b[39;49m\u001b[38;5;124;43m\"\u001b[39;49m\u001b[38;5;124;43m2024-01-01 2024-06-01\u001b[39;49m\u001b[38;5;124;43m\"\u001b[39;49m\u001b[43m,\u001b[49m\u001b[43m \u001b[49m\u001b[43mgeo\u001b[49m\u001b[38;5;241;43m=\u001b[39;49m\u001b[38;5;124;43m\"\u001b[39;49m\u001b[38;5;124;43mUS\u001b[39;49m\u001b[38;5;124;43m\"\u001b[39;49m\u001b[43m,\u001b[49m\u001b[43m \u001b[49m\u001b[43mgprop\u001b[49m\u001b[38;5;241;43m=\u001b[39;49m\u001b[38;5;124;43m\"\u001b[39;49m\u001b[38;5;124;43mshopping\u001b[39;49m\u001b[38;5;124;43m\"\u001b[39;49m\u001b[43m)\u001b[49m\n",
      "Cell \u001b[0;32mIn[24], line 26\u001b[0m, in \u001b[0;36mfetch_trend_data\u001b[0;34m(keywords, timeframe, geo, gprop, max_retries)\u001b[0m\n\u001b[1;32m     24\u001b[0m \u001b[38;5;28;01mwhile\u001b[39;00m attempt \u001b[38;5;241m<\u001b[39m max_retries:\n\u001b[1;32m     25\u001b[0m     \u001b[38;5;28;01mtry\u001b[39;00m:\n\u001b[0;32m---> 26\u001b[0m         \u001b[43mpytrend\u001b[49m\u001b[38;5;241;43m.\u001b[39;49m\u001b[43mbuild_payload\u001b[49m\u001b[43m(\u001b[49m\u001b[43mkw_list\u001b[49m\u001b[38;5;241;43m=\u001b[39;49m\u001b[43mkw_list\u001b[49m\u001b[43m,\u001b[49m\u001b[43m \u001b[49m\u001b[43mtimeframe\u001b[49m\u001b[38;5;241;43m=\u001b[39;49m\u001b[43mtimeframe\u001b[49m\u001b[43m,\u001b[49m\u001b[43m \u001b[49m\u001b[43mgeo\u001b[49m\u001b[38;5;241;43m=\u001b[39;49m\u001b[43mgeo\u001b[49m\u001b[43m,\u001b[49m\u001b[43m \u001b[49m\u001b[43mgprop\u001b[49m\u001b[38;5;241;43m=\u001b[39;49m\u001b[43mgprop\u001b[49m\u001b[43m)\u001b[49m\n\u001b[1;32m     27\u001b[0m         df \u001b[38;5;241m=\u001b[39m pytrend\u001b[38;5;241m.\u001b[39minterest_over_time()\n\u001b[1;32m     28\u001b[0m         \u001b[38;5;28;01mif\u001b[39;00m df\u001b[38;5;241m.\u001b[39mempty:\n",
      "File \u001b[0;32m~/miniforge3/envs/needle/lib/python3.10/site-packages/pytrends/request.py:166\u001b[0m, in \u001b[0;36mTrendReq.build_payload\u001b[0;34m(self, kw_list, cat, timeframe, geo, gprop)\u001b[0m\n\u001b[1;32m    164\u001b[0m \u001b[38;5;250m\u001b[39m\u001b[38;5;124;03m\"\"\"Create the payload for related queries, interest over time and interest by region\"\"\"\u001b[39;00m\n\u001b[1;32m    165\u001b[0m \u001b[38;5;28;01mif\u001b[39;00m gprop \u001b[38;5;129;01mnot\u001b[39;00m \u001b[38;5;129;01min\u001b[39;00m [\u001b[38;5;124m'\u001b[39m\u001b[38;5;124m'\u001b[39m, \u001b[38;5;124m'\u001b[39m\u001b[38;5;124mimages\u001b[39m\u001b[38;5;124m'\u001b[39m, \u001b[38;5;124m'\u001b[39m\u001b[38;5;124mnews\u001b[39m\u001b[38;5;124m'\u001b[39m, \u001b[38;5;124m'\u001b[39m\u001b[38;5;124myoutube\u001b[39m\u001b[38;5;124m'\u001b[39m, \u001b[38;5;124m'\u001b[39m\u001b[38;5;124mfroogle\u001b[39m\u001b[38;5;124m'\u001b[39m]:\n\u001b[0;32m--> 166\u001b[0m     \u001b[38;5;28;01mraise\u001b[39;00m \u001b[38;5;167;01mValueError\u001b[39;00m(\u001b[38;5;124m'\u001b[39m\u001b[38;5;124mgprop must be empty (to indicate web), images, news, youtube, or froogle\u001b[39m\u001b[38;5;124m'\u001b[39m)\n\u001b[1;32m    167\u001b[0m \u001b[38;5;28mself\u001b[39m\u001b[38;5;241m.\u001b[39mkw_list \u001b[38;5;241m=\u001b[39m kw_list\n\u001b[1;32m    168\u001b[0m \u001b[38;5;28mself\u001b[39m\u001b[38;5;241m.\u001b[39mgeo \u001b[38;5;241m=\u001b[39m geo \u001b[38;5;129;01mor\u001b[39;00m \u001b[38;5;28mself\u001b[39m\u001b[38;5;241m.\u001b[39mgeo\n",
      "\u001b[0;31mValueError\u001b[0m: gprop must be empty (to indicate web), images, news, youtube, or froogle"
     ]
    }
   ],
   "source": [
    "df = fetch_trend_data(\"Python\", timeframe=\"2024-01-01 2024-06-01\", geo=\"US\", gprop=\"shopping\")\n"
   ]
  },
  {
   "cell_type": "markdown",
   "id": "5d299b22",
   "metadata": {},
   "source": []
  },
  {
   "cell_type": "code",
   "execution_count": null,
   "id": "23437c92",
   "metadata": {},
   "outputs": [
    {
     "data": {
      "text/html": [
       "<div>\n",
       "<style scoped>\n",
       "    .dataframe tbody tr th:only-of-type {\n",
       "        vertical-align: middle;\n",
       "    }\n",
       "\n",
       "    .dataframe tbody tr th {\n",
       "        vertical-align: top;\n",
       "    }\n",
       "\n",
       "    .dataframe thead th {\n",
       "        text-align: right;\n",
       "    }\n",
       "</style>\n",
       "<table border=\"1\" class=\"dataframe\">\n",
       "  <thead>\n",
       "    <tr style=\"text-align: right;\">\n",
       "      <th></th>\n",
       "      <th>Python</th>\n",
       "    </tr>\n",
       "    <tr>\n",
       "      <th>date</th>\n",
       "      <th></th>\n",
       "    </tr>\n",
       "  </thead>\n",
       "  <tbody>\n",
       "    <tr>\n",
       "      <th>2024-01-01</th>\n",
       "      <td>24</td>\n",
       "    </tr>\n",
       "    <tr>\n",
       "      <th>2024-01-02</th>\n",
       "      <td>40</td>\n",
       "    </tr>\n",
       "    <tr>\n",
       "      <th>2024-01-03</th>\n",
       "      <td>51</td>\n",
       "    </tr>\n",
       "    <tr>\n",
       "      <th>2024-01-04</th>\n",
       "      <td>50</td>\n",
       "    </tr>\n",
       "    <tr>\n",
       "      <th>2024-01-05</th>\n",
       "      <td>47</td>\n",
       "    </tr>\n",
       "    <tr>\n",
       "      <th>...</th>\n",
       "      <td>...</td>\n",
       "    </tr>\n",
       "    <tr>\n",
       "      <th>2024-05-28</th>\n",
       "      <td>49</td>\n",
       "    </tr>\n",
       "    <tr>\n",
       "      <th>2024-05-29</th>\n",
       "      <td>60</td>\n",
       "    </tr>\n",
       "    <tr>\n",
       "      <th>2024-05-30</th>\n",
       "      <td>57</td>\n",
       "    </tr>\n",
       "    <tr>\n",
       "      <th>2024-05-31</th>\n",
       "      <td>52</td>\n",
       "    </tr>\n",
       "    <tr>\n",
       "      <th>2024-06-01</th>\n",
       "      <td>27</td>\n",
       "    </tr>\n",
       "  </tbody>\n",
       "</table>\n",
       "<p>153 rows × 1 columns</p>\n",
       "</div>"
      ],
      "text/plain": [
       "            Python\n",
       "date              \n",
       "2024-01-01      24\n",
       "2024-01-02      40\n",
       "2024-01-03      51\n",
       "2024-01-04      50\n",
       "2024-01-05      47\n",
       "...            ...\n",
       "2024-05-28      49\n",
       "2024-05-29      60\n",
       "2024-05-30      57\n",
       "2024-05-31      52\n",
       "2024-06-01      27\n",
       "\n",
       "[153 rows x 1 columns]"
      ]
     },
     "execution_count": 18,
     "metadata": {},
     "output_type": "execute_result"
    }
   ],
   "source": [
    "df.drop(columns=['isPartial'], errors='ignore').drop(columns=['isPartial'], errors='ignore')"
   ]
  },
  {
   "cell_type": "code",
   "execution_count": null,
   "id": "6e4e7b54",
   "metadata": {},
   "outputs": [
    {
     "ename": "TypeError",
     "evalue": "'str' object cannot be interpreted as an integer",
     "output_type": "error",
     "traceback": [
      "\u001b[0;31m---------------------------------------------------------------------------\u001b[0m",
      "\u001b[0;31mTypeError\u001b[0m                                 Traceback (most recent call last)",
      "Cell \u001b[0;32mIn[21], line 3\u001b[0m\n\u001b[1;32m      1\u001b[0m \u001b[38;5;28;01mimport\u001b[39;00m\u001b[38;5;250m \u001b[39m\u001b[38;5;21;01mpandas\u001b[39;00m\u001b[38;5;250m \u001b[39m\u001b[38;5;28;01mas\u001b[39;00m\u001b[38;5;250m \u001b[39m\u001b[38;5;21;01mpd\u001b[39;00m\n\u001b[1;32m      2\u001b[0m \u001b[38;5;28;01mimport\u001b[39;00m\u001b[38;5;250m \u001b[39m\u001b[38;5;21;01mdatetime\u001b[39;00m\n\u001b[0;32m----> 3\u001b[0m \u001b[43mdatetime\u001b[49m\u001b[38;5;241;43m.\u001b[39;49m\u001b[43mdatetime\u001b[49m\u001b[43m(\u001b[49m\u001b[38;5;124;43m'\u001b[39;49m\u001b[38;5;124;43m12-m\u001b[39;49m\u001b[38;5;124;43m'\u001b[39;49m\u001b[43m)\u001b[49m\n",
      "\u001b[0;31mTypeError\u001b[0m: 'str' object cannot be interpreted as an integer"
     ]
    }
   ],
   "source": [
    "import pandas as pd\n",
    "import datetime\n",
    "datetime.del('12-m')"
   ]
  },
  {
   "cell_type": "code",
   "execution_count": null,
   "id": "c1574979",
   "metadata": {},
   "outputs": [],
   "source": []
  }
 ],
 "metadata": {
  "kernelspec": {
   "display_name": "needle",
   "language": "python",
   "name": "python3"
  },
  "language_info": {
   "codemirror_mode": {
    "name": "ipython",
    "version": 3
   },
   "file_extension": ".py",
   "mimetype": "text/x-python",
   "name": "python",
   "nbconvert_exporter": "python",
   "pygments_lexer": "ipython3",
   "version": "3.10.18"
  }
 },
 "nbformat": 4,
 "nbformat_minor": 5
}
